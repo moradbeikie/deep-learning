{
 "cells": [
  {
   "cell_type": "code",
   "execution_count": null,
   "metadata": {
    "colab": {
     "base_uri": "https://localhost:8080/",
     "height": 801
    },
    "executionInfo": {
     "elapsed": 1003,
     "status": "ok",
     "timestamp": 1641121057723,
     "user": {
      "displayName": "pardies moradbeikie",
      "photoUrl": "https://lh3.googleusercontent.com/a-/AOh14GhmePn8H7A6nZGOAKuB4zJrDgErTqLsYg_HJSCJCQ=s64",
      "userId": "00275872828076153916"
     },
     "user_tz": -210
    },
    "id": "hM5J45P8lORd",
    "outputId": "7ed9ec48-daba-43da-c1df-78d75aa7cf72"
   },
   "outputs": [
    {
     "data": {
      "text/html": [
       "\n",
       "  <div id=\"df-f5dbe1a0-421b-435c-a514-d347ff682fc0\">\n",
       "    <div class=\"colab-df-container\">\n",
       "      <div>\n",
       "<style scoped>\n",
       "    .dataframe tbody tr th:only-of-type {\n",
       "        vertical-align: middle;\n",
       "    }\n",
       "\n",
       "    .dataframe tbody tr th {\n",
       "        vertical-align: top;\n",
       "    }\n",
       "\n",
       "    .dataframe thead th {\n",
       "        text-align: right;\n",
       "    }\n",
       "</style>\n",
       "<table border=\"1\" class=\"dataframe\">\n",
       "  <thead>\n",
       "    <tr style=\"text-align: right;\">\n",
       "      <th></th>\n",
       "      <th>OPEN</th>\n",
       "      <th>HIGH</th>\n",
       "      <th>LOW</th>\n",
       "      <th>CLOSE</th>\n",
       "    </tr>\n",
       "  </thead>\n",
       "  <tbody>\n",
       "    <tr>\n",
       "      <th>0</th>\n",
       "      <td>1.37550</td>\n",
       "      <td>1.37648</td>\n",
       "      <td>1.37372</td>\n",
       "      <td>1.37580</td>\n",
       "    </tr>\n",
       "    <tr>\n",
       "      <th>1</th>\n",
       "      <td>1.37581</td>\n",
       "      <td>1.37749</td>\n",
       "      <td>1.36294</td>\n",
       "      <td>1.36643</td>\n",
       "    </tr>\n",
       "    <tr>\n",
       "      <th>2</th>\n",
       "      <td>1.36643</td>\n",
       "      <td>1.36716</td>\n",
       "      <td>1.35821</td>\n",
       "      <td>1.35874</td>\n",
       "    </tr>\n",
       "    <tr>\n",
       "      <th>3</th>\n",
       "      <td>1.35955</td>\n",
       "      <td>1.36528</td>\n",
       "      <td>1.35712</td>\n",
       "      <td>1.36334</td>\n",
       "    </tr>\n",
       "    <tr>\n",
       "      <th>4</th>\n",
       "      <td>1.36334</td>\n",
       "      <td>1.36562</td>\n",
       "      <td>1.35966</td>\n",
       "      <td>1.36138</td>\n",
       "    </tr>\n",
       "    <tr>\n",
       "      <th>...</th>\n",
       "      <td>...</td>\n",
       "      <td>...</td>\n",
       "      <td>...</td>\n",
       "      <td>...</td>\n",
       "    </tr>\n",
       "    <tr>\n",
       "      <th>2006</th>\n",
       "      <td>1.17255</td>\n",
       "      <td>1.17255</td>\n",
       "      <td>1.16848</td>\n",
       "      <td>1.16952</td>\n",
       "    </tr>\n",
       "    <tr>\n",
       "      <th>2007</th>\n",
       "      <td>1.16940</td>\n",
       "      <td>1.17032</td>\n",
       "      <td>1.16682</td>\n",
       "      <td>1.16826</td>\n",
       "    </tr>\n",
       "    <tr>\n",
       "      <th>2008</th>\n",
       "      <td>1.16825</td>\n",
       "      <td>1.16901</td>\n",
       "      <td>1.15894</td>\n",
       "      <td>1.15969</td>\n",
       "    </tr>\n",
       "    <tr>\n",
       "      <th>2009</th>\n",
       "      <td>1.15963</td>\n",
       "      <td>1.16097</td>\n",
       "      <td>1.15626</td>\n",
       "      <td>1.15769</td>\n",
       "    </tr>\n",
       "    <tr>\n",
       "      <th>2010</th>\n",
       "      <td>1.15740</td>\n",
       "      <td>1.16075</td>\n",
       "      <td>1.15630</td>\n",
       "      <td>1.15927</td>\n",
       "    </tr>\n",
       "  </tbody>\n",
       "</table>\n",
       "<p>2011 rows × 4 columns</p>\n",
       "</div>\n",
       "      <button class=\"colab-df-convert\" onclick=\"convertToInteractive('df-f5dbe1a0-421b-435c-a514-d347ff682fc0')\"\n",
       "              title=\"Convert this dataframe to an interactive table.\"\n",
       "              style=\"display:none;\">\n",
       "        \n",
       "  <svg xmlns=\"http://www.w3.org/2000/svg\" height=\"24px\"viewBox=\"0 0 24 24\"\n",
       "       width=\"24px\">\n",
       "    <path d=\"M0 0h24v24H0V0z\" fill=\"none\"/>\n",
       "    <path d=\"M18.56 5.44l.94 2.06.94-2.06 2.06-.94-2.06-.94-.94-2.06-.94 2.06-2.06.94zm-11 1L8.5 8.5l.94-2.06 2.06-.94-2.06-.94L8.5 2.5l-.94 2.06-2.06.94zm10 10l.94 2.06.94-2.06 2.06-.94-2.06-.94-.94-2.06-.94 2.06-2.06.94z\"/><path d=\"M17.41 7.96l-1.37-1.37c-.4-.4-.92-.59-1.43-.59-.52 0-1.04.2-1.43.59L10.3 9.45l-7.72 7.72c-.78.78-.78 2.05 0 2.83L4 21.41c.39.39.9.59 1.41.59.51 0 1.02-.2 1.41-.59l7.78-7.78 2.81-2.81c.8-.78.8-2.07 0-2.86zM5.41 20L4 18.59l7.72-7.72 1.47 1.35L5.41 20z\"/>\n",
       "  </svg>\n",
       "      </button>\n",
       "      \n",
       "  <style>\n",
       "    .colab-df-container {\n",
       "      display:flex;\n",
       "      flex-wrap:wrap;\n",
       "      gap: 12px;\n",
       "    }\n",
       "\n",
       "    .colab-df-convert {\n",
       "      background-color: #E8F0FE;\n",
       "      border: none;\n",
       "      border-radius: 50%;\n",
       "      cursor: pointer;\n",
       "      display: none;\n",
       "      fill: #1967D2;\n",
       "      height: 32px;\n",
       "      padding: 0 0 0 0;\n",
       "      width: 32px;\n",
       "    }\n",
       "\n",
       "    .colab-df-convert:hover {\n",
       "      background-color: #E2EBFA;\n",
       "      box-shadow: 0px 1px 2px rgba(60, 64, 67, 0.3), 0px 1px 3px 1px rgba(60, 64, 67, 0.15);\n",
       "      fill: #174EA6;\n",
       "    }\n",
       "\n",
       "    [theme=dark] .colab-df-convert {\n",
       "      background-color: #3B4455;\n",
       "      fill: #D2E3FC;\n",
       "    }\n",
       "\n",
       "    [theme=dark] .colab-df-convert:hover {\n",
       "      background-color: #434B5C;\n",
       "      box-shadow: 0px 1px 3px 1px rgba(0, 0, 0, 0.15);\n",
       "      filter: drop-shadow(0px 1px 2px rgba(0, 0, 0, 0.3));\n",
       "      fill: #FFFFFF;\n",
       "    }\n",
       "  </style>\n",
       "\n",
       "      <script>\n",
       "        const buttonEl =\n",
       "          document.querySelector('#df-f5dbe1a0-421b-435c-a514-d347ff682fc0 button.colab-df-convert');\n",
       "        buttonEl.style.display =\n",
       "          google.colab.kernel.accessAllowed ? 'block' : 'none';\n",
       "\n",
       "        async function convertToInteractive(key) {\n",
       "          const element = document.querySelector('#df-f5dbe1a0-421b-435c-a514-d347ff682fc0');\n",
       "          const dataTable =\n",
       "            await google.colab.kernel.invokeFunction('convertToInteractive',\n",
       "                                                     [key], {});\n",
       "          if (!dataTable) return;\n",
       "\n",
       "          const docLinkHtml = 'Like what you see? Visit the ' +\n",
       "            '<a target=\"_blank\" href=https://colab.research.google.com/notebooks/data_table.ipynb>data table notebook</a>'\n",
       "            + ' to learn more about interactive tables.';\n",
       "          element.innerHTML = '';\n",
       "          dataTable['output_type'] = 'display_data';\n",
       "          await google.colab.output.renderOutput(dataTable, element);\n",
       "          const docLink = document.createElement('div');\n",
       "          docLink.innerHTML = docLinkHtml;\n",
       "          element.appendChild(docLink);\n",
       "        }\n",
       "      </script>\n",
       "    </div>\n",
       "  </div>\n",
       "  "
      ],
      "text/plain": [
       "         OPEN     HIGH      LOW    CLOSE\n",
       "0     1.37550  1.37648  1.37372  1.37580\n",
       "1     1.37581  1.37749  1.36294  1.36643\n",
       "2     1.36643  1.36716  1.35821  1.35874\n",
       "3     1.35955  1.36528  1.35712  1.36334\n",
       "4     1.36334  1.36562  1.35966  1.36138\n",
       "...       ...      ...      ...      ...\n",
       "2006  1.17255  1.17255  1.16848  1.16952\n",
       "2007  1.16940  1.17032  1.16682  1.16826\n",
       "2008  1.16825  1.16901  1.15894  1.15969\n",
       "2009  1.15963  1.16097  1.15626  1.15769\n",
       "2010  1.15740  1.16075  1.15630  1.15927\n",
       "\n",
       "[2011 rows x 4 columns]"
      ]
     },
     "execution_count": 2,
     "metadata": {},
     "output_type": "execute_result"
    },
    {
     "data": {
      "image/png": "[encoded data removed]",
      "text/plain": [
       "<Figure size 576x432 with 1 Axes>"
      ]
     },
     "metadata": {
      "needs_background": "light"
     },
     "output_type": "display_data"
    }
   ],
   "source": [
    "from matplotlib import pyplot as plt\n",
    "import pandas as pd\n",
    "import numpy as np \n",
    "\n",
    "dataset = pd.read_csv('/content/drive/MyDrive/hw04/EURUSD_Daily_20140101_20211001.csv', usecols=[0,1,2,3,4])\n",
    "\n",
    "cols = list(['OPEN','HIGH','LOW','CLOSE'])\n",
    "\n",
    "dataset = pd.DataFrame(dataset, columns=cols)\n",
    "\n",
    "\n",
    "dataset.CLOSE.plot(figsize=(8, 6),)\n",
    "plt.title(\"CLOSE of EURUSD\", fontsize=20)\n",
    "\n",
    "dataset"
   ]
  },
  {
   "cell_type": "code",
   "execution_count": null,
   "metadata": {
    "colab": {
     "base_uri": "https://localhost:8080/"
    },
    "executionInfo": {
     "elapsed": 39268,
     "status": "ok",
     "timestamp": 1641120992133,
     "user": {
      "displayName": "pardies moradbeikie",
      "photoUrl": "https://lh3.googleusercontent.com/a-/AOh14GhmePn8H7A6nZGOAKuB4zJrDgErTqLsYg_HJSCJCQ=s64",
      "userId": "00275872828076153916"
     },
     "user_tz": -210
    },
    "id": "E7lvcYGO1LN5",
    "outputId": "dc868b78-25ea-4b9f-d3bf-d5ea66fcc7b9"
   },
   "outputs": [
    {
     "name": "stdout",
     "output_type": "stream",
     "text": [
      "Mounted at /content/drive\n"
     ]
    }
   ],
   "source": [
    "from google.colab import drive\n",
    "drive.mount('/content/drive')"
   ]
  },
  {
   "cell_type": "code",
   "execution_count": 8,
   "metadata": {
    "executionInfo": {
     "elapsed": 842,
     "status": "ok",
     "timestamp": 1641558326158,
     "user": {
      "displayName": "pardies moradbeikie",
      "photoUrl": "https://lh3.googleusercontent.com/a-/AOh14GhmePn8H7A6nZGOAKuB4zJrDgErTqLsYg_HJSCJCQ=s64",
      "userId": "00275872828076153916"
     },
     "user_tz": -210
    },
    "id": "Qos7CASa1X02"
   },
   "outputs": [],
   "source": [
    "#ignoring warnings\n",
    "import warnings\n",
    "warnings.simplefilter('ignore')\n",
    "\n",
    "#importing neccesary modules\n",
    "import sys\n",
    "import pandas as pd\n",
    "import numpy as np\n",
    "import matplotlib\n",
    "import matplotlib.pyplot as plt\n",
    "plt.style.use('seaborn-whitegrid')\n",
    "import seaborn as sns\n",
    "\n",
    "import sklearn\n",
    "from sklearn.linear_model import LinearRegression, SGDRegressor\n",
    "from sklearn.svm import SVR\n",
    "from sklearn.ensemble import BaggingRegressor, RandomForestRegressor\n",
    "from sklearn.preprocessing import StandardScaler, MinMaxScaler\n",
    "from sklearn.metrics import mean_squared_error, mean_absolute_error, r2_score\n",
    "import joblib\n",
    "import sklearn.externals\n",
    "from sklearn.model_selection import GridSearchCV, train_test_split\n",
    "\n",
    "import xgboost\n",
    "from xgboost import XGBRegressor, DMatrix"
   ]
  },
  {
   "cell_type": "code",
   "execution_count": null,
   "metadata": {
    "colab": {
     "base_uri": "https://localhost:8080/"
    },
    "executionInfo": {
     "elapsed": 323,
     "status": "ok",
     "timestamp": 1641106611522,
     "user": {
      "displayName": "pardies moradbeikie",
      "photoUrl": "https://lh3.googleusercontent.com/a-/AOh14GhmePn8H7A6nZGOAKuB4zJrDgErTqLsYg_HJSCJCQ=s64",
      "userId": "00275872828076153916"
     },
     "user_tz": -210
    },
    "id": "RhP6RWVI1qZW",
    "outputId": "108d46eb-ae0e-47cb-f022-dd049f10dff4"
   },
   "outputs": [
    {
     "name": "stdout",
     "output_type": "stream",
     "text": [
      "Python version:3.7.12 (default, Sep 10 2021, 00:21:48) \n",
      "[GCC 7.5.0]\n",
      "Numpy version:1.19.5\n",
      "Pandas version:1.1.5\n",
      "MatlpotLib version:3.2.2\n",
      "Seaborn version:0.11.2\n",
      "Sci-Kit Learn version:1.0.1\n",
      "XGBoost version:0.90\n"
     ]
    }
   ],
   "source": [
    "#python package version information\n",
    "print('Python version:{}'.format(sys.version))\n",
    "print('Numpy version:{}'.format(np.__version__))\n",
    "print('Pandas version:{}'.format(pd.__version__))\n",
    "print('MatlpotLib version:{}'.format(matplotlib.__version__))\n",
    "print('Seaborn version:{}'.format(sns.__version__))\n",
    "print('Sci-Kit Learn version:{}'.format(sklearn.__version__))\n",
    "print('XGBoost version:{}'.format(xgboost.__version__))"
   ]
  },
  {
   "cell_type": "code",
   "execution_count": null,
   "metadata": {
    "colab": {
     "base_uri": "https://localhost:8080/",
     "height": 206
    },
    "executionInfo": {
     "elapsed": 12,
     "status": "ok",
     "timestamp": 1641121070601,
     "user": {
      "displayName": "pardies moradbeikie",
      "photoUrl": "https://lh3.googleusercontent.com/a-/AOh14GhmePn8H7A6nZGOAKuB4zJrDgErTqLsYg_HJSCJCQ=s64",
      "userId": "00275872828076153916"
     },
     "user_tz": -210
    },
    "id": "2iQFBVkE2BVB",
    "outputId": "e798230d-cd73-4c60-9907-7f10d84448c8"
   },
   "outputs": [
    {
     "data": {
      "text/html": [
       "\n",
       "  <div id=\"df-2a274583-a86c-4ae9-9b48-8545d6f57031\">\n",
       "    <div class=\"colab-df-container\">\n",
       "      <div>\n",
       "<style scoped>\n",
       "    .dataframe tbody tr th:only-of-type {\n",
       "        vertical-align: middle;\n",
       "    }\n",
       "\n",
       "    .dataframe tbody tr th {\n",
       "        vertical-align: top;\n",
       "    }\n",
       "\n",
       "    .dataframe thead th {\n",
       "        text-align: right;\n",
       "    }\n",
       "</style>\n",
       "<table border=\"1\" class=\"dataframe\">\n",
       "  <thead>\n",
       "    <tr style=\"text-align: right;\">\n",
       "      <th></th>\n",
       "      <th>OPEN</th>\n",
       "      <th>HIGH</th>\n",
       "      <th>LOW</th>\n",
       "      <th>CLOSE</th>\n",
       "    </tr>\n",
       "  </thead>\n",
       "  <tbody>\n",
       "    <tr>\n",
       "      <th>0</th>\n",
       "      <td>1.37550</td>\n",
       "      <td>1.37648</td>\n",
       "      <td>1.37372</td>\n",
       "      <td>1.37580</td>\n",
       "    </tr>\n",
       "    <tr>\n",
       "      <th>1</th>\n",
       "      <td>1.37581</td>\n",
       "      <td>1.37749</td>\n",
       "      <td>1.36294</td>\n",
       "      <td>1.36643</td>\n",
       "    </tr>\n",
       "    <tr>\n",
       "      <th>2</th>\n",
       "      <td>1.36643</td>\n",
       "      <td>1.36716</td>\n",
       "      <td>1.35821</td>\n",
       "      <td>1.35874</td>\n",
       "    </tr>\n",
       "    <tr>\n",
       "      <th>3</th>\n",
       "      <td>1.35955</td>\n",
       "      <td>1.36528</td>\n",
       "      <td>1.35712</td>\n",
       "      <td>1.36334</td>\n",
       "    </tr>\n",
       "    <tr>\n",
       "      <th>4</th>\n",
       "      <td>1.36334</td>\n",
       "      <td>1.36562</td>\n",
       "      <td>1.35966</td>\n",
       "      <td>1.36138</td>\n",
       "    </tr>\n",
       "  </tbody>\n",
       "</table>\n",
       "</div>\n",
       "      <button class=\"colab-df-convert\" onclick=\"convertToInteractive('df-2a274583-a86c-4ae9-9b48-8545d6f57031')\"\n",
       "              title=\"Convert this dataframe to an interactive table.\"\n",
       "              style=\"display:none;\">\n",
       "        \n",
       "  <svg xmlns=\"http://www.w3.org/2000/svg\" height=\"24px\"viewBox=\"0 0 24 24\"\n",
       "       width=\"24px\">\n",
       "    <path d=\"M0 0h24v24H0V0z\" fill=\"none\"/>\n",
       "    <path d=\"M18.56 5.44l.94 2.06.94-2.06 2.06-.94-2.06-.94-.94-2.06-.94 2.06-2.06.94zm-11 1L8.5 8.5l.94-2.06 2.06-.94-2.06-.94L8.5 2.5l-.94 2.06-2.06.94zm10 10l.94 2.06.94-2.06 2.06-.94-2.06-.94-.94-2.06-.94 2.06-2.06.94z\"/><path d=\"M17.41 7.96l-1.37-1.37c-.4-.4-.92-.59-1.43-.59-.52 0-1.04.2-1.43.59L10.3 9.45l-7.72 7.72c-.78.78-.78 2.05 0 2.83L4 21.41c.39.39.9.59 1.41.59.51 0 1.02-.2 1.41-.59l7.78-7.78 2.81-2.81c.8-.78.8-2.07 0-2.86zM5.41 20L4 18.59l7.72-7.72 1.47 1.35L5.41 20z\"/>\n",
       "  </svg>\n",
       "      </button>\n",
       "      \n",
       "  <style>\n",
       "    .colab-df-container {\n",
       "      display:flex;\n",
       "      flex-wrap:wrap;\n",
       "      gap: 12px;\n",
       "    }\n",
       "\n",
       "    .colab-df-convert {\n",
       "      background-color: #E8F0FE;\n",
       "      border: none;\n",
       "      border-radius: 50%;\n",
       "      cursor: pointer;\n",
       "      display: none;\n",
       "      fill: #1967D2;\n",
       "      height: 32px;\n",
       "      padding: 0 0 0 0;\n",
       "      width: 32px;\n",
       "    }\n",
       "\n",
       "    .colab-df-convert:hover {\n",
       "      background-color: #E2EBFA;\n",
       "      box-shadow: 0px 1px 2px rgba(60, 64, 67, 0.3), 0px 1px 3px 1px rgba(60, 64, 67, 0.15);\n",
       "      fill: #174EA6;\n",
       "    }\n",
       "\n",
       "    [theme=dark] .colab-df-convert {\n",
       "      background-color: #3B4455;\n",
       "      fill: #D2E3FC;\n",
       "    }\n",
       "\n",
       "    [theme=dark] .colab-df-convert:hover {\n",
       "      background-color: #434B5C;\n",
       "      box-shadow: 0px 1px 3px 1px rgba(0, 0, 0, 0.15);\n",
       "      filter: drop-shadow(0px 1px 2px rgba(0, 0, 0, 0.3));\n",
       "      fill: #FFFFFF;\n",
       "    }\n",
       "  </style>\n",
       "\n",
       "      <script>\n",
       "        const buttonEl =\n",
       "          document.querySelector('#df-2a274583-a86c-4ae9-9b48-8545d6f57031 button.colab-df-convert');\n",
       "        buttonEl.style.display =\n",
       "          google.colab.kernel.accessAllowed ? 'block' : 'none';\n",
       "\n",
       "        async function convertToInteractive(key) {\n",
       "          const element = document.querySelector('#df-2a274583-a86c-4ae9-9b48-8545d6f57031');\n",
       "          const dataTable =\n",
       "            await google.colab.kernel.invokeFunction('convertToInteractive',\n",
       "                                                     [key], {});\n",
       "          if (!dataTable) return;\n",
       "\n",
       "          const docLinkHtml = 'Like what you see? Visit the ' +\n",
       "            '<a target=\"_blank\" href=https://colab.research.google.com/notebooks/data_table.ipynb>data table notebook</a>'\n",
       "            + ' to learn more about interactive tables.';\n",
       "          element.innerHTML = '';\n",
       "          dataTable['output_type'] = 'display_data';\n",
       "          await google.colab.output.renderOutput(dataTable, element);\n",
       "          const docLink = document.createElement('div');\n",
       "          docLink.innerHTML = docLinkHtml;\n",
       "          element.appendChild(docLink);\n",
       "        }\n",
       "      </script>\n",
       "    </div>\n",
       "  </div>\n",
       "  "
      ],
      "text/plain": [
       "      OPEN     HIGH      LOW    CLOSE\n",
       "0  1.37550  1.37648  1.37372  1.37580\n",
       "1  1.37581  1.37749  1.36294  1.36643\n",
       "2  1.36643  1.36716  1.35821  1.35874\n",
       "3  1.35955  1.36528  1.35712  1.36334\n",
       "4  1.36334  1.36562  1.35966  1.36138"
      ]
     },
     "execution_count": 3,
     "metadata": {},
     "output_type": "execute_result"
    }
   ],
   "source": [
    "dataset.head()"
   ]
  },
  {
   "cell_type": "code",
   "execution_count": null,
   "metadata": {
    "colab": {
     "base_uri": "https://localhost:8080/"
    },
    "executionInfo": {
     "elapsed": 7,
     "status": "ok",
     "timestamp": 1641121073170,
     "user": {
      "displayName": "pardies moradbeikie",
      "photoUrl": "https://lh3.googleusercontent.com/a-/AOh14GhmePn8H7A6nZGOAKuB4zJrDgErTqLsYg_HJSCJCQ=s64",
      "userId": "00275872828076153916"
     },
     "user_tz": -210
    },
    "id": "hRbbQGC82NM9",
    "outputId": "3afdf6be-1229-48f9-8a71-cc08790be1d5"
   },
   "outputs": [
    {
     "data": {
      "text/plain": [
       "OPEN     0\n",
       "HIGH     0\n",
       "LOW      0\n",
       "CLOSE    0\n",
       "dtype: int64"
      ]
     },
     "execution_count": 4,
     "metadata": {},
     "output_type": "execute_result"
    }
   ],
   "source": [
    "dataset.isna().sum()"
   ]
  },
  {
   "cell_type": "code",
   "execution_count": null,
   "metadata": {
    "colab": {
     "base_uri": "https://localhost:8080/",
     "height": 406
    },
    "executionInfo": {
     "elapsed": 524,
     "status": "ok",
     "timestamp": 1641121075502,
     "user": {
      "displayName": "pardies moradbeikie",
      "photoUrl": "https://lh3.googleusercontent.com/a-/AOh14GhmePn8H7A6nZGOAKuB4zJrDgErTqLsYg_HJSCJCQ=s64",
      "userId": "00275872828076153916"
     },
     "user_tz": -210
    },
    "id": "JO1X3NE92UFe",
    "outputId": "cbb29c5d-549b-4bad-ab3b-610386cdec0b"
   },
   "outputs": [
    {
     "name": "stderr",
     "output_type": "stream",
     "text": [
      "No handles with labels found to put in legend.\n"
     ]
    },
    {
     "data": {
      "image/png": "[encoded data removed]",
      "text/plain": [
       "<Figure size 1080x432 with 1 Axes>"
      ]
     },
     "metadata": {
      "needs_background": "light"
     },
     "output_type": "display_data"
    }
   ],
   "source": [
    "plt.figure(figsize=(15,6))\n",
    "plt.plot(dataset.CLOSE)\n",
    "plt.title('Euro vs USD')\n",
    "plt.legend()\n",
    "plt.show()"
   ]
  },
  {
   "cell_type": "markdown",
   "metadata": {},
   "source": [
    "ابتدا داده ها را از ورودی میگیریم "
   ]
  },
  {
   "cell_type": "markdown",
   "metadata": {},
   "source": [
    "در این بخش هر دو حالت با نرمالسازی و بدون نرمالسازی نتایج را نشان میدهیم و میبینیم که با نرمالسازی بسیار نتایج بهتر میشود "
   ]
  },
  {
   "cell_type": "markdown",
   "metadata": {},
   "source": [
    "در اینجا ما سه حالت نرمالسازی کردیم ولی در این دیتا ست میبینیم که روش بهتر برای این دیتا ست کدام است "
   ]
  },
  {
   "cell_type": "markdown",
   "metadata": {},
   "source": [
    "از ما خواسته شده داده ها را به صورت متوالی در بیاوریم و لیبل روز بعد را انتخاب کنیم در اینجا 5 روز در نظر گرفتیم و مقدار بسته شدن روز بعد را در نظر گرفته ایم"
   ]
  },
  {
   "cell_type": "markdown",
   "metadata": {},
   "source": [
    "برای اینکار از حلقه فور استفاده میکنیم "
   ]
  },
  {
   "cell_type": "markdown",
   "metadata": {},
   "source": [
    "و بعد داده های اموزشی و ازمایشی را تعیین میکنیم و به ورودی شبکه های بازگشتی می دهیم "
   ]
  },
  {
   "cell_type": "code",
   "execution_count": null,
   "metadata": {
    "colab": {
     "base_uri": "https://localhost:8080/",
     "height": 363
    },
    "executionInfo": {
     "elapsed": 319,
     "status": "ok",
     "timestamp": 1641121077817,
     "user": {
      "displayName": "pardies moradbeikie",
      "photoUrl": "https://lh3.googleusercontent.com/a-/AOh14GhmePn8H7A6nZGOAKuB4zJrDgErTqLsYg_HJSCJCQ=s64",
      "userId": "00275872828076153916"
     },
     "user_tz": -210
    },
    "id": "dOUL-CHD0sPB",
    "outputId": "47444a8e-4fd1-409d-9355-787f73edda41"
   },
   "outputs": [
    {
     "data": {
      "text/html": [
       "\n",
       "  <div id=\"df-c013a0d8-ecf5-47bb-83fc-b47555b68132\">\n",
       "    <div class=\"colab-df-container\">\n",
       "      <div>\n",
       "<style scoped>\n",
       "    .dataframe tbody tr th:only-of-type {\n",
       "        vertical-align: middle;\n",
       "    }\n",
       "\n",
       "    .dataframe tbody tr th {\n",
       "        vertical-align: top;\n",
       "    }\n",
       "\n",
       "    .dataframe thead th {\n",
       "        text-align: right;\n",
       "    }\n",
       "</style>\n",
       "<table border=\"1\" class=\"dataframe\">\n",
       "  <thead>\n",
       "    <tr style=\"text-align: right;\">\n",
       "      <th></th>\n",
       "      <th>OPEN</th>\n",
       "      <th>HIGH</th>\n",
       "      <th>LOW</th>\n",
       "      <th>CLOSE</th>\n",
       "    </tr>\n",
       "  </thead>\n",
       "  <tbody>\n",
       "    <tr>\n",
       "      <th>0</th>\n",
       "      <td>1.37550</td>\n",
       "      <td>1.37648</td>\n",
       "      <td>1.37372</td>\n",
       "      <td>1.37580</td>\n",
       "    </tr>\n",
       "    <tr>\n",
       "      <th>1</th>\n",
       "      <td>1.37581</td>\n",
       "      <td>1.37749</td>\n",
       "      <td>1.36294</td>\n",
       "      <td>1.36643</td>\n",
       "    </tr>\n",
       "    <tr>\n",
       "      <th>2</th>\n",
       "      <td>1.36643</td>\n",
       "      <td>1.36716</td>\n",
       "      <td>1.35821</td>\n",
       "      <td>1.35874</td>\n",
       "    </tr>\n",
       "    <tr>\n",
       "      <th>3</th>\n",
       "      <td>1.35955</td>\n",
       "      <td>1.36528</td>\n",
       "      <td>1.35712</td>\n",
       "      <td>1.36334</td>\n",
       "    </tr>\n",
       "    <tr>\n",
       "      <th>4</th>\n",
       "      <td>1.36334</td>\n",
       "      <td>1.36562</td>\n",
       "      <td>1.35966</td>\n",
       "      <td>1.36138</td>\n",
       "    </tr>\n",
       "    <tr>\n",
       "      <th>5</th>\n",
       "      <td>1.36142</td>\n",
       "      <td>1.36349</td>\n",
       "      <td>1.35533</td>\n",
       "      <td>1.35749</td>\n",
       "    </tr>\n",
       "    <tr>\n",
       "      <th>6</th>\n",
       "      <td>1.35746</td>\n",
       "      <td>1.36328</td>\n",
       "      <td>1.35484</td>\n",
       "      <td>1.36017</td>\n",
       "    </tr>\n",
       "    <tr>\n",
       "      <th>7</th>\n",
       "      <td>1.36016</td>\n",
       "      <td>1.36871</td>\n",
       "      <td>1.35721</td>\n",
       "      <td>1.36665</td>\n",
       "    </tr>\n",
       "    <tr>\n",
       "      <th>8</th>\n",
       "      <td>1.36662</td>\n",
       "      <td>1.36846</td>\n",
       "      <td>1.36373</td>\n",
       "      <td>1.36680</td>\n",
       "    </tr>\n",
       "    <tr>\n",
       "      <th>9</th>\n",
       "      <td>1.36680</td>\n",
       "      <td>1.36992</td>\n",
       "      <td>1.36490</td>\n",
       "      <td>1.36722</td>\n",
       "    </tr>\n",
       "  </tbody>\n",
       "</table>\n",
       "</div>\n",
       "      <button class=\"colab-df-convert\" onclick=\"convertToInteractive('df-c013a0d8-ecf5-47bb-83fc-b47555b68132')\"\n",
       "              title=\"Convert this dataframe to an interactive table.\"\n",
       "              style=\"display:none;\">\n",
       "        \n",
       "  <svg xmlns=\"http://www.w3.org/2000/svg\" height=\"24px\"viewBox=\"0 0 24 24\"\n",
       "       width=\"24px\">\n",
       "    <path d=\"M0 0h24v24H0V0z\" fill=\"none\"/>\n",
       "    <path d=\"M18.56 5.44l.94 2.06.94-2.06 2.06-.94-2.06-.94-.94-2.06-.94 2.06-2.06.94zm-11 1L8.5 8.5l.94-2.06 2.06-.94-2.06-.94L8.5 2.5l-.94 2.06-2.06.94zm10 10l.94 2.06.94-2.06 2.06-.94-2.06-.94-.94-2.06-.94 2.06-2.06.94z\"/><path d=\"M17.41 7.96l-1.37-1.37c-.4-.4-.92-.59-1.43-.59-.52 0-1.04.2-1.43.59L10.3 9.45l-7.72 7.72c-.78.78-.78 2.05 0 2.83L4 21.41c.39.39.9.59 1.41.59.51 0 1.02-.2 1.41-.59l7.78-7.78 2.81-2.81c.8-.78.8-2.07 0-2.86zM5.41 20L4 18.59l7.72-7.72 1.47 1.35L5.41 20z\"/>\n",
       "  </svg>\n",
       "      </button>\n",
       "      \n",
       "  <style>\n",
       "    .colab-df-container {\n",
       "      display:flex;\n",
       "      flex-wrap:wrap;\n",
       "      gap: 12px;\n",
       "    }\n",
       "\n",
       "    .colab-df-convert {\n",
       "      background-color: #E8F0FE;\n",
       "      border: none;\n",
       "      border-radius: 50%;\n",
       "      cursor: pointer;\n",
       "      display: none;\n",
       "      fill: #1967D2;\n",
       "      height: 32px;\n",
       "      padding: 0 0 0 0;\n",
       "      width: 32px;\n",
       "    }\n",
       "\n",
       "    .colab-df-convert:hover {\n",
       "      background-color: #E2EBFA;\n",
       "      box-shadow: 0px 1px 2px rgba(60, 64, 67, 0.3), 0px 1px 3px 1px rgba(60, 64, 67, 0.15);\n",
       "      fill: #174EA6;\n",
       "    }\n",
       "\n",
       "    [theme=dark] .colab-df-convert {\n",
       "      background-color: #3B4455;\n",
       "      fill: #D2E3FC;\n",
       "    }\n",
       "\n",
       "    [theme=dark] .colab-df-convert:hover {\n",
       "      background-color: #434B5C;\n",
       "      box-shadow: 0px 1px 3px 1px rgba(0, 0, 0, 0.15);\n",
       "      filter: drop-shadow(0px 1px 2px rgba(0, 0, 0, 0.3));\n",
       "      fill: #FFFFFF;\n",
       "    }\n",
       "  </style>\n",
       "\n",
       "      <script>\n",
       "        const buttonEl =\n",
       "          document.querySelector('#df-c013a0d8-ecf5-47bb-83fc-b47555b68132 button.colab-df-convert');\n",
       "        buttonEl.style.display =\n",
       "          google.colab.kernel.accessAllowed ? 'block' : 'none';\n",
       "\n",
       "        async function convertToInteractive(key) {\n",
       "          const element = document.querySelector('#df-c013a0d8-ecf5-47bb-83fc-b47555b68132');\n",
       "          const dataTable =\n",
       "            await google.colab.kernel.invokeFunction('convertToInteractive',\n",
       "                                                     [key], {});\n",
       "          if (!dataTable) return;\n",
       "\n",
       "          const docLinkHtml = 'Like what you see? Visit the ' +\n",
       "            '<a target=\"_blank\" href=https://colab.research.google.com/notebooks/data_table.ipynb>data table notebook</a>'\n",
       "            + ' to learn more about interactive tables.';\n",
       "          element.innerHTML = '';\n",
       "          dataTable['output_type'] = 'display_data';\n",
       "          await google.colab.output.renderOutput(dataTable, element);\n",
       "          const docLink = document.createElement('div');\n",
       "          docLink.innerHTML = docLinkHtml;\n",
       "          element.appendChild(docLink);\n",
       "        }\n",
       "      </script>\n",
       "    </div>\n",
       "  </div>\n",
       "  "
      ],
      "text/plain": [
       "      OPEN     HIGH      LOW    CLOSE\n",
       "0  1.37550  1.37648  1.37372  1.37580\n",
       "1  1.37581  1.37749  1.36294  1.36643\n",
       "2  1.36643  1.36716  1.35821  1.35874\n",
       "3  1.35955  1.36528  1.35712  1.36334\n",
       "4  1.36334  1.36562  1.35966  1.36138\n",
       "5  1.36142  1.36349  1.35533  1.35749\n",
       "6  1.35746  1.36328  1.35484  1.36017\n",
       "7  1.36016  1.36871  1.35721  1.36665\n",
       "8  1.36662  1.36846  1.36373  1.36680\n",
       "9  1.36680  1.36992  1.36490  1.36722"
      ]
     },
     "execution_count": 6,
     "metadata": {},
     "output_type": "execute_result"
    }
   ],
   "source": [
    "dataset.head(10)"
   ]
  },
  {
   "cell_type": "code",
   "execution_count": null,
   "metadata": {
    "id": "9aIppbcQ2dfJ"
   },
   "outputs": [],
   "source": [
    "x=[]\n",
    "y=[]\n",
    "for i in range (len(dataset)-5):\n",
    "    x.append(dataset.iloc[i:i+5,])\n",
    "    y.append(dataset.CLOSE[i+5]) "
   ]
  },
  {
   "cell_type": "code",
   "execution_count": null,
   "metadata": {
    "colab": {
     "base_uri": "https://localhost:8080/",
     "height": 206
    },
    "executionInfo": {
     "elapsed": 383,
     "status": "ok",
     "timestamp": 1641121082653,
     "user": {
      "displayName": "pardies moradbeikie",
      "photoUrl": "https://lh3.googleusercontent.com/a-/AOh14GhmePn8H7A6nZGOAKuB4zJrDgErTqLsYg_HJSCJCQ=s64",
      "userId": "00275872828076153916"
     },
     "user_tz": -210
    },
    "id": "uZ_rZ_083XCm",
    "outputId": "43f4014d-3daf-4ad4-d6de-3374456fef7f"
   },
   "outputs": [
    {
     "data": {
      "text/html": [
       "\n",
       "  <div id=\"df-02fa700a-6366-4262-931c-7406164ed2ac\">\n",
       "    <div class=\"colab-df-container\">\n",
       "      <div>\n",
       "<style scoped>\n",
       "    .dataframe tbody tr th:only-of-type {\n",
       "        vertical-align: middle;\n",
       "    }\n",
       "\n",
       "    .dataframe tbody tr th {\n",
       "        vertical-align: top;\n",
       "    }\n",
       "\n",
       "    .dataframe thead th {\n",
       "        text-align: right;\n",
       "    }\n",
       "</style>\n",
       "<table border=\"1\" class=\"dataframe\">\n",
       "  <thead>\n",
       "    <tr style=\"text-align: right;\">\n",
       "      <th></th>\n",
       "      <th>OPEN</th>\n",
       "      <th>HIGH</th>\n",
       "      <th>LOW</th>\n",
       "      <th>CLOSE</th>\n",
       "    </tr>\n",
       "  </thead>\n",
       "  <tbody>\n",
       "    <tr>\n",
       "      <th>0</th>\n",
       "      <td>1.37550</td>\n",
       "      <td>1.37648</td>\n",
       "      <td>1.37372</td>\n",
       "      <td>1.37580</td>\n",
       "    </tr>\n",
       "    <tr>\n",
       "      <th>1</th>\n",
       "      <td>1.37581</td>\n",
       "      <td>1.37749</td>\n",
       "      <td>1.36294</td>\n",
       "      <td>1.36643</td>\n",
       "    </tr>\n",
       "    <tr>\n",
       "      <th>2</th>\n",
       "      <td>1.36643</td>\n",
       "      <td>1.36716</td>\n",
       "      <td>1.35821</td>\n",
       "      <td>1.35874</td>\n",
       "    </tr>\n",
       "    <tr>\n",
       "      <th>3</th>\n",
       "      <td>1.35955</td>\n",
       "      <td>1.36528</td>\n",
       "      <td>1.35712</td>\n",
       "      <td>1.36334</td>\n",
       "    </tr>\n",
       "    <tr>\n",
       "      <th>4</th>\n",
       "      <td>1.36334</td>\n",
       "      <td>1.36562</td>\n",
       "      <td>1.35966</td>\n",
       "      <td>1.36138</td>\n",
       "    </tr>\n",
       "  </tbody>\n",
       "</table>\n",
       "</div>\n",
       "      <button class=\"colab-df-convert\" onclick=\"convertToInteractive('df-02fa700a-6366-4262-931c-7406164ed2ac')\"\n",
       "              title=\"Convert this dataframe to an interactive table.\"\n",
       "              style=\"display:none;\">\n",
       "        \n",
       "  <svg xmlns=\"http://www.w3.org/2000/svg\" height=\"24px\"viewBox=\"0 0 24 24\"\n",
       "       width=\"24px\">\n",
       "    <path d=\"M0 0h24v24H0V0z\" fill=\"none\"/>\n",
       "    <path d=\"M18.56 5.44l.94 2.06.94-2.06 2.06-.94-2.06-.94-.94-2.06-.94 2.06-2.06.94zm-11 1L8.5 8.5l.94-2.06 2.06-.94-2.06-.94L8.5 2.5l-.94 2.06-2.06.94zm10 10l.94 2.06.94-2.06 2.06-.94-2.06-.94-.94-2.06-.94 2.06-2.06.94z\"/><path d=\"M17.41 7.96l-1.37-1.37c-.4-.4-.92-.59-1.43-.59-.52 0-1.04.2-1.43.59L10.3 9.45l-7.72 7.72c-.78.78-.78 2.05 0 2.83L4 21.41c.39.39.9.59 1.41.59.51 0 1.02-.2 1.41-.59l7.78-7.78 2.81-2.81c.8-.78.8-2.07 0-2.86zM5.41 20L4 18.59l7.72-7.72 1.47 1.35L5.41 20z\"/>\n",
       "  </svg>\n",
       "      </button>\n",
       "      \n",
       "  <style>\n",
       "    .colab-df-container {\n",
       "      display:flex;\n",
       "      flex-wrap:wrap;\n",
       "      gap: 12px;\n",
       "    }\n",
       "\n",
       "    .colab-df-convert {\n",
       "      background-color: #E8F0FE;\n",
       "      border: none;\n",
       "      border-radius: 50%;\n",
       "      cursor: pointer;\n",
       "      display: none;\n",
       "      fill: #1967D2;\n",
       "      height: 32px;\n",
       "      padding: 0 0 0 0;\n",
       "      width: 32px;\n",
       "    }\n",
       "\n",
       "    .colab-df-convert:hover {\n",
       "      background-color: #E2EBFA;\n",
       "      box-shadow: 0px 1px 2px rgba(60, 64, 67, 0.3), 0px 1px 3px 1px rgba(60, 64, 67, 0.15);\n",
       "      fill: #174EA6;\n",
       "    }\n",
       "\n",
       "    [theme=dark] .colab-df-convert {\n",
       "      background-color: #3B4455;\n",
       "      fill: #D2E3FC;\n",
       "    }\n",
       "\n",
       "    [theme=dark] .colab-df-convert:hover {\n",
       "      background-color: #434B5C;\n",
       "      box-shadow: 0px 1px 3px 1px rgba(0, 0, 0, 0.15);\n",
       "      filter: drop-shadow(0px 1px 2px rgba(0, 0, 0, 0.3));\n",
       "      fill: #FFFFFF;\n",
       "    }\n",
       "  </style>\n",
       "\n",
       "      <script>\n",
       "        const buttonEl =\n",
       "          document.querySelector('#df-02fa700a-6366-4262-931c-7406164ed2ac button.colab-df-convert');\n",
       "        buttonEl.style.display =\n",
       "          google.colab.kernel.accessAllowed ? 'block' : 'none';\n",
       "\n",
       "        async function convertToInteractive(key) {\n",
       "          const element = document.querySelector('#df-02fa700a-6366-4262-931c-7406164ed2ac');\n",
       "          const dataTable =\n",
       "            await google.colab.kernel.invokeFunction('convertToInteractive',\n",
       "                                                     [key], {});\n",
       "          if (!dataTable) return;\n",
       "\n",
       "          const docLinkHtml = 'Like what you see? Visit the ' +\n",
       "            '<a target=\"_blank\" href=https://colab.research.google.com/notebooks/data_table.ipynb>data table notebook</a>'\n",
       "            + ' to learn more about interactive tables.';\n",
       "          element.innerHTML = '';\n",
       "          dataTable['output_type'] = 'display_data';\n",
       "          await google.colab.output.renderOutput(dataTable, element);\n",
       "          const docLink = document.createElement('div');\n",
       "          docLink.innerHTML = docLinkHtml;\n",
       "          element.appendChild(docLink);\n",
       "        }\n",
       "      </script>\n",
       "    </div>\n",
       "  </div>\n",
       "  "
      ],
      "text/plain": [
       "      OPEN     HIGH      LOW    CLOSE\n",
       "0  1.37550  1.37648  1.37372  1.37580\n",
       "1  1.37581  1.37749  1.36294  1.36643\n",
       "2  1.36643  1.36716  1.35821  1.35874\n",
       "3  1.35955  1.36528  1.35712  1.36334\n",
       "4  1.36334  1.36562  1.35966  1.36138"
      ]
     },
     "execution_count": 8,
     "metadata": {},
     "output_type": "execute_result"
    }
   ],
   "source": [
    "x[0]"
   ]
  },
  {
   "cell_type": "code",
   "execution_count": null,
   "metadata": {
    "colab": {
     "base_uri": "https://localhost:8080/"
    },
    "executionInfo": {
     "elapsed": 5,
     "status": "ok",
     "timestamp": 1641121083749,
     "user": {
      "displayName": "pardies moradbeikie",
      "photoUrl": "https://lh3.googleusercontent.com/a-/AOh14GhmePn8H7A6nZGOAKuB4zJrDgErTqLsYg_HJSCJCQ=s64",
      "userId": "00275872828076153916"
     },
     "user_tz": -210
    },
    "id": "xnK-wPQ-3-Xo",
    "outputId": "2c2eea0e-0193-4e77-f4a8-2c38bb40c22e"
   },
   "outputs": [
    {
     "data": {
      "text/plain": [
       "1.3574899999999999"
      ]
     },
     "execution_count": 9,
     "metadata": {},
     "output_type": "execute_result"
    }
   ],
   "source": [
    "y[0]"
   ]
  },
  {
   "cell_type": "code",
   "execution_count": null,
   "metadata": {
    "colab": {
     "base_uri": "https://localhost:8080/"
    },
    "executionInfo": {
     "elapsed": 318,
     "status": "ok",
     "timestamp": 1641121085874,
     "user": {
      "displayName": "pardies moradbeikie",
      "photoUrl": "https://lh3.googleusercontent.com/a-/AOh14GhmePn8H7A6nZGOAKuB4zJrDgErTqLsYg_HJSCJCQ=s64",
      "userId": "00275872828076153916"
     },
     "user_tz": -210
    },
    "id": "FbJE_6IF4H5D",
    "outputId": "3bf67c3e-9a9b-4694-cfb6-ae43a03a34f9"
   },
   "outputs": [
    {
     "data": {
      "text/plain": [
       "2006"
      ]
     },
     "execution_count": 10,
     "metadata": {},
     "output_type": "execute_result"
    }
   ],
   "source": [
    "len(x)"
   ]
  },
  {
   "cell_type": "code",
   "execution_count": null,
   "metadata": {
    "colab": {
     "base_uri": "https://localhost:8080/"
    },
    "executionInfo": {
     "elapsed": 283,
     "status": "ok",
     "timestamp": 1641121087917,
     "user": {
      "displayName": "pardies moradbeikie",
      "photoUrl": "https://lh3.googleusercontent.com/a-/AOh14GhmePn8H7A6nZGOAKuB4zJrDgErTqLsYg_HJSCJCQ=s64",
      "userId": "00275872828076153916"
     },
     "user_tz": -210
    },
    "id": "zcRiEYCAlMSV",
    "outputId": "ac72691d-ef30-4e30-92bb-a958c0fced40"
   },
   "outputs": [
    {
     "data": {
      "text/plain": [
       "2011"
      ]
     },
     "execution_count": 11,
     "metadata": {},
     "output_type": "execute_result"
    }
   ],
   "source": [
    "len(dataset)"
   ]
  },
  {
   "cell_type": "code",
   "execution_count": null,
   "metadata": {
    "id": "G1z12GTxmKzh"
   },
   "outputs": [],
   "source": [
    "x,y = np.array(x),np.array(y)"
   ]
  },
  {
   "cell_type": "code",
   "execution_count": null,
   "metadata": {
    "id": "xLPrVZUimMg_"
   },
   "outputs": [],
   "source": [
    "from sklearn.model_selection import train_test_split\n",
    "x_train, x_test, y_train, y_test = train_test_split(x, y, test_size = 0.03,shuffle=False)"
   ]
  },
  {
   "cell_type": "code",
   "execution_count": 9,
   "metadata": {
    "executionInfo": {
     "elapsed": 343,
     "status": "ok",
     "timestamp": 1641558333460,
     "user": {
      "displayName": "pardies moradbeikie",
      "photoUrl": "https://lh3.googleusercontent.com/a-/AOh14GhmePn8H7A6nZGOAKuB4zJrDgErTqLsYg_HJSCJCQ=s64",
      "userId": "00275872828076153916"
     },
     "user_tz": -210
    },
    "id": "Xj4fmPCE5Jcb"
   },
   "outputs": [],
   "source": [
    "from keras.models import Sequential\n",
    "from keras.layers import Dense\n",
    "import keras.backend as K\n",
    "from keras.callbacks import EarlyStopping\n",
    "from tensorflow.keras.optimizers import Adam\n",
    "from keras.models import load_model\n",
    "import numpy as np \n",
    "import pandas as pd \n",
    "import matplotlib.pyplot as plt \n",
    "from sklearn.preprocessing import MinMaxScaler\n",
    "from tensorflow.keras.models import Sequential\n",
    "from tensorflow.keras.layers import Dense,LSTM,Dropout\n",
    "import tensorflow as tf"
   ]
  },
  {
   "cell_type": "code",
   "execution_count": null,
   "metadata": {
    "id": "byHqFBZhzF5G"
   },
   "outputs": [],
   "source": [
    "model = Sequential()\n",
    "model.add(LSTM(32, return_sequences=True))\n",
    "#model.add(Dropout(0.13))\n",
    "model.add(LSTM(units=16, return_sequences=False))\n",
    "#model.add(Dropout(0.01))\n",
    "model.add(Dense(1))\n",
    "model.compile(optimizer='adam',loss=\"mean_squared_error\")"
   ]
  },
  {
   "cell_type": "code",
   "execution_count": null,
   "metadata": {
    "colab": {
     "base_uri": "https://localhost:8080/"
    },
    "executionInfo": {
     "elapsed": 227896,
     "status": "ok",
     "timestamp": 1641122315193,
     "user": {
      "displayName": "pardies moradbeikie",
      "photoUrl": "https://lh3.googleusercontent.com/a-/AOh14GhmePn8H7A6nZGOAKuB4zJrDgErTqLsYg_HJSCJCQ=s64",
      "userId": "00275872828076153916"
     },
     "user_tz": -210
    },
    "id": "pXjjiR9H5Y3L",
    "outputId": "f4b1e2ac-0bf5-42ae-f214-d5289b4aa19c"
   },
   "outputs": [
    {
     "name": "stdout",
     "output_type": "stream",
     "text": [
      "Epoch 1/20\n",
      "1945/1945 [==============================] - 22s 6ms/step - loss: 0.0102\n",
      "Epoch 2/20\n",
      "1945/1945 [==============================] - 11s 5ms/step - loss: 2.1507e-04\n",
      "Epoch 3/20\n",
      "1945/1945 [==============================] - 11s 5ms/step - loss: 2.3649e-04\n",
      "Epoch 4/20\n",
      "1945/1945 [==============================] - 11s 6ms/step - loss: 2.5453e-04\n",
      "Epoch 5/20\n",
      "1945/1945 [==============================] - 11s 6ms/step - loss: 2.5647e-04\n",
      "Epoch 6/20\n",
      "1945/1945 [==============================] - 11s 6ms/step - loss: 2.6513e-04\n",
      "Epoch 7/20\n",
      "1945/1945 [==============================] - 11s 6ms/step - loss: 2.7275e-04\n",
      "Epoch 8/20\n",
      "1945/1945 [==============================] - 11s 5ms/step - loss: 2.7748e-04\n",
      "Epoch 9/20\n",
      "1945/1945 [==============================] - 11s 6ms/step - loss: 2.8168e-04\n",
      "Epoch 10/20\n",
      "1945/1945 [==============================] - 12s 6ms/step - loss: 2.8590e-04\n",
      "Epoch 11/20\n",
      "1945/1945 [==============================] - 11s 5ms/step - loss: 2.8773e-04\n",
      "Epoch 12/20\n",
      "1945/1945 [==============================] - 11s 6ms/step - loss: 2.9204e-04\n",
      "Epoch 13/20\n",
      "1945/1945 [==============================] - 11s 5ms/step - loss: 2.9388e-04\n",
      "Epoch 14/20\n",
      "1945/1945 [==============================] - 11s 6ms/step - loss: 2.9661e-04\n",
      "Epoch 15/20\n",
      "1945/1945 [==============================] - 11s 5ms/step - loss: 2.9918e-04\n",
      "Epoch 16/20\n",
      "1945/1945 [==============================] - 11s 5ms/step - loss: 3.0066e-04\n",
      "Epoch 17/20\n",
      "1945/1945 [==============================] - 11s 6ms/step - loss: 3.0223e-04\n",
      "Epoch 18/20\n",
      "1945/1945 [==============================] - 11s 5ms/step - loss: 3.0345e-04\n",
      "Epoch 19/20\n",
      "1945/1945 [==============================] - 11s 6ms/step - loss: 3.0452e-04\n",
      "Epoch 20/20\n",
      "1945/1945 [==============================] - 12s 6ms/step - loss: 3.0551e-04\n"
     ]
    }
   ],
   "source": [
    "history = model.fit(x_train, y_train, epochs=20, batch_size=1, verbose=1, shuffle=False)"
   ]
  },
  {
   "cell_type": "code",
   "execution_count": null,
   "metadata": {
    "colab": {
     "base_uri": "https://localhost:8080/"
    },
    "executionInfo": {
     "elapsed": 1903,
     "status": "ok",
     "timestamp": 1641122323394,
     "user": {
      "displayName": "pardies moradbeikie",
      "photoUrl": "https://lh3.googleusercontent.com/a-/AOh14GhmePn8H7A6nZGOAKuB4zJrDgErTqLsYg_HJSCJCQ=s64",
      "userId": "00275872828076153916"
     },
     "user_tz": -210
    },
    "id": "nttbDzuK6NVZ",
    "outputId": "4207fc8a-fd5a-4534-da21-4a85e5e26838"
   },
   "outputs": [
    {
     "name": "stdout",
     "output_type": "stream",
     "text": [
      "WARNING:tensorflow:5 out of the last 11 calls to <function Model.make_predict_function.<locals>.predict_function at 0x7f5e9732ab90> triggered tf.function retracing. Tracing is expensive and the excessive number of tracings could be due to (1) creating @tf.function repeatedly in a loop, (2) passing tensors with different shapes, (3) passing Python objects instead of tensors. For (1), please define your @tf.function outside of the loop. For (2), @tf.function has experimental_relax_shapes=True option that relaxes argument shapes that can avoid unnecessary retracing. For (3), please refer to https://www.tensorflow.org/guide/function#controlling_retracing and https://www.tensorflow.org/api_docs/python/tf/function for  more details.\n",
      "RMSE: 0.007\n",
      "MAE: 0.006\n",
      "R^2: -0.056\n"
     ]
    }
   ],
   "source": [
    "from sklearn.metrics import mean_squared_error, mean_absolute_error, r2_score\n",
    "\n",
    "predictions_lstm = model.predict(x_test)\n",
    "\n",
    "#evaluating the predictions\n",
    "print('RMSE: {0:.3f}'.format(mean_squared_error(y_test, predictions_lstm)**0.5))\n",
    "print('MAE: {0:.3f}'.format(mean_absolute_error(y_test, predictions_lstm)))\n",
    "print('R^2: {0:.3f}'.format(r2_score(y_test, predictions_lstm)))"
   ]
  },
  {
   "cell_type": "code",
   "execution_count": null,
   "metadata": {
    "id": "7PeBSjNs7eBf"
   },
   "outputs": [],
   "source": [
    "#print(\"test\", y_test)\n"
   ]
  },
  {
   "cell_type": "code",
   "execution_count": null,
   "metadata": {
    "id": "EWo_YItDc3-w"
   },
   "outputs": [],
   "source": [
    "#print(\"predicted\", predictions_lstm)"
   ]
  },
  {
   "cell_type": "code",
   "execution_count": null,
   "metadata": {
    "colab": {
     "base_uri": "https://localhost:8080/",
     "height": 295
    },
    "executionInfo": {
     "elapsed": 551,
     "status": "ok",
     "timestamp": 1641122331262,
     "user": {
      "displayName": "pardies moradbeikie",
      "photoUrl": "https://lh3.googleusercontent.com/a-/AOh14GhmePn8H7A6nZGOAKuB4zJrDgErTqLsYg_HJSCJCQ=s64",
      "userId": "00275872828076153916"
     },
     "user_tz": -210
    },
    "id": "tDvhPWTdc6jX",
    "outputId": "01511d67-fdeb-43ec-bcab-953c15bf81cb"
   },
   "outputs": [
    {
     "data": {
      "image/png": "[encoded data removed]",
      "text/plain": [
       "<Figure size 432x288 with 1 Axes>"
      ]
     },
     "metadata": {
      "needs_background": "light"
     },
     "output_type": "display_data"
    }
   ],
   "source": [
    "plt.plot(y_test, label='True')\n",
    "plt.plot(predictions_lstm, label='ANN')\n",
    "plt.title(\"ANN's_Prediction\")\n",
    "plt.xlabel('Observation')\n",
    "plt.ylabel('euro_usd_scaled')\n",
    "plt.legend()\n",
    "plt.show()"
   ]
  },
  {
   "cell_type": "code",
   "execution_count": null,
   "metadata": {
    "colab": {
     "base_uri": "https://localhost:8080/"
    },
    "executionInfo": {
     "elapsed": 712,
     "status": "ok",
     "timestamp": 1641122428501,
     "user": {
      "displayName": "pardies moradbeikie",
      "photoUrl": "https://lh3.googleusercontent.com/a-/AOh14GhmePn8H7A6nZGOAKuB4zJrDgErTqLsYg_HJSCJCQ=s64",
      "userId": "00275872828076153916"
     },
     "user_tz": -210
    },
    "id": "gsSdL3nVeaiq",
    "outputId": "6efb1626-d186-4d58-9992-6abba57919d6"
   },
   "outputs": [
    {
     "name": "stdout",
     "output_type": "stream",
     "text": [
      "RMSE: 0.081\n",
      "MAE: 0.064\n",
      "R^2: -0.023\n"
     ]
    }
   ],
   "source": [
    "from sklearn.metrics import mean_squared_error, mean_absolute_error, r2_score\n",
    "\n",
    "predictions_lstm = model.predict(x_train)\n",
    "\n",
    "#evaluating the predictions\n",
    "print('RMSE: {0:.3f}'.format(mean_squared_error(y_train, predictions_lstm)**0.5))\n",
    "print('MAE: {0:.3f}'.format(mean_absolute_error(y_train, predictions_lstm)))\n",
    "print('R^2: {0:.3f}'.format(r2_score(y_train, predictions_lstm)))"
   ]
  },
  {
   "cell_type": "code",
   "execution_count": null,
   "metadata": {
    "colab": {
     "base_uri": "https://localhost:8080/",
     "height": 295
    },
    "executionInfo": {
     "elapsed": 782,
     "status": "ok",
     "timestamp": 1641122444726,
     "user": {
      "displayName": "pardies moradbeikie",
      "photoUrl": "https://lh3.googleusercontent.com/a-/AOh14GhmePn8H7A6nZGOAKuB4zJrDgErTqLsYg_HJSCJCQ=s64",
      "userId": "00275872828076153916"
     },
     "user_tz": -210
    },
    "id": "-xoq2UPAhPDI",
    "outputId": "954474cc-be9c-47ae-cf78-eb2de5777bc0"
   },
   "outputs": [
    {
     "data": {
      "image/png": "[encoded data removed]",
      "text/plain": [
       "<Figure size 432x288 with 1 Axes>"
      ]
     },
     "metadata": {
      "needs_background": "light"
     },
     "output_type": "display_data"
    }
   ],
   "source": [
    "plt.plot(y_train, label='True')\n",
    "plt.plot(predictions_lstm, label='ANN')\n",
    "plt.title(\"ANN's_Prediction\")\n",
    "plt.xlabel('Observation')\n",
    "plt.ylabel('euro_usd_scaled')\n",
    "plt.legend()\n",
    "plt.show()"
   ]
  },
  {
   "cell_type": "code",
   "execution_count": 10,
   "metadata": {
    "executionInfo": {
     "elapsed": 353,
     "status": "ok",
     "timestamp": 1641558342186,
     "user": {
      "displayName": "pardies moradbeikie",
      "photoUrl": "https://lh3.googleusercontent.com/a-/AOh14GhmePn8H7A6nZGOAKuB4zJrDgErTqLsYg_HJSCJCQ=s64",
      "userId": "00275872828076153916"
     },
     "user_tz": -210
    },
    "id": "ZEMIrz9JmZJV"
   },
   "outputs": [],
   "source": [
    "#ignoring warnings\n",
    "import warnings\n",
    "warnings.simplefilter('ignore')\n",
    "\n",
    "#importing neccesary modules\n",
    "import sys\n",
    "import pandas as pd\n",
    "import numpy as np\n",
    "import matplotlib\n",
    "import matplotlib.pyplot as plt\n",
    "plt.style.use('seaborn-whitegrid')\n",
    "import seaborn as sns\n",
    "\n",
    "import sklearn\n",
    "from sklearn.linear_model import LinearRegression, SGDRegressor\n",
    "from sklearn.svm import SVR\n",
    "from sklearn.ensemble import BaggingRegressor, RandomForestRegressor\n",
    "from sklearn.preprocessing import StandardScaler, MinMaxScaler\n",
    "from sklearn.metrics import mean_squared_error, mean_absolute_error, r2_score\n",
    "#from sklearn.externals import joblib\n",
    "from sklearn.model_selection import GridSearchCV, train_test_split\n",
    "\n",
    "import xgboost\n",
    "from xgboost import XGBRegressor, DMatrix"
   ]
  },
  {
   "cell_type": "code",
   "execution_count": 130,
   "metadata": {
    "colab": {
     "base_uri": "https://localhost:8080/",
     "height": 423
    },
    "executionInfo": {
     "elapsed": 350,
     "status": "ok",
     "timestamp": 1641568840276,
     "user": {
      "displayName": "pardies moradbeikie",
      "photoUrl": "https://lh3.googleusercontent.com/a-/AOh14GhmePn8H7A6nZGOAKuB4zJrDgErTqLsYg_HJSCJCQ=s64",
      "userId": "00275872828076153916"
     },
     "user_tz": -210
    },
    "id": "SCnCmrkehTBL",
    "outputId": "e0a5d923-f1b9-482a-d538-7ba443e620ee"
   },
   "outputs": [
    {
     "data": {
      "text/html": [
       "\n",
       "  <div id=\"df-271e617c-2efd-4604-aa14-b2ecc9b34510\">\n",
       "    <div class=\"colab-df-container\">\n",
       "      <div>\n",
       "<style scoped>\n",
       "    .dataframe tbody tr th:only-of-type {\n",
       "        vertical-align: middle;\n",
       "    }\n",
       "\n",
       "    .dataframe tbody tr th {\n",
       "        vertical-align: top;\n",
       "    }\n",
       "\n",
       "    .dataframe thead th {\n",
       "        text-align: right;\n",
       "    }\n",
       "</style>\n",
       "<table border=\"1\" class=\"dataframe\">\n",
       "  <thead>\n",
       "    <tr style=\"text-align: right;\">\n",
       "      <th></th>\n",
       "      <th>OPEN</th>\n",
       "      <th>HIGH</th>\n",
       "      <th>LOW</th>\n",
       "      <th>CLOSE</th>\n",
       "    </tr>\n",
       "  </thead>\n",
       "  <tbody>\n",
       "    <tr>\n",
       "      <th>0</th>\n",
       "      <td>1.37550</td>\n",
       "      <td>1.37648</td>\n",
       "      <td>1.37372</td>\n",
       "      <td>1.37580</td>\n",
       "    </tr>\n",
       "    <tr>\n",
       "      <th>1</th>\n",
       "      <td>1.37581</td>\n",
       "      <td>1.37749</td>\n",
       "      <td>1.36294</td>\n",
       "      <td>1.36643</td>\n",
       "    </tr>\n",
       "    <tr>\n",
       "      <th>2</th>\n",
       "      <td>1.36643</td>\n",
       "      <td>1.36716</td>\n",
       "      <td>1.35821</td>\n",
       "      <td>1.35874</td>\n",
       "    </tr>\n",
       "    <tr>\n",
       "      <th>3</th>\n",
       "      <td>1.35955</td>\n",
       "      <td>1.36528</td>\n",
       "      <td>1.35712</td>\n",
       "      <td>1.36334</td>\n",
       "    </tr>\n",
       "    <tr>\n",
       "      <th>4</th>\n",
       "      <td>1.36334</td>\n",
       "      <td>1.36562</td>\n",
       "      <td>1.35966</td>\n",
       "      <td>1.36138</td>\n",
       "    </tr>\n",
       "    <tr>\n",
       "      <th>...</th>\n",
       "      <td>...</td>\n",
       "      <td>...</td>\n",
       "      <td>...</td>\n",
       "      <td>...</td>\n",
       "    </tr>\n",
       "    <tr>\n",
       "      <th>2006</th>\n",
       "      <td>1.17255</td>\n",
       "      <td>1.17255</td>\n",
       "      <td>1.16848</td>\n",
       "      <td>1.16952</td>\n",
       "    </tr>\n",
       "    <tr>\n",
       "      <th>2007</th>\n",
       "      <td>1.16940</td>\n",
       "      <td>1.17032</td>\n",
       "      <td>1.16682</td>\n",
       "      <td>1.16826</td>\n",
       "    </tr>\n",
       "    <tr>\n",
       "      <th>2008</th>\n",
       "      <td>1.16825</td>\n",
       "      <td>1.16901</td>\n",
       "      <td>1.15894</td>\n",
       "      <td>1.15969</td>\n",
       "    </tr>\n",
       "    <tr>\n",
       "      <th>2009</th>\n",
       "      <td>1.15963</td>\n",
       "      <td>1.16097</td>\n",
       "      <td>1.15626</td>\n",
       "      <td>1.15769</td>\n",
       "    </tr>\n",
       "    <tr>\n",
       "      <th>2010</th>\n",
       "      <td>1.15740</td>\n",
       "      <td>1.16075</td>\n",
       "      <td>1.15630</td>\n",
       "      <td>1.15927</td>\n",
       "    </tr>\n",
       "  </tbody>\n",
       "</table>\n",
       "<p>2011 rows × 4 columns</p>\n",
       "</div>\n",
       "      <button class=\"colab-df-convert\" onclick=\"convertToInteractive('df-271e617c-2efd-4604-aa14-b2ecc9b34510')\"\n",
       "              title=\"Convert this dataframe to an interactive table.\"\n",
       "              style=\"display:none;\">\n",
       "        \n",
       "  <svg xmlns=\"http://www.w3.org/2000/svg\" height=\"24px\"viewBox=\"0 0 24 24\"\n",
       "       width=\"24px\">\n",
       "    <path d=\"M0 0h24v24H0V0z\" fill=\"none\"/>\n",
       "    <path d=\"M18.56 5.44l.94 2.06.94-2.06 2.06-.94-2.06-.94-.94-2.06-.94 2.06-2.06.94zm-11 1L8.5 8.5l.94-2.06 2.06-.94-2.06-.94L8.5 2.5l-.94 2.06-2.06.94zm10 10l.94 2.06.94-2.06 2.06-.94-2.06-.94-.94-2.06-.94 2.06-2.06.94z\"/><path d=\"M17.41 7.96l-1.37-1.37c-.4-.4-.92-.59-1.43-.59-.52 0-1.04.2-1.43.59L10.3 9.45l-7.72 7.72c-.78.78-.78 2.05 0 2.83L4 21.41c.39.39.9.59 1.41.59.51 0 1.02-.2 1.41-.59l7.78-7.78 2.81-2.81c.8-.78.8-2.07 0-2.86zM5.41 20L4 18.59l7.72-7.72 1.47 1.35L5.41 20z\"/>\n",
       "  </svg>\n",
       "      </button>\n",
       "      \n",
       "  <style>\n",
       "    .colab-df-container {\n",
       "      display:flex;\n",
       "      flex-wrap:wrap;\n",
       "      gap: 12px;\n",
       "    }\n",
       "\n",
       "    .colab-df-convert {\n",
       "      background-color: #E8F0FE;\n",
       "      border: none;\n",
       "      border-radius: 50%;\n",
       "      cursor: pointer;\n",
       "      display: none;\n",
       "      fill: #1967D2;\n",
       "      height: 32px;\n",
       "      padding: 0 0 0 0;\n",
       "      width: 32px;\n",
       "    }\n",
       "\n",
       "    .colab-df-convert:hover {\n",
       "      background-color: #E2EBFA;\n",
       "      box-shadow: 0px 1px 2px rgba(60, 64, 67, 0.3), 0px 1px 3px 1px rgba(60, 64, 67, 0.15);\n",
       "      fill: #174EA6;\n",
       "    }\n",
       "\n",
       "    [theme=dark] .colab-df-convert {\n",
       "      background-color: #3B4455;\n",
       "      fill: #D2E3FC;\n",
       "    }\n",
       "\n",
       "    [theme=dark] .colab-df-convert:hover {\n",
       "      background-color: #434B5C;\n",
       "      box-shadow: 0px 1px 3px 1px rgba(0, 0, 0, 0.15);\n",
       "      filter: drop-shadow(0px 1px 2px rgba(0, 0, 0, 0.3));\n",
       "      fill: #FFFFFF;\n",
       "    }\n",
       "  </style>\n",
       "\n",
       "      <script>\n",
       "        const buttonEl =\n",
       "          document.querySelector('#df-271e617c-2efd-4604-aa14-b2ecc9b34510 button.colab-df-convert');\n",
       "        buttonEl.style.display =\n",
       "          google.colab.kernel.accessAllowed ? 'block' : 'none';\n",
       "\n",
       "        async function convertToInteractive(key) {\n",
       "          const element = document.querySelector('#df-271e617c-2efd-4604-aa14-b2ecc9b34510');\n",
       "          const dataTable =\n",
       "            await google.colab.kernel.invokeFunction('convertToInteractive',\n",
       "                                                     [key], {});\n",
       "          if (!dataTable) return;\n",
       "\n",
       "          const docLinkHtml = 'Like what you see? Visit the ' +\n",
       "            '<a target=\"_blank\" href=https://colab.research.google.com/notebooks/data_table.ipynb>data table notebook</a>'\n",
       "            + ' to learn more about interactive tables.';\n",
       "          element.innerHTML = '';\n",
       "          dataTable['output_type'] = 'display_data';\n",
       "          await google.colab.output.renderOutput(dataTable, element);\n",
       "          const docLink = document.createElement('div');\n",
       "          docLink.innerHTML = docLinkHtml;\n",
       "          element.appendChild(docLink);\n",
       "        }\n",
       "      </script>\n",
       "    </div>\n",
       "  </div>\n",
       "  "
      ],
      "text/plain": [
       "         OPEN     HIGH      LOW    CLOSE\n",
       "0     1.37550  1.37648  1.37372  1.37580\n",
       "1     1.37581  1.37749  1.36294  1.36643\n",
       "2     1.36643  1.36716  1.35821  1.35874\n",
       "3     1.35955  1.36528  1.35712  1.36334\n",
       "4     1.36334  1.36562  1.35966  1.36138\n",
       "...       ...      ...      ...      ...\n",
       "2006  1.17255  1.17255  1.16848  1.16952\n",
       "2007  1.16940  1.17032  1.16682  1.16826\n",
       "2008  1.16825  1.16901  1.15894  1.15969\n",
       "2009  1.15963  1.16097  1.15626  1.15769\n",
       "2010  1.15740  1.16075  1.15630  1.15927\n",
       "\n",
       "[2011 rows x 4 columns]"
      ]
     },
     "execution_count": 130,
     "metadata": {},
     "output_type": "execute_result"
    }
   ],
   "source": [
    "dataset"
   ]
  },
  {
   "cell_type": "markdown",
   "metadata": {
    "id": "EfjoDlyumPP8"
   },
   "source": [
    "در این جا تاثیر نرمالسازی را تست میکنیم و میبینیم که اگه نرمالسازی شود نیازی به یک شبکه بسیار پیچیده نیست"
   ]
  },
  {
   "cell_type": "markdown",
   "metadata": {},
   "source": [
    "در اینجا سه معیار ارزیابی را تست کردیم "
   ]
  },
  {
   "cell_type": "markdown",
   "metadata": {},
   "source": [
    "RMSE: هر چه کمتر بهتر "
   ]
  },
  {
   "cell_type": "markdown",
   "metadata": {},
   "source": [
    "MAE: هر چه کمتر بهتر "
   ]
  },
  {
   "cell_type": "markdown",
   "metadata": {},
   "source": [
    "R^2: در این فاکتور هر چه به یک نزدیکتر باشد بهتر است"
   ]
  },
  {
   "cell_type": "code",
   "execution_count": null,
   "metadata": {},
   "outputs": [],
   "source": []
  },
  {
   "cell_type": "code",
   "execution_count": null,
   "metadata": {
    "colab": {
     "base_uri": "https://localhost:8080/"
    },
    "executionInfo": {
     "elapsed": 422,
     "status": "ok",
     "timestamp": 1641123973091,
     "user": {
      "displayName": "pardies moradbeikie",
      "photoUrl": "https://lh3.googleusercontent.com/a-/AOh14GhmePn8H7A6nZGOAKuB4zJrDgErTqLsYg_HJSCJCQ=s64",
      "userId": "00275872828076153916"
     },
     "user_tz": -210
    },
    "id": "6-aBDVeIm_OA",
    "outputId": "7de2dfb9-6881-4b18-9275-6b562fa6cc48"
   },
   "outputs": [
    {
     "data": {
      "text/plain": [
       "(2011, 4)"
      ]
     },
     "execution_count": 57,
     "metadata": {},
     "output_type": "execute_result"
    }
   ],
   "source": [
    "sc = MinMaxScaler(feature_range=(0,1))\n",
    "data = sc.fit_transform(dataset)\n",
    "data.shape"
   ]
  },
  {
   "cell_type": "code",
   "execution_count": null,
   "metadata": {
    "colab": {
     "base_uri": "https://localhost:8080/"
    },
    "executionInfo": {
     "elapsed": 303,
     "status": "ok",
     "timestamp": 1641123979890,
     "user": {
      "displayName": "pardies moradbeikie",
      "photoUrl": "https://lh3.googleusercontent.com/a-/AOh14GhmePn8H7A6nZGOAKuB4zJrDgErTqLsYg_HJSCJCQ=s64",
      "userId": "00275872828076153916"
     },
     "user_tz": -210
    },
    "id": "AkmLF4N4nINt",
    "outputId": "46f58688-5670-47de-b2ea-cdb0cfcd3690"
   },
   "outputs": [
    {
     "data": {
      "text/plain": [
       "array([[0.95053302, 0.9361244 , 0.95188016, 0.95135028],\n",
       "       [0.9514073 , 0.93894902, 0.92180875, 0.92490899],\n",
       "       [0.92495347, 0.91005957, 0.90861415, 0.90320851],\n",
       "       ...,\n",
       "       [0.36603869, 0.35590234, 0.35273934, 0.34150746],\n",
       "       [0.34172824, 0.33341723, 0.34526333, 0.33586365],\n",
       "       [0.33543911, 0.33280197, 0.34537492, 0.34032226]])"
      ]
     },
     "execution_count": 58,
     "metadata": {},
     "output_type": "execute_result"
    }
   ],
   "source": [
    "data"
   ]
  },
  {
   "cell_type": "code",
   "execution_count": null,
   "metadata": {
    "id": "ZEV_9DlVnJ6G"
   },
   "outputs": [],
   "source": [
    "x=[]\n",
    "y=[]\n",
    "for i in range (len(data)-5):\n",
    "    x.append(data[i:i+5,])\n",
    "    y.append(data[i+5,3]) "
   ]
  },
  {
   "cell_type": "code",
   "execution_count": null,
   "metadata": {
    "colab": {
     "base_uri": "https://localhost:8080/"
    },
    "executionInfo": {
     "elapsed": 433,
     "status": "ok",
     "timestamp": 1641124105209,
     "user": {
      "displayName": "pardies moradbeikie",
      "photoUrl": "https://lh3.googleusercontent.com/a-/AOh14GhmePn8H7A6nZGOAKuB4zJrDgErTqLsYg_HJSCJCQ=s64",
      "userId": "00275872828076153916"
     },
     "user_tz": -210
    },
    "id": "X7RoGHVOnWNP",
    "outputId": "76130c21-b899-4737-96b4-5fb9b4904958"
   },
   "outputs": [
    {
     "data": {
      "text/plain": [
       "array([[0.95053302, 0.9361244 , 0.95188016, 0.95135028],\n",
       "       [0.9514073 , 0.93894902, 0.92180875, 0.92490899],\n",
       "       [0.92495347, 0.91005957, 0.90861415, 0.90320851],\n",
       "       [0.90555023, 0.90480186, 0.90557353, 0.91618929],\n",
       "       [0.91623893, 0.90575272, 0.912659  , 0.91065835]])"
      ]
     },
     "execution_count": 66,
     "metadata": {},
     "output_type": "execute_result"
    }
   ],
   "source": [
    "x[0]"
   ]
  },
  {
   "cell_type": "code",
   "execution_count": null,
   "metadata": {
    "colab": {
     "base_uri": "https://localhost:8080/"
    },
    "executionInfo": {
     "elapsed": 309,
     "status": "ok",
     "timestamp": 1641124106964,
     "user": {
      "displayName": "pardies moradbeikie",
      "photoUrl": "https://lh3.googleusercontent.com/a-/AOh14GhmePn8H7A6nZGOAKuB4zJrDgErTqLsYg_HJSCJCQ=s64",
      "userId": "00275872828076153916"
     },
     "user_tz": -210
    },
    "id": "8pFOvO1NnX8C",
    "outputId": "e63595c6-728a-4fed-a5dc-40a91e72959a"
   },
   "outputs": [
    {
     "data": {
      "text/plain": [
       "0.8996811242486662"
      ]
     },
     "execution_count": 67,
     "metadata": {},
     "output_type": "execute_result"
    }
   ],
   "source": [
    "y[0]"
   ]
  },
  {
   "cell_type": "code",
   "execution_count": null,
   "metadata": {
    "id": "rgSwQdp3oWBL"
   },
   "outputs": [],
   "source": [
    "x,y = np.array(x),np.array(y)"
   ]
  },
  {
   "cell_type": "code",
   "execution_count": null,
   "metadata": {
    "id": "hvF1k6h7njhV"
   },
   "outputs": [],
   "source": [
    "from sklearn.model_selection import train_test_split\n",
    "x_train, x_test, y_train, y_test = train_test_split(x, y, test_size = 0.2,shuffle=False)"
   ]
  },
  {
   "cell_type": "code",
   "execution_count": null,
   "metadata": {
    "id": "W0R1rWTqn03i"
   },
   "outputs": [],
   "source": [
    "model = Sequential()\n",
    "model.add(LSTM(32, return_sequences=True))\n",
    "#model.add(Dropout(0.13))\n",
    "model.add(LSTM(units=16, return_sequences=False))\n",
    "#model.add(Dropout(0.01))\n",
    "model.add(Dense(1))\n",
    "model.compile(optimizer='adam',loss=\"mean_squared_error\")"
   ]
  },
  {
   "cell_type": "code",
   "execution_count": null,
   "metadata": {
    "id": "smBnj70OoRv_"
   },
   "outputs": [],
   "source": []
  },
  {
   "cell_type": "code",
   "execution_count": null,
   "metadata": {
    "colab": {
     "base_uri": "https://localhost:8080/"
    },
    "executionInfo": {
     "elapsed": 189315,
     "status": "ok",
     "timestamp": 1641124494538,
     "user": {
      "displayName": "pardies moradbeikie",
      "photoUrl": "https://lh3.googleusercontent.com/a-/AOh14GhmePn8H7A6nZGOAKuB4zJrDgErTqLsYg_HJSCJCQ=s64",
      "userId": "00275872828076153916"
     },
     "user_tz": -210
    },
    "id": "LHA5MXgCoAEC",
    "outputId": "b83e51fc-9bc4-4673-cc98-74fdc48949cb"
   },
   "outputs": [
    {
     "name": "stdout",
     "output_type": "stream",
     "text": [
      "Epoch 1/20\n",
      "1604/1604 [==============================] - 13s 6ms/step - loss: 0.0067\n",
      "Epoch 2/20\n",
      "1604/1604 [==============================] - 9s 6ms/step - loss: 0.0017\n",
      "Epoch 3/20\n",
      "1604/1604 [==============================] - 9s 6ms/step - loss: 0.0023\n",
      "Epoch 4/20\n",
      "1604/1604 [==============================] - 9s 6ms/step - loss: 0.0029\n",
      "Epoch 5/20\n",
      "1604/1604 [==============================] - 9s 6ms/step - loss: 0.0035\n",
      "Epoch 6/20\n",
      "1604/1604 [==============================] - 9s 6ms/step - loss: 0.0043\n",
      "Epoch 7/20\n",
      "1604/1604 [==============================] - 9s 6ms/step - loss: 0.0059\n",
      "Epoch 8/20\n",
      "1604/1604 [==============================] - 9s 6ms/step - loss: 0.0052\n",
      "Epoch 9/20\n",
      "1604/1604 [==============================] - 9s 6ms/step - loss: 0.0047\n",
      "Epoch 10/20\n",
      "1604/1604 [==============================] - 10s 6ms/step - loss: 0.0031\n",
      "Epoch 11/20\n",
      "1604/1604 [==============================] - 9s 6ms/step - loss: 0.0025\n",
      "Epoch 12/20\n",
      "1604/1604 [==============================] - 9s 6ms/step - loss: 0.0017\n",
      "Epoch 13/20\n",
      "1604/1604 [==============================] - 9s 6ms/step - loss: 0.0016\n",
      "Epoch 14/20\n",
      "1604/1604 [==============================] - 9s 6ms/step - loss: 0.0013\n",
      "Epoch 15/20\n",
      "1604/1604 [==============================] - 9s 6ms/step - loss: 0.0011\n",
      "Epoch 16/20\n",
      "1604/1604 [==============================] - 9s 6ms/step - loss: 9.9300e-04\n",
      "Epoch 17/20\n",
      "1604/1604 [==============================] - 9s 6ms/step - loss: 8.6776e-04\n",
      "Epoch 18/20\n",
      "1604/1604 [==============================] - 9s 6ms/step - loss: 8.3127e-04\n",
      "Epoch 19/20\n",
      "1604/1604 [==============================] - 9s 6ms/step - loss: 7.7999e-04\n",
      "Epoch 20/20\n",
      "1604/1604 [==============================] - 9s 6ms/step - loss: 7.5079e-04\n"
     ]
    }
   ],
   "source": [
    "history = model.fit(x_train, y_train, epochs=20, batch_size=1, verbose=1, shuffle=False)"
   ]
  },
  {
   "cell_type": "code",
   "execution_count": null,
   "metadata": {
    "colab": {
     "base_uri": "https://localhost:8080/"
    },
    "executionInfo": {
     "elapsed": 3605,
     "status": "ok",
     "timestamp": 1641124542516,
     "user": {
      "displayName": "pardies moradbeikie",
      "photoUrl": "https://lh3.googleusercontent.com/a-/AOh14GhmePn8H7A6nZGOAKuB4zJrDgErTqLsYg_HJSCJCQ=s64",
      "userId": "00275872828076153916"
     },
     "user_tz": -210
    },
    "id": "iUOueh-roGeE",
    "outputId": "f1603770-89fd-4189-8200-3b664f6ac082"
   },
   "outputs": [
    {
     "name": "stdout",
     "output_type": "stream",
     "text": [
      "RMSE: 0.083\n",
      "MAE: 0.075\n",
      "R^2: 0.487\n"
     ]
    }
   ],
   "source": [
    "from sklearn.metrics import mean_squared_error, mean_absolute_error, r2_score\n",
    "\n",
    "predictions_lstm = model.predict(x_test)\n",
    "\n",
    "#evaluating the predictions\n",
    "print('RMSE: {0:.3f}'.format(mean_squared_error(y_test, predictions_lstm)**0.5))\n",
    "print('MAE: {0:.3f}'.format(mean_absolute_error(y_test, predictions_lstm)))\n",
    "print('R^2: {0:.3f}'.format(r2_score(y_test, predictions_lstm)))"
   ]
  },
  {
   "cell_type": "code",
   "execution_count": null,
   "metadata": {
    "colab": {
     "base_uri": "https://localhost:8080/",
     "height": 290
    },
    "executionInfo": {
     "elapsed": 961,
     "status": "ok",
     "timestamp": 1641124663727,
     "user": {
      "displayName": "pardies moradbeikie",
      "photoUrl": "https://lh3.googleusercontent.com/a-/AOh14GhmePn8H7A6nZGOAKuB4zJrDgErTqLsYg_HJSCJCQ=s64",
      "userId": "00275872828076153916"
     },
     "user_tz": -210
    },
    "id": "0sVNIpHSpSbH",
    "outputId": "122e5e72-655c-4e3a-aeae-f12efbc6bb51"
   },
   "outputs": [
    {
     "data": {
      "image/png": "[encoded data removed]",
      "text/plain": [
       "<Figure size 432x288 with 1 Axes>"
      ]
     },
     "metadata": {},
     "output_type": "display_data"
    }
   ],
   "source": [
    "plt.plot(y_test, label='True')\n",
    "plt.plot(predictions_lstm, label='LSTM')\n",
    "plt.title(\"lstm's_Prediction\")\n",
    "plt.xlabel('Observation')\n",
    "plt.ylabel('euro_usd_scaled')\n",
    "plt.legend()\n",
    "plt.show()"
   ]
  },
  {
   "cell_type": "code",
   "execution_count": null,
   "metadata": {
    "id": "pFrG9YAFpYkn"
   },
   "outputs": [],
   "source": [
    "model = Sequential()\n",
    "model.add(LSTM(32, return_sequences=True))\n",
    "model.add(Dropout(0.13))\n",
    "model.add(LSTM(units=16, return_sequences=False))\n",
    "model.add(Dropout(0.01))\n",
    "model.add(Dense(1))\n",
    "model.compile(optimizer='adam',loss=\"mean_squared_error\")"
   ]
  },
  {
   "cell_type": "code",
   "execution_count": null,
   "metadata": {
    "colab": {
     "base_uri": "https://localhost:8080/"
    },
    "executionInfo": {
     "elapsed": 207604,
     "status": "ok",
     "timestamp": 1641125332316,
     "user": {
      "displayName": "pardies moradbeikie",
      "photoUrl": "https://lh3.googleusercontent.com/a-/AOh14GhmePn8H7A6nZGOAKuB4zJrDgErTqLsYg_HJSCJCQ=s64",
      "userId": "00275872828076153916"
     },
     "user_tz": -210
    },
    "id": "JZ77htDereP6",
    "outputId": "67a71b19-0644-4d25-cff2-ccb6b12246ae"
   },
   "outputs": [
    {
     "name": "stdout",
     "output_type": "stream",
     "text": [
      "Epoch 1/20\n",
      "1604/1604 [==============================] - 17s 6ms/step - loss: 0.0047\n",
      "Epoch 2/20\n",
      "1604/1604 [==============================] - 10s 6ms/step - loss: 0.0021\n",
      "Epoch 3/20\n",
      "1604/1604 [==============================] - 10s 6ms/step - loss: 0.0028\n",
      "Epoch 4/20\n",
      "1604/1604 [==============================] - 10s 6ms/step - loss: 0.0034\n",
      "Epoch 5/20\n",
      "1604/1604 [==============================] - 10s 6ms/step - loss: 0.0036\n",
      "Epoch 6/20\n",
      "1604/1604 [==============================] - 10s 6ms/step - loss: 0.0036\n",
      "Epoch 7/20\n",
      "1604/1604 [==============================] - 10s 6ms/step - loss: 0.0028\n",
      "Epoch 8/20\n",
      "1604/1604 [==============================] - 10s 6ms/step - loss: 0.0028\n",
      "Epoch 9/20\n",
      "1604/1604 [==============================] - 10s 6ms/step - loss: 0.0024\n",
      "Epoch 10/20\n",
      "1604/1604 [==============================] - 12s 7ms/step - loss: 0.0018\n",
      "Epoch 11/20\n",
      "1604/1604 [==============================] - 10s 6ms/step - loss: 0.0026\n",
      "Epoch 12/20\n",
      "1604/1604 [==============================] - 10s 6ms/step - loss: 0.0014\n",
      "Epoch 13/20\n",
      "1604/1604 [==============================] - 10s 6ms/step - loss: 0.0022\n",
      "Epoch 14/20\n",
      "1604/1604 [==============================] - 10s 6ms/step - loss: 0.0013\n",
      "Epoch 15/20\n",
      "1604/1604 [==============================] - 10s 6ms/step - loss: 0.0019\n",
      "Epoch 16/20\n",
      "1604/1604 [==============================] - 10s 6ms/step - loss: 9.3357e-04\n",
      "Epoch 17/20\n",
      "1604/1604 [==============================] - 10s 6ms/step - loss: 0.0013\n",
      "Epoch 18/20\n",
      "1604/1604 [==============================] - 10s 6ms/step - loss: 9.0764e-04\n",
      "Epoch 19/20\n",
      "1604/1604 [==============================] - 10s 6ms/step - loss: 0.0012\n",
      "Epoch 20/20\n",
      "1604/1604 [==============================] - 10s 6ms/step - loss: 8.8621e-04\n"
     ]
    }
   ],
   "source": [
    "history = model.fit(x_train, y_train, epochs=20, batch_size=1, verbose=1, shuffle=False)"
   ]
  },
  {
   "cell_type": "code",
   "execution_count": null,
   "metadata": {
    "colab": {
     "base_uri": "https://localhost:8080/"
    },
    "executionInfo": {
     "elapsed": 3482,
     "status": "ok",
     "timestamp": 1641125356083,
     "user": {
      "displayName": "pardies moradbeikie",
      "photoUrl": "https://lh3.googleusercontent.com/a-/AOh14GhmePn8H7A6nZGOAKuB4zJrDgErTqLsYg_HJSCJCQ=s64",
      "userId": "00275872828076153916"
     },
     "user_tz": -210
    },
    "id": "C1Is6Nh_rhdz",
    "outputId": "7283a501-29e0-4822-b4c6-fd12e2b3c243"
   },
   "outputs": [
    {
     "name": "stdout",
     "output_type": "stream",
     "text": [
      "RMSE: 0.084\n",
      "MAE: 0.077\n",
      "R^2: 0.465\n"
     ]
    }
   ],
   "source": [
    "from sklearn.metrics import mean_squared_error, mean_absolute_error, r2_score\n",
    "\n",
    "predictions_lstm = model.predict(x_test)\n",
    "\n",
    "#evaluating the predictions\n",
    "print('RMSE: {0:.3f}'.format(mean_squared_error(y_test, predictions_lstm)**0.5))\n",
    "print('MAE: {0:.3f}'.format(mean_absolute_error(y_test, predictions_lstm)))\n",
    "print('R^2: {0:.3f}'.format(r2_score(y_test, predictions_lstm)))"
   ]
  },
  {
   "cell_type": "code",
   "execution_count": null,
   "metadata": {
    "colab": {
     "base_uri": "https://localhost:8080/",
     "height": 290
    },
    "executionInfo": {
     "elapsed": 1008,
     "status": "ok",
     "timestamp": 1641125373411,
     "user": {
      "displayName": "pardies moradbeikie",
      "photoUrl": "https://lh3.googleusercontent.com/a-/AOh14GhmePn8H7A6nZGOAKuB4zJrDgErTqLsYg_HJSCJCQ=s64",
      "userId": "00275872828076153916"
     },
     "user_tz": -210
    },
    "id": "qRc0xKitsZGR",
    "outputId": "d54429b5-3452-4e03-f8f2-e85c0ef3fc8a"
   },
   "outputs": [
    {
     "data": {
      "image/png": "[encoded data removed]",
      "text/plain": [
       "<Figure size 432x288 with 1 Axes>"
      ]
     },
     "metadata": {},
     "output_type": "display_data"
    }
   ],
   "source": [
    "plt.plot(y_test, label='True')\n",
    "plt.plot(predictions_lstm, label='LSTM')\n",
    "plt.title(\"lstm's_Prediction\")\n",
    "plt.xlabel('Observation')\n",
    "plt.ylabel('euro_usd_scaled')\n",
    "plt.legend()\n",
    "plt.show()"
   ]
  },
  {
   "cell_type": "code",
   "execution_count": null,
   "metadata": {
    "id": "HfFvu9aPsd8l"
   },
   "outputs": [],
   "source": [
    "model = Sequential()\n",
    "model.add(LSTM(1024, return_sequences=True))\n",
    "#model.add(Dropout(0.13))\n",
    "model.add(LSTM(units=512, return_sequences=False))\n",
    "#model.add(Dropout(0.01))\n",
    "model.add(Dense(1))\n",
    "model.compile(optimizer='adam',loss=\"mean_squared_error\")"
   ]
  },
  {
   "cell_type": "code",
   "execution_count": null,
   "metadata": {
    "colab": {
     "base_uri": "https://localhost:8080/"
    },
    "executionInfo": {
     "elapsed": 448859,
     "status": "ok",
     "timestamp": 1641125909023,
     "user": {
      "displayName": "pardies moradbeikie",
      "photoUrl": "https://lh3.googleusercontent.com/a-/AOh14GhmePn8H7A6nZGOAKuB4zJrDgErTqLsYg_HJSCJCQ=s64",
      "userId": "00275872828076153916"
     },
     "user_tz": -210
    },
    "id": "J9mKeY-uspAr",
    "outputId": "f2f6caf0-4603-45fe-8c18-0932ac222daf"
   },
   "outputs": [
    {
     "name": "stdout",
     "output_type": "stream",
     "text": [
      "Epoch 1/20\n",
      "1604/1604 [==============================] - 29s 14ms/step - loss: 0.0027\n",
      "Epoch 2/20\n",
      "1604/1604 [==============================] - 22s 13ms/step - loss: 0.0022\n",
      "Epoch 3/20\n",
      "1604/1604 [==============================] - 24s 15ms/step - loss: 0.0030\n",
      "Epoch 4/20\n",
      "1604/1604 [==============================] - 23s 14ms/step - loss: 0.0052\n",
      "Epoch 5/20\n",
      "1604/1604 [==============================] - 22s 13ms/step - loss: 0.0045\n",
      "Epoch 6/20\n",
      "1604/1604 [==============================] - 22s 13ms/step - loss: 0.0023\n",
      "Epoch 7/20\n",
      "1604/1604 [==============================] - 22s 13ms/step - loss: 0.0040\n",
      "Epoch 8/20\n",
      "1604/1604 [==============================] - 21s 13ms/step - loss: 0.0047\n",
      "Epoch 9/20\n",
      "1604/1604 [==============================] - 22s 13ms/step - loss: 0.0056\n",
      "Epoch 10/20\n",
      "1604/1604 [==============================] - 22s 14ms/step - loss: 0.0059\n",
      "Epoch 11/20\n",
      "1604/1604 [==============================] - 22s 14ms/step - loss: 0.0055\n",
      "Epoch 12/20\n",
      "1604/1604 [==============================] - 21s 13ms/step - loss: 0.0040\n",
      "Epoch 13/20\n",
      "1604/1604 [==============================] - 22s 13ms/step - loss: 0.0039\n",
      "Epoch 14/20\n",
      "1604/1604 [==============================] - 22s 13ms/step - loss: 0.0039\n",
      "Epoch 15/20\n",
      "1604/1604 [==============================] - 22s 13ms/step - loss: 0.0040\n",
      "Epoch 16/20\n",
      "1604/1604 [==============================] - 22s 13ms/step - loss: 0.0040\n",
      "Epoch 17/20\n",
      "1604/1604 [==============================] - 22s 13ms/step - loss: 0.0040\n",
      "Epoch 18/20\n",
      "1604/1604 [==============================] - 22s 14ms/step - loss: 0.0040\n",
      "Epoch 19/20\n",
      "1604/1604 [==============================] - 22s 13ms/step - loss: 0.0040\n",
      "Epoch 20/20\n",
      "1604/1604 [==============================] - 21s 13ms/step - loss: 0.0040\n"
     ]
    }
   ],
   "source": [
    "history = model.fit(x_train, y_train, epochs=20, batch_size=1, shuffle=False)"
   ]
  },
  {
   "cell_type": "code",
   "execution_count": null,
   "metadata": {
    "colab": {
     "base_uri": "https://localhost:8080/"
    },
    "executionInfo": {
     "elapsed": 2018,
     "status": "ok",
     "timestamp": 1641125978267,
     "user": {
      "displayName": "pardies moradbeikie",
      "photoUrl": "https://lh3.googleusercontent.com/a-/AOh14GhmePn8H7A6nZGOAKuB4zJrDgErTqLsYg_HJSCJCQ=s64",
      "userId": "00275872828076153916"
     },
     "user_tz": -210
    },
    "id": "d6qS2fzzstFX",
    "outputId": "bd4c9ed9-f1d2-40cf-87b7-6a5bb24fc45b"
   },
   "outputs": [
    {
     "name": "stdout",
     "output_type": "stream",
     "text": [
      "RMSE: 0.207\n",
      "MAE: 0.189\n",
      "R^2: -2.229\n"
     ]
    }
   ],
   "source": [
    "from sklearn.metrics import mean_squared_error, mean_absolute_error, r2_score\n",
    "\n",
    "predictions_lstm = model.predict(x_test)\n",
    "\n",
    "#evaluating the predictions\n",
    "print('RMSE: {0:.3f}'.format(mean_squared_error(y_test, predictions_lstm)**0.5))\n",
    "print('MAE: {0:.3f}'.format(mean_absolute_error(y_test, predictions_lstm)))\n",
    "print('R^2: {0:.3f}'.format(r2_score(y_test, predictions_lstm)))"
   ]
  },
  {
   "cell_type": "code",
   "execution_count": null,
   "metadata": {
    "colab": {
     "base_uri": "https://localhost:8080/",
     "height": 290
    },
    "executionInfo": {
     "elapsed": 723,
     "status": "ok",
     "timestamp": 1641125978982,
     "user": {
      "displayName": "pardies moradbeikie",
      "photoUrl": "https://lh3.googleusercontent.com/a-/AOh14GhmePn8H7A6nZGOAKuB4zJrDgErTqLsYg_HJSCJCQ=s64",
      "userId": "00275872828076153916"
     },
     "user_tz": -210
    },
    "id": "Zm_PzUE5tAOC",
    "outputId": "3b064e0d-b470-4c43-acc1-746d04b22f6f"
   },
   "outputs": [
    {
     "data": {
      "image/png": "[encoded data removed]",
      "text/plain": [
       "<Figure size 432x288 with 1 Axes>"
      ]
     },
     "metadata": {},
     "output_type": "display_data"
    }
   ],
   "source": [
    "plt.plot(y_test, label='True')\n",
    "plt.plot(predictions_lstm, label='LSTM')\n",
    "plt.title(\"lstm's_Prediction\")\n",
    "plt.xlabel('Observation')\n",
    "plt.ylabel('euro_usd_scaled')\n",
    "plt.legend()\n",
    "plt.show()"
   ]
  },
  {
   "cell_type": "code",
   "execution_count": null,
   "metadata": {
    "id": "QR8qljj7vKU4"
   },
   "outputs": [],
   "source": []
  },
  {
   "cell_type": "code",
   "execution_count": null,
   "metadata": {
    "id": "vkSE_-Hlux22"
   },
   "outputs": [],
   "source": [
    "model = Sequential()\n",
    "model.add(LSTM(8, return_sequences=True))\n",
    "#model.add(Dropout(0.13))\n",
    "model.add(LSTM(units=4, return_sequences=False))\n",
    "#model.add(Dropout(0.01))\n",
    "model.add(Dense(1))\n",
    "model.compile(optimizer='adam',loss=\"mean_squared_error\")"
   ]
  },
  {
   "cell_type": "code",
   "execution_count": null,
   "metadata": {
    "colab": {
     "base_uri": "https://localhost:8080/"
    },
    "executionInfo": {
     "elapsed": 211093,
     "status": "ok",
     "timestamp": 1641126253830,
     "user": {
      "displayName": "pardies moradbeikie",
      "photoUrl": "https://lh3.googleusercontent.com/a-/AOh14GhmePn8H7A6nZGOAKuB4zJrDgErTqLsYg_HJSCJCQ=s64",
      "userId": "00275872828076153916"
     },
     "user_tz": -210
    },
    "id": "Jtwe4c_0u9H_",
    "outputId": "52723662-65c2-424d-c1a6-afd5e1c8feff"
   },
   "outputs": [
    {
     "name": "stdout",
     "output_type": "stream",
     "text": [
      "Epoch 1/20\n",
      "1604/1604 [==============================] - 18s 6ms/step - loss: 0.0228\n",
      "Epoch 2/20\n",
      "1604/1604 [==============================] - 12s 7ms/step - loss: 0.0018\n",
      "Epoch 3/20\n",
      "1604/1604 [==============================] - 14s 9ms/step - loss: 0.0017\n",
      "Epoch 4/20\n",
      "1604/1604 [==============================] - 14s 9ms/step - loss: 0.0019\n",
      "Epoch 5/20\n",
      "1604/1604 [==============================] - 10s 6ms/step - loss: 0.0022\n",
      "Epoch 6/20\n",
      "1604/1604 [==============================] - 9s 6ms/step - loss: 0.0026\n",
      "Epoch 7/20\n",
      "1604/1604 [==============================] - 10s 6ms/step - loss: 0.0034\n",
      "Epoch 8/20\n",
      "1604/1604 [==============================] - 10s 6ms/step - loss: 0.0032\n",
      "Epoch 9/20\n",
      "1604/1604 [==============================] - 9s 6ms/step - loss: 0.0031\n",
      "Epoch 10/20\n",
      "1604/1604 [==============================] - 10s 6ms/step - loss: 0.0027\n",
      "Epoch 11/20\n",
      "1604/1604 [==============================] - 10s 6ms/step - loss: 0.0023\n",
      "Epoch 12/20\n",
      "1604/1604 [==============================] - 10s 6ms/step - loss: 0.0020\n",
      "Epoch 13/20\n",
      "1604/1604 [==============================] - 10s 6ms/step - loss: 0.0017\n",
      "Epoch 14/20\n",
      "1604/1604 [==============================] - 9s 6ms/step - loss: 0.0016\n",
      "Epoch 15/20\n",
      "1604/1604 [==============================] - 9s 6ms/step - loss: 0.0013\n",
      "Epoch 16/20\n",
      "1604/1604 [==============================] - 9s 6ms/step - loss: 0.0011\n",
      "Epoch 17/20\n",
      "1604/1604 [==============================] - 10s 6ms/step - loss: 0.0010\n",
      "Epoch 18/20\n",
      "1604/1604 [==============================] - 10s 6ms/step - loss: 9.4050e-04\n",
      "Epoch 19/20\n",
      "1604/1604 [==============================] - 10s 6ms/step - loss: 8.7788e-04\n",
      "Epoch 20/20\n",
      "1604/1604 [==============================] - 9s 6ms/step - loss: 8.5013e-04\n"
     ]
    }
   ],
   "source": [
    "history = model.fit(x_train, y_train, epochs=20, batch_size=1, shuffle=False)"
   ]
  },
  {
   "cell_type": "code",
   "execution_count": null,
   "metadata": {
    "colab": {
     "base_uri": "https://localhost:8080/"
    },
    "executionInfo": {
     "elapsed": 2130,
     "status": "ok",
     "timestamp": 1641126255929,
     "user": {
      "displayName": "pardies moradbeikie",
      "photoUrl": "https://lh3.googleusercontent.com/a-/AOh14GhmePn8H7A6nZGOAKuB4zJrDgErTqLsYg_HJSCJCQ=s64",
      "userId": "00275872828076153916"
     },
     "user_tz": -210
    },
    "id": "FQMIXDDZvBl2",
    "outputId": "a776e7d0-fcbb-407a-bb7f-936f08e2880f"
   },
   "outputs": [
    {
     "name": "stdout",
     "output_type": "stream",
     "text": [
      "RMSE: 0.076\n",
      "MAE: 0.069\n",
      "R^2: 0.568\n"
     ]
    }
   ],
   "source": [
    "from sklearn.metrics import mean_squared_error, mean_absolute_error, r2_score\n",
    "\n",
    "predictions_lstm = model.predict(x_test)\n",
    "\n",
    "#evaluating the predictions\n",
    "print('RMSE: {0:.3f}'.format(mean_squared_error(y_test, predictions_lstm)**0.5))\n",
    "print('MAE: {0:.3f}'.format(mean_absolute_error(y_test, predictions_lstm)))\n",
    "print('R^2: {0:.3f}'.format(r2_score(y_test, predictions_lstm)))"
   ]
  },
  {
   "cell_type": "code",
   "execution_count": null,
   "metadata": {
    "colab": {
     "base_uri": "https://localhost:8080/",
     "height": 290
    },
    "executionInfo": {
     "elapsed": 19,
     "status": "ok",
     "timestamp": 1641126255931,
     "user": {
      "displayName": "pardies moradbeikie",
      "photoUrl": "https://lh3.googleusercontent.com/a-/AOh14GhmePn8H7A6nZGOAKuB4zJrDgErTqLsYg_HJSCJCQ=s64",
      "userId": "00275872828076153916"
     },
     "user_tz": -210
    },
    "id": "DoNW_FEIvLM9",
    "outputId": "d462704f-96c5-43d3-f8d6-acba2b0bd1ae"
   },
   "outputs": [
    {
     "data": {
      "image/png": "[encoded data removed]",
      "text/plain": [
       "<Figure size 432x288 with 1 Axes>"
      ]
     },
     "metadata": {},
     "output_type": "display_data"
    }
   ],
   "source": [
    "plt.plot(y_test, label='True')\n",
    "plt.plot(predictions_lstm, label='LSTM')\n",
    "plt.title(\"lstm's_Prediction\")\n",
    "plt.xlabel('Observation')\n",
    "plt.ylabel('euro_usd_scaled')\n",
    "plt.legend()\n",
    "plt.show()"
   ]
  },
  {
   "cell_type": "code",
   "execution_count": null,
   "metadata": {
    "id": "snlR4XjMvMrq"
   },
   "outputs": [],
   "source": [
    "model = Sequential()\n",
    "model.add(LSTM(8, return_sequences=True))\n",
    "#model.add(Dropout(0.13))\n",
    "model.add(LSTM(units=4, return_sequences=True))\n",
    "#model.add(Dropout(0.01))\n",
    "model.add(LSTM(units=2, return_sequences=False))\n",
    "model.add(Dense(1))\n",
    "model.compile(optimizer='adam',loss=\"mean_squared_error\")"
   ]
  },
  {
   "cell_type": "code",
   "execution_count": null,
   "metadata": {
    "colab": {
     "base_uri": "https://localhost:8080/"
    },
    "executionInfo": {
     "elapsed": 275623,
     "status": "ok",
     "timestamp": 1641126720356,
     "user": {
      "displayName": "pardies moradbeikie",
      "photoUrl": "https://lh3.googleusercontent.com/a-/AOh14GhmePn8H7A6nZGOAKuB4zJrDgErTqLsYg_HJSCJCQ=s64",
      "userId": "00275872828076153916"
     },
     "user_tz": -210
    },
    "id": "SDNsfATjwfud",
    "outputId": "cfaa931c-f9d0-4084-c0e5-073d080d61d2"
   },
   "outputs": [
    {
     "name": "stdout",
     "output_type": "stream",
     "text": [
      "Epoch 1/20\n",
      "1604/1604 [==============================] - 28s 10ms/step - loss: 0.0125\n",
      "Epoch 2/20\n",
      "1604/1604 [==============================] - 15s 10ms/step - loss: 0.0025\n",
      "Epoch 3/20\n",
      "1604/1604 [==============================] - 20s 12ms/step - loss: 0.0030\n",
      "Epoch 4/20\n",
      "1604/1604 [==============================] - 12s 8ms/step - loss: 0.0041\n",
      "Epoch 5/20\n",
      "1604/1604 [==============================] - 12s 8ms/step - loss: 0.0066\n",
      "Epoch 6/20\n",
      "1604/1604 [==============================] - 12s 8ms/step - loss: 0.0056\n",
      "Epoch 7/20\n",
      "1604/1604 [==============================] - 12s 8ms/step - loss: 0.0050\n",
      "Epoch 8/20\n",
      "1604/1604 [==============================] - 12s 8ms/step - loss: 0.0042\n",
      "Epoch 9/20\n",
      "1604/1604 [==============================] - 13s 8ms/step - loss: 0.0031\n",
      "Epoch 10/20\n",
      "1604/1604 [==============================] - 12s 8ms/step - loss: 0.0034\n",
      "Epoch 11/20\n",
      "1604/1604 [==============================] - 12s 8ms/step - loss: 0.0024\n",
      "Epoch 12/20\n",
      "1604/1604 [==============================] - 12s 8ms/step - loss: 0.0025\n",
      "Epoch 13/20\n",
      "1604/1604 [==============================] - 12s 8ms/step - loss: 0.0023\n",
      "Epoch 14/20\n",
      "1604/1604 [==============================] - 12s 8ms/step - loss: 0.0021\n",
      "Epoch 15/20\n",
      "1604/1604 [==============================] - 13s 8ms/step - loss: 0.0019\n",
      "Epoch 16/20\n",
      "1604/1604 [==============================] - 12s 8ms/step - loss: 0.0020\n",
      "Epoch 17/20\n",
      "1604/1604 [==============================] - 12s 8ms/step - loss: 0.0016\n",
      "Epoch 18/20\n",
      "1604/1604 [==============================] - 13s 8ms/step - loss: 0.0017\n",
      "Epoch 19/20\n",
      "1604/1604 [==============================] - 12s 8ms/step - loss: 0.0014\n",
      "Epoch 20/20\n",
      "1604/1604 [==============================] - 12s 7ms/step - loss: 0.0013\n"
     ]
    }
   ],
   "source": [
    "history = model.fit(x_train, y_train, epochs=20, batch_size=1, shuffle=False)"
   ]
  },
  {
   "cell_type": "code",
   "execution_count": null,
   "metadata": {
    "colab": {
     "base_uri": "https://localhost:8080/"
    },
    "executionInfo": {
     "elapsed": 2756,
     "status": "ok",
     "timestamp": 1641126737894,
     "user": {
      "displayName": "pardies moradbeikie",
      "photoUrl": "https://lh3.googleusercontent.com/a-/AOh14GhmePn8H7A6nZGOAKuB4zJrDgErTqLsYg_HJSCJCQ=s64",
      "userId": "00275872828076153916"
     },
     "user_tz": -210
    },
    "id": "LaYi9qlnwju2",
    "outputId": "0f2d7b45-ed80-4199-b505-c0dcfd232718"
   },
   "outputs": [
    {
     "name": "stdout",
     "output_type": "stream",
     "text": [
      "RMSE: 0.085\n",
      "MAE: 0.079\n",
      "R^2: 0.455\n"
     ]
    }
   ],
   "source": [
    "from sklearn.metrics import mean_squared_error, mean_absolute_error, r2_score\n",
    "\n",
    "predictions_lstm = model.predict(x_test)\n",
    "\n",
    "#evaluating the predictions\n",
    "print('RMSE: {0:.3f}'.format(mean_squared_error(y_test, predictions_lstm)**0.5))\n",
    "print('MAE: {0:.3f}'.format(mean_absolute_error(y_test, predictions_lstm)))\n",
    "print('R^2: {0:.3f}'.format(r2_score(y_test, predictions_lstm)))"
   ]
  },
  {
   "cell_type": "code",
   "execution_count": null,
   "metadata": {
    "colab": {
     "base_uri": "https://localhost:8080/",
     "height": 290
    },
    "executionInfo": {
     "elapsed": 1635,
     "status": "ok",
     "timestamp": 1641126739847,
     "user": {
      "displayName": "pardies moradbeikie",
      "photoUrl": "https://lh3.googleusercontent.com/a-/AOh14GhmePn8H7A6nZGOAKuB4zJrDgErTqLsYg_HJSCJCQ=s64",
      "userId": "00275872828076153916"
     },
     "user_tz": -210
    },
    "id": "-AePzuzvwuEj",
    "outputId": "39436c84-e5fd-4add-ec2c-644657905af5"
   },
   "outputs": [
    {
     "data": {
      "image/png": "[encoded data removed]",
      "text/plain": [
       "<Figure size 432x288 with 1 Axes>"
      ]
     },
     "metadata": {},
     "output_type": "display_data"
    }
   ],
   "source": [
    "plt.plot(y_test, label='True')\n",
    "plt.plot(predictions_lstm, label='LSTM')\n",
    "plt.title(\"lstm's_Prediction\")\n",
    "plt.xlabel('Observation')\n",
    "plt.ylabel('euro_usd_scaled')\n",
    "plt.legend()\n",
    "plt.show()"
   ]
  },
  {
   "cell_type": "code",
   "execution_count": null,
   "metadata": {
    "id": "5y9ln8WAxrYe"
   },
   "outputs": [],
   "source": [
    "model = Sequential()\n",
    "model.add(LSTM(32, return_sequences=True))\n",
    "model.add(Dropout(0.5))\n",
    "model.add(LSTM(units=16, return_sequences=False))\n",
    "model.add(Dropout(0.5))\n",
    "model.add(Dense(1))\n",
    "model.compile(optimizer='adam',loss=\"mean_squared_error\")"
   ]
  },
  {
   "cell_type": "code",
   "execution_count": null,
   "metadata": {
    "colab": {
     "base_uri": "https://localhost:8080/"
    },
    "executionInfo": {
     "elapsed": 18013,
     "status": "ok",
     "timestamp": 1641127498584,
     "user": {
      "displayName": "pardies moradbeikie",
      "photoUrl": "https://lh3.googleusercontent.com/a-/AOh14GhmePn8H7A6nZGOAKuB4zJrDgErTqLsYg_HJSCJCQ=s64",
      "userId": "00275872828076153916"
     },
     "user_tz": -210
    },
    "id": "XnM4GBkX0O1r",
    "outputId": "349c8719-af19-4abd-e800-86fd1345b888"
   },
   "outputs": [
    {
     "name": "stdout",
     "output_type": "stream",
     "text": [
      "Epoch 1/20\n",
      "51/51 [==============================] - 10s 12ms/step - loss: 0.0889\n",
      "Epoch 2/20\n",
      "51/51 [==============================] - 1s 11ms/step - loss: 0.0299\n",
      "Epoch 3/20\n",
      "51/51 [==============================] - 1s 10ms/step - loss: 0.0220\n",
      "Epoch 4/20\n",
      "51/51 [==============================] - 0s 8ms/step - loss: 0.0166\n",
      "Epoch 5/20\n",
      "51/51 [==============================] - 0s 7ms/step - loss: 0.0148\n",
      "Epoch 6/20\n",
      "51/51 [==============================] - 0s 7ms/step - loss: 0.0133\n",
      "Epoch 7/20\n",
      "51/51 [==============================] - 0s 8ms/step - loss: 0.0129\n",
      "Epoch 8/20\n",
      "51/51 [==============================] - 0s 8ms/step - loss: 0.0105\n",
      "Epoch 9/20\n",
      "51/51 [==============================] - 0s 8ms/step - loss: 0.0108\n",
      "Epoch 10/20\n",
      "51/51 [==============================] - 0s 8ms/step - loss: 0.0120\n",
      "Epoch 11/20\n",
      "51/51 [==============================] - 0s 8ms/step - loss: 0.0095\n",
      "Epoch 12/20\n",
      "51/51 [==============================] - 0s 8ms/step - loss: 0.0091\n",
      "Epoch 13/20\n",
      "51/51 [==============================] - 0s 8ms/step - loss: 0.0091\n",
      "Epoch 14/20\n",
      "51/51 [==============================] - 0s 8ms/step - loss: 0.0095\n",
      "Epoch 15/20\n",
      "51/51 [==============================] - 0s 8ms/step - loss: 0.0081\n",
      "Epoch 16/20\n",
      "51/51 [==============================] - 0s 8ms/step - loss: 0.0077\n",
      "Epoch 17/20\n",
      "51/51 [==============================] - 0s 8ms/step - loss: 0.0081\n",
      "Epoch 18/20\n",
      "51/51 [==============================] - 0s 8ms/step - loss: 0.0065\n",
      "Epoch 19/20\n",
      "51/51 [==============================] - 0s 8ms/step - loss: 0.0070\n",
      "Epoch 20/20\n",
      "51/51 [==============================] - 0s 8ms/step - loss: 0.0077\n"
     ]
    }
   ],
   "source": [
    "history = model.fit(x_train, y_train, epochs=20, shuffle=False)"
   ]
  },
  {
   "cell_type": "code",
   "execution_count": null,
   "metadata": {
    "colab": {
     "base_uri": "https://localhost:8080/"
    },
    "executionInfo": {
     "elapsed": 1945,
     "status": "ok",
     "timestamp": 1641127517968,
     "user": {
      "displayName": "pardies moradbeikie",
      "photoUrl": "https://lh3.googleusercontent.com/a-/AOh14GhmePn8H7A6nZGOAKuB4zJrDgErTqLsYg_HJSCJCQ=s64",
      "userId": "00275872828076153916"
     },
     "user_tz": -210
    },
    "id": "PLZbE1680gn9",
    "outputId": "381804e9-c954-40c8-8796-5bb4d35aa790"
   },
   "outputs": [
    {
     "name": "stdout",
     "output_type": "stream",
     "text": [
      "RMSE: 0.032\n",
      "MAE: 0.026\n",
      "R^2: 0.923\n"
     ]
    }
   ],
   "source": [
    "from sklearn.metrics import mean_squared_error, mean_absolute_error, r2_score\n",
    "\n",
    "predictions_lstm = model.predict(x_test)\n",
    "\n",
    "#evaluating the predictions\n",
    "print('RMSE: {0:.3f}'.format(mean_squared_error(y_test, predictions_lstm)**0.5))\n",
    "print('MAE: {0:.3f}'.format(mean_absolute_error(y_test, predictions_lstm)))\n",
    "print('R^2: {0:.3f}'.format(r2_score(y_test, predictions_lstm)))"
   ]
  },
  {
   "cell_type": "code",
   "execution_count": null,
   "metadata": {
    "colab": {
     "base_uri": "https://localhost:8080/",
     "height": 290
    },
    "executionInfo": {
     "elapsed": 868,
     "status": "ok",
     "timestamp": 1641127537087,
     "user": {
      "displayName": "pardies moradbeikie",
      "photoUrl": "https://lh3.googleusercontent.com/a-/AOh14GhmePn8H7A6nZGOAKuB4zJrDgErTqLsYg_HJSCJCQ=s64",
      "userId": "00275872828076153916"
     },
     "user_tz": -210
    },
    "id": "b1qTRhbY0pRb",
    "outputId": "b8fc32a0-88b8-44ac-bfe2-0a3cd699e697"
   },
   "outputs": [
    {
     "data": {
      "image/png": "[encoded data removed]",
      "text/plain": [
       "<Figure size 432x288 with 1 Axes>"
      ]
     },
     "metadata": {},
     "output_type": "display_data"
    }
   ],
   "source": [
    "plt.plot(y_test, label='True')\n",
    "plt.plot(predictions_lstm, label='LSTM')\n",
    "plt.title(\"lstm's_Prediction\")\n",
    "plt.xlabel('Observation')\n",
    "plt.ylabel('euro_usd_scaled')\n",
    "plt.legend()\n",
    "plt.show()"
   ]
  },
  {
   "cell_type": "code",
   "execution_count": null,
   "metadata": {
    "id": "ECbusxJZ0uN-"
   },
   "outputs": [],
   "source": [
    "model = Sequential()\n",
    "model.add(LSTM(32, return_sequences=True))\n",
    "model.add(Dropout(0.7))\n",
    "model.add(LSTM(units=16, return_sequences=False))\n",
    "model.add(Dropout(0.7))\n",
    "model.add(Dense(1))\n",
    "model.compile(optimizer='adam',loss=\"mean_squared_error\")"
   ]
  },
  {
   "cell_type": "code",
   "execution_count": null,
   "metadata": {
    "colab": {
     "base_uri": "https://localhost:8080/"
    },
    "executionInfo": {
     "elapsed": 63085,
     "status": "ok",
     "timestamp": 1641127756742,
     "user": {
      "displayName": "pardies moradbeikie",
      "photoUrl": "https://lh3.googleusercontent.com/a-/AOh14GhmePn8H7A6nZGOAKuB4zJrDgErTqLsYg_HJSCJCQ=s64",
      "userId": "00275872828076153916"
     },
     "user_tz": -210
    },
    "id": "GaqP5iBP1Tkb",
    "outputId": "47158ad5-c6ad-4a59-98a1-00105ca34088"
   },
   "outputs": [
    {
     "name": "stdout",
     "output_type": "stream",
     "text": [
      "Epoch 1/20\n",
      "51/51 [==============================] - 55s 7ms/step - loss: 0.1003\n",
      "Epoch 2/20\n",
      "51/51 [==============================] - 0s 8ms/step - loss: 0.0460\n",
      "Epoch 3/20\n",
      "51/51 [==============================] - 0s 8ms/step - loss: 0.0353\n",
      "Epoch 4/20\n",
      "51/51 [==============================] - 0s 8ms/step - loss: 0.0308\n",
      "Epoch 5/20\n",
      "51/51 [==============================] - 0s 8ms/step - loss: 0.0270\n",
      "Epoch 6/20\n",
      "51/51 [==============================] - 0s 8ms/step - loss: 0.0228\n",
      "Epoch 7/20\n",
      "51/51 [==============================] - 0s 8ms/step - loss: 0.0213\n",
      "Epoch 8/20\n",
      "51/51 [==============================] - 0s 7ms/step - loss: 0.0198\n",
      "Epoch 9/20\n",
      "51/51 [==============================] - 0s 8ms/step - loss: 0.0186\n",
      "Epoch 10/20\n",
      "51/51 [==============================] - 0s 8ms/step - loss: 0.0202\n",
      "Epoch 11/20\n",
      "51/51 [==============================] - 0s 8ms/step - loss: 0.0159\n",
      "Epoch 12/20\n",
      "51/51 [==============================] - 0s 7ms/step - loss: 0.0158\n",
      "Epoch 13/20\n",
      "51/51 [==============================] - 0s 7ms/step - loss: 0.0143\n",
      "Epoch 14/20\n",
      "51/51 [==============================] - 0s 8ms/step - loss: 0.0150\n",
      "Epoch 15/20\n",
      "51/51 [==============================] - 0s 8ms/step - loss: 0.0130\n",
      "Epoch 16/20\n",
      "51/51 [==============================] - 0s 8ms/step - loss: 0.0144\n",
      "Epoch 17/20\n",
      "51/51 [==============================] - 0s 7ms/step - loss: 0.0119\n",
      "Epoch 18/20\n",
      "51/51 [==============================] - 0s 8ms/step - loss: 0.0130\n",
      "Epoch 19/20\n",
      "51/51 [==============================] - 0s 8ms/step - loss: 0.0107\n",
      "Epoch 20/20\n",
      "51/51 [==============================] - 0s 8ms/step - loss: 0.0108\n"
     ]
    }
   ],
   "source": [
    "history = model.fit(x_train, y_train, epochs=20, shuffle=False)"
   ]
  },
  {
   "cell_type": "code",
   "execution_count": null,
   "metadata": {
    "colab": {
     "base_uri": "https://localhost:8080/"
    },
    "executionInfo": {
     "elapsed": 1302,
     "status": "ok",
     "timestamp": 1641127758033,
     "user": {
      "displayName": "pardies moradbeikie",
      "photoUrl": "https://lh3.googleusercontent.com/a-/AOh14GhmePn8H7A6nZGOAKuB4zJrDgErTqLsYg_HJSCJCQ=s64",
      "userId": "00275872828076153916"
     },
     "user_tz": -210
    },
    "id": "oh0HezSD064y",
    "outputId": "ff273223-b263-4804-b799-8828f4aba376"
   },
   "outputs": [
    {
     "name": "stdout",
     "output_type": "stream",
     "text": [
      "RMSE: 0.039\n",
      "MAE: 0.033\n",
      "R^2: 0.884\n"
     ]
    }
   ],
   "source": [
    "from sklearn.metrics import mean_squared_error, mean_absolute_error, r2_score\n",
    "\n",
    "predictions_lstm = model.predict(x_test)\n",
    "\n",
    "#evaluating the predictions\n",
    "print('RMSE: {0:.3f}'.format(mean_squared_error(y_test, predictions_lstm)**0.5))\n",
    "print('MAE: {0:.3f}'.format(mean_absolute_error(y_test, predictions_lstm)))\n",
    "print('R^2: {0:.3f}'.format(r2_score(y_test, predictions_lstm)))"
   ]
  },
  {
   "cell_type": "code",
   "execution_count": null,
   "metadata": {
    "colab": {
     "base_uri": "https://localhost:8080/",
     "height": 290
    },
    "executionInfo": {
     "elapsed": 19,
     "status": "ok",
     "timestamp": 1641127758035,
     "user": {
      "displayName": "pardies moradbeikie",
      "photoUrl": "https://lh3.googleusercontent.com/a-/AOh14GhmePn8H7A6nZGOAKuB4zJrDgErTqLsYg_HJSCJCQ=s64",
      "userId": "00275872828076153916"
     },
     "user_tz": -210
    },
    "id": "IXbYbWK20-lU",
    "outputId": "3fbbb686-6cdb-4781-b772-83b2217957b7"
   },
   "outputs": [
    {
     "data": {
      "image/png": "[encoded data removed]",
      "text/plain": [
       "<Figure size 432x288 with 1 Axes>"
      ]
     },
     "metadata": {},
     "output_type": "display_data"
    }
   ],
   "source": [
    "plt.plot(y_test, label='True')\n",
    "plt.plot(predictions_lstm, label='LSTM')\n",
    "plt.title(\"lstm's_Prediction\")\n",
    "plt.xlabel('Observation')\n",
    "plt.ylabel('euro_usd_scaled')\n",
    "plt.legend()\n",
    "plt.show()"
   ]
  },
  {
   "cell_type": "code",
   "execution_count": null,
   "metadata": {
    "id": "1y_V40gg1BrA"
   },
   "outputs": [],
   "source": [
    "model = Sequential()\n",
    "model.add(LSTM(32, return_sequences=True))\n",
    "model.add(Dropout(0.5))\n",
    "model.add(LSTM(units=16, return_sequences=False))\n",
    "model.add(Dropout(0.5))\n",
    "model.add(Dense(1))\n",
    "model.compile(optimizer='adam',loss=\"mean_squared_error\")"
   ]
  },
  {
   "cell_type": "code",
   "execution_count": null,
   "metadata": {
    "colab": {
     "base_uri": "https://localhost:8080/"
    },
    "executionInfo": {
     "elapsed": 209501,
     "status": "ok",
     "timestamp": 1641128179589,
     "user": {
      "displayName": "pardies moradbeikie",
      "photoUrl": "https://lh3.googleusercontent.com/a-/AOh14GhmePn8H7A6nZGOAKuB4zJrDgErTqLsYg_HJSCJCQ=s64",
      "userId": "00275872828076153916"
     },
     "user_tz": -210
    },
    "id": "pGOfznqy19Jj",
    "outputId": "48b5aa63-5da8-4261-a003-90fda489e344"
   },
   "outputs": [
    {
     "name": "stdout",
     "output_type": "stream",
     "text": [
      "Epoch 1/20\n",
      "1604/1604 [==============================] - 17s 6ms/step - loss: 0.0215\n",
      "Epoch 2/20\n",
      "1604/1604 [==============================] - 10s 6ms/step - loss: 0.0091\n",
      "Epoch 3/20\n",
      "1604/1604 [==============================] - 10s 6ms/step - loss: 0.0071\n",
      "Epoch 4/20\n",
      "1604/1604 [==============================] - 10s 6ms/step - loss: 0.0074\n",
      "Epoch 5/20\n",
      "1604/1604 [==============================] - 10s 6ms/step - loss: 0.0068\n",
      "Epoch 6/20\n",
      "1604/1604 [==============================] - 10s 6ms/step - loss: 0.0066\n",
      "Epoch 7/20\n",
      "1604/1604 [==============================] - 10s 6ms/step - loss: 0.0065\n",
      "Epoch 8/20\n",
      "1604/1604 [==============================] - 10s 6ms/step - loss: 0.0060\n",
      "Epoch 9/20\n",
      "1604/1604 [==============================] - 10s 6ms/step - loss: 0.0063\n",
      "Epoch 10/20\n",
      "1604/1604 [==============================] - 10s 6ms/step - loss: 0.0059\n",
      "Epoch 11/20\n",
      "1604/1604 [==============================] - 10s 7ms/step - loss: 0.0058\n",
      "Epoch 12/20\n",
      "1604/1604 [==============================] - 10s 6ms/step - loss: 0.0059\n",
      "Epoch 13/20\n",
      "1604/1604 [==============================] - 10s 6ms/step - loss: 0.0058\n",
      "Epoch 14/20\n",
      "1604/1604 [==============================] - 11s 7ms/step - loss: 0.0052\n",
      "Epoch 15/20\n",
      "1604/1604 [==============================] - 11s 7ms/step - loss: 0.0055\n",
      "Epoch 16/20\n",
      "1604/1604 [==============================] - 10s 6ms/step - loss: 0.0049\n",
      "Epoch 17/20\n",
      "1604/1604 [==============================] - 10s 6ms/step - loss: 0.0056\n",
      "Epoch 18/20\n",
      "1604/1604 [==============================] - 10s 6ms/step - loss: 0.0055\n",
      "Epoch 19/20\n",
      "1604/1604 [==============================] - 10s 6ms/step - loss: 0.0050\n",
      "Epoch 20/20\n",
      "1604/1604 [==============================] - 10s 6ms/step - loss: 0.0051\n"
     ]
    }
   ],
   "source": [
    "history = model.fit(x_train, y_train, epochs=20, batch_size=1, shuffle=False)"
   ]
  },
  {
   "cell_type": "code",
   "execution_count": null,
   "metadata": {
    "colab": {
     "base_uri": "https://localhost:8080/"
    },
    "executionInfo": {
     "elapsed": 3542,
     "status": "ok",
     "timestamp": 1641128199894,
     "user": {
      "displayName": "pardies moradbeikie",
      "photoUrl": "https://lh3.googleusercontent.com/a-/AOh14GhmePn8H7A6nZGOAKuB4zJrDgErTqLsYg_HJSCJCQ=s64",
      "userId": "00275872828076153916"
     },
     "user_tz": -210
    },
    "id": "8aLcP-oX2NOH",
    "outputId": "c885c5b6-d098-4afe-8738-75563d85acaa"
   },
   "outputs": [
    {
     "name": "stdout",
     "output_type": "stream",
     "text": [
      "RMSE: 0.114\n",
      "MAE: 0.104\n",
      "R^2: 0.025\n"
     ]
    }
   ],
   "source": [
    "from sklearn.metrics import mean_squared_error, mean_absolute_error, r2_score\n",
    "\n",
    "predictions_lstm = model.predict(x_test)\n",
    "\n",
    "#evaluating the predictions\n",
    "print('RMSE: {0:.3f}'.format(mean_squared_error(y_test, predictions_lstm)**0.5))\n",
    "print('MAE: {0:.3f}'.format(mean_absolute_error(y_test, predictions_lstm)))\n",
    "print('R^2: {0:.3f}'.format(r2_score(y_test, predictions_lstm)))"
   ]
  },
  {
   "cell_type": "code",
   "execution_count": null,
   "metadata": {
    "colab": {
     "base_uri": "https://localhost:8080/",
     "height": 290
    },
    "executionInfo": {
     "elapsed": 1002,
     "status": "ok",
     "timestamp": 1641128218296,
     "user": {
      "displayName": "pardies moradbeikie",
      "photoUrl": "https://lh3.googleusercontent.com/a-/AOh14GhmePn8H7A6nZGOAKuB4zJrDgErTqLsYg_HJSCJCQ=s64",
      "userId": "00275872828076153916"
     },
     "user_tz": -210
    },
    "id": "hixhSdPn3PX4",
    "outputId": "3265d76b-10ba-43de-eeae-47ece21b6e46"
   },
   "outputs": [
    {
     "data": {
      "image/png": "[encoded data removed]",
      "text/plain": [
       "<Figure size 432x288 with 1 Axes>"
      ]
     },
     "metadata": {},
     "output_type": "display_data"
    }
   ],
   "source": [
    "plt.plot(y_test, label='True')\n",
    "plt.plot(predictions_lstm, label='LSTM')\n",
    "plt.title(\"lstm's_Prediction\")\n",
    "plt.xlabel('Observation')\n",
    "plt.ylabel('euro_usd_scaled')\n",
    "plt.legend()\n",
    "plt.show()"
   ]
  },
  {
   "cell_type": "code",
   "execution_count": null,
   "metadata": {
    "id": "a5IltFbU3Ue1"
   },
   "outputs": [],
   "source": [
    "model = Sequential()\n",
    "model.add(LSTM(32, return_sequences=True))\n",
    "model.add(Dropout(0.5))\n",
    "model.add(LSTM(units=16, return_sequences=False))\n",
    "model.add(Dropout(0.5))\n",
    "model.add(Dense(1))\n",
    "model.compile(optimizer='adam',loss=\"mean_squared_error\")"
   ]
  },
  {
   "cell_type": "code",
   "execution_count": null,
   "metadata": {
    "colab": {
     "base_uri": "https://localhost:8080/"
    },
    "executionInfo": {
     "elapsed": 12111,
     "status": "ok",
     "timestamp": 1641128404677,
     "user": {
      "displayName": "pardies moradbeikie",
      "photoUrl": "https://lh3.googleusercontent.com/a-/AOh14GhmePn8H7A6nZGOAKuB4zJrDgErTqLsYg_HJSCJCQ=s64",
      "userId": "00275872828076153916"
     },
     "user_tz": -210
    },
    "id": "PjT7Co0936kK",
    "outputId": "555afee2-a918-4d7f-aba1-3f5baea215a6"
   },
   "outputs": [
    {
     "name": "stdout",
     "output_type": "stream",
     "text": [
      "Epoch 1/20\n",
      "13/13 [==============================] - 10s 11ms/step - loss: 0.1416\n",
      "Epoch 2/20\n",
      "13/13 [==============================] - 0s 12ms/step - loss: 0.0706\n",
      "Epoch 3/20\n",
      "13/13 [==============================] - 0s 11ms/step - loss: 0.0434\n",
      "Epoch 4/20\n",
      "13/13 [==============================] - 0s 13ms/step - loss: 0.0329\n",
      "Epoch 5/20\n",
      "13/13 [==============================] - 0s 12ms/step - loss: 0.0284\n",
      "Epoch 6/20\n",
      "13/13 [==============================] - 0s 8ms/step - loss: 0.0246\n",
      "Epoch 7/20\n",
      "13/13 [==============================] - 0s 7ms/step - loss: 0.0231\n",
      "Epoch 8/20\n",
      "13/13 [==============================] - 0s 7ms/step - loss: 0.0190\n",
      "Epoch 9/20\n",
      "13/13 [==============================] - 0s 8ms/step - loss: 0.0198\n",
      "Epoch 10/20\n",
      "13/13 [==============================] - 0s 8ms/step - loss: 0.0158\n",
      "Epoch 11/20\n",
      "13/13 [==============================] - 0s 8ms/step - loss: 0.0184\n",
      "Epoch 12/20\n",
      "13/13 [==============================] - 0s 8ms/step - loss: 0.0168\n",
      "Epoch 13/20\n",
      "13/13 [==============================] - 0s 8ms/step - loss: 0.0142\n",
      "Epoch 14/20\n",
      "13/13 [==============================] - 0s 8ms/step - loss: 0.0154\n",
      "Epoch 15/20\n",
      "13/13 [==============================] - 0s 8ms/step - loss: 0.0145\n",
      "Epoch 16/20\n",
      "13/13 [==============================] - 0s 8ms/step - loss: 0.0149\n",
      "Epoch 17/20\n",
      "13/13 [==============================] - 0s 7ms/step - loss: 0.0154\n",
      "Epoch 18/20\n",
      "13/13 [==============================] - 0s 8ms/step - loss: 0.0143\n",
      "Epoch 19/20\n",
      "13/13 [==============================] - 0s 7ms/step - loss: 0.0138\n",
      "Epoch 20/20\n",
      "13/13 [==============================] - 0s 8ms/step - loss: 0.0134\n"
     ]
    }
   ],
   "source": [
    "history = model.fit(x_train, y_train, epochs=20, batch_size=128, shuffle=False)"
   ]
  },
  {
   "cell_type": "code",
   "execution_count": null,
   "metadata": {
    "colab": {
     "base_uri": "https://localhost:8080/"
    },
    "executionInfo": {
     "elapsed": 2184,
     "status": "ok",
     "timestamp": 1641128487963,
     "user": {
      "displayName": "pardies moradbeikie",
      "photoUrl": "https://lh3.googleusercontent.com/a-/AOh14GhmePn8H7A6nZGOAKuB4zJrDgErTqLsYg_HJSCJCQ=s64",
      "userId": "00275872828076153916"
     },
     "user_tz": -210
    },
    "id": "0dX00PRB3_R5",
    "outputId": "70dec591-a571-410a-f2a8-08864788299a"
   },
   "outputs": [
    {
     "name": "stdout",
     "output_type": "stream",
     "text": [
      "RMSE: 0.034\n",
      "MAE: 0.028\n",
      "R^2: 0.912\n"
     ]
    }
   ],
   "source": [
    "from sklearn.metrics import mean_squared_error, mean_absolute_error, r2_score\n",
    "\n",
    "predictions_lstm = model.predict(x_test)\n",
    "\n",
    "#evaluating the predictions\n",
    "print('RMSE: {0:.3f}'.format(mean_squared_error(y_test, predictions_lstm)**0.5))\n",
    "print('MAE: {0:.3f}'.format(mean_absolute_error(y_test, predictions_lstm)))\n",
    "print('R^2: {0:.3f}'.format(r2_score(y_test, predictions_lstm)))"
   ]
  },
  {
   "cell_type": "code",
   "execution_count": null,
   "metadata": {
    "colab": {
     "base_uri": "https://localhost:8080/",
     "height": 290
    },
    "executionInfo": {
     "elapsed": 536,
     "status": "ok",
     "timestamp": 1641128500074,
     "user": {
      "displayName": "pardies moradbeikie",
      "photoUrl": "https://lh3.googleusercontent.com/a-/AOh14GhmePn8H7A6nZGOAKuB4zJrDgErTqLsYg_HJSCJCQ=s64",
      "userId": "00275872828076153916"
     },
     "user_tz": -210
    },
    "id": "srmKjysh4V_7",
    "outputId": "fa5c16ac-eed2-42a0-b831-6772db348449"
   },
   "outputs": [
    {
     "data": {
      "image/png": "[encoded data removed]",
      "text/plain": [
       "<Figure size 432x288 with 1 Axes>"
      ]
     },
     "metadata": {},
     "output_type": "display_data"
    }
   ],
   "source": [
    "plt.plot(y_test, label='True')\n",
    "plt.plot(predictions_lstm, label='LSTM')\n",
    "plt.title(\"lstm's_Prediction\")\n",
    "plt.xlabel('Observation')\n",
    "plt.ylabel('euro_usd_scaled')\n",
    "plt.legend()\n",
    "plt.show()"
   ]
  },
  {
   "cell_type": "code",
   "execution_count": null,
   "metadata": {
    "colab": {
     "base_uri": "https://localhost:8080/"
    },
    "executionInfo": {
     "elapsed": 17721,
     "status": "ok",
     "timestamp": 1641128611066,
     "user": {
      "displayName": "pardies moradbeikie",
      "photoUrl": "https://lh3.googleusercontent.com/a-/AOh14GhmePn8H7A6nZGOAKuB4zJrDgErTqLsYg_HJSCJCQ=s64",
      "userId": "00275872828076153916"
     },
     "user_tz": -210
    },
    "id": "0pMZZDRs4ZXL",
    "outputId": "f87dc6a2-7a9f-4425-d343-957616234010"
   },
   "outputs": [
    {
     "name": "stdout",
     "output_type": "stream",
     "text": [
      "Epoch 1/40\n",
      "51/51 [==============================] - 1s 11ms/step - loss: 0.0071\n",
      "Epoch 2/40\n",
      "51/51 [==============================] - 1s 12ms/step - loss: 0.0070\n",
      "Epoch 3/40\n",
      "51/51 [==============================] - 1s 11ms/step - loss: 0.0063\n",
      "Epoch 4/40\n",
      "51/51 [==============================] - 1s 11ms/step - loss: 0.0064\n",
      "Epoch 5/40\n",
      "51/51 [==============================] - 1s 13ms/step - loss: 0.0073\n",
      "Epoch 6/40\n",
      "51/51 [==============================] - 0s 8ms/step - loss: 0.0069\n",
      "Epoch 7/40\n",
      "51/51 [==============================] - 0s 8ms/step - loss: 0.0066\n",
      "Epoch 8/40\n",
      "51/51 [==============================] - 0s 8ms/step - loss: 0.0059\n",
      "Epoch 9/40\n",
      "51/51 [==============================] - 0s 8ms/step - loss: 0.0066\n",
      "Epoch 10/40\n",
      "51/51 [==============================] - 0s 8ms/step - loss: 0.0060\n",
      "Epoch 11/40\n",
      "51/51 [==============================] - 0s 8ms/step - loss: 0.0051\n",
      "Epoch 12/40\n",
      "51/51 [==============================] - 0s 8ms/step - loss: 0.0055\n",
      "Epoch 13/40\n",
      "51/51 [==============================] - 0s 8ms/step - loss: 0.0057\n",
      "Epoch 14/40\n",
      "51/51 [==============================] - 0s 7ms/step - loss: 0.0063\n",
      "Epoch 15/40\n",
      "51/51 [==============================] - 0s 8ms/step - loss: 0.0053\n",
      "Epoch 16/40\n",
      "51/51 [==============================] - 0s 7ms/step - loss: 0.0052\n",
      "Epoch 17/40\n",
      "51/51 [==============================] - 0s 8ms/step - loss: 0.0056\n",
      "Epoch 18/40\n",
      "51/51 [==============================] - 0s 8ms/step - loss: 0.0048\n",
      "Epoch 19/40\n",
      "51/51 [==============================] - 0s 8ms/step - loss: 0.0052\n",
      "Epoch 20/40\n",
      "51/51 [==============================] - 0s 7ms/step - loss: 0.0067\n",
      "Epoch 21/40\n",
      "51/51 [==============================] - 0s 8ms/step - loss: 0.0059\n",
      "Epoch 22/40\n",
      "51/51 [==============================] - 0s 8ms/step - loss: 0.0050\n",
      "Epoch 23/40\n",
      "51/51 [==============================] - 0s 7ms/step - loss: 0.0047\n",
      "Epoch 24/40\n",
      "51/51 [==============================] - 0s 8ms/step - loss: 0.0049\n",
      "Epoch 25/40\n",
      "51/51 [==============================] - 0s 9ms/step - loss: 0.0048\n",
      "Epoch 26/40\n",
      "51/51 [==============================] - 0s 8ms/step - loss: 0.0048\n",
      "Epoch 27/40\n",
      "51/51 [==============================] - 0s 8ms/step - loss: 0.0048\n",
      "Epoch 28/40\n",
      "51/51 [==============================] - 0s 7ms/step - loss: 0.0044\n",
      "Epoch 29/40\n",
      "51/51 [==============================] - 0s 8ms/step - loss: 0.0054\n",
      "Epoch 30/40\n",
      "51/51 [==============================] - 0s 8ms/step - loss: 0.0057\n",
      "Epoch 31/40\n",
      "51/51 [==============================] - 0s 8ms/step - loss: 0.0047\n",
      "Epoch 32/40\n",
      "51/51 [==============================] - 0s 8ms/step - loss: 0.0052\n",
      "Epoch 33/40\n",
      "51/51 [==============================] - 0s 8ms/step - loss: 0.0048\n",
      "Epoch 34/40\n",
      "51/51 [==============================] - 0s 8ms/step - loss: 0.0049\n",
      "Epoch 35/40\n",
      "51/51 [==============================] - 0s 8ms/step - loss: 0.0051\n",
      "Epoch 36/40\n",
      "51/51 [==============================] - 0s 8ms/step - loss: 0.0044\n",
      "Epoch 37/40\n",
      "51/51 [==============================] - 0s 9ms/step - loss: 0.0053\n",
      "Epoch 38/40\n",
      "51/51 [==============================] - 0s 8ms/step - loss: 0.0049\n",
      "Epoch 39/40\n",
      "51/51 [==============================] - 0s 8ms/step - loss: 0.0046\n",
      "Epoch 40/40\n",
      "51/51 [==============================] - 0s 8ms/step - loss: 0.0051\n"
     ]
    }
   ],
   "source": [
    "history = model.fit(x_train, y_train, epochs=40, shuffle=False)"
   ]
  },
  {
   "cell_type": "code",
   "execution_count": null,
   "metadata": {
    "colab": {
     "base_uri": "https://localhost:8080/"
    },
    "executionInfo": {
     "elapsed": 17,
     "status": "ok",
     "timestamp": 1641128611067,
     "user": {
      "displayName": "pardies moradbeikie",
      "photoUrl": "https://lh3.googleusercontent.com/a-/AOh14GhmePn8H7A6nZGOAKuB4zJrDgErTqLsYg_HJSCJCQ=s64",
      "userId": "00275872828076153916"
     },
     "user_tz": -210
    },
    "id": "13BI5LAb4gXA",
    "outputId": "be80f704-8c69-428b-a4b6-bc5f27b51e32"
   },
   "outputs": [
    {
     "name": "stdout",
     "output_type": "stream",
     "text": [
      "RMSE: 0.031\n",
      "MAE: 0.025\n",
      "R^2: 0.928\n"
     ]
    }
   ],
   "source": [
    "from sklearn.metrics import mean_squared_error, mean_absolute_error, r2_score\n",
    "\n",
    "predictions_lstm = model.predict(x_test)\n",
    "\n",
    "#evaluating the predictions\n",
    "print('RMSE: {0:.3f}'.format(mean_squared_error(y_test, predictions_lstm)**0.5))\n",
    "print('MAE: {0:.3f}'.format(mean_absolute_error(y_test, predictions_lstm)))\n",
    "print('R^2: {0:.3f}'.format(r2_score(y_test, predictions_lstm)))"
   ]
  },
  {
   "cell_type": "code",
   "execution_count": null,
   "metadata": {
    "colab": {
     "base_uri": "https://localhost:8080/",
     "height": 290
    },
    "executionInfo": {
     "elapsed": 560,
     "status": "ok",
     "timestamp": 1641128611615,
     "user": {
      "displayName": "pardies moradbeikie",
      "photoUrl": "https://lh3.googleusercontent.com/a-/AOh14GhmePn8H7A6nZGOAKuB4zJrDgErTqLsYg_HJSCJCQ=s64",
      "userId": "00275872828076153916"
     },
     "user_tz": -210
    },
    "id": "LMcdwFFv4lXy",
    "outputId": "c5ff802e-ccf8-4a85-92df-4000b6c7e2b2"
   },
   "outputs": [
    {
     "data": {
      "image/png": "[encoded data removed]",
      "text/plain": [
       "<Figure size 432x288 with 1 Axes>"
      ]
     },
     "metadata": {},
     "output_type": "display_data"
    }
   ],
   "source": [
    "plt.plot(y_test, label='True')\n",
    "plt.plot(predictions_lstm, label='LSTM')\n",
    "plt.title(\"lstm's_Prediction\")\n",
    "plt.xlabel('Observation')\n",
    "plt.ylabel('euro_usd_scaled')\n",
    "plt.legend()\n",
    "plt.show()"
   ]
  },
  {
   "cell_type": "markdown",
   "metadata": {},
   "source": [
    "پس از تنظیم پارامتر ها بهترین مدل را سیو میکنیم \n"
   ]
  },
  {
   "cell_type": "code",
   "execution_count": null,
   "metadata": {
    "id": "PX_tYRZ-4pVd"
   },
   "outputs": [],
   "source": [
    "model.save(\"/content/drive/MyDrive/hw04/TrainedModel0.h5\")"
   ]
  },
  {
   "cell_type": "code",
   "execution_count": null,
   "metadata": {
    "id": "c0ky7-X-5E4S"
   },
   "outputs": [],
   "source": []
  },
  {
   "cell_type": "markdown",
   "metadata": {},
   "source": [
    "در این قسمت فاکتور "
   ]
  },
  {
   "cell_type": "markdown",
   "metadata": {
    "id": "PmMtwRAgYlqc"
   },
   "source": [
    "lookback window"
   ]
  },
  {
   "cell_type": "markdown",
   "metadata": {},
   "source": [
    "را تست میکنیم و میبینیم که مقدار را بهبود میبخشد و هر چه شبکه پیچیده تر مقدار بالاتری باید باشد و هر چه مقدار کمتر خروجی بهتری میدهد"
   ]
  },
  {
   "cell_type": "markdown",
   "metadata": {},
   "source": [
    "ما همچنین می توانیم این مسئله را طوری بیان کنیم که از مراحل زمانی اخیر برای پیش بینی مرحله زمانی بعدی استفاده کرد.\n",
    "\n",
    "این روش را پنجره می نامند و اندازه پنجره پارامتری است که می تواند در هر مسئله تغییر کند."
   ]
  },
  {
   "cell_type": "markdown",
   "metadata": {},
   "source": [
    "در اینجا با تغییر اندازه پنجره سعی در پیدا کردن بهترین اندازه هستیم که پارامتر های ارزیابی را بهبود دهد"
   ]
  },
  {
   "cell_type": "markdown",
   "metadata": {},
   "source": []
  },
  {
   "cell_type": "code",
   "execution_count": null,
   "metadata": {},
   "outputs": [],
   "source": []
  },
  {
   "cell_type": "code",
   "execution_count": 2,
   "metadata": {
    "colab": {
     "base_uri": "https://localhost:8080/"
    },
    "executionInfo": {
     "elapsed": 24406,
     "status": "ok",
     "timestamp": 1641557627863,
     "user": {
      "displayName": "pardies moradbeikie",
      "photoUrl": "https://lh3.googleusercontent.com/a-/AOh14GhmePn8H7A6nZGOAKuB4zJrDgErTqLsYg_HJSCJCQ=s64",
      "userId": "00275872828076153916"
     },
     "user_tz": -210
    },
    "id": "cN--YtwwdSg1",
    "outputId": "4d684bc6-0320-4975-9cb6-e94b7ed298a6"
   },
   "outputs": [
    {
     "name": "stdout",
     "output_type": "stream",
     "text": [
      "Mounted at /content/drive\n"
     ]
    }
   ],
   "source": [
    "from google.colab import drive\n",
    "drive.mount('/content/drive')"
   ]
  },
  {
   "cell_type": "code",
   "execution_count": 12,
   "metadata": {
    "colab": {
     "base_uri": "https://localhost:8080/",
     "height": 799
    },
    "executionInfo": {
     "elapsed": 791,
     "status": "ok",
     "timestamp": 1641560678624,
     "user": {
      "displayName": "pardies moradbeikie",
      "photoUrl": "https://lh3.googleusercontent.com/a-/AOh14GhmePn8H7A6nZGOAKuB4zJrDgErTqLsYg_HJSCJCQ=s64",
      "userId": "00275872828076153916"
     },
     "user_tz": -210
    },
    "id": "QERdbw3RYlss",
    "outputId": "2023fef3-2d63-4e0d-856d-252b64a10888"
   },
   "outputs": [
    {
     "data": {
      "text/html": [
       "\n",
       "  <div id=\"df-95022d93-0885-4681-bbad-de3ca66c767c\">\n",
       "    <div class=\"colab-df-container\">\n",
       "      <div>\n",
       "<style scoped>\n",
       "    .dataframe tbody tr th:only-of-type {\n",
       "        vertical-align: middle;\n",
       "    }\n",
       "\n",
       "    .dataframe tbody tr th {\n",
       "        vertical-align: top;\n",
       "    }\n",
       "\n",
       "    .dataframe thead th {\n",
       "        text-align: right;\n",
       "    }\n",
       "</style>\n",
       "<table border=\"1\" class=\"dataframe\">\n",
       "  <thead>\n",
       "    <tr style=\"text-align: right;\">\n",
       "      <th></th>\n",
       "      <th>OPEN</th>\n",
       "      <th>HIGH</th>\n",
       "      <th>LOW</th>\n",
       "      <th>CLOSE</th>\n",
       "    </tr>\n",
       "  </thead>\n",
       "  <tbody>\n",
       "    <tr>\n",
       "      <th>0</th>\n",
       "      <td>1.37550</td>\n",
       "      <td>1.37648</td>\n",
       "      <td>1.37372</td>\n",
       "      <td>1.37580</td>\n",
       "    </tr>\n",
       "    <tr>\n",
       "      <th>1</th>\n",
       "      <td>1.37581</td>\n",
       "      <td>1.37749</td>\n",
       "      <td>1.36294</td>\n",
       "      <td>1.36643</td>\n",
       "    </tr>\n",
       "    <tr>\n",
       "      <th>2</th>\n",
       "      <td>1.36643</td>\n",
       "      <td>1.36716</td>\n",
       "      <td>1.35821</td>\n",
       "      <td>1.35874</td>\n",
       "    </tr>\n",
       "    <tr>\n",
       "      <th>3</th>\n",
       "      <td>1.35955</td>\n",
       "      <td>1.36528</td>\n",
       "      <td>1.35712</td>\n",
       "      <td>1.36334</td>\n",
       "    </tr>\n",
       "    <tr>\n",
       "      <th>4</th>\n",
       "      <td>1.36334</td>\n",
       "      <td>1.36562</td>\n",
       "      <td>1.35966</td>\n",
       "      <td>1.36138</td>\n",
       "    </tr>\n",
       "    <tr>\n",
       "      <th>...</th>\n",
       "      <td>...</td>\n",
       "      <td>...</td>\n",
       "      <td>...</td>\n",
       "      <td>...</td>\n",
       "    </tr>\n",
       "    <tr>\n",
       "      <th>2006</th>\n",
       "      <td>1.17255</td>\n",
       "      <td>1.17255</td>\n",
       "      <td>1.16848</td>\n",
       "      <td>1.16952</td>\n",
       "    </tr>\n",
       "    <tr>\n",
       "      <th>2007</th>\n",
       "      <td>1.16940</td>\n",
       "      <td>1.17032</td>\n",
       "      <td>1.16682</td>\n",
       "      <td>1.16826</td>\n",
       "    </tr>\n",
       "    <tr>\n",
       "      <th>2008</th>\n",
       "      <td>1.16825</td>\n",
       "      <td>1.16901</td>\n",
       "      <td>1.15894</td>\n",
       "      <td>1.15969</td>\n",
       "    </tr>\n",
       "    <tr>\n",
       "      <th>2009</th>\n",
       "      <td>1.15963</td>\n",
       "      <td>1.16097</td>\n",
       "      <td>1.15626</td>\n",
       "      <td>1.15769</td>\n",
       "    </tr>\n",
       "    <tr>\n",
       "      <th>2010</th>\n",
       "      <td>1.15740</td>\n",
       "      <td>1.16075</td>\n",
       "      <td>1.15630</td>\n",
       "      <td>1.15927</td>\n",
       "    </tr>\n",
       "  </tbody>\n",
       "</table>\n",
       "<p>2011 rows × 4 columns</p>\n",
       "</div>\n",
       "      <button class=\"colab-df-convert\" onclick=\"convertToInteractive('df-95022d93-0885-4681-bbad-de3ca66c767c')\"\n",
       "              title=\"Convert this dataframe to an interactive table.\"\n",
       "              style=\"display:none;\">\n",
       "        \n",
       "  <svg xmlns=\"http://www.w3.org/2000/svg\" height=\"24px\"viewBox=\"0 0 24 24\"\n",
       "       width=\"24px\">\n",
       "    <path d=\"M0 0h24v24H0V0z\" fill=\"none\"/>\n",
       "    <path d=\"M18.56 5.44l.94 2.06.94-2.06 2.06-.94-2.06-.94-.94-2.06-.94 2.06-2.06.94zm-11 1L8.5 8.5l.94-2.06 2.06-.94-2.06-.94L8.5 2.5l-.94 2.06-2.06.94zm10 10l.94 2.06.94-2.06 2.06-.94-2.06-.94-.94-2.06-.94 2.06-2.06.94z\"/><path d=\"M17.41 7.96l-1.37-1.37c-.4-.4-.92-.59-1.43-.59-.52 0-1.04.2-1.43.59L10.3 9.45l-7.72 7.72c-.78.78-.78 2.05 0 2.83L4 21.41c.39.39.9.59 1.41.59.51 0 1.02-.2 1.41-.59l7.78-7.78 2.81-2.81c.8-.78.8-2.07 0-2.86zM5.41 20L4 18.59l7.72-7.72 1.47 1.35L5.41 20z\"/>\n",
       "  </svg>\n",
       "      </button>\n",
       "      \n",
       "  <style>\n",
       "    .colab-df-container {\n",
       "      display:flex;\n",
       "      flex-wrap:wrap;\n",
       "      gap: 12px;\n",
       "    }\n",
       "\n",
       "    .colab-df-convert {\n",
       "      background-color: #E8F0FE;\n",
       "      border: none;\n",
       "      border-radius: 50%;\n",
       "      cursor: pointer;\n",
       "      display: none;\n",
       "      fill: #1967D2;\n",
       "      height: 32px;\n",
       "      padding: 0 0 0 0;\n",
       "      width: 32px;\n",
       "    }\n",
       "\n",
       "    .colab-df-convert:hover {\n",
       "      background-color: #E2EBFA;\n",
       "      box-shadow: 0px 1px 2px rgba(60, 64, 67, 0.3), 0px 1px 3px 1px rgba(60, 64, 67, 0.15);\n",
       "      fill: #174EA6;\n",
       "    }\n",
       "\n",
       "    [theme=dark] .colab-df-convert {\n",
       "      background-color: #3B4455;\n",
       "      fill: #D2E3FC;\n",
       "    }\n",
       "\n",
       "    [theme=dark] .colab-df-convert:hover {\n",
       "      background-color: #434B5C;\n",
       "      box-shadow: 0px 1px 3px 1px rgba(0, 0, 0, 0.15);\n",
       "      filter: drop-shadow(0px 1px 2px rgba(0, 0, 0, 0.3));\n",
       "      fill: #FFFFFF;\n",
       "    }\n",
       "  </style>\n",
       "\n",
       "      <script>\n",
       "        const buttonEl =\n",
       "          document.querySelector('#df-95022d93-0885-4681-bbad-de3ca66c767c button.colab-df-convert');\n",
       "        buttonEl.style.display =\n",
       "          google.colab.kernel.accessAllowed ? 'block' : 'none';\n",
       "\n",
       "        async function convertToInteractive(key) {\n",
       "          const element = document.querySelector('#df-95022d93-0885-4681-bbad-de3ca66c767c');\n",
       "          const dataTable =\n",
       "            await google.colab.kernel.invokeFunction('convertToInteractive',\n",
       "                                                     [key], {});\n",
       "          if (!dataTable) return;\n",
       "\n",
       "          const docLinkHtml = 'Like what you see? Visit the ' +\n",
       "            '<a target=\"_blank\" href=https://colab.research.google.com/notebooks/data_table.ipynb>data table notebook</a>'\n",
       "            + ' to learn more about interactive tables.';\n",
       "          element.innerHTML = '';\n",
       "          dataTable['output_type'] = 'display_data';\n",
       "          await google.colab.output.renderOutput(dataTable, element);\n",
       "          const docLink = document.createElement('div');\n",
       "          docLink.innerHTML = docLinkHtml;\n",
       "          element.appendChild(docLink);\n",
       "        }\n",
       "      </script>\n",
       "    </div>\n",
       "  </div>\n",
       "  "
      ],
      "text/plain": [
       "         OPEN     HIGH      LOW    CLOSE\n",
       "0     1.37550  1.37648  1.37372  1.37580\n",
       "1     1.37581  1.37749  1.36294  1.36643\n",
       "2     1.36643  1.36716  1.35821  1.35874\n",
       "3     1.35955  1.36528  1.35712  1.36334\n",
       "4     1.36334  1.36562  1.35966  1.36138\n",
       "...       ...      ...      ...      ...\n",
       "2006  1.17255  1.17255  1.16848  1.16952\n",
       "2007  1.16940  1.17032  1.16682  1.16826\n",
       "2008  1.16825  1.16901  1.15894  1.15969\n",
       "2009  1.15963  1.16097  1.15626  1.15769\n",
       "2010  1.15740  1.16075  1.15630  1.15927\n",
       "\n",
       "[2011 rows x 4 columns]"
      ]
     },
     "execution_count": 12,
     "metadata": {},
     "output_type": "execute_result"
    },
    {
     "data": {
      "image/png": "[encoded data removed]",
      "text/plain": [
       "<Figure size 576x432 with 1 Axes>"
      ]
     },
     "metadata": {},
     "output_type": "display_data"
    }
   ],
   "source": [
    "from matplotlib import pyplot as plt\n",
    "import pandas as pd\n",
    "import numpy as np \n",
    "\n",
    "dataset = pd.read_csv('/content/drive/MyDrive/hw04/EURUSD_Daily_20140101_20211001.csv', usecols=[0,1,2,3,4])\n",
    "\n",
    "cols = list(['OPEN','HIGH','LOW','CLOSE'])\n",
    "\n",
    "dataset = pd.DataFrame(dataset, columns=cols)\n",
    "\n",
    "\n",
    "dataset.CLOSE.plot(figsize=(8, 6),)\n",
    "plt.title(\"CLOSE of EURUSD\", fontsize=20)\n",
    "\n",
    "dataset"
   ]
  },
  {
   "cell_type": "code",
   "execution_count": 13,
   "metadata": {
    "colab": {
     "base_uri": "https://localhost:8080/",
     "height": 206
    },
    "executionInfo": {
     "elapsed": 657,
     "status": "ok",
     "timestamp": 1641560686424,
     "user": {
      "displayName": "pardies moradbeikie",
      "photoUrl": "https://lh3.googleusercontent.com/a-/AOh14GhmePn8H7A6nZGOAKuB4zJrDgErTqLsYg_HJSCJCQ=s64",
      "userId": "00275872828076153916"
     },
     "user_tz": -210
    },
    "id": "8UUfOdfgYlvp",
    "outputId": "05676033-71e5-4244-bb8e-22e44674d140"
   },
   "outputs": [
    {
     "data": {
      "text/html": [
       "\n",
       "  <div id=\"df-2529963c-9b54-4586-b042-aba632bf0286\">\n",
       "    <div class=\"colab-df-container\">\n",
       "      <div>\n",
       "<style scoped>\n",
       "    .dataframe tbody tr th:only-of-type {\n",
       "        vertical-align: middle;\n",
       "    }\n",
       "\n",
       "    .dataframe tbody tr th {\n",
       "        vertical-align: top;\n",
       "    }\n",
       "\n",
       "    .dataframe thead th {\n",
       "        text-align: right;\n",
       "    }\n",
       "</style>\n",
       "<table border=\"1\" class=\"dataframe\">\n",
       "  <thead>\n",
       "    <tr style=\"text-align: right;\">\n",
       "      <th></th>\n",
       "      <th>OPEN</th>\n",
       "      <th>HIGH</th>\n",
       "      <th>LOW</th>\n",
       "      <th>CLOSE</th>\n",
       "    </tr>\n",
       "  </thead>\n",
       "  <tbody>\n",
       "    <tr>\n",
       "      <th>0</th>\n",
       "      <td>1.37550</td>\n",
       "      <td>1.37648</td>\n",
       "      <td>1.37372</td>\n",
       "      <td>1.37580</td>\n",
       "    </tr>\n",
       "    <tr>\n",
       "      <th>1</th>\n",
       "      <td>1.37581</td>\n",
       "      <td>1.37749</td>\n",
       "      <td>1.36294</td>\n",
       "      <td>1.36643</td>\n",
       "    </tr>\n",
       "    <tr>\n",
       "      <th>2</th>\n",
       "      <td>1.36643</td>\n",
       "      <td>1.36716</td>\n",
       "      <td>1.35821</td>\n",
       "      <td>1.35874</td>\n",
       "    </tr>\n",
       "    <tr>\n",
       "      <th>3</th>\n",
       "      <td>1.35955</td>\n",
       "      <td>1.36528</td>\n",
       "      <td>1.35712</td>\n",
       "      <td>1.36334</td>\n",
       "    </tr>\n",
       "    <tr>\n",
       "      <th>4</th>\n",
       "      <td>1.36334</td>\n",
       "      <td>1.36562</td>\n",
       "      <td>1.35966</td>\n",
       "      <td>1.36138</td>\n",
       "    </tr>\n",
       "  </tbody>\n",
       "</table>\n",
       "</div>\n",
       "      <button class=\"colab-df-convert\" onclick=\"convertToInteractive('df-2529963c-9b54-4586-b042-aba632bf0286')\"\n",
       "              title=\"Convert this dataframe to an interactive table.\"\n",
       "              style=\"display:none;\">\n",
       "        \n",
       "  <svg xmlns=\"http://www.w3.org/2000/svg\" height=\"24px\"viewBox=\"0 0 24 24\"\n",
       "       width=\"24px\">\n",
       "    <path d=\"M0 0h24v24H0V0z\" fill=\"none\"/>\n",
       "    <path d=\"M18.56 5.44l.94 2.06.94-2.06 2.06-.94-2.06-.94-.94-2.06-.94 2.06-2.06.94zm-11 1L8.5 8.5l.94-2.06 2.06-.94-2.06-.94L8.5 2.5l-.94 2.06-2.06.94zm10 10l.94 2.06.94-2.06 2.06-.94-2.06-.94-.94-2.06-.94 2.06-2.06.94z\"/><path d=\"M17.41 7.96l-1.37-1.37c-.4-.4-.92-.59-1.43-.59-.52 0-1.04.2-1.43.59L10.3 9.45l-7.72 7.72c-.78.78-.78 2.05 0 2.83L4 21.41c.39.39.9.59 1.41.59.51 0 1.02-.2 1.41-.59l7.78-7.78 2.81-2.81c.8-.78.8-2.07 0-2.86zM5.41 20L4 18.59l7.72-7.72 1.47 1.35L5.41 20z\"/>\n",
       "  </svg>\n",
       "      </button>\n",
       "      \n",
       "  <style>\n",
       "    .colab-df-container {\n",
       "      display:flex;\n",
       "      flex-wrap:wrap;\n",
       "      gap: 12px;\n",
       "    }\n",
       "\n",
       "    .colab-df-convert {\n",
       "      background-color: #E8F0FE;\n",
       "      border: none;\n",
       "      border-radius: 50%;\n",
       "      cursor: pointer;\n",
       "      display: none;\n",
       "      fill: #1967D2;\n",
       "      height: 32px;\n",
       "      padding: 0 0 0 0;\n",
       "      width: 32px;\n",
       "    }\n",
       "\n",
       "    .colab-df-convert:hover {\n",
       "      background-color: #E2EBFA;\n",
       "      box-shadow: 0px 1px 2px rgba(60, 64, 67, 0.3), 0px 1px 3px 1px rgba(60, 64, 67, 0.15);\n",
       "      fill: #174EA6;\n",
       "    }\n",
       "\n",
       "    [theme=dark] .colab-df-convert {\n",
       "      background-color: #3B4455;\n",
       "      fill: #D2E3FC;\n",
       "    }\n",
       "\n",
       "    [theme=dark] .colab-df-convert:hover {\n",
       "      background-color: #434B5C;\n",
       "      box-shadow: 0px 1px 3px 1px rgba(0, 0, 0, 0.15);\n",
       "      filter: drop-shadow(0px 1px 2px rgba(0, 0, 0, 0.3));\n",
       "      fill: #FFFFFF;\n",
       "    }\n",
       "  </style>\n",
       "\n",
       "      <script>\n",
       "        const buttonEl =\n",
       "          document.querySelector('#df-2529963c-9b54-4586-b042-aba632bf0286 button.colab-df-convert');\n",
       "        buttonEl.style.display =\n",
       "          google.colab.kernel.accessAllowed ? 'block' : 'none';\n",
       "\n",
       "        async function convertToInteractive(key) {\n",
       "          const element = document.querySelector('#df-2529963c-9b54-4586-b042-aba632bf0286');\n",
       "          const dataTable =\n",
       "            await google.colab.kernel.invokeFunction('convertToInteractive',\n",
       "                                                     [key], {});\n",
       "          if (!dataTable) return;\n",
       "\n",
       "          const docLinkHtml = 'Like what you see? Visit the ' +\n",
       "            '<a target=\"_blank\" href=https://colab.research.google.com/notebooks/data_table.ipynb>data table notebook</a>'\n",
       "            + ' to learn more about interactive tables.';\n",
       "          element.innerHTML = '';\n",
       "          dataTable['output_type'] = 'display_data';\n",
       "          await google.colab.output.renderOutput(dataTable, element);\n",
       "          const docLink = document.createElement('div');\n",
       "          docLink.innerHTML = docLinkHtml;\n",
       "          element.appendChild(docLink);\n",
       "        }\n",
       "      </script>\n",
       "    </div>\n",
       "  </div>\n",
       "  "
      ],
      "text/plain": [
       "      OPEN     HIGH      LOW    CLOSE\n",
       "0  1.37550  1.37648  1.37372  1.37580\n",
       "1  1.37581  1.37749  1.36294  1.36643\n",
       "2  1.36643  1.36716  1.35821  1.35874\n",
       "3  1.35955  1.36528  1.35712  1.36334\n",
       "4  1.36334  1.36562  1.35966  1.36138"
      ]
     },
     "execution_count": 13,
     "metadata": {},
     "output_type": "execute_result"
    }
   ],
   "source": [
    "dataset.head()"
   ]
  },
  {
   "cell_type": "code",
   "execution_count": 14,
   "metadata": {
    "colab": {
     "base_uri": "https://localhost:8080/",
     "height": 403
    },
    "executionInfo": {
     "elapsed": 1125,
     "status": "ok",
     "timestamp": 1641560692050,
     "user": {
      "displayName": "pardies moradbeikie",
      "photoUrl": "https://lh3.googleusercontent.com/a-/AOh14GhmePn8H7A6nZGOAKuB4zJrDgErTqLsYg_HJSCJCQ=s64",
      "userId": "00275872828076153916"
     },
     "user_tz": -210
    },
    "id": "Cne1M__uYlx_",
    "outputId": "2aace421-7740-4a36-e423-2f0aea3f0c6b"
   },
   "outputs": [
    {
     "name": "stderr",
     "output_type": "stream",
     "text": [
      "No handles with labels found to put in legend.\n"
     ]
    },
    {
     "data": {
      "image/png": "[encoded data removed]",
      "text/plain": [
       "<Figure size 1080x432 with 1 Axes>"
      ]
     },
     "metadata": {},
     "output_type": "display_data"
    }
   ],
   "source": [
    "plt.figure(figsize=(15,6))\n",
    "plt.plot(dataset.CLOSE)\n",
    "plt.title('Euro vs USD')\n",
    "plt.legend()\n",
    "plt.show()"
   ]
  },
  {
   "cell_type": "code",
   "execution_count": 131,
   "metadata": {
    "executionInfo": {
     "elapsed": 386,
     "status": "ok",
     "timestamp": 1641568888374,
     "user": {
      "displayName": "pardies moradbeikie",
      "photoUrl": "https://lh3.googleusercontent.com/a-/AOh14GhmePn8H7A6nZGOAKuB4zJrDgErTqLsYg_HJSCJCQ=s64",
      "userId": "00275872828076153916"
     },
     "user_tz": -210
    },
    "id": "Nj8uHnS7IU_4"
   },
   "outputs": [],
   "source": [
    "import matplotlib.pyplot as plt\n",
    "from pandas import read_csv\n",
    "import math\n",
    "from keras.models import Sequential\n",
    "from keras.layers import Dense\n",
    "from keras.layers import LSTM\n",
    "from sklearn.preprocessing import MinMaxScaler\n",
    "from sklearn.metrics import mean_squared_error"
   ]
  },
  {
   "cell_type": "code",
   "execution_count": 15,
   "metadata": {
    "colab": {
     "base_uri": "https://localhost:8080/"
    },
    "executionInfo": {
     "elapsed": 8,
     "status": "ok",
     "timestamp": 1641560693916,
     "user": {
      "displayName": "pardies moradbeikie",
      "photoUrl": "https://lh3.googleusercontent.com/a-/AOh14GhmePn8H7A6nZGOAKuB4zJrDgErTqLsYg_HJSCJCQ=s64",
      "userId": "00275872828076153916"
     },
     "user_tz": -210
    },
    "id": "iZNSjqKLYl1H",
    "outputId": "76d92d25-bed2-4319-a89a-55a1b681f241"
   },
   "outputs": [
    {
     "data": {
      "text/plain": [
       "(2011, 4)"
      ]
     },
     "execution_count": 15,
     "metadata": {},
     "output_type": "execute_result"
    }
   ],
   "source": [
    "sc = MinMaxScaler(feature_range=(0,1))\n",
    "data = sc.fit_transform(dataset)\n",
    "data.shape"
   ]
  },
  {
   "cell_type": "code",
   "execution_count": 110,
   "metadata": {
    "executionInfo": {
     "elapsed": 321,
     "status": "ok",
     "timestamp": 1641566782697,
     "user": {
      "displayName": "pardies moradbeikie",
      "photoUrl": "https://lh3.googleusercontent.com/a-/AOh14GhmePn8H7A6nZGOAKuB4zJrDgErTqLsYg_HJSCJCQ=s64",
      "userId": "00275872828076153916"
     },
     "user_tz": -210
    },
    "id": "RUAa2DxtYl3l"
   },
   "outputs": [],
   "source": [
    "def create_dataset(dataset, look_back=1):\n",
    "\tdataX, dataY = [], []\n",
    "\tfor i in range(len(dataset)-look_back-1):\n",
    "\t\ta = dataset[i:(i+look_back), 0]\n",
    "\t\tdataX.append(a)\n",
    "\t\tdataY.append(dataset[i + look_back, 0])\n",
    "\treturn np.array(dataX), np.array(dataY)\n",
    "# fix random seed for reproducibility\n",
    "np.random.seed(7)\n"
   ]
  },
  {
   "cell_type": "code",
   "execution_count": 112,
   "metadata": {
    "executionInfo": {
     "elapsed": 341,
     "status": "ok",
     "timestamp": 1641566948040,
     "user": {
      "displayName": "pardies moradbeikie",
      "photoUrl": "https://lh3.googleusercontent.com/a-/AOh14GhmePn8H7A6nZGOAKuB4zJrDgErTqLsYg_HJSCJCQ=s64",
      "userId": "00275872828076153916"
     },
     "user_tz": -210
    },
    "id": "lWZ3rReuYl6m"
   },
   "outputs": [],
   "source": [
    "\n",
    "# split into train and test sets\n",
    "train_size = int(len(data) * 0.80)\n",
    "test_size = len(data) - train_size\n",
    "train, test = data[0:train_size,:], data[train_size:len(data),:]\n",
    "\n"
   ]
  },
  {
   "cell_type": "code",
   "execution_count": 113,
   "metadata": {
    "executionInfo": {
     "elapsed": 338,
     "status": "ok",
     "timestamp": 1641566986326,
     "user": {
      "displayName": "pardies moradbeikie",
      "photoUrl": "https://lh3.googleusercontent.com/a-/AOh14GhmePn8H7A6nZGOAKuB4zJrDgErTqLsYg_HJSCJCQ=s64",
      "userId": "00275872828076153916"
     },
     "user_tz": -210
    },
    "id": "7RrkTQ-cqkvx"
   },
   "outputs": [],
   "source": [
    "look_back = 1\n",
    "trainX, trainY = create_dataset(train, look_back)\n",
    "testX, testY = create_dataset(test, look_back)\n",
    "# reshape input to be [samples, time steps, features]\n",
    "trainX = np.reshape(trainX, (trainX.shape[0], 1, trainX.shape[1]))\n",
    "testX = np.reshape(testX, (testX.shape[0], 1, testX.shape[1]))"
   ]
  },
  {
   "cell_type": "code",
   "execution_count": 116,
   "metadata": {
    "colab": {
     "base_uri": "https://localhost:8080/"
    },
    "executionInfo": {
     "elapsed": 39247,
     "status": "ok",
     "timestamp": 1641567222371,
     "user": {
      "displayName": "pardies moradbeikie",
      "photoUrl": "https://lh3.googleusercontent.com/a-/AOh14GhmePn8H7A6nZGOAKuB4zJrDgErTqLsYg_HJSCJCQ=s64",
      "userId": "00275872828076153916"
     },
     "user_tz": -210
    },
    "id": "oR8I0koJqUCE",
    "outputId": "d447e51c-aaa2-4514-eded-9744f2e2231d"
   },
   "outputs": [
    {
     "name": "stdout",
     "output_type": "stream",
     "text": [
      "Epoch 1/5\n",
      "1606/1606 - 10s - loss: 0.0311 - 10s/epoch - 7ms/step\n",
      "Epoch 2/5\n",
      "1606/1606 - 7s - loss: 0.0085 - 7s/epoch - 4ms/step\n",
      "Epoch 3/5\n",
      "1606/1606 - 7s - loss: 0.0062 - 7s/epoch - 4ms/step\n",
      "Epoch 4/5\n",
      "1606/1606 - 7s - loss: 0.0060 - 7s/epoch - 4ms/step\n",
      "Epoch 5/5\n",
      "1606/1606 - 7s - loss: 0.0059 - 7s/epoch - 5ms/step\n"
     ]
    },
    {
     "data": {
      "text/plain": [
       "<keras.callbacks.History at 0x7fad096b8090>"
      ]
     },
     "execution_count": 116,
     "metadata": {},
     "output_type": "execute_result"
    }
   ],
   "source": [
    "model = Sequential()\n",
    "model.add(LSTM(32, return_sequences=True))\n",
    "model.add(Dropout(0.5))\n",
    "model.add(LSTM(units=16, return_sequences=False))\n",
    "model.add(Dropout(0.5))\n",
    "model.add(Dense(1))\n",
    "model.compile(optimizer='adam',loss=\"mean_squared_error\")\n",
    "model.fit(trainX, trainY, epochs=5, batch_size=1, verbose=2)\n"
   ]
  },
  {
   "cell_type": "code",
   "execution_count": null,
   "metadata": {
    "id": "fvd4JpSbB3ew"
   },
   "outputs": [],
   "source": [
    "trainPredict = model.predict(trainX)\n",
    "testPredict = model.predict(testX)"
   ]
  },
  {
   "cell_type": "code",
   "execution_count": 118,
   "metadata": {
    "colab": {
     "base_uri": "https://localhost:8080/"
    },
    "executionInfo": {
     "elapsed": 433,
     "status": "ok",
     "timestamp": 1641567305607,
     "user": {
      "displayName": "pardies moradbeikie",
      "photoUrl": "https://lh3.googleusercontent.com/a-/AOh14GhmePn8H7A6nZGOAKuB4zJrDgErTqLsYg_HJSCJCQ=s64",
      "userId": "00275872828076153916"
     },
     "user_tz": -210
    },
    "id": "uqEQb_VJqcsH",
    "outputId": "dd0dae7f-91ae-45d2-ea54-7ca2a6487670"
   },
   "outputs": [
    {
     "name": "stdout",
     "output_type": "stream",
     "text": [
      "RMSE: 0.020\n",
      "MAE: 0.014\n",
      "R^2: 0.971\n"
     ]
    }
   ],
   "source": [
    "from sklearn.metrics import mean_squared_error, mean_absolute_error, r2_score\n",
    "\n",
    "predictions_lstm = model.predict(testX)\n",
    "\n",
    "#evaluating the predictions\n",
    "print('RMSE: {0:.3f}'.format(mean_squared_error(testY, predictions_lstm)**0.5))\n",
    "print('MAE: {0:.3f}'.format(mean_absolute_error(testY, predictions_lstm)))\n",
    "print('R^2: {0:.3f}'.format(r2_score(testY, predictions_lstm)))"
   ]
  },
  {
   "cell_type": "code",
   "execution_count": 119,
   "metadata": {
    "colab": {
     "base_uri": "https://localhost:8080/",
     "height": 290
    },
    "executionInfo": {
     "elapsed": 444,
     "status": "ok",
     "timestamp": 1641567352115,
     "user": {
      "displayName": "pardies moradbeikie",
      "photoUrl": "https://lh3.googleusercontent.com/a-/AOh14GhmePn8H7A6nZGOAKuB4zJrDgErTqLsYg_HJSCJCQ=s64",
      "userId": "00275872828076153916"
     },
     "user_tz": -210
    },
    "id": "0T8Gu7dtqpXN",
    "outputId": "80174442-1d86-4142-a08c-efd0be0524fb"
   },
   "outputs": [
    {
     "data": {
      "image/png": "[encoded data removed]",
      "text/plain": [
       "<Figure size 432x288 with 1 Axes>"
      ]
     },
     "metadata": {},
     "output_type": "display_data"
    }
   ],
   "source": [
    "plt.plot(testY, label='True')\n",
    "plt.plot(predictions_lstm, label='LSTM')\n",
    "plt.title(\"lstm's_Prediction\")\n",
    "plt.xlabel('Observation')\n",
    "plt.ylabel('euro_usd_scaled')\n",
    "plt.legend()\n",
    "plt.show()"
   ]
  },
  {
   "cell_type": "code",
   "execution_count": 121,
   "metadata": {
    "executionInfo": {
     "elapsed": 323,
     "status": "ok",
     "timestamp": 1641568343413,
     "user": {
      "displayName": "pardies moradbeikie",
      "photoUrl": "https://lh3.googleusercontent.com/a-/AOh14GhmePn8H7A6nZGOAKuB4zJrDgErTqLsYg_HJSCJCQ=s64",
      "userId": "00275872828076153916"
     },
     "user_tz": -210
    },
    "id": "P6m5ZK5eq3Z2"
   },
   "outputs": [],
   "source": [
    "look_back = 2\n",
    "trainX, trainY = create_dataset(train, look_back)\n",
    "testX, testY = create_dataset(test, look_back)\n",
    "# reshape input to be [samples, time steps, features]\n",
    "trainX = np.reshape(trainX, (trainX.shape[0], 1, trainX.shape[1]))\n",
    "testX = np.reshape(testX, (testX.shape[0], 1, testX.shape[1]))"
   ]
  },
  {
   "cell_type": "code",
   "execution_count": 122,
   "metadata": {
    "colab": {
     "base_uri": "https://localhost:8080/"
    },
    "executionInfo": {
     "elapsed": 39606,
     "status": "ok",
     "timestamp": 1641568406600,
     "user": {
      "displayName": "pardies moradbeikie",
      "photoUrl": "https://lh3.googleusercontent.com/a-/AOh14GhmePn8H7A6nZGOAKuB4zJrDgErTqLsYg_HJSCJCQ=s64",
      "userId": "00275872828076153916"
     },
     "user_tz": -210
    },
    "id": "-1jzCMa0q7Y8",
    "outputId": "65c8d42c-515e-4b2a-c264-352932f03a1f"
   },
   "outputs": [
    {
     "name": "stdout",
     "output_type": "stream",
     "text": [
      "Epoch 1/5\n",
      "1605/1605 - 11s - loss: 0.0283 - 11s/epoch - 7ms/step\n",
      "Epoch 2/5\n",
      "1605/1605 - 7s - loss: 0.0087 - 7s/epoch - 4ms/step\n",
      "Epoch 3/5\n",
      "1605/1605 - 7s - loss: 0.0070 - 7s/epoch - 4ms/step\n",
      "Epoch 4/5\n",
      "1605/1605 - 7s - loss: 0.0059 - 7s/epoch - 4ms/step\n",
      "Epoch 5/5\n",
      "1605/1605 - 7s - loss: 0.0062 - 7s/epoch - 4ms/step\n"
     ]
    },
    {
     "data": {
      "text/plain": [
       "<keras.callbacks.History at 0x7fad093cbc10>"
      ]
     },
     "execution_count": 122,
     "metadata": {},
     "output_type": "execute_result"
    }
   ],
   "source": [
    "model = Sequential()\n",
    "model.add(LSTM(32, return_sequences=True))\n",
    "model.add(Dropout(0.5))\n",
    "model.add(LSTM(units=16, return_sequences=False))\n",
    "model.add(Dropout(0.5))\n",
    "model.add(Dense(1))\n",
    "model.compile(optimizer='adam',loss=\"mean_squared_error\")\n",
    "model.fit(trainX, trainY, epochs=5, batch_size=1, verbose=2)"
   ]
  },
  {
   "cell_type": "code",
   "execution_count": 123,
   "metadata": {
    "colab": {
     "base_uri": "https://localhost:8080/"
    },
    "executionInfo": {
     "elapsed": 1723,
     "status": "ok",
     "timestamp": 1641568409371,
     "user": {
      "displayName": "pardies moradbeikie",
      "photoUrl": "https://lh3.googleusercontent.com/a-/AOh14GhmePn8H7A6nZGOAKuB4zJrDgErTqLsYg_HJSCJCQ=s64",
      "userId": "00275872828076153916"
     },
     "user_tz": -210
    },
    "id": "hLZtVaulq90B",
    "outputId": "1488e52c-1862-4862-c047-4c36ab4e2abd"
   },
   "outputs": [
    {
     "name": "stdout",
     "output_type": "stream",
     "text": [
      "RMSE: 0.021\n",
      "MAE: 0.017\n",
      "R^2: 0.968\n"
     ]
    }
   ],
   "source": [
    "from sklearn.metrics import mean_squared_error, mean_absolute_error, r2_score\n",
    "\n",
    "predictions_lstm = model.predict(testX)\n",
    "\n",
    "#evaluating the predictions\n",
    "print('RMSE: {0:.3f}'.format(mean_squared_error(testY, predictions_lstm)**0.5))\n",
    "print('MAE: {0:.3f}'.format(mean_absolute_error(testY, predictions_lstm)))\n",
    "print('R^2: {0:.3f}'.format(r2_score(testY, predictions_lstm)))"
   ]
  },
  {
   "cell_type": "code",
   "execution_count": 124,
   "metadata": {
    "colab": {
     "base_uri": "https://localhost:8080/",
     "height": 290
    },
    "executionInfo": {
     "elapsed": 476,
     "status": "ok",
     "timestamp": 1641568416188,
     "user": {
      "displayName": "pardies moradbeikie",
      "photoUrl": "https://lh3.googleusercontent.com/a-/AOh14GhmePn8H7A6nZGOAKuB4zJrDgErTqLsYg_HJSCJCQ=s64",
      "userId": "00275872828076153916"
     },
     "user_tz": -210
    },
    "id": "7plXNxqrrA7k",
    "outputId": "66fc51a8-11f0-488e-cd40-37499cd1d7ce"
   },
   "outputs": [
    {
     "data": {
      "image/png": "[encoded data removed]",
      "text/plain": [
       "<Figure size 432x288 with 1 Axes>"
      ]
     },
     "metadata": {},
     "output_type": "display_data"
    }
   ],
   "source": [
    "plt.plot(testY, label='True')\n",
    "plt.plot(predictions_lstm, label='LSTM')\n",
    "plt.title(\"lstm's_Prediction\")\n",
    "plt.xlabel('Observation')\n",
    "plt.ylabel('euro_usd_scaled')\n",
    "plt.legend()\n",
    "plt.show()"
   ]
  },
  {
   "cell_type": "code",
   "execution_count": 125,
   "metadata": {
    "executionInfo": {
     "elapsed": 321,
     "status": "ok",
     "timestamp": 1641568600267,
     "user": {
      "displayName": "pardies moradbeikie",
      "photoUrl": "https://lh3.googleusercontent.com/a-/AOh14GhmePn8H7A6nZGOAKuB4zJrDgErTqLsYg_HJSCJCQ=s64",
      "userId": "00275872828076153916"
     },
     "user_tz": -210
    },
    "id": "SCwbT7iDrWdA"
   },
   "outputs": [],
   "source": [
    "look_back = 5\n",
    "trainX, trainY = create_dataset(train, look_back)\n",
    "testX, testY = create_dataset(test, look_back)\n",
    "# reshape input to be [samples, time steps, features]\n",
    "trainX = np.reshape(trainX, (trainX.shape[0], 1, trainX.shape[1]))\n",
    "testX = np.reshape(testX, (testX.shape[0], 1, testX.shape[1]))\n",
    "\n"
   ]
  },
  {
   "cell_type": "code",
   "execution_count": 126,
   "metadata": {
    "colab": {
     "base_uri": "https://localhost:8080/"
    },
    "executionInfo": {
     "elapsed": 38536,
     "status": "ok",
     "timestamp": 1641568677897,
     "user": {
      "displayName": "pardies moradbeikie",
      "photoUrl": "https://lh3.googleusercontent.com/a-/AOh14GhmePn8H7A6nZGOAKuB4zJrDgErTqLsYg_HJSCJCQ=s64",
      "userId": "00275872828076153916"
     },
     "user_tz": -210
    },
    "id": "p98k0J67rfc_",
    "outputId": "5aa0ba95-1693-458b-d0e9-758667cb8b32"
   },
   "outputs": [
    {
     "name": "stdout",
     "output_type": "stream",
     "text": [
      "Epoch 1/5\n",
      "1602/1602 - 10s - loss: 0.0247 - 10s/epoch - 7ms/step\n",
      "Epoch 2/5\n",
      "1602/1602 - 7s - loss: 0.0089 - 7s/epoch - 4ms/step\n",
      "Epoch 3/5\n",
      "1602/1602 - 7s - loss: 0.0064 - 7s/epoch - 4ms/step\n",
      "Epoch 4/5\n",
      "1602/1602 - 7s - loss: 0.0052 - 7s/epoch - 4ms/step\n",
      "Epoch 5/5\n",
      "1602/1602 - 7s - loss: 0.0062 - 7s/epoch - 4ms/step\n"
     ]
    },
    {
     "data": {
      "text/plain": [
       "<keras.callbacks.History at 0x7fad0c108690>"
      ]
     },
     "execution_count": 126,
     "metadata": {},
     "output_type": "execute_result"
    }
   ],
   "source": [
    "model = Sequential()\n",
    "model.add(LSTM(32, return_sequences=True))\n",
    "model.add(Dropout(0.5))\n",
    "model.add(LSTM(units=16, return_sequences=False))\n",
    "model.add(Dropout(0.5))\n",
    "model.add(Dense(1))\n",
    "model.compile(optimizer='adam',loss=\"mean_squared_error\")\n",
    "model.fit(trainX, trainY, epochs=5, batch_size=1, verbose=2)"
   ]
  },
  {
   "cell_type": "code",
   "execution_count": 127,
   "metadata": {
    "colab": {
     "base_uri": "https://localhost:8080/"
    },
    "executionInfo": {
     "elapsed": 1849,
     "status": "ok",
     "timestamp": 1641568680797,
     "user": {
      "displayName": "pardies moradbeikie",
      "photoUrl": "https://lh3.googleusercontent.com/a-/AOh14GhmePn8H7A6nZGOAKuB4zJrDgErTqLsYg_HJSCJCQ=s64",
      "userId": "00275872828076153916"
     },
     "user_tz": -210
    },
    "id": "n1WQ8MhosFUV",
    "outputId": "2c2fc98e-df6b-45f1-d7f5-28c54f3241da"
   },
   "outputs": [
    {
     "name": "stdout",
     "output_type": "stream",
     "text": [
      "RMSE: 0.028\n",
      "MAE: 0.023\n",
      "R^2: 0.938\n"
     ]
    }
   ],
   "source": [
    "from sklearn.metrics import mean_squared_error, mean_absolute_error, r2_score\n",
    "\n",
    "predictions_lstm = model.predict(testX)\n",
    "\n",
    "#evaluating the predictions\n",
    "print('RMSE: {0:.3f}'.format(mean_squared_error(testY, predictions_lstm)**0.5))\n",
    "print('MAE: {0:.3f}'.format(mean_absolute_error(testY, predictions_lstm)))\n",
    "print('R^2: {0:.3f}'.format(r2_score(testY, predictions_lstm)))"
   ]
  },
  {
   "cell_type": "code",
   "execution_count": 128,
   "metadata": {
    "colab": {
     "base_uri": "https://localhost:8080/",
     "height": 290
    },
    "executionInfo": {
     "elapsed": 14,
     "status": "ok",
     "timestamp": 1641568680799,
     "user": {
      "displayName": "pardies moradbeikie",
      "photoUrl": "https://lh3.googleusercontent.com/a-/AOh14GhmePn8H7A6nZGOAKuB4zJrDgErTqLsYg_HJSCJCQ=s64",
      "userId": "00275872828076153916"
     },
     "user_tz": -210
    },
    "id": "RVC5JS8VsFWy",
    "outputId": "13d2b9e0-19fc-483f-a0f3-65333bb6bc89"
   },
   "outputs": [
    {
     "data": {
      "image/png": "[encoded data removed]",
      "text/plain": [
       "<Figure size 432x288 with 1 Axes>"
      ]
     },
     "metadata": {},
     "output_type": "display_data"
    }
   ],
   "source": [
    "plt.plot(testY, label='True')\n",
    "plt.plot(predictions_lstm, label='LSTM')\n",
    "plt.title(\"lstm's_Prediction\")\n",
    "plt.xlabel('Observation')\n",
    "plt.ylabel('euro_usd_scaled')\n",
    "plt.legend()\n",
    "plt.show()"
   ]
  },
  {
   "cell_type": "code",
   "execution_count": 121,
   "metadata": {
    "executionInfo": {
     "elapsed": 311,
     "status": "ok",
     "timestamp": 1641568349610,
     "user": {
      "displayName": "pardies moradbeikie",
      "photoUrl": "https://lh3.googleusercontent.com/a-/AOh14GhmePn8H7A6nZGOAKuB4zJrDgErTqLsYg_HJSCJCQ=s64",
      "userId": "00275872828076153916"
     },
     "user_tz": -210
    },
    "id": "a1U-D6tFtR5x"
   },
   "outputs": [],
   "source": []
  },
  {
   "cell_type": "code",
   "execution_count": 124,
   "metadata": {
    "executionInfo": {
     "elapsed": 3,
     "status": "ok",
     "timestamp": 1641568470012,
     "user": {
      "displayName": "pardies moradbeikie",
      "photoUrl": "https://lh3.googleusercontent.com/a-/AOh14GhmePn8H7A6nZGOAKuB4zJrDgErTqLsYg_HJSCJCQ=s64",
      "userId": "00275872828076153916"
     },
     "user_tz": -210
    },
    "id": "9-Ia9cKfthSh"
   },
   "outputs": [],
   "source": []
  },
  {
   "cell_type": "markdown",
   "metadata": {
    "executionInfo": {
     "elapsed": 305,
     "status": "ok",
     "timestamp": 1641568473384,
     "user": {
      "displayName": "pardies moradbeikie",
      "photoUrl": "https://lh3.googleusercontent.com/a-/AOh14GhmePn8H7A6nZGOAKuB4zJrDgErTqLsYg_HJSCJCQ=s64",
      "userId": "00275872828076153916"
     },
     "user_tz": -210
    },
    "id": "NQaOKsn7tn-G"
   },
   "source": [
    "در این قسمت از ما خواسته شده مقدار  روز بعد را به جای روز بعد پیش بینی کنیم و پارامتر را برای کمترین خطا محاسبه کنیم "
   ]
  },
  {
   "cell_type": "code",
   "execution_count": 124,
   "metadata": {
    "executionInfo": {
     "elapsed": 336,
     "status": "ok",
     "timestamp": 1641568476131,
     "user": {
      "displayName": "pardies moradbeikie",
      "photoUrl": "https://lh3.googleusercontent.com/a-/AOh14GhmePn8H7A6nZGOAKuB4zJrDgErTqLsYg_HJSCJCQ=s64",
      "userId": "00275872828076153916"
     },
     "user_tz": -210
    },
    "id": "kjuYndYbtsBY"
   },
   "outputs": [],
   "source": []
  },
  {
   "cell_type": "code",
   "execution_count": 133,
   "metadata": {
    "executionInfo": {
     "elapsed": 309,
     "status": "ok",
     "timestamp": 1641568952335,
     "user": {
      "displayName": "pardies moradbeikie",
      "photoUrl": "https://lh3.googleusercontent.com/a-/AOh14GhmePn8H7A6nZGOAKuB4zJrDgErTqLsYg_HJSCJCQ=s64",
      "userId": "00275872828076153916"
     },
     "user_tz": -210
    },
    "id": "U4ocWRjkt7Jg"
   },
   "outputs": [],
   "source": [
    "x=[]\n",
    "y=[]\n",
    "for i in range (len(data)-10):\n",
    "    x.append(data[i:i+5,])\n",
    "    y.append(data[i+10,3]) "
   ]
  },
  {
   "cell_type": "code",
   "execution_count": 134,
   "metadata": {
    "executionInfo": {
     "elapsed": 331,
     "status": "ok",
     "timestamp": 1641569022915,
     "user": {
      "displayName": "pardies moradbeikie",
      "photoUrl": "https://lh3.googleusercontent.com/a-/AOh14GhmePn8H7A6nZGOAKuB4zJrDgErTqLsYg_HJSCJCQ=s64",
      "userId": "00275872828076153916"
     },
     "user_tz": -210
    },
    "id": "xqP8tBrVt_e1"
   },
   "outputs": [],
   "source": [
    "x,y = np.array(x),np.array(y)"
   ]
  },
  {
   "cell_type": "code",
   "execution_count": 135,
   "metadata": {
    "executionInfo": {
     "elapsed": 308,
     "status": "ok",
     "timestamp": 1641569049195,
     "user": {
      "displayName": "pardies moradbeikie",
      "photoUrl": "https://lh3.googleusercontent.com/a-/AOh14GhmePn8H7A6nZGOAKuB4zJrDgErTqLsYg_HJSCJCQ=s64",
      "userId": "00275872828076153916"
     },
     "user_tz": -210
    },
    "id": "YUCXB7I3uIEl"
   },
   "outputs": [],
   "source": [
    "from sklearn.model_selection import train_test_split\n",
    "x_train, x_test, y_train, y_test = train_test_split(x, y, test_size = 0.2,shuffle=False)"
   ]
  },
  {
   "cell_type": "code",
   "execution_count": 136,
   "metadata": {
    "executionInfo": {
     "elapsed": 346,
     "status": "ok",
     "timestamp": 1641569132695,
     "user": {
      "displayName": "pardies moradbeikie",
      "photoUrl": "https://lh3.googleusercontent.com/a-/AOh14GhmePn8H7A6nZGOAKuB4zJrDgErTqLsYg_HJSCJCQ=s64",
      "userId": "00275872828076153916"
     },
     "user_tz": -210
    },
    "id": "kpHYBV4wuMJ3"
   },
   "outputs": [],
   "source": [
    "model = Sequential()\n",
    "model.add(LSTM(32, return_sequences=True))\n",
    "#model.add(Dropout(0.13))\n",
    "model.add(LSTM(units=16, return_sequences=False))\n",
    "#model.add(Dropout(0.01))\n",
    "model.add(Dense(1))\n",
    "model.compile(optimizer='adam',loss=\"mean_squared_error\")"
   ]
  },
  {
   "cell_type": "code",
   "execution_count": 138,
   "metadata": {
    "colab": {
     "base_uri": "https://localhost:8080/"
    },
    "executionInfo": {
     "elapsed": 42053,
     "status": "ok",
     "timestamp": 1641569216123,
     "user": {
      "displayName": "pardies moradbeikie",
      "photoUrl": "https://lh3.googleusercontent.com/a-/AOh14GhmePn8H7A6nZGOAKuB4zJrDgErTqLsYg_HJSCJCQ=s64",
      "userId": "00275872828076153916"
     },
     "user_tz": -210
    },
    "id": "y6i-VP9XuYEV",
    "outputId": "fd9f6ba3-317a-4fd7-bfed-99c8c916c2d3"
   },
   "outputs": [
    {
     "name": "stdout",
     "output_type": "stream",
     "text": [
      "Epoch 1/5\n",
      "1600/1600 [==============================] - 8s 5ms/step - loss: 0.0016\n",
      "Epoch 2/5\n",
      "1600/1600 [==============================] - 8s 5ms/step - loss: 0.0031\n",
      "Epoch 3/5\n",
      "1600/1600 [==============================] - 8s 5ms/step - loss: 0.0040\n",
      "Epoch 4/5\n",
      "1600/1600 [==============================] - 8s 5ms/step - loss: 0.0050\n",
      "Epoch 5/5\n",
      "1600/1600 [==============================] - 8s 5ms/step - loss: 0.0060\n"
     ]
    }
   ],
   "source": [
    "history = model.fit(x_train, y_train, epochs=5, batch_size=1, shuffle=False)"
   ]
  },
  {
   "cell_type": "code",
   "execution_count": 139,
   "metadata": {
    "colab": {
     "base_uri": "https://localhost:8080/"
    },
    "executionInfo": {
     "elapsed": 1988,
     "status": "ok",
     "timestamp": 1641569229875,
     "user": {
      "displayName": "pardies moradbeikie",
      "photoUrl": "https://lh3.googleusercontent.com/a-/AOh14GhmePn8H7A6nZGOAKuB4zJrDgErTqLsYg_HJSCJCQ=s64",
      "userId": "00275872828076153916"
     },
     "user_tz": -210
    },
    "id": "5DrtkkEyuc46",
    "outputId": "7733192f-8ff6-4bb2-807e-81bf488b9b47"
   },
   "outputs": [
    {
     "name": "stdout",
     "output_type": "stream",
     "text": [
      "RMSE: 0.200\n",
      "MAE: 0.183\n",
      "R^2: -2.031\n"
     ]
    }
   ],
   "source": [
    "from sklearn.metrics import mean_squared_error, mean_absolute_error, r2_score\n",
    "\n",
    "predictions_lstm = model.predict(x_test)\n",
    "\n",
    "#evaluating the predictions\n",
    "print('RMSE: {0:.3f}'.format(mean_squared_error(y_test, predictions_lstm)**0.5))\n",
    "print('MAE: {0:.3f}'.format(mean_absolute_error(y_test, predictions_lstm)))\n",
    "print('R^2: {0:.3f}'.format(r2_score(y_test, predictions_lstm)))"
   ]
  },
  {
   "cell_type": "code",
   "execution_count": 140,
   "metadata": {
    "colab": {
     "base_uri": "https://localhost:8080/"
    },
    "executionInfo": {
     "elapsed": 41302,
     "status": "ok",
     "timestamp": 1641569336295,
     "user": {
      "displayName": "pardies moradbeikie",
      "photoUrl": "https://lh3.googleusercontent.com/a-/AOh14GhmePn8H7A6nZGOAKuB4zJrDgErTqLsYg_HJSCJCQ=s64",
      "userId": "00275872828076153916"
     },
     "user_tz": -210
    },
    "id": "G831FG9QwC9H",
    "outputId": "3e17ec6b-a2fa-44e3-c367-33aad467fc5c"
   },
   "outputs": [
    {
     "name": "stdout",
     "output_type": "stream",
     "text": [
      "Epoch 1/5\n",
      "1600/1600 - 11s - loss: 0.0170 - 11s/epoch - 7ms/step\n",
      "Epoch 2/5\n",
      "1600/1600 - 7s - loss: 0.0077 - 7s/epoch - 5ms/step\n",
      "Epoch 3/5\n",
      "1600/1600 - 7s - loss: 0.0077 - 7s/epoch - 5ms/step\n",
      "Epoch 4/5\n",
      "1600/1600 - 7s - loss: 0.0070 - 7s/epoch - 5ms/step\n",
      "Epoch 5/5\n",
      "1600/1600 - 7s - loss: 0.0073 - 7s/epoch - 5ms/step\n"
     ]
    },
    {
     "data": {
      "text/plain": [
       "<keras.callbacks.History at 0x7face03fdc10>"
      ]
     },
     "execution_count": 140,
     "metadata": {},
     "output_type": "execute_result"
    }
   ],
   "source": [
    "model = Sequential()\n",
    "model.add(LSTM(32, return_sequences=True))\n",
    "model.add(Dropout(0.5))\n",
    "model.add(LSTM(units=16, return_sequences=False))\n",
    "model.add(Dropout(0.5))\n",
    "model.add(Dense(1))\n",
    "model.compile(optimizer='adam',loss=\"mean_squared_error\")\n",
    "model.fit(x_train, y_train, epochs=5, batch_size=1, verbose=2)"
   ]
  },
  {
   "cell_type": "code",
   "execution_count": 141,
   "metadata": {
    "colab": {
     "base_uri": "https://localhost:8080/"
    },
    "executionInfo": {
     "elapsed": 2001,
     "status": "ok",
     "timestamp": 1641569338292,
     "user": {
      "displayName": "pardies moradbeikie",
      "photoUrl": "https://lh3.googleusercontent.com/a-/AOh14GhmePn8H7A6nZGOAKuB4zJrDgErTqLsYg_HJSCJCQ=s64",
      "userId": "00275872828076153916"
     },
     "user_tz": -210
    },
    "id": "PXdQyAdhwGz7",
    "outputId": "ea41cfaa-de16-4c41-b2ce-62af8284e80b"
   },
   "outputs": [
    {
     "name": "stdout",
     "output_type": "stream",
     "text": [
      "RMSE: 0.040\n",
      "MAE: 0.030\n",
      "R^2: 0.881\n"
     ]
    }
   ],
   "source": [
    "from sklearn.metrics import mean_squared_error, mean_absolute_error, r2_score\n",
    "\n",
    "predictions_lstm = model.predict(x_test)\n",
    "\n",
    "#evaluating the predictions\n",
    "print('RMSE: {0:.3f}'.format(mean_squared_error(y_test, predictions_lstm)**0.5))\n",
    "print('MAE: {0:.3f}'.format(mean_absolute_error(y_test, predictions_lstm)))\n",
    "print('R^2: {0:.3f}'.format(r2_score(y_test, predictions_lstm)))"
   ]
  },
  {
   "cell_type": "code",
   "execution_count": 142,
   "metadata": {
    "colab": {
     "base_uri": "https://localhost:8080/",
     "height": 290
    },
    "executionInfo": {
     "elapsed": 482,
     "status": "ok",
     "timestamp": 1641569350132,
     "user": {
      "displayName": "pardies moradbeikie",
      "photoUrl": "https://lh3.googleusercontent.com/a-/AOh14GhmePn8H7A6nZGOAKuB4zJrDgErTqLsYg_HJSCJCQ=s64",
      "userId": "00275872828076153916"
     },
     "user_tz": -210
    },
    "id": "pXoXv2L-ys8W",
    "outputId": "fdd8bb34-9e69-4c2d-fd3c-c24625ab0293"
   },
   "outputs": [
    {
     "data": {
      "image/png": "[encoded data removed]",
      "text/plain": [
       "<Figure size 432x288 with 1 Axes>"
      ]
     },
     "metadata": {},
     "output_type": "display_data"
    }
   ],
   "source": [
    "plt.plot(y_test, label='True')\n",
    "plt.plot(predictions_lstm, label='LSTM')\n",
    "plt.title(\"lstm's_Prediction\")\n",
    "plt.xlabel('Observation')\n",
    "plt.ylabel('euro_usd_scaled')\n",
    "plt.legend()\n",
    "plt.show()"
   ]
  },
  {
   "cell_type": "code",
   "execution_count": 124,
   "metadata": {
    "executionInfo": {
     "elapsed": 347,
     "status": "ok",
     "timestamp": 1641568527812,
     "user": {
      "displayName": "pardies moradbeikie",
      "photoUrl": "https://lh3.googleusercontent.com/a-/AOh14GhmePn8H7A6nZGOAKuB4zJrDgErTqLsYg_HJSCJCQ=s64",
      "userId": "00275872828076153916"
     },
     "user_tz": -210
    },
    "id": "tq0-o7IQwP9A"
   },
   "outputs": [],
   "source": []
  },
  {
   "cell_type": "code",
   "execution_count": 124,
   "metadata": {
    "executionInfo": {
     "elapsed": 326,
     "status": "ok",
     "timestamp": 1641568532866,
     "user": {
      "displayName": "pardies moradbeikie",
      "photoUrl": "https://lh3.googleusercontent.com/a-/AOh14GhmePn8H7A6nZGOAKuB4zJrDgErTqLsYg_HJSCJCQ=s64",
      "userId": "00275872828076153916"
     },
     "user_tz": -210
    },
    "id": "ovJp-ULhwguK"
   },
   "outputs": [],
   "source": []
  },
  {
   "cell_type": "code",
   "execution_count": 124,
   "metadata": {
    "executionInfo": {
     "elapsed": 303,
     "status": "ok",
     "timestamp": 1641568536175,
     "user": {
      "displayName": "pardies moradbeikie",
      "photoUrl": "https://lh3.googleusercontent.com/a-/AOh14GhmePn8H7A6nZGOAKuB4zJrDgErTqLsYg_HJSCJCQ=s64",
      "userId": "00275872828076153916"
     },
     "user_tz": -210
    },
    "id": "JttZ8IqgwgyO"
   },
   "outputs": [],
   "source": []
  },
  {
   "cell_type": "code",
   "execution_count": 124,
   "metadata": {
    "executionInfo": {
     "elapsed": 311,
     "status": "ok",
     "timestamp": 1641568539043,
     "user": {
      "displayName": "pardies moradbeikie",
      "photoUrl": "https://lh3.googleusercontent.com/a-/AOh14GhmePn8H7A6nZGOAKuB4zJrDgErTqLsYg_HJSCJCQ=s64",
      "userId": "00275872828076153916"
     },
     "user_tz": -210
    },
    "id": "tDEj__stwg0s"
   },
   "outputs": [],
   "source": []
  },
  {
   "cell_type": "code",
   "execution_count": 124,
   "metadata": {
    "executionInfo": {
     "elapsed": 351,
     "status": "ok",
     "timestamp": 1641568542741,
     "user": {
      "displayName": "pardies moradbeikie",
      "photoUrl": "https://lh3.googleusercontent.com/a-/AOh14GhmePn8H7A6nZGOAKuB4zJrDgErTqLsYg_HJSCJCQ=s64",
      "userId": "00275872828076153916"
     },
     "user_tz": -210
    },
    "id": "67hMrLB83AK8"
   },
   "outputs": [],
   "source": []
  },
  {
   "cell_type": "code",
   "execution_count": 90,
   "metadata": {
    "executionInfo": {
     "elapsed": 344,
     "status": "ok",
     "timestamp": 1641564385188,
     "user": {
      "displayName": "pardies moradbeikie",
      "photoUrl": "https://lh3.googleusercontent.com/a-/AOh14GhmePn8H7A6nZGOAKuB4zJrDgErTqLsYg_HJSCJCQ=s64",
      "userId": "00275872828076153916"
     },
     "user_tz": -210
    },
    "id": "2wVMq6xb3ANW"
   },
   "outputs": [],
   "source": []
  },
  {
   "cell_type": "code",
   "execution_count": 90,
   "metadata": {
    "executionInfo": {
     "elapsed": 478,
     "status": "ok",
     "timestamp": 1641564388184,
     "user": {
      "displayName": "pardies moradbeikie",
      "photoUrl": "https://lh3.googleusercontent.com/a-/AOh14GhmePn8H7A6nZGOAKuB4zJrDgErTqLsYg_HJSCJCQ=s64",
      "userId": "00275872828076153916"
     },
     "user_tz": -210
    },
    "id": "Hw4tBQ4V3ATD"
   },
   "outputs": [],
   "source": []
  },
  {
   "cell_type": "code",
   "execution_count": 91,
   "metadata": {
    "executionInfo": {
     "elapsed": 2,
     "status": "ok",
     "timestamp": 1641564388638,
     "user": {
      "displayName": "pardies moradbeikie",
      "photoUrl": "https://lh3.googleusercontent.com/a-/AOh14GhmePn8H7A6nZGOAKuB4zJrDgErTqLsYg_HJSCJCQ=s64",
      "userId": "00275872828076153916"
     },
     "user_tz": -210
    },
    "id": "nYowM6Bjwwed"
   },
   "outputs": [],
   "source": []
  },
  {
   "cell_type": "code",
   "execution_count": 92,
   "metadata": {
    "executionInfo": {
     "elapsed": 3,
     "status": "ok",
     "timestamp": 1641564389816,
     "user": {
      "displayName": "pardies moradbeikie",
      "photoUrl": "https://lh3.googleusercontent.com/a-/AOh14GhmePn8H7A6nZGOAKuB4zJrDgErTqLsYg_HJSCJCQ=s64",
      "userId": "00275872828076153916"
     },
     "user_tz": -210
    },
    "id": "2DfD3Sux1vkT"
   },
   "outputs": [],
   "source": []
  },
  {
   "cell_type": "code",
   "execution_count": 93,
   "metadata": {
    "executionInfo": {
     "elapsed": 4,
     "status": "ok",
     "timestamp": 1641564391037,
     "user": {
      "displayName": "pardies moradbeikie",
      "photoUrl": "https://lh3.googleusercontent.com/a-/AOh14GhmePn8H7A6nZGOAKuB4zJrDgErTqLsYg_HJSCJCQ=s64",
      "userId": "00275872828076153916"
     },
     "user_tz": -210
    },
    "id": "-d3JHN7fw0T3"
   },
   "outputs": [],
   "source": []
  },
  {
   "cell_type": "code",
   "execution_count": 124,
   "metadata": {
    "executionInfo": {
     "elapsed": 309,
     "status": "ok",
     "timestamp": 1641568565310,
     "user": {
      "displayName": "pardies moradbeikie",
      "photoUrl": "https://lh3.googleusercontent.com/a-/AOh14GhmePn8H7A6nZGOAKuB4zJrDgErTqLsYg_HJSCJCQ=s64",
      "userId": "00275872828076153916"
     },
     "user_tz": -210
    },
    "id": "gpVW94q11e9p"
   },
   "outputs": [],
   "source": []
  },
  {
   "cell_type": "code",
   "execution_count": 124,
   "metadata": {
    "executionInfo": {
     "elapsed": 310,
     "status": "ok",
     "timestamp": 1641568579313,
     "user": {
      "displayName": "pardies moradbeikie",
      "photoUrl": "https://lh3.googleusercontent.com/a-/AOh14GhmePn8H7A6nZGOAKuB4zJrDgErTqLsYg_HJSCJCQ=s64",
      "userId": "00275872828076153916"
     },
     "user_tz": -210
    },
    "id": "37WQh2Vt1i7k"
   },
   "outputs": [],
   "source": []
  },
  {
   "cell_type": "code",
   "execution_count": 99,
   "metadata": {
    "executionInfo": {
     "elapsed": 324,
     "status": "ok",
     "timestamp": 1641565499165,
     "user": {
      "displayName": "pardies moradbeikie",
      "photoUrl": "https://lh3.googleusercontent.com/a-/AOh14GhmePn8H7A6nZGOAKuB4zJrDgErTqLsYg_HJSCJCQ=s64",
      "userId": "00275872828076153916"
     },
     "user_tz": -210
    },
    "id": "YHEGz9rk64lk"
   },
   "outputs": [],
   "source": []
  },
  {
   "cell_type": "code",
   "execution_count": 101,
   "metadata": {
    "executionInfo": {
     "elapsed": 317,
     "status": "ok",
     "timestamp": 1641565530431,
     "user": {
      "displayName": "pardies moradbeikie",
      "photoUrl": "https://lh3.googleusercontent.com/a-/AOh14GhmePn8H7A6nZGOAKuB4zJrDgErTqLsYg_HJSCJCQ=s64",
      "userId": "00275872828076153916"
     },
     "user_tz": -210
    },
    "id": "lEyJYfQZ7avu"
   },
   "outputs": [],
   "source": []
  },
  {
   "cell_type": "code",
   "execution_count": 125,
   "metadata": {
    "executionInfo": {
     "elapsed": 305,
     "status": "ok",
     "timestamp": 1641568618836,
     "user": {
      "displayName": "pardies moradbeikie",
      "photoUrl": "https://lh3.googleusercontent.com/a-/AOh14GhmePn8H7A6nZGOAKuB4zJrDgErTqLsYg_HJSCJCQ=s64",
      "userId": "00275872828076153916"
     },
     "user_tz": -210
    },
    "id": "H7kOMfqg7eXa"
   },
   "outputs": [],
   "source": []
  },
  {
   "cell_type": "code",
   "execution_count": 105,
   "metadata": {
    "executionInfo": {
     "elapsed": 394,
     "status": "ok",
     "timestamp": 1641565682580,
     "user": {
      "displayName": "pardies moradbeikie",
      "photoUrl": "https://lh3.googleusercontent.com/a-/AOh14GhmePn8H7A6nZGOAKuB4zJrDgErTqLsYg_HJSCJCQ=s64",
      "userId": "00275872828076153916"
     },
     "user_tz": -210
    },
    "id": "G46cJ6Lf8Gw5"
   },
   "outputs": [],
   "source": []
  },
  {
   "cell_type": "code",
   "execution_count": 130,
   "metadata": {
    "executionInfo": {
     "elapsed": 316,
     "status": "ok",
     "timestamp": 1641568861208,
     "user": {
      "displayName": "pardies moradbeikie",
      "photoUrl": "https://lh3.googleusercontent.com/a-/AOh14GhmePn8H7A6nZGOAKuB4zJrDgErTqLsYg_HJSCJCQ=s64",
      "userId": "00275872828076153916"
     },
     "user_tz": -210
    },
    "id": "aLnk1ss37kU6"
   },
   "outputs": [],
   "source": []
  },
  {
   "cell_type": "code",
   "execution_count": 130,
   "metadata": {
    "executionInfo": {
     "elapsed": 324,
     "status": "ok",
     "timestamp": 1641568856782,
     "user": {
      "displayName": "pardies moradbeikie",
      "photoUrl": "https://lh3.googleusercontent.com/a-/AOh14GhmePn8H7A6nZGOAKuB4zJrDgErTqLsYg_HJSCJCQ=s64",
      "userId": "00275872828076153916"
     },
     "user_tz": -210
    },
    "id": "0RdvxpF18AfR"
   },
   "outputs": [],
   "source": []
  },
  {
   "cell_type": "code",
   "execution_count": null,
   "metadata": {
    "id": "fDwmhtSk8pIW"
   },
   "outputs": [],
   "source": []
  }
 ],
 "metadata": {
  "accelerator": "GPU",
  "colab": {
   "collapsed_sections": [],
   "name": "HW4.ipynb",
   "provenance": []
  },
  "kernelspec": {
   "display_name": "Python 3 (ipykernel)",
   "language": "python",
   "name": "python3"
  },
  "language_info": {
   "codemirror_mode": {
    "name": "ipython",
    "version": 3
   },
   "file_extension": ".py",
   "mimetype": "text/x-python",
   "name": "python",
   "nbconvert_exporter": "python",
   "pygments_lexer": "ipython3",
   "version": "3.7.4"
  }
 },
 "nbformat": 4,
 "nbformat_minor": 1
}

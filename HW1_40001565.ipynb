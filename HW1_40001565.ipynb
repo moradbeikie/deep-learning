{
 "cells": [
  {
   "cell_type": "markdown",
   "metadata": {},
   "source": [
    "# سوال اول"
   ]
  },
  {
   "cell_type": "markdown",
   "metadata": {},
   "source": [
    "اولین مرحله اضافه کردن کتابخانه های مورد نیاز ماست"
   ]
  },
  {
   "cell_type": "code",
   "execution_count": 1,
   "metadata": {},
   "outputs": [
    {
     "name": "stderr",
     "output_type": "stream",
     "text": [
      "C:\\Users\\acer\\Anaconda3\\lib\\site-packages\\statsmodels\\tools\\_testing.py:19: FutureWarning: pandas.util.testing is deprecated. Use the functions in the public API at pandas.testing instead.\n",
      "  import pandas.util.testing as tm\n"
     ]
    }
   ],
   "source": [
    "import numpy as np\n",
    "import matplotlib.pyplot as plt\n",
    "#برای تست مدلم\n",
    "import sklearn\n",
    "import sklearn.datasets\n",
    "import sklearn.linear_model\n",
    "np.random.seed(1) \n",
    "import pandas as pd\n",
    "import seaborn as sns\n",
    "import warnings\n",
    "from sklearn.model_selection import train_test_split\n",
    "\n",
    "%matplotlib inline"
   ]
  },
  {
   "cell_type": "markdown",
   "metadata": {},
   "source": [
    "در این مرحله من دیتای خورد را با کتابخانه پانداس میگیرم و برای فهم بهتر نام ستون تعیین میکنم"
   ]
  },
  {
   "cell_type": "code",
   "execution_count": 2,
   "metadata": {},
   "outputs": [
    {
     "data": {
      "text/html": [
       "<div>\n",
       "<style scoped>\n",
       "    .dataframe tbody tr th:only-of-type {\n",
       "        vertical-align: middle;\n",
       "    }\n",
       "\n",
       "    .dataframe tbody tr th {\n",
       "        vertical-align: top;\n",
       "    }\n",
       "\n",
       "    .dataframe thead th {\n",
       "        text-align: right;\n",
       "    }\n",
       "</style>\n",
       "<table border=\"1\" class=\"dataframe\">\n",
       "  <thead>\n",
       "    <tr style=\"text-align: right;\">\n",
       "      <th></th>\n",
       "      <th>id</th>\n",
       "      <th>age</th>\n",
       "      <th>name</th>\n",
       "      <th>kind</th>\n",
       "      <th>resave</th>\n",
       "      <th>chanel</th>\n",
       "      <th>time</th>\n",
       "      <th>measure</th>\n",
       "      <th>sex</th>\n",
       "      <th>label</th>\n",
       "    </tr>\n",
       "  </thead>\n",
       "  <tbody>\n",
       "    <tr>\n",
       "      <th>0</th>\n",
       "      <td>45341</td>\n",
       "      <td>28</td>\n",
       "      <td>1</td>\n",
       "      <td>1</td>\n",
       "      <td>28.13</td>\n",
       "      <td>1</td>\n",
       "      <td>34</td>\n",
       "      <td>1</td>\n",
       "      <td>112.5</td>\n",
       "      <td>1</td>\n",
       "    </tr>\n",
       "    <tr>\n",
       "      <th>1</th>\n",
       "      <td>12958</td>\n",
       "      <td>37</td>\n",
       "      <td>2</td>\n",
       "      <td>1</td>\n",
       "      <td>12.95</td>\n",
       "      <td>1</td>\n",
       "      <td>53</td>\n",
       "      <td>1</td>\n",
       "      <td>37.0</td>\n",
       "      <td>0</td>\n",
       "    </tr>\n",
       "    <tr>\n",
       "      <th>2</th>\n",
       "      <td>18233</td>\n",
       "      <td>27</td>\n",
       "      <td>3</td>\n",
       "      <td>0</td>\n",
       "      <td>0.00</td>\n",
       "      <td>1</td>\n",
       "      <td>28</td>\n",
       "      <td>0</td>\n",
       "      <td>13.0</td>\n",
       "      <td>0</td>\n",
       "    </tr>\n",
       "    <tr>\n",
       "      <th>3</th>\n",
       "      <td>31742</td>\n",
       "      <td>36</td>\n",
       "      <td>3</td>\n",
       "      <td>0</td>\n",
       "      <td>0.00</td>\n",
       "      <td>1</td>\n",
       "      <td>1</td>\n",
       "      <td>0</td>\n",
       "      <td>34.0</td>\n",
       "      <td>0</td>\n",
       "    </tr>\n",
       "    <tr>\n",
       "      <th>4</th>\n",
       "      <td>14381</td>\n",
       "      <td>26</td>\n",
       "      <td>4</td>\n",
       "      <td>0</td>\n",
       "      <td>23.76</td>\n",
       "      <td>1</td>\n",
       "      <td>33</td>\n",
       "      <td>0</td>\n",
       "      <td>39.6</td>\n",
       "      <td>0</td>\n",
       "    </tr>\n",
       "  </tbody>\n",
       "</table>\n",
       "</div>"
      ],
      "text/plain": [
       "      id  age  name  kind  resave  chanel  time  measure    sex  label\n",
       "0  45341   28     1     1   28.13       1    34        1  112.5      1\n",
       "1  12958   37     2     1   12.95       1    53        1   37.0      0\n",
       "2  18233   27     3     0    0.00       1    28        0   13.0      0\n",
       "3  31742   36     3     0    0.00       1     1        0   34.0      0\n",
       "4  14381   26     4     0   23.76       1    33        0   39.6      0"
      ]
     },
     "execution_count": 2,
     "metadata": {},
     "output_type": "execute_result"
    }
   ],
   "source": [
    "colNames = [\"id\", \"age\", \"name\",\"kind\",\"resave\", \"chanel\", \"time\",\"measure\", \"sex\", \"label\"]\n",
    "dataset = pd.read_csv(\"data.csv\", names=colNames,delimiter=',',header=None)\n",
    "dataset.head()"
   ]
  },
  {
   "cell_type": "markdown",
   "metadata": {},
   "source": [
    "برای درک بهتر ارتباطات در هر ستون و بررسی میزان اثر ان بر برچسب هر سطر ان را روی نمودار میبریم.\n",
    "برای این کار ای دی را نسبت به هر ویژگی و ارتباط ان رسم میکنم"
   ]
  },
  {
   "cell_type": "code",
   "execution_count": 4,
   "metadata": {
    "scrolled": true
   },
   "outputs": [
    {
     "name": "stderr",
     "output_type": "stream",
     "text": [
      "C:\\Users\\acer\\Anaconda3\\lib\\site-packages\\statsmodels\\nonparametric\\kde.py:487: RuntimeWarning: invalid value encountered in true_divide\n",
      "  binned = fast_linbin(X, a, b, gridsize) / (delta * nobs)\n",
      "C:\\Users\\acer\\Anaconda3\\lib\\site-packages\\statsmodels\\nonparametric\\kdetools.py:34: RuntimeWarning: invalid value encountered in double_scalars\n",
      "  FAC1 = 2*(np.pi*bw/RANGE)**2\n"
     ]
    },
    {
     "data": {
      "image/png": "[encoded data removed]",
      "text/plain": [
       "<Figure size 1662.38x1620 with 90 Axes>"
      ]
     },
     "metadata": {
      "needs_background": "light"
     },
     "output_type": "display_data"
    }
   ],
   "source": [
    "g = sns.pairplot(dataset.drop(\"id\", axis=1), hue=\"label\")"
   ]
  },
  {
   "cell_type": "markdown",
   "metadata": {},
   "source": [
    "برای مثال همانطور که میبینیم جنسیت فاکتور با ارزشی نیست"
   ]
  },
  {
   "cell_type": "markdown",
   "metadata": {},
   "source": [
    "در این تمرین برای نرمالسازی و بردن داده ها به رنج خاصی از توابع متعدد و کتابخانه های متعدد می توان استفاده کرد برای مثال برای نرمالسازی داده ها و بردن ان ها به رنج -1 و +1 هستند و چون داده هایمان همگی مثبت هستند ابتدا باید با دستور زیر میانگین داده ها را 0 کرد  "
   ]
  },
  {
   "cell_type": "markdown",
   "metadata": {},
   "source": [
    "x-=np.mean(x, axis=0)"
   ]
  },
  {
   "cell_type": "markdown",
   "metadata": {},
   "source": [
    "بعد میتوان برای بردن داده ها به رنج منفی یک تا یک استفاده کرد یا از سیگموید برای بردن داده ها به رنج صفر و یک استفاده کردtanh(x)"
   ]
  },
  {
   "cell_type": "markdown",
   "metadata": {},
   "source": [
    "از انجا که داده هایمان زیاد نیست که برای پایین اوردن زمان اجرا و همچنین اختیاری بودن از نرمالسازی صرف نظر شد از سویی نرمالسازی ممکن است ارزش پارامتر برای مثال جنسیت را زیاد کند"
   ]
  },
  {
   "cell_type": "markdown",
   "metadata": {},
   "source": [
    "یا دادگان را نرمالسازی کنیم به این صورت که استاندارد در هر ویژگی را حساب کرده تقسیم بر ان میکنیم\n"
   ]
  },
  {
   "cell_type": "markdown",
   "metadata": {},
   "source": [
    "x/=np.std(x,axis=0) فرمول"
   ]
  },
  {
   "cell_type": "markdown",
   "metadata": {},
   "source": [
    "راه حل های دیگری نیز هست مانند تبدیل ماتریس کواریانس به یک ماتریس قطری یا تبدیل ماتریس کواریانس به یک ماتریس همانی"
   ]
  },
  {
   "cell_type": "markdown",
   "metadata": {},
   "source": [
    "استفاده از مرحله پیش پردازش و نرمالسازی تاثیری در نتیجه ما ندارد فقط سرعت کار را بالا میبرد"
   ]
  },
  {
   "cell_type": "markdown",
   "metadata": {},
   "source": [
    "# سوال 2"
   ]
  },
  {
   "cell_type": "markdown",
   "metadata": {},
   "source": [
    "برای تبدیل دادگان به دو دسته مجموعه اموزشی و مجموعه تست داریم"
   ]
  },
  {
   "cell_type": "code",
   "execution_count": 3,
   "metadata": {},
   "outputs": [],
   "source": [
    "columns = [\"age\", \"name\",\"kind\",\"resave\", \"chanel\", \"time\",\"measure\", \"sex\"]\n",
    "x = pd.DataFrame(dataset, columns=columns)\n",
    "\n",
    "columns = ['label']\n",
    "y = pd.DataFrame(dataset, columns=columns)\n",
    "\n",
    "x_train, x_test, y_train, y_test = train_test_split(x, y, test_size=0.2)"
   ]
  },
  {
   "cell_type": "code",
   "execution_count": 4,
   "metadata": {},
   "outputs": [
    {
     "name": "stdout",
     "output_type": "stream",
     "text": [
      "The shape of X is: (8, 49830)\n",
      "The shape of Y is: (1, 49830)\n",
      "I have m = 49830 training examples!\n"
     ]
    }
   ],
   "source": [
    "x=x_train.to_numpy()\n",
    "y=y_train.to_numpy()\n",
    "x=x.reshape(8,49830)\n",
    "y=y.reshape(1,49830)\n",
    "shape_X = x.shape\n",
    "shape_Y = y.shape\n",
    "m = shape_X[1] \n",
    "print ('The shape of X is: ' + str(shape_X))\n",
    "print ('The shape of Y is: ' + str(shape_Y))\n",
    "print ('I have m = %d training examples!' % (m))"
   ]
  },
  {
   "cell_type": "code",
   "execution_count": 5,
   "metadata": {},
   "outputs": [
    {
     "name": "stdout",
     "output_type": "stream",
     "text": [
      "The shape of test_set_x is: (8, 12458)\n",
      "The shape of test_set_y is: (1, 12458)\n"
     ]
    }
   ],
   "source": [
    "test_set_x=x_test.to_numpy()\n",
    "test_set_y=y_test.to_numpy()\n",
    "test_set_x=test_set_x.reshape(8,12458)\n",
    "test_set_y=test_set_y.reshape(1,12458)\n",
    "shape_test_set_x=test_set_x.shape\n",
    "shape_test_set_y=test_set_y.shape\n",
    "print ('The shape of test_set_x is: ' + str(shape_test_set_x))\n",
    "print ('The shape of test_set_y is: ' + str(shape_test_set_y))"
   ]
  },
  {
   "cell_type": "markdown",
   "metadata": {},
   "source": [
    "# سوال 3"
   ]
  },
  {
   "cell_type": "markdown",
   "metadata": {},
   "source": [
    "شبکه عصبی دولایه شبکه عصبی با یک لایه مخفی است "
   ]
  },
  {
   "cell_type": "markdown",
   "metadata": {},
   "source": [
    "برای اینکار من یک لایه ورودی دو ماتریس وزن براساس تعداد نرون ها باید بسازم "
   ]
  },
  {
   "cell_type": "markdown",
   "metadata": {},
   "source": [
    "تعداد نرون ها براساس مقالات به فاکتورهایی بستگی دارد از جمله این فاکتور ها تعداد نرون های ورودی تعداد نرون های خروجی عامل مقیاس بندی و همچنین تعداد نمونه های موجود در داده آموزشی که در اینجا تعداد نرون ها را 10 در نظر گرفتیم"
   ]
  },
  {
   "cell_type": "code",
   "execution_count": 43,
   "metadata": {},
   "outputs": [],
   "source": [
    "e=[]"
   ]
  },
  {
   "cell_type": "code",
   "execution_count": 44,
   "metadata": {},
   "outputs": [],
   "source": [
    "def sigmoid(z):\n",
    "    s = 1 / (1 + np.exp(-z))    \n",
    "    return s"
   ]
  },
  {
   "cell_type": "code",
   "execution_count": 45,
   "metadata": {},
   "outputs": [],
   "source": [
    "def layer_sizes(X, Y):\n",
    "    n_x = X.shape[0]\n",
    "    n_h = 10\n",
    "    n_y = Y.shape[0]\n",
    "    return (n_x, n_h, n_y)"
   ]
  },
  {
   "cell_type": "code",
   "execution_count": 46,
   "metadata": {},
   "outputs": [],
   "source": [
    "def initialize_parameters(n_x, n_h, n_y):\n",
    "    np.random.seed(2)\n",
    "    W1 = np.random.randn(n_h,n_x)* 0.01\n",
    "    b1 = np.zeros((n_h,1))\n",
    "    W2 = np.random.randn(n_y,n_h) * 0.01\n",
    "    b2 = np.zeros((n_y,1))    \n",
    "    print(\"w1:======\",W1,\"%\",\"w2:======\",W2)\n",
    "    assert (W1.shape == (n_h, n_x))\n",
    "    assert (b1.shape == (n_h, 1))\n",
    "    assert (W2.shape == (n_y, n_h))\n",
    "    assert (b2.shape == (n_y, 1))\n",
    "    \n",
    "    parameters = {\"W1\": W1,\n",
    "                  \"b1\": b1,\n",
    "                  \"W2\": W2,\n",
    "                  \"b2\": b2}\n",
    "    \n",
    "    return parameters"
   ]
  },
  {
   "cell_type": "code",
   "execution_count": 47,
   "metadata": {},
   "outputs": [],
   "source": [
    "def forward_propagation(X, parameters):\n",
    "    W1 = parameters[\"W1\"]\n",
    "    b1 = parameters[\"b1\"]\n",
    "    W2 = parameters[\"W2\"]\n",
    "    b2 = parameters[\"b2\"]\n",
    "    Z1 = np.dot(W1,X) + b1\n",
    "    A1 = np.tanh(Z1)\n",
    "    Z2 = np.dot(W2,A1) + b2\n",
    "    A2 = sigmoid(Z2)\n",
    "    assert(A2.shape == (1, X.shape[1]))    \n",
    "    cache = {\"Z1\": Z1,\n",
    "             \"A1\": A1,\n",
    "             \"Z2\": Z2,\n",
    "             \"A2\": A2}\n",
    "    return A2, cache"
   ]
  },
  {
   "cell_type": "code",
   "execution_count": 48,
   "metadata": {},
   "outputs": [],
   "source": [
    "def compute_cost(A2, Y, parameters):    \n",
    "    m = Y.shape[1] \n",
    "    logprobs = np.multiply(np.log(A2),Y) + np.multiply(np.log(1 - A2),1 - Y)\n",
    "    cost = - np.sum(logprobs) * (1 / m) \n",
    "    cost = np.squeeze(cost)\n",
    "    assert(isinstance(cost, float))\n",
    "#    e.append(cost)\n",
    "    return cost"
   ]
  },
  {
   "cell_type": "code",
   "execution_count": 49,
   "metadata": {},
   "outputs": [],
   "source": [
    "def backward_propagation(parameters, cache, X, Y):\n",
    "    m = X.shape[1]\n",
    "    W1 = parameters[\"W1\"]\n",
    "    W2 = parameters[\"W2\"]\n",
    "    A1 = cache[\"A1\"]\n",
    "    A2 = cache[\"A2\"]\n",
    "    dZ2= A2 - Y\n",
    "    dW2 = 1 / m *(np.dot(dZ2,A1.T))\n",
    "    db2 = 1 / m *(np.sum(dZ2,axis = 1,keepdims = True))\n",
    "    dZ1 = np.dot(W2.T,dZ2) * (1 - np.power(A1, 2))\n",
    "    dW1 = 1 / m *(np.dot(dZ1,X.T))\n",
    "    db1 = 1 / m *(np.sum(dZ1,axis = 1,keepdims = True))\n",
    "    grads = {\"dW1\": dW1,\n",
    "             \"db1\": db1,\n",
    "             \"dW2\": dW2,\n",
    "             \"db2\": db2}\n",
    "    return grads"
   ]
  },
  {
   "cell_type": "code",
   "execution_count": 50,
   "metadata": {},
   "outputs": [],
   "source": [
    "def update_parameters(parameters, grads, learning_rate = 1.2):\n",
    "    W1 = parameters[\"W1\"]\n",
    "    b1 = parameters[\"b1\"]\n",
    "    W2 = parameters[\"W2\"]\n",
    "    b2 = parameters[\"b2\"]\n",
    "    dW1 = grads[\"dW1\"]\n",
    "    db1 = grads[\"db1\"]\n",
    "    dW2 = grads[\"dW2\"]\n",
    "    db2 = grads[\"db2\"]\n",
    "    W1 = W1 - learning_rate * dW1\n",
    "    b1 = b1 - learning_rate * db1\n",
    "    W2 = W2 - learning_rate * dW2\n",
    "    b2 = b2 - learning_rate * db2\n",
    "    parameters = {\"W1\": W1,\n",
    "                  \"b1\": b1,\n",
    "                  \"W2\": W2,\n",
    "                  \"b2\": b2}    \n",
    "    return parameters"
   ]
  },
  {
   "cell_type": "code",
   "execution_count": 51,
   "metadata": {},
   "outputs": [],
   "source": [
    "def nn_model(X, Y, n_h, num_iterations , print_cost=False):\n",
    "    np.random.seed(3)\n",
    "    n_x = layer_sizes(X, Y)[0]\n",
    "    n_y = layer_sizes(X, Y)[2]\n",
    "    parameters = initialize_parameters(n_x,n_h,n_y)\n",
    "    W1 = parameters[\"W1\"]\n",
    "    b1 = parameters[\"b1\"]\n",
    "    W2 = parameters[\"W2\"]\n",
    "    b2 = parameters[\"b2\"]\n",
    "    for i in range(0, num_iterations):         \n",
    "        A2, cache = forward_propagation(X,parameters)        \n",
    "        cost = compute_cost(A2, Y, parameters)\n",
    "        grads = backward_propagation(parameters, cache, X, Y) \n",
    "        parameters = update_parameters(parameters, grads)\n",
    "        e.append(cost)\n",
    "        if print_cost and i % 1000 == 0:\n",
    "            print (\"Cost after iteration %i: %f\" %(i, cost))\n",
    "    return parameters"
   ]
  },
  {
   "cell_type": "code",
   "execution_count": 52,
   "metadata": {},
   "outputs": [],
   "source": [
    "def predict(parameters, X):\n",
    "    A2, cache = forward_propagation(X,parameters)\n",
    "    predictions = (A2 > 0.5)    \n",
    "    return predictions"
   ]
  },
  {
   "cell_type": "code",
   "execution_count": 53,
   "metadata": {
    "scrolled": true
   },
   "outputs": [
    {
     "name": "stdout",
     "output_type": "stream",
     "text": [
      "w1:====== [[-4.16757847e-03 -5.62668272e-04 -2.13619610e-02  1.64027081e-02\n",
      "  -1.79343559e-02 -8.41747366e-03  5.02881417e-03 -1.24528809e-02]\n",
      " [-1.05795222e-02 -9.09007615e-03  5.51454045e-03  2.29220801e-02\n",
      "   4.15393930e-04 -1.11792545e-02  5.39058321e-03 -5.96159700e-03]\n",
      " [-1.91304965e-04  1.17500122e-02 -7.47870949e-03  9.02525097e-05\n",
      "  -8.78107893e-03 -1.56434170e-03  2.56570452e-03 -9.88779049e-03]\n",
      " [-3.38821966e-03 -2.36184031e-03 -6.37655012e-03 -1.18761229e-02\n",
      "  -1.42121723e-02 -1.53495196e-03 -2.69056960e-03  2.23136679e-02]\n",
      " [-2.43476758e-02  1.12726505e-03  3.70444537e-03  1.35963386e-02\n",
      "   5.01857207e-03 -8.44213704e-03  9.76147160e-08  5.42352572e-03]\n",
      " [-3.13508197e-03  7.71011738e-03 -1.86809065e-02  1.73118467e-02\n",
      "   1.46767801e-02 -3.35677339e-03  6.11340780e-03  4.79705919e-04]\n",
      " [-8.29135289e-03  8.77102184e-04  1.00036589e-02 -3.81092518e-03\n",
      "  -3.75669423e-03 -7.44707629e-04  4.33496330e-03  1.27837923e-02]\n",
      " [-6.34679305e-03  5.08396243e-03  2.16116006e-03 -1.85861239e-02\n",
      "  -4.19316482e-03 -1.32328898e-03 -3.95702397e-04  3.26003433e-03]\n",
      " [-2.04032305e-02  4.62555231e-04 -6.77675577e-03 -1.43943903e-02\n",
      "   5.24296430e-03  7.35279576e-03 -6.53250268e-03  8.42456282e-03]\n",
      " [-3.81516482e-03  6.64890091e-04 -1.09873895e-02  1.58448706e-02\n",
      "  -2.65944946e-02 -9.14526229e-04  6.95119605e-03 -2.03346655e-02]] % w2:====== [[-0.00189469 -0.00077219  0.00824703  0.01248213 -0.00403892 -0.01384519\n",
      "   0.01367235  0.01217886 -0.00462005  0.00350888]]\n",
      "Cost after iteration 0: 0.690487\n"
     ]
    }
   ],
   "source": [
    "parameters = nn_model(x, y, n_h = 10, num_iterations = 100, print_cost=True)"
   ]
  },
  {
   "cell_type": "code",
   "execution_count": 54,
   "metadata": {},
   "outputs": [
    {
     "name": "stdout",
     "output_type": "stream",
     "text": [
      "Accuracy: 80%\n"
     ]
    }
   ],
   "source": [
    "predictions = predict(parameters, x)\n",
    "print ('Accuracy: %d' % float((np.dot(y,predictions.T) + np.dot(1-y,1-predictions.T))/float(y.size)*100) + '%')"
   ]
  },
  {
   "cell_type": "code",
   "execution_count": null,
   "metadata": {
    "scrolled": true
   },
   "outputs": [],
   "source": []
  },
  {
   "cell_type": "code",
   "execution_count": null,
   "metadata": {
    "scrolled": true
   },
   "outputs": [],
   "source": []
  },
  {
   "cell_type": "code",
   "execution_count": null,
   "metadata": {},
   "outputs": [],
   "source": []
  },
  {
   "cell_type": "code",
   "execution_count": null,
   "metadata": {},
   "outputs": [],
   "source": []
  },
  {
   "cell_type": "code",
   "execution_count": null,
   "metadata": {
    "scrolled": true
   },
   "outputs": [],
   "source": []
  },
  {
   "cell_type": "code",
   "execution_count": null,
   "metadata": {},
   "outputs": [],
   "source": []
  },
  {
   "cell_type": "code",
   "execution_count": null,
   "metadata": {},
   "outputs": [],
   "source": []
  },
  {
   "cell_type": "markdown",
   "metadata": {},
   "source": [
    "# سوال 4"
   ]
  },
  {
   "cell_type": "markdown",
   "metadata": {},
   "source": [
    "در این قسمت برای درک بهتر صحت مشتق گیری همین کد بالا را برای یک مقدار محاسبه میکنیم و اگر از مقدار کمتر بود یعنی بسیار ناچیز و محاسبات ما درست است"
   ]
  },
  {
   "cell_type": "code",
   "execution_count": 30,
   "metadata": {},
   "outputs": [],
   "source": [
    "def forward_propagation(x, theta):\n",
    "    J = theta * x    \n",
    "    return J"
   ]
  },
  {
   "cell_type": "code",
   "execution_count": 31,
   "metadata": {},
   "outputs": [
    {
     "name": "stdout",
     "output_type": "stream",
     "text": [
      "J = 8\n"
     ]
    }
   ],
   "source": [
    "x, theta = 2, 4\n",
    "J = forward_propagation(x, theta)\n",
    "print (\"J = \" + str(J))"
   ]
  },
  {
   "cell_type": "code",
   "execution_count": 32,
   "metadata": {},
   "outputs": [],
   "source": [
    "def backward_propagation(x, theta):\n",
    "    dtheta = x    \n",
    "    return dtheta"
   ]
  },
  {
   "cell_type": "code",
   "execution_count": 33,
   "metadata": {},
   "outputs": [
    {
     "name": "stdout",
     "output_type": "stream",
     "text": [
      "dtheta = 2\n"
     ]
    }
   ],
   "source": [
    "x, theta = 2, 4\n",
    "dtheta = backward_propagation(x, theta)\n",
    "print (\"dtheta = \" + str(dtheta))"
   ]
  },
  {
   "cell_type": "code",
   "execution_count": 34,
   "metadata": {},
   "outputs": [],
   "source": [
    "def gradient_check(x, theta, epsilon = 1e-7):\n",
    "    thetaplus = theta + epsilon                               \n",
    "    thetaminus = theta - epsilon                              \n",
    "    J_plus = forward_propagation(x, thetaplus)               \n",
    "    J_minus = forward_propagation(x, thetaminus)              \n",
    "    gradapprox = (J_plus - J_minus) / (2 * epsilon)          \n",
    "    grad = backward_propagation(x,theta)    \n",
    "    numerator = np.linalg.norm(grad - gradapprox)                   \n",
    "    denominator = np.linalg.norm(grad) + np.linalg.norm(gradapprox) \n",
    "    difference = numerator / denominator                               \n",
    "    if difference < 1e-7:\n",
    "        print (\"The gradient is correct!\")\n",
    "    else:\n",
    "        print (\"The gradient is wrong!\")\n",
    "    \n",
    "    return difference"
   ]
  },
  {
   "cell_type": "code",
   "execution_count": 35,
   "metadata": {},
   "outputs": [
    {
     "name": "stdout",
     "output_type": "stream",
     "text": [
      "The gradient is correct!\n",
      "difference = 2.919335883291695e-10\n"
     ]
    }
   ],
   "source": [
    "x, theta = 2, 4\n",
    "difference = gradient_check(x, theta)\n",
    "print(\"difference = \" + str(difference))"
   ]
  },
  {
   "cell_type": "markdown",
   "metadata": {},
   "source": [
    "# سوال 5"
   ]
  },
  {
   "cell_type": "markdown",
   "metadata": {},
   "source": [
    "عملکرد مدل ما بر روی هر دو داده اموزشی و ازمایشی خوب است و اختلاف کمی دارد اگر اختلاف زیاد بود میتوانستیم تابع هزینه مربوط به وزن ها را اضافه کنیم یعنی همان ضریب تنظیم تا هر دو دسته به نسبت خوب باشند یا میشد از توابع پیچیده تر نیز استفاده شود"
   ]
  },
  {
   "cell_type": "code",
   "execution_count": 56,
   "metadata": {
    "scrolled": true
   },
   "outputs": [
    {
     "name": "stdout",
     "output_type": "stream",
     "text": [
      "w1:====== [[-4.16757847e-03 -5.62668272e-04 -2.13619610e-02  1.64027081e-02\n",
      "  -1.79343559e-02 -8.41747366e-03  5.02881417e-03 -1.24528809e-02]\n",
      " [-1.05795222e-02 -9.09007615e-03  5.51454045e-03  2.29220801e-02\n",
      "   4.15393930e-04 -1.11792545e-02  5.39058321e-03 -5.96159700e-03]\n",
      " [-1.91304965e-04  1.17500122e-02 -7.47870949e-03  9.02525097e-05\n",
      "  -8.78107893e-03 -1.56434170e-03  2.56570452e-03 -9.88779049e-03]\n",
      " [-3.38821966e-03 -2.36184031e-03 -6.37655012e-03 -1.18761229e-02\n",
      "  -1.42121723e-02 -1.53495196e-03 -2.69056960e-03  2.23136679e-02]\n",
      " [-2.43476758e-02  1.12726505e-03  3.70444537e-03  1.35963386e-02\n",
      "   5.01857207e-03 -8.44213704e-03  9.76147160e-08  5.42352572e-03]\n",
      " [-3.13508197e-03  7.71011738e-03 -1.86809065e-02  1.73118467e-02\n",
      "   1.46767801e-02 -3.35677339e-03  6.11340780e-03  4.79705919e-04]\n",
      " [-8.29135289e-03  8.77102184e-04  1.00036589e-02 -3.81092518e-03\n",
      "  -3.75669423e-03 -7.44707629e-04  4.33496330e-03  1.27837923e-02]\n",
      " [-6.34679305e-03  5.08396243e-03  2.16116006e-03 -1.85861239e-02\n",
      "  -4.19316482e-03 -1.32328898e-03 -3.95702397e-04  3.26003433e-03]\n",
      " [-2.04032305e-02  4.62555231e-04 -6.77675577e-03 -1.43943903e-02\n",
      "   5.24296430e-03  7.35279576e-03 -6.53250268e-03  8.42456282e-03]\n",
      " [-3.81516482e-03  6.64890091e-04 -1.09873895e-02  1.58448706e-02\n",
      "  -2.65944946e-02 -9.14526229e-04  6.95119605e-03 -2.03346655e-02]] % w2:====== [[-0.00189469 -0.00077219  0.00824703  0.01248213 -0.00403892 -0.01384519\n",
      "   0.01367235  0.01217886 -0.00462005  0.00350888]]\n",
      "Cost after iteration 0: 0.690475\n"
     ]
    }
   ],
   "source": [
    "parameters = nn_model(x, y, n_h = 10, num_iterations = 100, print_cost=True)"
   ]
  },
  {
   "cell_type": "code",
   "execution_count": 59,
   "metadata": {},
   "outputs": [
    {
     "name": "stdout",
     "output_type": "stream",
     "text": [
      "Accuracy: 80%\n"
     ]
    }
   ],
   "source": [
    "predictions = predict(parameters, x)\n",
    "print ('Accuracy: %d' % int((np.dot(y,predictions.T) + np.dot(1-y,1-predictions.T))/float(y.size)*100) + '%')"
   ]
  },
  {
   "cell_type": "code",
   "execution_count": 53,
   "metadata": {
    "scrolled": true
   },
   "outputs": [
    {
     "name": "stdout",
     "output_type": "stream",
     "text": [
      "w1:====== [[-4.16757847e-03 -5.62668272e-04 -2.13619610e-02  1.64027081e-02\n",
      "  -1.79343559e-02 -8.41747366e-03  5.02881417e-03 -1.24528809e-02]\n",
      " [-1.05795222e-02 -9.09007615e-03  5.51454045e-03  2.29220801e-02\n",
      "   4.15393930e-04 -1.11792545e-02  5.39058321e-03 -5.96159700e-03]\n",
      " [-1.91304965e-04  1.17500122e-02 -7.47870949e-03  9.02525097e-05\n",
      "  -8.78107893e-03 -1.56434170e-03  2.56570452e-03 -9.88779049e-03]\n",
      " [-3.38821966e-03 -2.36184031e-03 -6.37655012e-03 -1.18761229e-02\n",
      "  -1.42121723e-02 -1.53495196e-03 -2.69056960e-03  2.23136679e-02]\n",
      " [-2.43476758e-02  1.12726505e-03  3.70444537e-03  1.35963386e-02\n",
      "   5.01857207e-03 -8.44213704e-03  9.76147160e-08  5.42352572e-03]\n",
      " [-3.13508197e-03  7.71011738e-03 -1.86809065e-02  1.73118467e-02\n",
      "   1.46767801e-02 -3.35677339e-03  6.11340780e-03  4.79705919e-04]\n",
      " [-8.29135289e-03  8.77102184e-04  1.00036589e-02 -3.81092518e-03\n",
      "  -3.75669423e-03 -7.44707629e-04  4.33496330e-03  1.27837923e-02]\n",
      " [-6.34679305e-03  5.08396243e-03  2.16116006e-03 -1.85861239e-02\n",
      "  -4.19316482e-03 -1.32328898e-03 -3.95702397e-04  3.26003433e-03]\n",
      " [-2.04032305e-02  4.62555231e-04 -6.77675577e-03 -1.43943903e-02\n",
      "   5.24296430e-03  7.35279576e-03 -6.53250268e-03  8.42456282e-03]\n",
      " [-3.81516482e-03  6.64890091e-04 -1.09873895e-02  1.58448706e-02\n",
      "  -2.65944946e-02 -9.14526229e-04  6.95119605e-03 -2.03346655e-02]] % w2:====== [[-0.00189469 -0.00077219  0.00824703  0.01248213 -0.00403892 -0.01384519\n",
      "   0.01367235  0.01217886 -0.00462005  0.00350888]]\n",
      "Cost after iteration 0: 0.690595\n"
     ]
    }
   ],
   "source": [
    "parameters = nn_model(test_set_x, test_set_y, n_h = 10, num_iterations = 100, print_cost=True)"
   ]
  },
  {
   "cell_type": "code",
   "execution_count": 60,
   "metadata": {},
   "outputs": [
    {
     "name": "stdout",
     "output_type": "stream",
     "text": [
      "Accuracy: 79%\n"
     ]
    }
   ],
   "source": [
    "predictions = predict(parameters, test_set_x)\n",
    "print ('Accuracy: %d' % int((np.dot(test_set_y,predictions.T) + np.dot(1-test_set_y,1-predictions.T))/float(test_set_y.size)*100) + '%')"
   ]
  },
  {
   "cell_type": "code",
   "execution_count": 61,
   "metadata": {},
   "outputs": [],
   "source": [
    "results = [79,80]\n",
    "# calculate mean\n",
    "m = sum(results) / len(results)\n",
    "\n",
    "# calculate variance using a list comprehension\n",
    "var_res = sum((xi - m) ** 2 for xi in results) / len(results)"
   ]
  },
  {
   "cell_type": "code",
   "execution_count": 62,
   "metadata": {},
   "outputs": [
    {
     "name": "stdout",
     "output_type": "stream",
     "text": [
      "mean:=== 79.5\n",
      "variance:=== 0.25\n"
     ]
    }
   ],
   "source": [
    "print(\"mean:===\",m)\n",
    "print(\"variance:===\",var_res)"
   ]
  },
  {
   "cell_type": "markdown",
   "metadata": {},
   "source": [
    "# سوال 6"
   ]
  },
  {
   "cell_type": "code",
   "execution_count": 79,
   "metadata": {},
   "outputs": [],
   "source": [
    "e=[]"
   ]
  },
  {
   "cell_type": "code",
   "execution_count": 80,
   "metadata": {
    "scrolled": true
   },
   "outputs": [
    {
     "name": "stdout",
     "output_type": "stream",
     "text": [
      "w1:====== [[-4.16757847e-03 -5.62668272e-04 -2.13619610e-02  1.64027081e-02\n",
      "  -1.79343559e-02 -8.41747366e-03  5.02881417e-03 -1.24528809e-02]\n",
      " [-1.05795222e-02 -9.09007615e-03  5.51454045e-03  2.29220801e-02\n",
      "   4.15393930e-04 -1.11792545e-02  5.39058321e-03 -5.96159700e-03]\n",
      " [-1.91304965e-04  1.17500122e-02 -7.47870949e-03  9.02525097e-05\n",
      "  -8.78107893e-03 -1.56434170e-03  2.56570452e-03 -9.88779049e-03]\n",
      " [-3.38821966e-03 -2.36184031e-03 -6.37655012e-03 -1.18761229e-02\n",
      "  -1.42121723e-02 -1.53495196e-03 -2.69056960e-03  2.23136679e-02]\n",
      " [-2.43476758e-02  1.12726505e-03  3.70444537e-03  1.35963386e-02\n",
      "   5.01857207e-03 -8.44213704e-03  9.76147160e-08  5.42352572e-03]\n",
      " [-3.13508197e-03  7.71011738e-03 -1.86809065e-02  1.73118467e-02\n",
      "   1.46767801e-02 -3.35677339e-03  6.11340780e-03  4.79705919e-04]\n",
      " [-8.29135289e-03  8.77102184e-04  1.00036589e-02 -3.81092518e-03\n",
      "  -3.75669423e-03 -7.44707629e-04  4.33496330e-03  1.27837923e-02]\n",
      " [-6.34679305e-03  5.08396243e-03  2.16116006e-03 -1.85861239e-02\n",
      "  -4.19316482e-03 -1.32328898e-03 -3.95702397e-04  3.26003433e-03]\n",
      " [-2.04032305e-02  4.62555231e-04 -6.77675577e-03 -1.43943903e-02\n",
      "   5.24296430e-03  7.35279576e-03 -6.53250268e-03  8.42456282e-03]\n",
      " [-3.81516482e-03  6.64890091e-04 -1.09873895e-02  1.58448706e-02\n",
      "  -2.65944946e-02 -9.14526229e-04  6.95119605e-03 -2.03346655e-02]] % w2:====== [[-0.00189469 -0.00077219  0.00824703  0.01248213 -0.00403892 -0.01384519\n",
      "   0.01367235  0.01217886 -0.00462005  0.00350888]]\n",
      "Cost after iteration 0: 0.690487\n"
     ]
    }
   ],
   "source": [
    "parameters = nn_model(x, y, n_h = 10, num_iterations = 100, print_cost=True)"
   ]
  },
  {
   "cell_type": "code",
   "execution_count": 81,
   "metadata": {
    "scrolled": true
   },
   "outputs": [
    {
     "data": {
      "text/plain": [
       "[0.6904865164130443,\n",
       " 0.5362036553668209,\n",
       " 0.5313391289591991,\n",
       " 0.5151096284748454,\n",
       " 0.5161412729818964,\n",
       " 0.5038402705884971,\n",
       " 0.5027780020819809,\n",
       " 0.5006846387376667,\n",
       " 0.5001715107826581,\n",
       " 0.4996781601068703,\n",
       " 0.49949031309265446,\n",
       " 0.49934694018523595,\n",
       " 0.4992738698740525,\n",
       " 0.4992217268717696,\n",
       " 0.4991920430891374,\n",
       " 0.499171938695477,\n",
       " 0.49915789004107614,\n",
       " 0.49914656455662465,\n",
       " 0.49913751799152506,\n",
       " 0.4991298948575574,\n",
       " 0.4991232747327105,\n",
       " 0.49911697083760564,\n",
       " 0.4991113053289624,\n",
       " 0.499106521242587,\n",
       " 0.49910120696110827,\n",
       " 0.4990971383490677,\n",
       " 0.4990923157504105,\n",
       " 0.49908781480795467,\n",
       " 0.4990840626252547,\n",
       " 0.4990795842210007,\n",
       " 0.49907610861205015,\n",
       " 0.4990719024361405,\n",
       " 0.49906775714477974,\n",
       " 0.49906413997274773,\n",
       " 0.49905986203375685,\n",
       " 0.4990547186851238,\n",
       " 0.49904892841288195,\n",
       " 0.4990443805360186,\n",
       " 0.49904033369172474,\n",
       " 0.49903650117324905,\n",
       " 0.49903272182419445,\n",
       " 0.4990291218687323,\n",
       " 0.49902602836374443,\n",
       " 0.4990227032154403,\n",
       " 0.4990191125656772,\n",
       " 0.4990167667173854,\n",
       " 0.49901515371273075,\n",
       " 0.49901278773243135,\n",
       " 0.49901052132571316,\n",
       " 0.4990132894160826,\n",
       " 0.49901199385167144,\n",
       " 0.499012433136249,\n",
       " 0.4990149873101343,\n",
       " 0.49901558846190036,\n",
       " 0.4990186247153483,\n",
       " 0.49901915505317634,\n",
       " 0.4990223662498099,\n",
       " 0.4990223535335085,\n",
       " 0.4990253355539792,\n",
       " 0.4990245668225018,\n",
       " 0.49902691466817556,\n",
       " 0.499025180254908,\n",
       " 0.4990260345756787,\n",
       " 0.499021455046335,\n",
       " 0.49901910669540056,\n",
       " 0.49901630738725017,\n",
       " 0.49901688149368706,\n",
       " 0.49901464783987853,\n",
       " 0.49901497088687435,\n",
       " 0.49901284916091865,\n",
       " 0.4990129267186363,\n",
       " 0.4990108931954849,\n",
       " 0.499010780102558,\n",
       " 0.4990088777308889,\n",
       " 0.4990086776130702,\n",
       " 0.4990068809417343,\n",
       " 0.4990066485943739,\n",
       " 0.4990049520385166,\n",
       " 0.499004752574407,\n",
       " 0.4990031121355872,\n",
       " 0.49900297113666675,\n",
       " 0.49900136077491763,\n",
       " 0.4990013091073323,\n",
       " 0.4989996781691445,\n",
       " 0.4989997110221813,\n",
       " 0.4989980287234517,\n",
       " 0.49899814971700607,\n",
       " 0.49899636292044547,\n",
       " 0.49899654008467154,\n",
       " 0.4989946361968654,\n",
       " 0.49899488097503897,\n",
       " 0.4989928303183699,\n",
       " 0.4989931117036956,\n",
       " 0.49899097375198465,\n",
       " 0.4989913735535247,\n",
       " 0.49898909980621536,\n",
       " 0.4989894848342233,\n",
       " 0.49898722830686226,\n",
       " 0.4989878539522164,\n",
       " 0.49898519334948566]"
      ]
     },
     "execution_count": 81,
     "metadata": {},
     "output_type": "execute_result"
    }
   ],
   "source": [
    "e"
   ]
  },
  {
   "cell_type": "code",
   "execution_count": 82,
   "metadata": {},
   "outputs": [],
   "source": [
    "costt=[]\n",
    "for i in range(len(e)-1):\n",
    "    costt.append(e[i])"
   ]
  },
  {
   "cell_type": "code",
   "execution_count": 83,
   "metadata": {},
   "outputs": [
    {
     "data": {
      "image/png": "[encoded data removed]",
      "text/plain": [
       "<Figure size 432x288 with 1 Axes>"
      ]
     },
     "metadata": {
      "needs_background": "light"
     },
     "output_type": "display_data"
    }
   ],
   "source": [
    "import matplotlib.pyplot as plt1\n",
    "\n",
    "# plotting Loss\n",
    "plt1.plot(costt)\n",
    "plt1.ylabel('cost_train')\n",
    "plt1.xlabel(\"Epochs:\")\n",
    "plt1.show()"
   ]
  },
  {
   "cell_type": "code",
   "execution_count": 84,
   "metadata": {},
   "outputs": [],
   "source": [
    "e=[]"
   ]
  },
  {
   "cell_type": "code",
   "execution_count": 85,
   "metadata": {
    "scrolled": true
   },
   "outputs": [
    {
     "name": "stdout",
     "output_type": "stream",
     "text": [
      "w1:====== [[-4.16757847e-03 -5.62668272e-04 -2.13619610e-02  1.64027081e-02\n",
      "  -1.79343559e-02 -8.41747366e-03  5.02881417e-03 -1.24528809e-02]\n",
      " [-1.05795222e-02 -9.09007615e-03  5.51454045e-03  2.29220801e-02\n",
      "   4.15393930e-04 -1.11792545e-02  5.39058321e-03 -5.96159700e-03]\n",
      " [-1.91304965e-04  1.17500122e-02 -7.47870949e-03  9.02525097e-05\n",
      "  -8.78107893e-03 -1.56434170e-03  2.56570452e-03 -9.88779049e-03]\n",
      " [-3.38821966e-03 -2.36184031e-03 -6.37655012e-03 -1.18761229e-02\n",
      "  -1.42121723e-02 -1.53495196e-03 -2.69056960e-03  2.23136679e-02]\n",
      " [-2.43476758e-02  1.12726505e-03  3.70444537e-03  1.35963386e-02\n",
      "   5.01857207e-03 -8.44213704e-03  9.76147160e-08  5.42352572e-03]\n",
      " [-3.13508197e-03  7.71011738e-03 -1.86809065e-02  1.73118467e-02\n",
      "   1.46767801e-02 -3.35677339e-03  6.11340780e-03  4.79705919e-04]\n",
      " [-8.29135289e-03  8.77102184e-04  1.00036589e-02 -3.81092518e-03\n",
      "  -3.75669423e-03 -7.44707629e-04  4.33496330e-03  1.27837923e-02]\n",
      " [-6.34679305e-03  5.08396243e-03  2.16116006e-03 -1.85861239e-02\n",
      "  -4.19316482e-03 -1.32328898e-03 -3.95702397e-04  3.26003433e-03]\n",
      " [-2.04032305e-02  4.62555231e-04 -6.77675577e-03 -1.43943903e-02\n",
      "   5.24296430e-03  7.35279576e-03 -6.53250268e-03  8.42456282e-03]\n",
      " [-3.81516482e-03  6.64890091e-04 -1.09873895e-02  1.58448706e-02\n",
      "  -2.65944946e-02 -9.14526229e-04  6.95119605e-03 -2.03346655e-02]] % w2:====== [[-0.00189469 -0.00077219  0.00824703  0.01248213 -0.00403892 -0.01384519\n",
      "   0.01367235  0.01217886 -0.00462005  0.00350888]]\n",
      "Cost after iteration 0: 0.690544\n"
     ]
    }
   ],
   "source": [
    "parameters = nn_model(test_set_x, test_set_y, n_h = 10, num_iterations = 100, print_cost=True)"
   ]
  },
  {
   "cell_type": "code",
   "execution_count": 86,
   "metadata": {
    "scrolled": true
   },
   "outputs": [
    {
     "data": {
      "text/plain": [
       "[0.6905436234487838,\n",
       " 0.5404189653309547,\n",
       " 0.5382625938123128,\n",
       " 0.5233917532283413,\n",
       " 0.5252134143709214,\n",
       " 0.5111673314895758,\n",
       " 0.5100061510342473,\n",
       " 0.5076746464626392,\n",
       " 0.5070876035363008,\n",
       " 0.5066061531312887,\n",
       " 0.5064101253761949,\n",
       " 0.5062577270240484,\n",
       " 0.5061690768778975,\n",
       " 0.5061001570122822,\n",
       " 0.5060530067903828,\n",
       " 0.5060141334399854,\n",
       " 0.5059704974431197,\n",
       " 0.505927646236425,\n",
       " 0.5058896735509356,\n",
       " 0.5058637275922977,\n",
       " 0.5058365664925223,\n",
       " 0.5058190643884196,\n",
       " 0.5058098349703433,\n",
       " 0.5058350158681446,\n",
       " 0.5057893789895322,\n",
       " 0.5058067727158371,\n",
       " 0.5058225027505205,\n",
       " 0.5059264642681167,\n",
       " 0.5058589076552199,\n",
       " 0.505856504165017,\n",
       " 0.50594412502065,\n",
       " 0.506031816457995,\n",
       " 0.5059573783695541,\n",
       " 0.5058123447890736,\n",
       " 0.5058234798190895,\n",
       " 0.5059148632461767,\n",
       " 0.5059285765643172,\n",
       " 0.5058402099039986,\n",
       " 0.5059311236687115,\n",
       " 0.506033779180774,\n",
       " 0.5059068347444052,\n",
       " 0.5058390852216951,\n",
       " 0.505935315247926,\n",
       " 0.5060027364120789,\n",
       " 0.5060219209059686,\n",
       " 0.5062108912323937,\n",
       " 0.50612114644344,\n",
       " 0.506012068602948,\n",
       " 0.5059691221562894,\n",
       " 0.506028206520327,\n",
       " 0.5059604718531425,\n",
       " 0.5059886915838459,\n",
       " 0.5060251233055179,\n",
       " 0.5060749545873313,\n",
       " 0.5059735715134626,\n",
       " 0.5058890546767704,\n",
       " 0.5059473014238971,\n",
       " 0.5058825957927834,\n",
       " 0.505823120597787,\n",
       " 0.5058547749040204,\n",
       " 0.5059920139806101,\n",
       " 0.5059998344974681,\n",
       " 0.5059727695756946,\n",
       " 0.5059622014654858,\n",
       " 0.5059567553784421,\n",
       " 0.5060405577817578,\n",
       " 0.5059044128620308,\n",
       " 0.5057622543425941,\n",
       " 0.5059363924123336,\n",
       " 0.5058152896171514,\n",
       " 0.5057304195323233,\n",
       " 0.5057724003083195,\n",
       " 0.5056909058239836,\n",
       " 0.5056183131657569,\n",
       " 0.5057011289863645,\n",
       " 0.505831441572126,\n",
       " 0.5056856311166991,\n",
       " 0.5056120444822569,\n",
       " 0.5055243578248136,\n",
       " 0.5055528971876698,\n",
       " 0.5056970963706349,\n",
       " 0.5056521084266484,\n",
       " 0.5058237815889969,\n",
       " 0.5057158987491034,\n",
       " 0.5058640850672976,\n",
       " 0.5058213234124863,\n",
       " 0.5061581243966532,\n",
       " 0.5059615217183226,\n",
       " 0.5060948122620965,\n",
       " 0.5059745708417337,\n",
       " 0.5063697389488968,\n",
       " 0.5060492920374721,\n",
       " 0.5059049962746276,\n",
       " 0.5057735370150731,\n",
       " 0.5058526613328743,\n",
       " 0.5057974120379506,\n",
       " 0.505659634001293,\n",
       " 0.5056588770198929,\n",
       " 0.5057251289491279,\n",
       " 0.5055377143173422]"
      ]
     },
     "execution_count": 86,
     "metadata": {},
     "output_type": "execute_result"
    }
   ],
   "source": [
    "e"
   ]
  },
  {
   "cell_type": "code",
   "execution_count": 87,
   "metadata": {},
   "outputs": [],
   "source": [
    "costt=[]\n",
    "for i in range(len(e)-1):\n",
    "    costt.append(e[i])"
   ]
  },
  {
   "cell_type": "code",
   "execution_count": 89,
   "metadata": {},
   "outputs": [
    {
     "data": {
      "image/png": "[encoded data removed]",
      "text/plain": [
       "<Figure size 432x288 with 1 Axes>"
      ]
     },
     "metadata": {
      "needs_background": "light"
     },
     "output_type": "display_data"
    }
   ],
   "source": [
    "import matplotlib.pyplot as plt1\n",
    "\n",
    "# plotting Loss\n",
    "plt1.plot(costt)\n",
    "plt1.ylabel('cost_test')\n",
    "plt1.xlabel(\"Epochs:\")\n",
    "plt1.show()"
   ]
  },
  {
   "cell_type": "markdown",
   "metadata": {},
   "source": [
    "# سوال 7"
   ]
  },
  {
   "cell_type": "markdown",
   "metadata": {},
   "source": [
    "در این بخش خواهیم دید که اگر مقدار ما خیلی بزرگ باشد مقادیر اول پایین می اید ولی بعد از جواب بهینه ما دور میشود همچنین اگر بسیار کم باشد خیلی دیر به جواب بهینه میرسیم ولی نمودار محدب است به جواب میرسیم اما خیلی دیر"
   ]
  },
  {
   "cell_type": "code",
   "execution_count": 16,
   "metadata": {
    "scrolled": true
   },
   "outputs": [],
   "source": [
    "#learning_rate=0.1\n",
    "e=[]"
   ]
  },
  {
   "cell_type": "code",
   "execution_count": 17,
   "metadata": {},
   "outputs": [],
   "source": [
    "def update_parameters(parameters, grads, learning_rate = 0.0001):\n",
    "    W1 = parameters[\"W1\"]\n",
    "    b1 = parameters[\"b1\"]\n",
    "    W2 = parameters[\"W2\"]\n",
    "    b2 = parameters[\"b2\"]\n",
    "    dW1 = grads[\"dW1\"]\n",
    "    db1 = grads[\"db1\"]\n",
    "    dW2 = grads[\"dW2\"]\n",
    "    db2 = grads[\"db2\"]\n",
    "    W1 = W1 - learning_rate * dW1\n",
    "    b1 = b1 - learning_rate * db1\n",
    "    W2 = W2 - learning_rate * dW2\n",
    "    b2 = b2 - learning_rate * db2\n",
    "    parameters = {\"W1\": W1,\n",
    "                  \"b1\": b1,\n",
    "                  \"W2\": W2,\n",
    "                  \"b2\": b2}    \n",
    "    return parameters"
   ]
  },
  {
   "cell_type": "code",
   "execution_count": 18,
   "metadata": {
    "scrolled": true
   },
   "outputs": [
    {
     "name": "stdout",
     "output_type": "stream",
     "text": [
      "w1:====== [[-4.16757847e-03 -5.62668272e-04 -2.13619610e-02  1.64027081e-02\n",
      "  -1.79343559e-02 -8.41747366e-03  5.02881417e-03 -1.24528809e-02]\n",
      " [-1.05795222e-02 -9.09007615e-03  5.51454045e-03  2.29220801e-02\n",
      "   4.15393930e-04 -1.11792545e-02  5.39058321e-03 -5.96159700e-03]\n",
      " [-1.91304965e-04  1.17500122e-02 -7.47870949e-03  9.02525097e-05\n",
      "  -8.78107893e-03 -1.56434170e-03  2.56570452e-03 -9.88779049e-03]\n",
      " [-3.38821966e-03 -2.36184031e-03 -6.37655012e-03 -1.18761229e-02\n",
      "  -1.42121723e-02 -1.53495196e-03 -2.69056960e-03  2.23136679e-02]\n",
      " [-2.43476758e-02  1.12726505e-03  3.70444537e-03  1.35963386e-02\n",
      "   5.01857207e-03 -8.44213704e-03  9.76147160e-08  5.42352572e-03]\n",
      " [-3.13508197e-03  7.71011738e-03 -1.86809065e-02  1.73118467e-02\n",
      "   1.46767801e-02 -3.35677339e-03  6.11340780e-03  4.79705919e-04]\n",
      " [-8.29135289e-03  8.77102184e-04  1.00036589e-02 -3.81092518e-03\n",
      "  -3.75669423e-03 -7.44707629e-04  4.33496330e-03  1.27837923e-02]\n",
      " [-6.34679305e-03  5.08396243e-03  2.16116006e-03 -1.85861239e-02\n",
      "  -4.19316482e-03 -1.32328898e-03 -3.95702397e-04  3.26003433e-03]\n",
      " [-2.04032305e-02  4.62555231e-04 -6.77675577e-03 -1.43943903e-02\n",
      "   5.24296430e-03  7.35279576e-03 -6.53250268e-03  8.42456282e-03]\n",
      " [-3.81516482e-03  6.64890091e-04 -1.09873895e-02  1.58448706e-02\n",
      "  -2.65944946e-02 -9.14526229e-04  6.95119605e-03 -2.03346655e-02]] % w2:====== [[-0.00189469 -0.00077219  0.00824703  0.01248213 -0.00403892 -0.01384519\n",
      "   0.01367235  0.01217886 -0.00462005  0.00350888]]\n",
      "Cost after iteration 0: 0.690487\n"
     ]
    }
   ],
   "source": [
    "parameters = nn_model(x, y, n_h = 10, num_iterations = 100, print_cost=True)"
   ]
  },
  {
   "cell_type": "code",
   "execution_count": 19,
   "metadata": {
    "scrolled": true
   },
   "outputs": [
    {
     "data": {
      "text/plain": [
       "[0.6904865164130443,\n",
       " 0.6904630772545437,\n",
       " 0.6904396340650909,\n",
       " 0.6904161868064652,\n",
       " 0.6903927354408939,\n",
       " 0.6903692799310445,\n",
       " 0.6903458202400171,\n",
       " 0.6903223563313359,\n",
       " 0.6902988881689404,\n",
       " 0.6902754157171757,\n",
       " 0.6902519389407831,\n",
       " 0.6902284578048893,\n",
       " 0.6902049722749971,\n",
       " 0.6901814823169736,\n",
       " 0.6901579878970409,\n",
       " 0.6901344889817631,\n",
       " 0.6901109855380377,\n",
       " 0.6900874775330826,\n",
       " 0.6900639649344265,\n",
       " 0.6900404477098947,\n",
       " 0.6900169258276018,\n",
       " 0.6899933992559365,\n",
       " 0.6899698679635515,\n",
       " 0.6899463319193511,\n",
       " 0.6899227910924793,\n",
       " 0.6898992454523072,\n",
       " 0.6898756949684202,\n",
       " 0.6898521396106059,\n",
       " 0.6898285793488397,\n",
       " 0.6898050141532728,\n",
       " 0.6897814439942168,\n",
       " 0.6897578688421302,\n",
       " 0.6897342886676044,\n",
       " 0.6897107034413476,\n",
       " 0.6896871131341693,\n",
       " 0.6896635177169661,\n",
       " 0.6896399171607038,\n",
       " 0.6896163114364017,\n",
       " 0.6895927005151149,\n",
       " 0.689569084367919,\n",
       " 0.6895454629658894,\n",
       " 0.6895218362800862,\n",
       " 0.6894982042815352,\n",
       " 0.6894745669412097,\n",
       " 0.6894509242300131,\n",
       " 0.6894272761187599,\n",
       " 0.6894036225781591,\n",
       " 0.689379963578796,\n",
       " 0.6893562990911148,\n",
       " 0.6893326290854027,\n",
       " 0.6893089535317741,\n",
       " 0.6892852724001546,\n",
       " 0.6892615856602692,\n",
       " 0.6892378932816268,\n",
       " 0.6892141952335104,\n",
       " 0.689190491484967,\n",
       " 0.6891667820047983,\n",
       " 0.6891430667615553,\n",
       " 0.6891193457235328,\n",
       " 0.6890956188587664,\n",
       " 0.6890718861350331,\n",
       " 0.689048147519852,\n",
       " 0.6890244029804888,\n",
       " 0.6890006524839623,\n",
       " 0.6889768959970529,\n",
       " 0.6889531334863139,\n",
       " 0.6889293649180855,\n",
       " 0.6889055902585105,\n",
       " 0.688881809473552,\n",
       " 0.688858022529015,\n",
       " 0.6888342293905677,\n",
       " 0.6888104300237661,\n",
       " 0.6887866243940798,\n",
       " 0.6887628124669204,\n",
       " 0.6887389942076686,\n",
       " 0.6887151695817044,\n",
       " 0.6886913385544381,\n",
       " 0.6886675010913411,\n",
       " 0.6886436571579754,\n",
       " 0.6886198067200268,\n",
       " 0.6885959497433335,\n",
       " 0.6885720861939181,\n",
       " 0.6885482160380144,\n",
       " 0.6885243392420974,\n",
       " 0.6885004557729091,\n",
       " 0.688476565597483,\n",
       " 0.6884526686831686,\n",
       " 0.6884287649976518,\n",
       " 0.688404854508975,\n",
       " 0.6883809371855537,\n",
       " 0.6883570129961917,\n",
       " 0.688333081910094,\n",
       " 0.6883091438968773,\n",
       " 0.6882851989265771,\n",
       " 0.6882612469696554,\n",
       " 0.6882372879970022,\n",
       " 0.6882133219799386,\n",
       " 0.6881893488902155,\n",
       " 0.6881653687000102,\n",
       " 0.6881413813819242]"
      ]
     },
     "execution_count": 19,
     "metadata": {},
     "output_type": "execute_result"
    }
   ],
   "source": [
    "e"
   ]
  },
  {
   "cell_type": "code",
   "execution_count": 21,
   "metadata": {
    "scrolled": true
   },
   "outputs": [],
   "source": [
    "#learning rate=0.0001\n",
    "# calculate mean\n",
    "m = sum(e) / len(e)\n",
    "\n",
    "# calculate variance using a list comprehension\n",
    "var_res = sum((xi - m) ** 2 for xi in e) / len(e)"
   ]
  },
  {
   "cell_type": "code",
   "execution_count": 22,
   "metadata": {},
   "outputs": [
    {
     "name": "stdout",
     "output_type": "stream",
     "text": [
      "mean:=== 0.6893184674424324\n",
      "variance:=== 4.6737188005550175e-07\n"
     ]
    }
   ],
   "source": [
    "print(\"mean:===\",m)\n",
    "print(\"variance:===\",var_res)"
   ]
  },
  {
   "cell_type": "code",
   "execution_count": 37,
   "metadata": {},
   "outputs": [],
   "source": [
    "#learning_rate=1\n",
    "e=[]"
   ]
  },
  {
   "cell_type": "code",
   "execution_count": 38,
   "metadata": {},
   "outputs": [],
   "source": [
    "def update_parameters(parameters, grads, learning_rate = 2):\n",
    "    W1 = parameters[\"W1\"]\n",
    "    b1 = parameters[\"b1\"]\n",
    "    W2 = parameters[\"W2\"]\n",
    "    b2 = parameters[\"b2\"]\n",
    "    dW1 = grads[\"dW1\"]\n",
    "    db1 = grads[\"db1\"]\n",
    "    dW2 = grads[\"dW2\"]\n",
    "    db2 = grads[\"db2\"]\n",
    "    W1 = W1 - learning_rate * dW1\n",
    "    b1 = b1 - learning_rate * db1\n",
    "    W2 = W2 - learning_rate * dW2\n",
    "    b2 = b2 - learning_rate * db2\n",
    "    parameters = {\"W1\": W1,\n",
    "                  \"b1\": b1,\n",
    "                  \"W2\": W2,\n",
    "                  \"b2\": b2}    \n",
    "    return parameters"
   ]
  },
  {
   "cell_type": "code",
   "execution_count": 39,
   "metadata": {
    "scrolled": true
   },
   "outputs": [
    {
     "name": "stdout",
     "output_type": "stream",
     "text": [
      "w1:====== [[-4.16757847e-03 -5.62668272e-04 -2.13619610e-02  1.64027081e-02\n",
      "  -1.79343559e-02 -8.41747366e-03  5.02881417e-03 -1.24528809e-02]\n",
      " [-1.05795222e-02 -9.09007615e-03  5.51454045e-03  2.29220801e-02\n",
      "   4.15393930e-04 -1.11792545e-02  5.39058321e-03 -5.96159700e-03]\n",
      " [-1.91304965e-04  1.17500122e-02 -7.47870949e-03  9.02525097e-05\n",
      "  -8.78107893e-03 -1.56434170e-03  2.56570452e-03 -9.88779049e-03]\n",
      " [-3.38821966e-03 -2.36184031e-03 -6.37655012e-03 -1.18761229e-02\n",
      "  -1.42121723e-02 -1.53495196e-03 -2.69056960e-03  2.23136679e-02]\n",
      " [-2.43476758e-02  1.12726505e-03  3.70444537e-03  1.35963386e-02\n",
      "   5.01857207e-03 -8.44213704e-03  9.76147160e-08  5.42352572e-03]\n",
      " [-3.13508197e-03  7.71011738e-03 -1.86809065e-02  1.73118467e-02\n",
      "   1.46767801e-02 -3.35677339e-03  6.11340780e-03  4.79705919e-04]\n",
      " [-8.29135289e-03  8.77102184e-04  1.00036589e-02 -3.81092518e-03\n",
      "  -3.75669423e-03 -7.44707629e-04  4.33496330e-03  1.27837923e-02]\n",
      " [-6.34679305e-03  5.08396243e-03  2.16116006e-03 -1.85861239e-02\n",
      "  -4.19316482e-03 -1.32328898e-03 -3.95702397e-04  3.26003433e-03]\n",
      " [-2.04032305e-02  4.62555231e-04 -6.77675577e-03 -1.43943903e-02\n",
      "   5.24296430e-03  7.35279576e-03 -6.53250268e-03  8.42456282e-03]\n",
      " [-3.81516482e-03  6.64890091e-04 -1.09873895e-02  1.58448706e-02\n",
      "  -2.65944946e-02 -9.14526229e-04  6.95119605e-03 -2.03346655e-02]] % w2:====== [[-0.00189469 -0.00077219  0.00824703  0.01248213 -0.00403892 -0.01384519\n",
      "   0.01367235  0.01217886 -0.00462005  0.00350888]]\n",
      "Cost after iteration 0: 0.690487\n"
     ]
    }
   ],
   "source": [
    "parameters = nn_model(x, y, n_h = 10, num_iterations = 100, print_cost=True)"
   ]
  },
  {
   "cell_type": "code",
   "execution_count": 40,
   "metadata": {
    "scrolled": true
   },
   "outputs": [
    {
     "data": {
      "text/plain": [
       "[0.6904865164130443,\n",
       " 0.5073063195196039,\n",
       " 0.5516808202838386,\n",
       " 0.6683248835079965,\n",
       " 0.9834341270252938,\n",
       " 0.5423142576645285,\n",
       " 0.7443663824561055,\n",
       " 0.7538788732718914,\n",
       " 1.4823048186726107,\n",
       " 0.6570954724181776,\n",
       " 0.7620142052004868,\n",
       " 1.3701456653131125,\n",
       " 0.610267047398637,\n",
       " 0.8108078746117507,\n",
       " 1.5569760287821133,\n",
       " 0.7248159550359455,\n",
       " 0.7024750480669713,\n",
       " 1.2761537893279307,\n",
       " 0.5564033332561882,\n",
       " 0.6709071044364326,\n",
       " 1.1483298864581724,\n",
       " 0.5155174567770274,\n",
       " 0.545128692315139,\n",
       " 0.6804691473407668,\n",
       " 0.6312740869767436,\n",
       " 0.9525945376300962,\n",
       " 0.502033750504547,\n",
       " 0.507825481921182,\n",
       " 0.5207649604949619,\n",
       " 0.5701866154292599,\n",
       " 0.5908999091106196,\n",
       " 0.7712148488975817,\n",
       " 0.5297723349245146,\n",
       " 0.6024329859287788,\n",
       " 0.5942732013319478,\n",
       " 0.760984349052102,\n",
       " 0.523429908770547,\n",
       " 0.5672054491628196,\n",
       " 0.5669609339962196,\n",
       " 0.6858997457417408,\n",
       " 0.5472243451334246,\n",
       " 0.6326994138310026,\n",
       " 0.5641350202060015,\n",
       " 0.6775171047022065,\n",
       " 0.5497316142982723,\n",
       " 0.6390838520125166,\n",
       " 0.5620920386330266,\n",
       " 0.6718227370949319,\n",
       " 0.5515313438304917,\n",
       " 0.6437427935779326,\n",
       " 0.5606136454367365,\n",
       " 0.6677932819092972,\n",
       " 0.5528254033572504,\n",
       " 0.6471113643768462,\n",
       " 0.5595213758016168,\n",
       " 0.664836995150626,\n",
       " 0.5537647421343426,\n",
       " 0.6495613197320218,\n",
       " 0.5587094049737913,\n",
       " 0.6626474994318087,\n",
       " 0.5544492324699877,\n",
       " 0.6513467298930233,\n",
       " 0.5580996922393975,\n",
       " 0.6610042942220204,\n",
       " 0.5549457111942785,\n",
       " 0.6526390580132904,\n",
       " 0.5576398191738787,\n",
       " 0.6597633912897515,\n",
       " 0.5553099178551462,\n",
       " 0.6535799008613509,\n",
       " 0.5572934282232965,\n",
       " 0.6588175356317055,\n",
       " 0.5555616198703814,\n",
       " 0.6542161098067626,\n",
       " 0.5570284778676338,\n",
       " 0.658082316896423,\n",
       " 0.5557594274909237,\n",
       " 0.6547063398138415,\n",
       " 0.5568371888443131,\n",
       " 0.657556068719449,\n",
       " 0.555901272208663,\n",
       " 0.6550700337152234,\n",
       " 0.5566938814425886,\n",
       " 0.6571553489608085,\n",
       " 0.5560071094669237,\n",
       " 0.6553304226282916,\n",
       " 0.5565850571342755,\n",
       " 0.6568434898495796,\n",
       " 0.556084015811526,\n",
       " 0.6555146838717433,\n",
       " 0.5564967392917912,\n",
       " 0.6565867240752719,\n",
       " 0.5561334223615604,\n",
       " 0.6556283658529785,\n",
       " 0.5564233686078275,\n",
       " 0.6563805544494321,\n",
       " 0.5561628723269384,\n",
       " 0.6556962498201027,\n",
       " 0.5563650664659712,\n",
       " 0.6562185494821708]"
      ]
     },
     "execution_count": 40,
     "metadata": {},
     "output_type": "execute_result"
    }
   ],
   "source": [
    "e"
   ]
  },
  {
   "cell_type": "code",
   "execution_count": 41,
   "metadata": {},
   "outputs": [],
   "source": [
    "#learning rate=2\n",
    "# calculate mean\n",
    "m = sum(e) / len(e)\n",
    "\n",
    "# calculate variance using a list comprehension\n",
    "var_res = sum((xi - m) ** 2 for xi in e) / len(e)"
   ]
  },
  {
   "cell_type": "code",
   "execution_count": 42,
   "metadata": {},
   "outputs": [
    {
     "name": "stdout",
     "output_type": "stream",
     "text": [
      "mean:=== 0.6575423558925211\n",
      "variance:=== 0.03436728994982522\n"
     ]
    }
   ],
   "source": [
    "print(\"mean:===\",m)\n",
    "print(\"variance:===\",var_res)"
   ]
  },
  {
   "cell_type": "markdown",
   "metadata": {},
   "source": [
    "# سوال 8"
   ]
  },
  {
   "cell_type": "markdown",
   "metadata": {},
   "source": [
    "در این تمرین دیدیم که انتخاب وزن خیلی اهمیت دارد اما در مراتب بعد میتوانیم ان را بهبود دهیم و در دوره های زیاد تاثیر ان را کم کنیم اما وجود معیار درست برای مقداردهی به وزن بسیار با اهمیت است "
   ]
  },
  {
   "cell_type": "markdown",
   "metadata": {},
   "source": [
    "دادن اعداد خیلی بزرگ باعث اشباع و اعداد خیلی کوچک مقدار فعالیت نرون شبکه های بزرگ صفر می شود "
   ]
  },
  {
   "cell_type": "code",
   "execution_count": 107,
   "metadata": {},
   "outputs": [],
   "source": [
    "e=[]"
   ]
  },
  {
   "cell_type": "code",
   "execution_count": 108,
   "metadata": {},
   "outputs": [],
   "source": [
    "def initialize_parameters(n_x, n_h, n_y):\n",
    "    np.random.seed(2)\n",
    "    W1 = np.random.randn(n_h,n_x)* 0.01\n",
    "    b1 = np.zeros((n_h,1))\n",
    "    W2 = np.random.randn(n_y,n_h) * 0.01\n",
    "    b2 = np.zeros((n_y,1))    \n",
    "    print(\"w1:======\",W1,\"%\",\"w2:======\",W2)\n",
    "    assert (W1.shape == (n_h, n_x))\n",
    "    assert (b1.shape == (n_h, 1))\n",
    "    assert (W2.shape == (n_y, n_h))\n",
    "    assert (b2.shape == (n_y, 1))\n",
    "    \n",
    "    parameters = {\"W1\": W1,\n",
    "                  \"b1\": b1,\n",
    "                  \"W2\": W2,\n",
    "                  \"b2\": b2}\n",
    "    \n",
    "    return parameters"
   ]
  },
  {
   "cell_type": "code",
   "execution_count": 109,
   "metadata": {
    "scrolled": true
   },
   "outputs": [
    {
     "name": "stdout",
     "output_type": "stream",
     "text": [
      "w1:====== [[-4.16757847e-03 -5.62668272e-04 -2.13619610e-02  1.64027081e-02\n",
      "  -1.79343559e-02 -8.41747366e-03  5.02881417e-03 -1.24528809e-02]\n",
      " [-1.05795222e-02 -9.09007615e-03  5.51454045e-03  2.29220801e-02\n",
      "   4.15393930e-04 -1.11792545e-02  5.39058321e-03 -5.96159700e-03]\n",
      " [-1.91304965e-04  1.17500122e-02 -7.47870949e-03  9.02525097e-05\n",
      "  -8.78107893e-03 -1.56434170e-03  2.56570452e-03 -9.88779049e-03]\n",
      " [-3.38821966e-03 -2.36184031e-03 -6.37655012e-03 -1.18761229e-02\n",
      "  -1.42121723e-02 -1.53495196e-03 -2.69056960e-03  2.23136679e-02]\n",
      " [-2.43476758e-02  1.12726505e-03  3.70444537e-03  1.35963386e-02\n",
      "   5.01857207e-03 -8.44213704e-03  9.76147160e-08  5.42352572e-03]\n",
      " [-3.13508197e-03  7.71011738e-03 -1.86809065e-02  1.73118467e-02\n",
      "   1.46767801e-02 -3.35677339e-03  6.11340780e-03  4.79705919e-04]\n",
      " [-8.29135289e-03  8.77102184e-04  1.00036589e-02 -3.81092518e-03\n",
      "  -3.75669423e-03 -7.44707629e-04  4.33496330e-03  1.27837923e-02]\n",
      " [-6.34679305e-03  5.08396243e-03  2.16116006e-03 -1.85861239e-02\n",
      "  -4.19316482e-03 -1.32328898e-03 -3.95702397e-04  3.26003433e-03]\n",
      " [-2.04032305e-02  4.62555231e-04 -6.77675577e-03 -1.43943903e-02\n",
      "   5.24296430e-03  7.35279576e-03 -6.53250268e-03  8.42456282e-03]\n",
      " [-3.81516482e-03  6.64890091e-04 -1.09873895e-02  1.58448706e-02\n",
      "  -2.65944946e-02 -9.14526229e-04  6.95119605e-03 -2.03346655e-02]] % w2:====== [[-0.00189469 -0.00077219  0.00824703  0.01248213 -0.00403892 -0.01384519\n",
      "   0.01367235  0.01217886 -0.00462005  0.00350888]]\n",
      "Cost after iteration 0: 0.690487\n"
     ]
    }
   ],
   "source": [
    "parameters = nn_model(x, y, n_h = 10, num_iterations = 100, print_cost=True)"
   ]
  },
  {
   "cell_type": "code",
   "execution_count": 110,
   "metadata": {},
   "outputs": [
    {
     "name": "stdout",
     "output_type": "stream",
     "text": [
      "Accuracy  80.08830022075055\n"
     ]
    }
   ],
   "source": [
    "predictions = predict(parameters, x)\n",
    "accuracy = float((np.dot(y,predictions.T) + np.dot(1-y,1-predictions.T))/float(y.size)*100)\n",
    "print (\"Accuracy \", accuracy)"
   ]
  },
  {
   "cell_type": "code",
   "execution_count": 111,
   "metadata": {
    "scrolled": true
   },
   "outputs": [
    {
     "data": {
      "text/plain": [
       "[0.6904865164130443,\n",
       " 0.5362036553668209,\n",
       " 0.5313391289591991,\n",
       " 0.5151096284748454,\n",
       " 0.5161412729818964,\n",
       " 0.5038402705884971,\n",
       " 0.5027780020819809,\n",
       " 0.5006846387376667,\n",
       " 0.5001715107826581,\n",
       " 0.4996781601068703,\n",
       " 0.49949031309265446,\n",
       " 0.49934694018523595,\n",
       " 0.4992738698740525,\n",
       " 0.4992217268717696,\n",
       " 0.4991920430891374,\n",
       " 0.499171938695477,\n",
       " 0.49915789004107614,\n",
       " 0.49914656455662465,\n",
       " 0.49913751799152506,\n",
       " 0.4991298948575574,\n",
       " 0.4991232747327105,\n",
       " 0.49911697083760564,\n",
       " 0.4991113053289624,\n",
       " 0.499106521242587,\n",
       " 0.49910120696110827,\n",
       " 0.4990971383490677,\n",
       " 0.4990923157504105,\n",
       " 0.49908781480795467,\n",
       " 0.4990840626252547,\n",
       " 0.4990795842210007,\n",
       " 0.49907610861205015,\n",
       " 0.4990719024361405,\n",
       " 0.49906775714477974,\n",
       " 0.49906413997274773,\n",
       " 0.49905986203375685,\n",
       " 0.4990547186851238,\n",
       " 0.49904892841288195,\n",
       " 0.4990443805360186,\n",
       " 0.49904033369172474,\n",
       " 0.49903650117324905,\n",
       " 0.49903272182419445,\n",
       " 0.4990291218687323,\n",
       " 0.49902602836374443,\n",
       " 0.4990227032154403,\n",
       " 0.4990191125656772,\n",
       " 0.4990167667173854,\n",
       " 0.49901515371273075,\n",
       " 0.49901278773243135,\n",
       " 0.49901052132571316,\n",
       " 0.4990132894160826,\n",
       " 0.49901199385167144,\n",
       " 0.499012433136249,\n",
       " 0.4990149873101343,\n",
       " 0.49901558846190036,\n",
       " 0.4990186247153483,\n",
       " 0.49901915505317634,\n",
       " 0.4990223662498099,\n",
       " 0.4990223535335085,\n",
       " 0.4990253355539792,\n",
       " 0.4990245668225018,\n",
       " 0.49902691466817556,\n",
       " 0.499025180254908,\n",
       " 0.4990260345756787,\n",
       " 0.499021455046335,\n",
       " 0.49901910669540056,\n",
       " 0.49901630738725017,\n",
       " 0.49901688149368706,\n",
       " 0.49901464783987853,\n",
       " 0.49901497088687435,\n",
       " 0.49901284916091865,\n",
       " 0.4990129267186363,\n",
       " 0.4990108931954849,\n",
       " 0.499010780102558,\n",
       " 0.4990088777308889,\n",
       " 0.4990086776130702,\n",
       " 0.4990068809417343,\n",
       " 0.4990066485943739,\n",
       " 0.4990049520385166,\n",
       " 0.499004752574407,\n",
       " 0.4990031121355872,\n",
       " 0.49900297113666675,\n",
       " 0.49900136077491763,\n",
       " 0.4990013091073323,\n",
       " 0.4989996781691445,\n",
       " 0.4989997110221813,\n",
       " 0.4989980287234517,\n",
       " 0.49899814971700607,\n",
       " 0.49899636292044547,\n",
       " 0.49899654008467154,\n",
       " 0.4989946361968654,\n",
       " 0.49899488097503897,\n",
       " 0.4989928303183699,\n",
       " 0.4989931117036956,\n",
       " 0.49899097375198465,\n",
       " 0.4989913735535247,\n",
       " 0.49898909980621536,\n",
       " 0.4989894848342233,\n",
       " 0.49898722830686226,\n",
       " 0.4989878539522164,\n",
       " 0.49898519334948566]"
      ]
     },
     "execution_count": 111,
     "metadata": {},
     "output_type": "execute_result"
    }
   ],
   "source": [
    "e"
   ]
  },
  {
   "cell_type": "code",
   "execution_count": 112,
   "metadata": {},
   "outputs": [],
   "source": [
    "costt_1=[]\n",
    "for i in range(len(e)-1):\n",
    "    costt_1.append(e[i])"
   ]
  },
  {
   "cell_type": "code",
   "execution_count": 113,
   "metadata": {
    "scrolled": true
   },
   "outputs": [
    {
     "data": {
      "text/plain": [
       "[0.6904865164130443,\n",
       " 0.5362036553668209,\n",
       " 0.5313391289591991,\n",
       " 0.5151096284748454,\n",
       " 0.5161412729818964,\n",
       " 0.5038402705884971,\n",
       " 0.5027780020819809,\n",
       " 0.5006846387376667,\n",
       " 0.5001715107826581,\n",
       " 0.4996781601068703,\n",
       " 0.49949031309265446,\n",
       " 0.49934694018523595,\n",
       " 0.4992738698740525,\n",
       " 0.4992217268717696,\n",
       " 0.4991920430891374,\n",
       " 0.499171938695477,\n",
       " 0.49915789004107614,\n",
       " 0.49914656455662465,\n",
       " 0.49913751799152506,\n",
       " 0.4991298948575574,\n",
       " 0.4991232747327105,\n",
       " 0.49911697083760564,\n",
       " 0.4991113053289624,\n",
       " 0.499106521242587,\n",
       " 0.49910120696110827,\n",
       " 0.4990971383490677,\n",
       " 0.4990923157504105,\n",
       " 0.49908781480795467,\n",
       " 0.4990840626252547,\n",
       " 0.4990795842210007,\n",
       " 0.49907610861205015,\n",
       " 0.4990719024361405,\n",
       " 0.49906775714477974,\n",
       " 0.49906413997274773,\n",
       " 0.49905986203375685,\n",
       " 0.4990547186851238,\n",
       " 0.49904892841288195,\n",
       " 0.4990443805360186,\n",
       " 0.49904033369172474,\n",
       " 0.49903650117324905,\n",
       " 0.49903272182419445,\n",
       " 0.4990291218687323,\n",
       " 0.49902602836374443,\n",
       " 0.4990227032154403,\n",
       " 0.4990191125656772,\n",
       " 0.4990167667173854,\n",
       " 0.49901515371273075,\n",
       " 0.49901278773243135,\n",
       " 0.49901052132571316,\n",
       " 0.4990132894160826,\n",
       " 0.49901199385167144,\n",
       " 0.499012433136249,\n",
       " 0.4990149873101343,\n",
       " 0.49901558846190036,\n",
       " 0.4990186247153483,\n",
       " 0.49901915505317634,\n",
       " 0.4990223662498099,\n",
       " 0.4990223535335085,\n",
       " 0.4990253355539792,\n",
       " 0.4990245668225018,\n",
       " 0.49902691466817556,\n",
       " 0.499025180254908,\n",
       " 0.4990260345756787,\n",
       " 0.499021455046335,\n",
       " 0.49901910669540056,\n",
       " 0.49901630738725017,\n",
       " 0.49901688149368706,\n",
       " 0.49901464783987853,\n",
       " 0.49901497088687435,\n",
       " 0.49901284916091865,\n",
       " 0.4990129267186363,\n",
       " 0.4990108931954849,\n",
       " 0.499010780102558,\n",
       " 0.4990088777308889,\n",
       " 0.4990086776130702,\n",
       " 0.4990068809417343,\n",
       " 0.4990066485943739,\n",
       " 0.4990049520385166,\n",
       " 0.499004752574407,\n",
       " 0.4990031121355872,\n",
       " 0.49900297113666675,\n",
       " 0.49900136077491763,\n",
       " 0.4990013091073323,\n",
       " 0.4989996781691445,\n",
       " 0.4989997110221813,\n",
       " 0.4989980287234517,\n",
       " 0.49899814971700607,\n",
       " 0.49899636292044547,\n",
       " 0.49899654008467154,\n",
       " 0.4989946361968654,\n",
       " 0.49899488097503897,\n",
       " 0.4989928303183699,\n",
       " 0.4989931117036956,\n",
       " 0.49899097375198465,\n",
       " 0.4989913735535247,\n",
       " 0.49898909980621536,\n",
       " 0.4989894848342233,\n",
       " 0.49898722830686226,\n",
       " 0.4989878539522164]"
      ]
     },
     "execution_count": 113,
     "metadata": {},
     "output_type": "execute_result"
    }
   ],
   "source": [
    "costt_1"
   ]
  },
  {
   "cell_type": "code",
   "execution_count": 118,
   "metadata": {},
   "outputs": [],
   "source": [
    "e=[]"
   ]
  },
  {
   "cell_type": "code",
   "execution_count": 119,
   "metadata": {},
   "outputs": [],
   "source": [
    "def initialize_parameters(n_x, n_h, n_y):\n",
    "    np.random.seed(2)\n",
    "    W1 = np.random.randn(n_h,n_x)* 2\n",
    "    b1 = np.zeros((n_h,1))\n",
    "    W2 = np.random.randn(n_y,n_h) * 2\n",
    "    b2 = np.zeros((n_y,1))    \n",
    "    print(\"w1:======\",W1,\"%\",\"w2:======\",W2)\n",
    "    assert (W1.shape == (n_h, n_x))\n",
    "    assert (b1.shape == (n_h, 1))\n",
    "    assert (W2.shape == (n_y, n_h))\n",
    "    assert (b2.shape == (n_y, 1))\n",
    "    \n",
    "    parameters = {\"W1\": W1,\n",
    "                  \"b1\": b1,\n",
    "                  \"W2\": W2,\n",
    "                  \"b2\": b2}\n",
    "    \n",
    "    return parameters"
   ]
  },
  {
   "cell_type": "code",
   "execution_count": null,
   "metadata": {},
   "outputs": [],
   "source": []
  },
  {
   "cell_type": "code",
   "execution_count": 120,
   "metadata": {
    "scrolled": true
   },
   "outputs": [
    {
     "name": "stdout",
     "output_type": "stream",
     "text": [
      "w1:====== [[-8.33515695e-01 -1.12533654e-01 -4.27239219e+00  3.28054162e+00\n",
      "  -3.58687117e+00 -1.68349473e+00  1.00576283e+00 -2.49057617e+00]\n",
      " [-2.11590444e+00 -1.81801523e+00  1.10290809e+00  4.58441603e+00\n",
      "   8.30787860e-02 -2.23585089e+00  1.07811664e+00 -1.19231940e+00]\n",
      " [-3.82609930e-02  2.35000244e+00 -1.49574190e+00  1.80505019e-02\n",
      "  -1.75621579e+00 -3.12868341e-01  5.13140904e-01 -1.97755810e+00]\n",
      " [-6.77643932e-01 -4.72368062e-01 -1.27531002e+00 -2.37522457e+00\n",
      "  -2.84243445e+00 -3.06990391e-01 -5.38113920e-01  4.46273358e+00]\n",
      " [-4.86953515e+00  2.25453010e-01  7.40889073e-01  2.71926773e+00\n",
      "   1.00371441e+00 -1.68842741e+00  1.95229432e-05  1.08470514e+00]\n",
      " [-6.27016394e-01  1.54202348e+00 -3.73618131e+00  3.46236933e+00\n",
      "   2.93535602e+00 -6.71354677e-01  1.22268156e+00  9.59411837e-02]\n",
      " [-1.65827058e+00  1.75420437e-01  2.00073177e+00 -7.62185035e-01\n",
      "  -7.51338846e-01 -1.48941526e-01  8.66992660e-01  2.55675846e+00]\n",
      " [-1.26935861e+00  1.01679249e+00  4.32232013e-01 -3.71722477e+00\n",
      "  -8.38632964e-01 -2.64657797e-01 -7.91404794e-02  6.52006867e-01]\n",
      " [-4.08064610e+00  9.25110463e-02 -1.35535115e+00 -2.87887805e+00\n",
      "   1.04859286e+00  1.47055915e+00 -1.30650054e+00  1.68491256e+00]\n",
      " [-7.63032964e-01  1.32978018e-01 -2.19747789e+00  3.16897411e+00\n",
      "  -5.31889891e+00 -1.82905246e-01  1.39023921e+00 -4.06693309e+00]] % w2:====== [[-0.37893853 -0.15443733  1.64940601  2.49642584 -0.80778454 -2.76903733\n",
      "   2.73447085  2.43577127 -0.9240107   0.70177699]]\n",
      "Cost after iteration 0: 1.794631\n"
     ]
    }
   ],
   "source": [
    "parameters = nn_model(x, y, n_h = 10, num_iterations = 100, print_cost=True)"
   ]
  },
  {
   "cell_type": "code",
   "execution_count": 121,
   "metadata": {},
   "outputs": [
    {
     "name": "stdout",
     "output_type": "stream",
     "text": [
      "Accuracy  80.08830022075055\n"
     ]
    }
   ],
   "source": [
    "predictions = predict(parameters, x)\n",
    "accuracy = float((np.dot(y,predictions.T) + np.dot(1-y,1-predictions.T))/float(y.size)*100)\n",
    "print (\"Accuracy \", accuracy)"
   ]
  },
  {
   "cell_type": "code",
   "execution_count": 122,
   "metadata": {
    "scrolled": true
   },
   "outputs": [
    {
     "data": {
      "text/plain": [
       "[1.794630691423107,\n",
       " 1.2666961882530003,\n",
       " 1.1646503796831698,\n",
       " 1.0820111612554,\n",
       " 1.0143617196634012,\n",
       " 0.9528050739102053,\n",
       " 0.9016961418461219,\n",
       " 0.8594805283631302,\n",
       " 0.8214480455727738,\n",
       " 0.7884040226189482,\n",
       " 0.7591071805683488,\n",
       " 0.7331707460973973,\n",
       " 0.7107747328596451,\n",
       " 0.6912496943857602,\n",
       " 0.6739747003567559,\n",
       " 0.6595160179416335,\n",
       " 0.6461980857403457,\n",
       " 0.6344154766080565,\n",
       " 0.6239353819292949,\n",
       " 0.6150101871272474,\n",
       " 0.6070121893398355,\n",
       " 0.5998624244635216,\n",
       " 0.5932513561239942,\n",
       " 0.5872307562630807,\n",
       " 0.581773669469382,\n",
       " 0.5769075271039881,\n",
       " 0.572320992727035,\n",
       " 0.5679985472319904,\n",
       " 0.5640073705355049,\n",
       " 0.5603553663117626,\n",
       " 0.5569467789747291,\n",
       " 0.5537883913040487,\n",
       " 0.5508116852547755,\n",
       " 0.5480338432129173,\n",
       " 0.5453645593949367,\n",
       " 0.5428892584729766,\n",
       " 0.5405540431412713,\n",
       " 0.5382974609098384,\n",
       " 0.5362379645278663,\n",
       " 0.5343115293020217,\n",
       " 0.5324980624406132,\n",
       " 0.5308152286459498,\n",
       " 0.5292330480210927,\n",
       " 0.5277587444788884,\n",
       " 0.5263535468889219,\n",
       " 0.5250454368265552,\n",
       " 0.523816186841071,\n",
       " 0.5226427374076607,\n",
       " 0.5215453290420909,\n",
       " 0.5205099981307818,\n",
       " 0.5195362035851023,\n",
       " 0.5186082626747526,\n",
       " 0.5177398645249088,\n",
       " 0.5169115247848125,\n",
       " 0.5161354583897897,\n",
       " 0.5153964502240311,\n",
       " 0.5147022189789683,\n",
       " 0.5140394066999839,\n",
       " 0.51341628669339,\n",
       " 0.5128224663066558,\n",
       " 0.5122622678069363,\n",
       " 0.5117270611954512,\n",
       " 0.5112216138036952,\n",
       " 0.5107389958235893,\n",
       " 0.5102820144126898,\n",
       " 0.5098456079535413,\n",
       " 0.5094319483740467,\n",
       " 0.5090369997971703,\n",
       " 0.508661830427935,\n",
       " 0.508303408000733,\n",
       " 0.5079620849326556,\n",
       " 0.5076355584665396,\n",
       " 0.5073233046499197,\n",
       " 0.5070228716918055,\n",
       " 0.506735699719699,\n",
       " 0.5064627789068539,\n",
       " 0.5062014457151425,\n",
       " 0.5059508407637147,\n",
       " 0.505711111247386,\n",
       " 0.5054818513187025,\n",
       " 0.5052621690898296,\n",
       " 0.5050512879454001,\n",
       " 0.5048485803768672,\n",
       " 0.5046535753055481,\n",
       " 0.5044663144131876,\n",
       " 0.5042868312820096,\n",
       " 0.5041143963755237,\n",
       " 0.5039484806575851,\n",
       " 0.5037887294155784,\n",
       " 0.5036348348561848,\n",
       " 0.5034865150115025,\n",
       " 0.5033435083776875,\n",
       " 0.5032055712229617,\n",
       " 0.5030724753976982,\n",
       " 0.5029440062919537,\n",
       " 0.5028199611718777,\n",
       " 0.5027001481569586,\n",
       " 0.5025843858386568,\n",
       " 0.5024725033193922,\n",
       " 0.5023643403312231]"
      ]
     },
     "execution_count": 122,
     "metadata": {},
     "output_type": "execute_result"
    }
   ],
   "source": [
    "e"
   ]
  },
  {
   "cell_type": "code",
   "execution_count": 123,
   "metadata": {},
   "outputs": [],
   "source": [
    "costt_2=[]\n",
    "for i in range(len(e)-1):\n",
    "    costt_2.append(e[i])"
   ]
  },
  {
   "cell_type": "code",
   "execution_count": 124,
   "metadata": {
    "scrolled": true
   },
   "outputs": [
    {
     "data": {
      "text/plain": [
       "[1.794630691423107,\n",
       " 1.2666961882530003,\n",
       " 1.1646503796831698,\n",
       " 1.0820111612554,\n",
       " 1.0143617196634012,\n",
       " 0.9528050739102053,\n",
       " 0.9016961418461219,\n",
       " 0.8594805283631302,\n",
       " 0.8214480455727738,\n",
       " 0.7884040226189482,\n",
       " 0.7591071805683488,\n",
       " 0.7331707460973973,\n",
       " 0.7107747328596451,\n",
       " 0.6912496943857602,\n",
       " 0.6739747003567559,\n",
       " 0.6595160179416335,\n",
       " 0.6461980857403457,\n",
       " 0.6344154766080565,\n",
       " 0.6239353819292949,\n",
       " 0.6150101871272474,\n",
       " 0.6070121893398355,\n",
       " 0.5998624244635216,\n",
       " 0.5932513561239942,\n",
       " 0.5872307562630807,\n",
       " 0.581773669469382,\n",
       " 0.5769075271039881,\n",
       " 0.572320992727035,\n",
       " 0.5679985472319904,\n",
       " 0.5640073705355049,\n",
       " 0.5603553663117626,\n",
       " 0.5569467789747291,\n",
       " 0.5537883913040487,\n",
       " 0.5508116852547755,\n",
       " 0.5480338432129173,\n",
       " 0.5453645593949367,\n",
       " 0.5428892584729766,\n",
       " 0.5405540431412713,\n",
       " 0.5382974609098384,\n",
       " 0.5362379645278663,\n",
       " 0.5343115293020217,\n",
       " 0.5324980624406132,\n",
       " 0.5308152286459498,\n",
       " 0.5292330480210927,\n",
       " 0.5277587444788884,\n",
       " 0.5263535468889219,\n",
       " 0.5250454368265552,\n",
       " 0.523816186841071,\n",
       " 0.5226427374076607,\n",
       " 0.5215453290420909,\n",
       " 0.5205099981307818,\n",
       " 0.5195362035851023,\n",
       " 0.5186082626747526,\n",
       " 0.5177398645249088,\n",
       " 0.5169115247848125,\n",
       " 0.5161354583897897,\n",
       " 0.5153964502240311,\n",
       " 0.5147022189789683,\n",
       " 0.5140394066999839,\n",
       " 0.51341628669339,\n",
       " 0.5128224663066558,\n",
       " 0.5122622678069363,\n",
       " 0.5117270611954512,\n",
       " 0.5112216138036952,\n",
       " 0.5107389958235893,\n",
       " 0.5102820144126898,\n",
       " 0.5098456079535413,\n",
       " 0.5094319483740467,\n",
       " 0.5090369997971703,\n",
       " 0.508661830427935,\n",
       " 0.508303408000733,\n",
       " 0.5079620849326556,\n",
       " 0.5076355584665396,\n",
       " 0.5073233046499197,\n",
       " 0.5070228716918055,\n",
       " 0.506735699719699,\n",
       " 0.5064627789068539,\n",
       " 0.5062014457151425,\n",
       " 0.5059508407637147,\n",
       " 0.505711111247386,\n",
       " 0.5054818513187025,\n",
       " 0.5052621690898296,\n",
       " 0.5050512879454001,\n",
       " 0.5048485803768672,\n",
       " 0.5046535753055481,\n",
       " 0.5044663144131876,\n",
       " 0.5042868312820096,\n",
       " 0.5041143963755237,\n",
       " 0.5039484806575851,\n",
       " 0.5037887294155784,\n",
       " 0.5036348348561848,\n",
       " 0.5034865150115025,\n",
       " 0.5033435083776875,\n",
       " 0.5032055712229617,\n",
       " 0.5030724753976982,\n",
       " 0.5029440062919537,\n",
       " 0.5028199611718777,\n",
       " 0.5027001481569586,\n",
       " 0.5025843858386568,\n",
       " 0.5024725033193922]"
      ]
     },
     "execution_count": 124,
     "metadata": {},
     "output_type": "execute_result"
    }
   ],
   "source": [
    "costt_2"
   ]
  },
  {
   "cell_type": "code",
   "execution_count": 125,
   "metadata": {},
   "outputs": [],
   "source": [
    "#مقدار اولیه رندوم برای وزن ها\n",
    "#میانگین و انحراف معیار برای 100 ایپوک اول برای تابع هزیته\n",
    "# calculate mean\n",
    "m = sum(costt_1) / len(costt_1)\n",
    "\n",
    "# calculate variance using a list comprehension\n",
    "var_res = sum((xi - m) ** 2 for xi in costt_1) / len(costt_1)"
   ]
  },
  {
   "cell_type": "code",
   "execution_count": 126,
   "metadata": {},
   "outputs": [
    {
     "name": "stdout",
     "output_type": "stream",
     "text": [
      "mean:=== 0.5021397005802354\n",
      "variance:=== 0.0003910868791641077\n"
     ]
    }
   ],
   "source": [
    "print(\"mean:===\",m)\n",
    "print(\"variance:===\",var_res)"
   ]
  },
  {
   "cell_type": "code",
   "execution_count": 127,
   "metadata": {},
   "outputs": [],
   "source": [
    "#مقدار دوم رندوم برای وزن ها\n",
    "#میانگین و انحراف معیار برای 100 ایپوک اول برای تابع هزیته\n",
    "# calculate mean\n",
    "m = sum(costt_2) / len(costt_2)\n",
    "\n",
    "# calculate variance using a list comprehension\n",
    "var_res = sum((xi - m) ** 2 for xi in costt_2) / len(costt_2)"
   ]
  },
  {
   "cell_type": "code",
   "execution_count": 128,
   "metadata": {},
   "outputs": [
    {
     "name": "stdout",
     "output_type": "stream",
     "text": [
      "mean:=== 0.5940373929431298\n",
      "variance:=== 0.03577364806060617\n"
     ]
    }
   ],
   "source": [
    "print(\"mean:===\",m)\n",
    "print(\"variance:===\",var_res)"
   ]
  },
  {
   "cell_type": "code",
   "execution_count": 129,
   "metadata": {},
   "outputs": [],
   "source": [
    "accuracy= [80.08830022075055 , 80.08830022075055]"
   ]
  },
  {
   "cell_type": "code",
   "execution_count": 131,
   "metadata": {},
   "outputs": [],
   "source": [
    "#میانگین و انحراف معیار برای 100 ایپوک اول برای دقت\n",
    "# calculate mean\n",
    "m = sum(accuracy) / len(accuracy)\n",
    "\n",
    "# calculate variance using a list comprehension\n",
    "var_res = sum((xi - m) ** 2 for xi in accuracy) / len(accuracy)"
   ]
  },
  {
   "cell_type": "code",
   "execution_count": 132,
   "metadata": {},
   "outputs": [
    {
     "name": "stdout",
     "output_type": "stream",
     "text": [
      "mean:=== 80.08830022075055\n",
      "variance:=== 0.0\n"
     ]
    }
   ],
   "source": [
    "print(\"mean:===\",m)\n",
    "print(\"variance:===\",var_res)"
   ]
  },
  {
   "cell_type": "markdown",
   "metadata": {},
   "source": [
    "مهم نیست چه وزنی انتخاب کنیم در مراحل بالاتر جواب درست را به ما نشان می دهد \n",
    "ولی تغییرات در هر دو متفاوت است "
   ]
  },
  {
   "cell_type": "markdown",
   "metadata": {},
   "source": [
    "# سوال 9"
   ]
  },
  {
   "cell_type": "markdown",
   "metadata": {},
   "source": [
    "در این قسمت شبکه عصبی سه لایه است را پیاده سازی می کنیم لایه اول شامل 10 نرون و لایه دوم شامل 5 نرون است توابع فعالساز در هر لایه مخفی را تابع رلو در نظر گرفتیم و تابع فعالساز اخر را سیگموید در نظر می گیریم "
   ]
  },
  {
   "cell_type": "markdown",
   "metadata": {},
   "source": [
    "در این مثال خواهیم دید با اضافه شدن یک لایه جدید مقادیر تابع هزینه متفاوت از دو لایه است و وجود لایه جدید باعث به دست امدن ویژگی های مفید تر است "
   ]
  },
  {
   "cell_type": "markdown",
   "metadata": {},
   "source": [
    "همچنین دقت نسبت به دولایه بالاتر و رشد سریع تری نسبت به دولایه دارد"
   ]
  },
  {
   "cell_type": "code",
   "execution_count": 1,
   "metadata": {},
   "outputs": [
    {
     "name": "stderr",
     "output_type": "stream",
     "text": [
      "C:\\Users\\acer\\Anaconda3\\lib\\site-packages\\statsmodels\\tools\\_testing.py:19: FutureWarning: pandas.util.testing is deprecated. Use the functions in the public API at pandas.testing instead.\n",
      "  import pandas.util.testing as tm\n"
     ]
    }
   ],
   "source": [
    "import numpy as np\n",
    "import matplotlib.pyplot as plt\n",
    "#برای تست مدلم\n",
    "import sklearn\n",
    "import sklearn.datasets\n",
    "import sklearn.linear_model\n",
    "np.random.seed(1) \n",
    "import pandas as pd\n",
    "import seaborn as sns\n",
    "import warnings\n",
    "from sklearn.model_selection import train_test_split\n",
    "\n",
    "%matplotlib inline"
   ]
  },
  {
   "cell_type": "code",
   "execution_count": 2,
   "metadata": {},
   "outputs": [
    {
     "data": {
      "text/html": [
       "<div>\n",
       "<style scoped>\n",
       "    .dataframe tbody tr th:only-of-type {\n",
       "        vertical-align: middle;\n",
       "    }\n",
       "\n",
       "    .dataframe tbody tr th {\n",
       "        vertical-align: top;\n",
       "    }\n",
       "\n",
       "    .dataframe thead th {\n",
       "        text-align: right;\n",
       "    }\n",
       "</style>\n",
       "<table border=\"1\" class=\"dataframe\">\n",
       "  <thead>\n",
       "    <tr style=\"text-align: right;\">\n",
       "      <th></th>\n",
       "      <th>id</th>\n",
       "      <th>age</th>\n",
       "      <th>name</th>\n",
       "      <th>kind</th>\n",
       "      <th>resave</th>\n",
       "      <th>chanel</th>\n",
       "      <th>time</th>\n",
       "      <th>measure</th>\n",
       "      <th>sex</th>\n",
       "      <th>label</th>\n",
       "    </tr>\n",
       "  </thead>\n",
       "  <tbody>\n",
       "    <tr>\n",
       "      <th>0</th>\n",
       "      <td>45341</td>\n",
       "      <td>28</td>\n",
       "      <td>1</td>\n",
       "      <td>1</td>\n",
       "      <td>28.13</td>\n",
       "      <td>1</td>\n",
       "      <td>34</td>\n",
       "      <td>1</td>\n",
       "      <td>112.5</td>\n",
       "      <td>1</td>\n",
       "    </tr>\n",
       "    <tr>\n",
       "      <th>1</th>\n",
       "      <td>12958</td>\n",
       "      <td>37</td>\n",
       "      <td>2</td>\n",
       "      <td>1</td>\n",
       "      <td>12.95</td>\n",
       "      <td>1</td>\n",
       "      <td>53</td>\n",
       "      <td>1</td>\n",
       "      <td>37.0</td>\n",
       "      <td>0</td>\n",
       "    </tr>\n",
       "    <tr>\n",
       "      <th>2</th>\n",
       "      <td>18233</td>\n",
       "      <td>27</td>\n",
       "      <td>3</td>\n",
       "      <td>0</td>\n",
       "      <td>0.00</td>\n",
       "      <td>1</td>\n",
       "      <td>28</td>\n",
       "      <td>0</td>\n",
       "      <td>13.0</td>\n",
       "      <td>0</td>\n",
       "    </tr>\n",
       "    <tr>\n",
       "      <th>3</th>\n",
       "      <td>31742</td>\n",
       "      <td>36</td>\n",
       "      <td>3</td>\n",
       "      <td>0</td>\n",
       "      <td>0.00</td>\n",
       "      <td>1</td>\n",
       "      <td>1</td>\n",
       "      <td>0</td>\n",
       "      <td>34.0</td>\n",
       "      <td>0</td>\n",
       "    </tr>\n",
       "    <tr>\n",
       "      <th>4</th>\n",
       "      <td>14381</td>\n",
       "      <td>26</td>\n",
       "      <td>4</td>\n",
       "      <td>0</td>\n",
       "      <td>23.76</td>\n",
       "      <td>1</td>\n",
       "      <td>33</td>\n",
       "      <td>0</td>\n",
       "      <td>39.6</td>\n",
       "      <td>0</td>\n",
       "    </tr>\n",
       "  </tbody>\n",
       "</table>\n",
       "</div>"
      ],
      "text/plain": [
       "      id  age  name  kind  resave  chanel  time  measure    sex  label\n",
       "0  45341   28     1     1   28.13       1    34        1  112.5      1\n",
       "1  12958   37     2     1   12.95       1    53        1   37.0      0\n",
       "2  18233   27     3     0    0.00       1    28        0   13.0      0\n",
       "3  31742   36     3     0    0.00       1     1        0   34.0      0\n",
       "4  14381   26     4     0   23.76       1    33        0   39.6      0"
      ]
     },
     "execution_count": 2,
     "metadata": {},
     "output_type": "execute_result"
    }
   ],
   "source": [
    "colNames = [\"id\", \"age\", \"name\",\"kind\",\"resave\", \"chanel\", \"time\",\"measure\", \"sex\", \"label\"]\n",
    "dataset = pd.read_csv(\"data.csv\", names=colNames,delimiter=',',header=None)\n",
    "dataset.head()"
   ]
  },
  {
   "cell_type": "code",
   "execution_count": 3,
   "metadata": {},
   "outputs": [],
   "source": [
    "columns = [\"age\", \"name\",\"kind\",\"resave\", \"chanel\", \"time\",\"measure\", \"sex\"]\n",
    "x = pd.DataFrame(dataset, columns=columns)\n",
    "\n",
    "columns = ['label']\n",
    "y = pd.DataFrame(dataset, columns=columns)\n",
    "\n",
    "x_train, x_test, y_train, y_test = train_test_split(x, y, test_size=0.2)"
   ]
  },
  {
   "cell_type": "code",
   "execution_count": 4,
   "metadata": {},
   "outputs": [
    {
     "name": "stdout",
     "output_type": "stream",
     "text": [
      "The shape of X is: (8, 49830)\n",
      "The shape of Y is: (1, 49830)\n",
      "I have m = 49830 training examples!\n"
     ]
    }
   ],
   "source": [
    "x=x_train.to_numpy()\n",
    "y=y_train.to_numpy()\n",
    "x=x.reshape(8,49830)\n",
    "y=y.reshape(1,49830)\n",
    "shape_X = x.shape\n",
    "shape_Y = y.shape\n",
    "m = shape_X[1] \n",
    "print ('The shape of X is: ' + str(shape_X))\n",
    "print ('The shape of Y is: ' + str(shape_Y))\n",
    "print ('I have m = %d training examples!' % (m))"
   ]
  },
  {
   "cell_type": "code",
   "execution_count": 5,
   "metadata": {},
   "outputs": [
    {
     "name": "stdout",
     "output_type": "stream",
     "text": [
      "The shape of test_set_x is: (8, 12458)\n",
      "The shape of test_set_y is: (1, 12458)\n"
     ]
    }
   ],
   "source": [
    "test_set_x=x_test.to_numpy()\n",
    "test_set_y=y_test.to_numpy()\n",
    "test_set_x=test_set_x.reshape(8,12458)\n",
    "test_set_y=test_set_y.reshape(1,12458)\n",
    "shape_test_set_x=test_set_x.shape\n",
    "shape_test_set_y=test_set_y.shape\n",
    "print ('The shape of test_set_x is: ' + str(shape_test_set_x))\n",
    "print ('The shape of test_set_y is: ' + str(shape_test_set_y))"
   ]
  },
  {
   "cell_type": "code",
   "execution_count": 6,
   "metadata": {},
   "outputs": [],
   "source": [
    "e=[]"
   ]
  },
  {
   "cell_type": "code",
   "execution_count": 7,
   "metadata": {},
   "outputs": [],
   "source": [
    "def sigmoid(z):\n",
    "    s = 1 / (1 + np.exp(-z))    \n",
    "    return s"
   ]
  },
  {
   "cell_type": "code",
   "execution_count": 8,
   "metadata": {},
   "outputs": [],
   "source": [
    "def relu(x):\n",
    "    s=np.maximum(0, x)\n",
    "    return s"
   ]
  },
  {
   "cell_type": "code",
   "execution_count": 9,
   "metadata": {},
   "outputs": [],
   "source": [
    "def layer_sizes(X, Y):\n",
    "    n_x = X.shape[0]\n",
    "    n_h_1 = 10\n",
    "    n_h_2 = 5\n",
    "    n_y = Y.shape[0]\n",
    "    return (n_x, n_h_1,n_h_2, n_y)"
   ]
  },
  {
   "cell_type": "code",
   "execution_count": 10,
   "metadata": {},
   "outputs": [],
   "source": [
    "def initialize_parameters(n_x, n_h_1,n_h_2, n_y):\n",
    "    np.random.seed(2)\n",
    "    W1 = np.random.randn(n_h_1,n_x)* 0.01\n",
    "    b1 = np.zeros((n_h_1,1))\n",
    "    W2 = np.random.randn(n_h_2,n_h_1) * 0.01\n",
    "    b2 = np.zeros((n_h_2,1))\n",
    "    W3 = np.random.randn(1,n_h_2)* 0.01\n",
    "    b3 = np.zeros((n_y,1))\n",
    "    print(\"w1:======\",W1,\"%\",\"w2:======\",W2)\n",
    "    assert (W1.shape == (n_h_1,n_x))\n",
    "    assert (b1.shape == (n_h_1,1))\n",
    "    assert (W2.shape == (n_h_2,n_h_1))\n",
    "    assert (b2.shape == (n_h_2,1))\n",
    "    assert (W3.shape == (1,n_h_2))\n",
    "    assert (b3.shape == (n_y,1))\n",
    "    \n",
    "    parameters = {\"W1\": W1,\n",
    "                  \"b1\": b1,\n",
    "                  \"W2\": W2,\n",
    "                  \"b2\": b2,\n",
    "                  \"W3\": W3,\n",
    "                  \"b3\": b3}\n",
    "    \n",
    "    return parameters"
   ]
  },
  {
   "cell_type": "code",
   "execution_count": 11,
   "metadata": {},
   "outputs": [],
   "source": [
    "def forward_propagation(X, parameters):\n",
    "    W1 = parameters[\"W1\"]\n",
    "    b1 = parameters[\"b1\"]\n",
    "    W2 = parameters[\"W2\"]\n",
    "    b2 = parameters[\"b2\"]\n",
    "    W3 = parameters[\"W3\"]\n",
    "    b3 = parameters[\"b3\"]\n",
    "    Z1 = np.dot(W1,X) + b1\n",
    "    A1 = relu(Z1)\n",
    "    \n",
    "    Z2 = np.dot(W2,A1) + b2\n",
    "    A2 = relu(Z2)\n",
    "    \n",
    "    Z3 = np.dot(W3,A2) + b3\n",
    "    A3 = sigmoid(Z3)\n",
    "    \n",
    "    assert(A3.shape == (1, X.shape[1]))\n",
    "    \n",
    "    cache = {\"Z1\": Z1,\n",
    "             \"A1\": A1,\n",
    "             \"Z2\": Z2,\n",
    "             \"A2\": A2,\n",
    "             \"Z3\": Z3,\n",
    "             \"A3\": A3}\n",
    "    return A3, cache"
   ]
  },
  {
   "cell_type": "code",
   "execution_count": 12,
   "metadata": {},
   "outputs": [],
   "source": [
    "def compute_cost(A3, Y, parameters):    \n",
    "    m = Y.shape[1] \n",
    "    logprobs = np.multiply(np.log(A3),Y) + np.multiply(np.log(1 - A3),1 - Y)\n",
    "    cost = - np.sum(logprobs) * (1 / m) \n",
    "    cost = np.squeeze(cost)\n",
    "    assert(isinstance(cost, float))\n",
    "#    e.append(cost)\n",
    "    return cost"
   ]
  },
  {
   "cell_type": "code",
   "execution_count": 13,
   "metadata": {},
   "outputs": [],
   "source": [
    "def backward_propagation(parameters, cache, X, Y):\n",
    "    m = X.shape[1]\n",
    "    W1 = parameters[\"W1\"]\n",
    "    W2 = parameters[\"W2\"]\n",
    "    W3 = parameters[\"W3\"]\n",
    "    A1 = cache[\"A1\"]\n",
    "    A2 = cache[\"A2\"]\n",
    "    A3 = cache[\"A3\"]\n",
    "    dZ3 = A3 - Y\n",
    "    dW3 = 1./m * np.dot(dZ3, A2.T)\n",
    "    db3 = 1./m * np.sum(dZ3, axis=1, keepdims = True)\n",
    "    \n",
    "    dA2 = np.dot(W3.T, dZ3)\n",
    "    dZ2 = np.multiply(dA2, np.int64(A2 > 0))\n",
    "    dW2 = 1./m * np.dot(dZ2, A1.T) \n",
    "    db2 = 1./m * np.sum(dZ2, axis=1, keepdims = True)\n",
    "    \n",
    "    dA1 = np.dot(W2.T, dZ2)\n",
    "    dZ1 = np.multiply(dA1, np.int64(A1 > 0))\n",
    "    dW1 = 1./m * np.dot(dZ1, X.T)\n",
    "    db1 = 1./m * np.sum(dZ1, axis=1, keepdims = True)\n",
    "    \n",
    "    grads = {\"dW1\": dW1,\n",
    "             \"db1\": db1,\n",
    "             \"dW2\": dW2,\n",
    "             \"db2\": db2,\n",
    "             \"dW3\": dW3,\n",
    "             \"db3\": db3}\n",
    "    \n",
    "    return grads"
   ]
  },
  {
   "cell_type": "code",
   "execution_count": 14,
   "metadata": {},
   "outputs": [],
   "source": [
    "def update_parameters(parameters, grads, learning_rate = 1.2):\n",
    "    W1 = parameters[\"W1\"]\n",
    "    b1 = parameters[\"b1\"]\n",
    "    W2 = parameters[\"W2\"]\n",
    "    b2 = parameters[\"b2\"]\n",
    "    W3 = parameters[\"W3\"]\n",
    "    b3 = parameters[\"b3\"]\n",
    "    \n",
    "    dW1 = grads[\"dW1\"]\n",
    "    db1 = grads[\"db1\"]\n",
    "    dW2 = grads[\"dW2\"]\n",
    "    db2 = grads[\"db2\"]\n",
    "    dW3 = grads[\"dW3\"]\n",
    "    db3 = grads[\"db3\"]\n",
    "    \n",
    "    W1 = W1 - learning_rate * dW1\n",
    "    b1 = b1 - learning_rate * db1\n",
    "    W2 = W2 - learning_rate * dW2\n",
    "    b2 = b2 - learning_rate * db2\n",
    "    W3 = W3 - learning_rate * dW3\n",
    "    b3 = b3 - learning_rate * db3\n",
    "    \n",
    "    parameters = {\"W1\": W1,\n",
    "                  \"b1\": b1,\n",
    "                  \"W2\": W2,\n",
    "                  \"b2\": b2,\n",
    "                  \"W3\": W3,\n",
    "                  \"b3\": b3}    \n",
    "    return parameters"
   ]
  },
  {
   "cell_type": "code",
   "execution_count": 15,
   "metadata": {},
   "outputs": [],
   "source": [
    "def nn_model(X, Y, n_h_1,n_h_2, num_iterations , print_cost=False):\n",
    "    np.random.seed(3)\n",
    "    n_x = layer_sizes(X, Y)[0]\n",
    "    n_y = layer_sizes(X, Y)[3]\n",
    "    parameters = initialize_parameters(n_x, n_h_1,n_h_2, n_y)\n",
    "    W1 = parameters[\"W1\"]\n",
    "    b1 = parameters[\"b1\"]\n",
    "    W2 = parameters[\"W2\"]\n",
    "    b2 = parameters[\"b2\"]\n",
    "    W3 = parameters[\"W3\"]\n",
    "    b3 = parameters[\"b3\"]\n",
    "    for i in range(0, num_iterations):         \n",
    "        A3, cache = forward_propagation(X,parameters) \n",
    "        cost = compute_cost(A3, Y, parameters)\n",
    "        grads = backward_propagation(parameters, cache, X, Y) \n",
    "        parameters = update_parameters(parameters, grads)\n",
    "        e.append(cost)\n",
    "        if print_cost and i % 1000 == 0:\n",
    "            print (\"Cost after iteration %i: %f\" %(i, cost))\n",
    "    return parameters"
   ]
  },
  {
   "cell_type": "code",
   "execution_count": 16,
   "metadata": {},
   "outputs": [],
   "source": [
    "def predict(parameters, X):\n",
    "    A3, cache = forward_propagation(X,parameters)\n",
    "    predictions = (A3 > 0.5)    \n",
    "    return predictions"
   ]
  },
  {
   "cell_type": "code",
   "execution_count": 17,
   "metadata": {
    "scrolled": true
   },
   "outputs": [
    {
     "name": "stdout",
     "output_type": "stream",
     "text": [
      "w1:====== [[-4.16757847e-03 -5.62668272e-04 -2.13619610e-02  1.64027081e-02\n",
      "  -1.79343559e-02 -8.41747366e-03  5.02881417e-03 -1.24528809e-02]\n",
      " [-1.05795222e-02 -9.09007615e-03  5.51454045e-03  2.29220801e-02\n",
      "   4.15393930e-04 -1.11792545e-02  5.39058321e-03 -5.96159700e-03]\n",
      " [-1.91304965e-04  1.17500122e-02 -7.47870949e-03  9.02525097e-05\n",
      "  -8.78107893e-03 -1.56434170e-03  2.56570452e-03 -9.88779049e-03]\n",
      " [-3.38821966e-03 -2.36184031e-03 -6.37655012e-03 -1.18761229e-02\n",
      "  -1.42121723e-02 -1.53495196e-03 -2.69056960e-03  2.23136679e-02]\n",
      " [-2.43476758e-02  1.12726505e-03  3.70444537e-03  1.35963386e-02\n",
      "   5.01857207e-03 -8.44213704e-03  9.76147160e-08  5.42352572e-03]\n",
      " [-3.13508197e-03  7.71011738e-03 -1.86809065e-02  1.73118467e-02\n",
      "   1.46767801e-02 -3.35677339e-03  6.11340780e-03  4.79705919e-04]\n",
      " [-8.29135289e-03  8.77102184e-04  1.00036589e-02 -3.81092518e-03\n",
      "  -3.75669423e-03 -7.44707629e-04  4.33496330e-03  1.27837923e-02]\n",
      " [-6.34679305e-03  5.08396243e-03  2.16116006e-03 -1.85861239e-02\n",
      "  -4.19316482e-03 -1.32328898e-03 -3.95702397e-04  3.26003433e-03]\n",
      " [-2.04032305e-02  4.62555231e-04 -6.77675577e-03 -1.43943903e-02\n",
      "   5.24296430e-03  7.35279576e-03 -6.53250268e-03  8.42456282e-03]\n",
      " [-3.81516482e-03  6.64890091e-04 -1.09873895e-02  1.58448706e-02\n",
      "  -2.65944946e-02 -9.14526229e-04  6.95119605e-03 -2.03346655e-02]] % w2:====== [[-0.00189469 -0.00077219  0.00824703  0.01248213 -0.00403892 -0.01384519\n",
      "   0.01367235  0.01217886 -0.00462005  0.00350888]\n",
      " [ 0.00381866  0.00566275  0.00204208  0.01406696 -0.0173796   0.01040824\n",
      "   0.00380472 -0.00217135  0.01173531 -0.02343603]\n",
      " [ 0.01161521  0.00386078 -0.01133133  0.00433093 -0.00304086  0.02585295\n",
      "   0.01835333  0.0044069  -0.00719254 -0.00583415]\n",
      " [-0.0032505  -0.00560235 -0.00902246 -0.00590972 -0.00276179 -0.00516884\n",
      "  -0.0069859  -0.00928892  0.02550438 -0.01473173]\n",
      " [-0.01021415  0.00432396 -0.0032358   0.00423825  0.0079918   0.01262614\n",
      "   0.00751965 -0.00993761  0.01109143 -0.01764918]]\n",
      "Cost after iteration 0: 0.693049\n"
     ]
    }
   ],
   "source": [
    "parameters = nn_model(x, y, n_h_1=10 ,n_h_2=5 , num_iterations = 100, print_cost=True)"
   ]
  },
  {
   "cell_type": "code",
   "execution_count": 18,
   "metadata": {},
   "outputs": [
    {
     "name": "stdout",
     "output_type": "stream",
     "text": [
      "Accuracy: 80%\n"
     ]
    }
   ],
   "source": [
    "predictions = predict(parameters, x)\n",
    "print ('Accuracy: %d' % float((np.dot(y,predictions.T) + np.dot(1-y,1-predictions.T))/float(y.size)*100) + '%')"
   ]
  },
  {
   "cell_type": "code",
   "execution_count": 19,
   "metadata": {},
   "outputs": [
    {
     "name": "stdout",
     "output_type": "stream",
     "text": [
      "Accuracy  80.10234798314269\n"
     ]
    }
   ],
   "source": [
    "\n",
    "predictions = predict(parameters, x)\n",
    "accuracy = float((np.dot(y,predictions.T) + np.dot(1-y,1-predictions.T))/float(y.size)*100)\n",
    "print (\"Accuracy \", accuracy)"
   ]
  },
  {
   "cell_type": "code",
   "execution_count": 20,
   "metadata": {
    "scrolled": true
   },
   "outputs": [
    {
     "data": {
      "text/plain": [
       "[0.6930485334634853,\n",
       " 0.6004256523011937,\n",
       " 0.5541395901534045,\n",
       " 0.5298405042427816,\n",
       " 0.5162101893366018,\n",
       " 0.5079163181966363,\n",
       " 0.5029878647915711,\n",
       " 0.5014996024313526,\n",
       " 0.5010895536589558,\n",
       " 0.5007564306275608,\n",
       " 0.5004818182108846,\n",
       " 0.50025351093176,\n",
       " 0.5000624948707827,\n",
       " 0.499901973213655,\n",
       " 0.4997664569651146,\n",
       " 0.49965179095128676,\n",
       " 0.4995544331993776,\n",
       " 0.49947157936898245,\n",
       " 0.4994009749925682,\n",
       " 0.4993406073761479,\n",
       " 0.4992889192092432,\n",
       " 0.49924461523670416,\n",
       " 0.4992064263789562,\n",
       " 0.49917350365256463,\n",
       " 0.49914509843403587,\n",
       " 0.4991208064449491,\n",
       " 0.49909972479513315,\n",
       " 0.49908139864451095,\n",
       " 0.4990653432745635,\n",
       " 0.4990512637574924,\n",
       " 0.49903888042138567,\n",
       " 0.4990282864192895,\n",
       " 0.4990191173937542,\n",
       " 0.4990109664255576,\n",
       " 0.4990036007188728,\n",
       " 0.4989970418073226,\n",
       " 0.49899118300144935,\n",
       " 0.49898587992978743,\n",
       " 0.49898103049886017,\n",
       " 0.4989765570426522,\n",
       " 0.4989724737479861,\n",
       " 0.4989687208788241,\n",
       " 0.49896517785146066,\n",
       " 0.49896195305834334,\n",
       " 0.49895908285866425,\n",
       " 0.4989563956998982,\n",
       " 0.49895375890809057,\n",
       " 0.49895121542826154,\n",
       " 0.49894872572063015,\n",
       " 0.4989462811514793,\n",
       " 0.49894410175367276,\n",
       " 0.4989422499084102,\n",
       " 0.4989404883488753,\n",
       " 0.4989388900383115,\n",
       " 0.4989373603290392,\n",
       " 0.4989358066853667,\n",
       " 0.4989344143643549,\n",
       " 0.4989329311465129,\n",
       " 0.4989314067655738,\n",
       " 0.4989299443746855,\n",
       " 0.49892845515113665,\n",
       " 0.4989270104633289,\n",
       " 0.49892587649329595,\n",
       " 0.4989247053975285,\n",
       " 0.4989235879499101,\n",
       " 0.49892250908224617,\n",
       " 0.4989216275418988,\n",
       " 0.498921002312752,\n",
       " 0.49892057957625013,\n",
       " 0.49892019661101894,\n",
       " 0.498919822383359,\n",
       " 0.4989194632840249,\n",
       " 0.49891911897672764,\n",
       " 0.49891875830392957,\n",
       " 0.4989183835574125,\n",
       " 0.4989179752264429,\n",
       " 0.4989175616635482,\n",
       " 0.4989171725265281,\n",
       " 0.49891678828315833,\n",
       " 0.4989163791051132,\n",
       " 0.4989159539708736,\n",
       " 0.4989154995750487,\n",
       " 0.49891504002192105,\n",
       " 0.4989146296512338,\n",
       " 0.49891426564135544,\n",
       " 0.4989138736920148,\n",
       " 0.49891345979558327,\n",
       " 0.4989131495761045,\n",
       " 0.4989128683329305,\n",
       " 0.49891259875933075,\n",
       " 0.49891237730884513,\n",
       " 0.4989121770610019,\n",
       " 0.49891195469203525,\n",
       " 0.49891175432329204,\n",
       " 0.49891156597843883,\n",
       " 0.498911381734216,\n",
       " 0.4989111615472463,\n",
       " 0.49891094308613415,\n",
       " 0.4989107218767457,\n",
       " 0.49891050957925126]"
      ]
     },
     "execution_count": 20,
     "metadata": {},
     "output_type": "execute_result"
    }
   ],
   "source": [
    "e"
   ]
  },
  {
   "cell_type": "code",
   "execution_count": 21,
   "metadata": {},
   "outputs": [],
   "source": [
    "#loss_train\n",
    "# calculate mean\n",
    "m = sum(e) / len(e)\n",
    "\n",
    "# calculate variance using a list comprehension\n",
    "var_res = sum((xi - m) ** 2 for xi in e) / len(e)"
   ]
  },
  {
   "cell_type": "code",
   "execution_count": 22,
   "metadata": {},
   "outputs": [
    {
     "name": "stdout",
     "output_type": "stream",
     "text": [
      "mean:=== 0.5032293376188285\n",
      "variance:=== 0.0005055821484323391\n"
     ]
    }
   ],
   "source": [
    "print(\"mean:===\",m)\n",
    "print(\"variance:===\",var_res)"
   ]
  },
  {
   "cell_type": "code",
   "execution_count": 23,
   "metadata": {},
   "outputs": [
    {
     "data": {
      "image/png": "[encoded data removed]",
      "text/plain": [
       "<Figure size 432x288 with 1 Axes>"
      ]
     },
     "metadata": {
      "needs_background": "light"
     },
     "output_type": "display_data"
    }
   ],
   "source": [
    "import matplotlib.pyplot as plt1\n",
    "\n",
    "# plotting Loss\n",
    "plt1.plot(e)\n",
    "plt1.ylabel('cost_train')\n",
    "plt1.xlabel(\"Epochs:\")\n",
    "plt1.show()"
   ]
  },
  {
   "cell_type": "code",
   "execution_count": 24,
   "metadata": {},
   "outputs": [],
   "source": [
    "e=[]"
   ]
  },
  {
   "cell_type": "code",
   "execution_count": 25,
   "metadata": {
    "scrolled": true
   },
   "outputs": [
    {
     "name": "stdout",
     "output_type": "stream",
     "text": [
      "w1:====== [[-4.16757847e-03 -5.62668272e-04 -2.13619610e-02  1.64027081e-02\n",
      "  -1.79343559e-02 -8.41747366e-03  5.02881417e-03 -1.24528809e-02]\n",
      " [-1.05795222e-02 -9.09007615e-03  5.51454045e-03  2.29220801e-02\n",
      "   4.15393930e-04 -1.11792545e-02  5.39058321e-03 -5.96159700e-03]\n",
      " [-1.91304965e-04  1.17500122e-02 -7.47870949e-03  9.02525097e-05\n",
      "  -8.78107893e-03 -1.56434170e-03  2.56570452e-03 -9.88779049e-03]\n",
      " [-3.38821966e-03 -2.36184031e-03 -6.37655012e-03 -1.18761229e-02\n",
      "  -1.42121723e-02 -1.53495196e-03 -2.69056960e-03  2.23136679e-02]\n",
      " [-2.43476758e-02  1.12726505e-03  3.70444537e-03  1.35963386e-02\n",
      "   5.01857207e-03 -8.44213704e-03  9.76147160e-08  5.42352572e-03]\n",
      " [-3.13508197e-03  7.71011738e-03 -1.86809065e-02  1.73118467e-02\n",
      "   1.46767801e-02 -3.35677339e-03  6.11340780e-03  4.79705919e-04]\n",
      " [-8.29135289e-03  8.77102184e-04  1.00036589e-02 -3.81092518e-03\n",
      "  -3.75669423e-03 -7.44707629e-04  4.33496330e-03  1.27837923e-02]\n",
      " [-6.34679305e-03  5.08396243e-03  2.16116006e-03 -1.85861239e-02\n",
      "  -4.19316482e-03 -1.32328898e-03 -3.95702397e-04  3.26003433e-03]\n",
      " [-2.04032305e-02  4.62555231e-04 -6.77675577e-03 -1.43943903e-02\n",
      "   5.24296430e-03  7.35279576e-03 -6.53250268e-03  8.42456282e-03]\n",
      " [-3.81516482e-03  6.64890091e-04 -1.09873895e-02  1.58448706e-02\n",
      "  -2.65944946e-02 -9.14526229e-04  6.95119605e-03 -2.03346655e-02]] % w2:====== [[-0.00189469 -0.00077219  0.00824703  0.01248213 -0.00403892 -0.01384519\n",
      "   0.01367235  0.01217886 -0.00462005  0.00350888]\n",
      " [ 0.00381866  0.00566275  0.00204208  0.01406696 -0.0173796   0.01040824\n",
      "   0.00380472 -0.00217135  0.01173531 -0.02343603]\n",
      " [ 0.01161521  0.00386078 -0.01133133  0.00433093 -0.00304086  0.02585295\n",
      "   0.01835333  0.0044069  -0.00719254 -0.00583415]\n",
      " [-0.0032505  -0.00560235 -0.00902246 -0.00590972 -0.00276179 -0.00516884\n",
      "  -0.0069859  -0.00928892  0.02550438 -0.01473173]\n",
      " [-0.01021415  0.00432396 -0.0032358   0.00423825  0.0079918   0.01262614\n",
      "   0.00751965 -0.00993761  0.01109143 -0.01764918]]\n",
      "Cost after iteration 0: 0.693044\n"
     ]
    }
   ],
   "source": [
    "parameters = nn_model(test_set_x, test_set_y, n_h_1=10 ,n_h_2=5 , num_iterations = 100, print_cost=True)"
   ]
  },
  {
   "cell_type": "code",
   "execution_count": 26,
   "metadata": {},
   "outputs": [
    {
     "name": "stdout",
     "output_type": "stream",
     "text": [
      "Accuracy: 79%\n"
     ]
    }
   ],
   "source": [
    "predictions = predict(parameters, test_set_x)\n",
    "print ('Accuracy: %d' % float((np.dot(test_set_y,predictions.T) + np.dot(1-test_set_y,1-predictions.T))/float(test_set_y.size)*100) + '%')"
   ]
  },
  {
   "cell_type": "code",
   "execution_count": 27,
   "metadata": {},
   "outputs": [
    {
     "name": "stdout",
     "output_type": "stream",
     "text": [
      "Accuracy  79.58741371006582\n"
     ]
    }
   ],
   "source": [
    "predictions = predict(parameters, test_set_x)\n",
    "accuracy = float((np.dot(test_set_y,predictions.T) + np.dot(1-test_set_y,1-predictions.T))/float(test_set_y.size)*100)\n",
    "print (\"Accuracy \", accuracy)"
   ]
  },
  {
   "cell_type": "code",
   "execution_count": 28,
   "metadata": {
    "scrolled": true
   },
   "outputs": [
    {
     "data": {
      "text/plain": [
       "[0.6930439221890862,\n",
       " 0.6035501717665223,\n",
       " 0.5588292521540104,\n",
       " 0.5353409449738162,\n",
       " 0.5220890613349186,\n",
       " 0.513909596533525,\n",
       " 0.5093096290848472,\n",
       " 0.5083189330020241,\n",
       " 0.5078694418704345,\n",
       " 0.5075257630356798,\n",
       " 0.5072524147626226,\n",
       " 0.5070289818185835,\n",
       " 0.5068449705106395,\n",
       " 0.5066924842918862,\n",
       " 0.5065654927104066,\n",
       " 0.5064595796527334,\n",
       " 0.5063697459119675,\n",
       " 0.5062927428356955,\n",
       " 0.5062278137664499,\n",
       " 0.5061712486113411,\n",
       " 0.5061233296649443,\n",
       " 0.5060792900511704,\n",
       " 0.5060387568193925,\n",
       " 0.5060041512852153,\n",
       " 0.5059777579767235,\n",
       " 0.5059553700289626,\n",
       " 0.5059358865959541,\n",
       " 0.505917316600623,\n",
       " 0.5059014822391104,\n",
       " 0.5058895035865626,\n",
       " 0.5058786917491509,\n",
       " 0.505868395508171,\n",
       " 0.5058599632348886,\n",
       " 0.5058532292663637,\n",
       " 0.5058474849311554,\n",
       " 0.5058424129629265,\n",
       " 0.5058380867746176,\n",
       " 0.5058343831727488,\n",
       " 0.5058310556560617,\n",
       " 0.5058237709574972,\n",
       " 0.5058146539397241,\n",
       " 0.5058078009488005,\n",
       " 0.5058026994538765,\n",
       " 0.5057979909941324,\n",
       " 0.5057934860719993,\n",
       " 0.5057888587062,\n",
       " 0.5057839037290675,\n",
       " 0.5057804277250447,\n",
       " 0.5057773103882652,\n",
       " 0.5057743033592356,\n",
       " 0.5057719031010978,\n",
       " 0.5057702126656165,\n",
       " 0.5057687094834921,\n",
       " 0.5057671552566657,\n",
       " 0.5057653765260037,\n",
       " 0.5057637600596674,\n",
       " 0.5057623409417876,\n",
       " 0.5057608300879568,\n",
       " 0.505759418789582,\n",
       " 0.5057578516227704,\n",
       " 0.5057558859120272,\n",
       " 0.5057539873959929,\n",
       " 0.5057518294157999,\n",
       " 0.5057493259668168,\n",
       " 0.5057469988618635,\n",
       " 0.5057449533452811,\n",
       " 0.505743034738635,\n",
       " 0.5057416254429211,\n",
       " 0.5057403140117792,\n",
       " 0.5057392356198085,\n",
       " 0.5057381737296269,\n",
       " 0.5057366904676055,\n",
       " 0.5057350694256612,\n",
       " 0.5057334812063143,\n",
       " 0.5057315157458514,\n",
       " 0.5057292360293333,\n",
       " 0.5057275763540201,\n",
       " 0.5057263370474565,\n",
       " 0.5057253365580386,\n",
       " 0.5057242408850999,\n",
       " 0.5057235196195594,\n",
       " 0.5057224158545216,\n",
       " 0.505721432287459,\n",
       " 0.5057205255716922,\n",
       " 0.5057194322866477,\n",
       " 0.5057181779216213,\n",
       " 0.505716768360034,\n",
       " 0.5057154821275174,\n",
       " 0.5057140780796188,\n",
       " 0.5057129062381357,\n",
       " 0.5057116074321171,\n",
       " 0.5057103738142288,\n",
       " 0.5057089012657499,\n",
       " 0.505707566154757,\n",
       " 0.5057065971065056,\n",
       " 0.5057049472822673,\n",
       " 0.505703201042667,\n",
       " 0.5057012040131119,\n",
       " 0.5056987390994638,\n",
       " 0.505696915542769]"
      ]
     },
     "execution_count": 28,
     "metadata": {},
     "output_type": "execute_result"
    }
   ],
   "source": [
    "e"
   ]
  },
  {
   "cell_type": "code",
   "execution_count": 29,
   "metadata": {},
   "outputs": [
    {
     "data": {
      "image/png": "[encoded data removed]",
      "text/plain": [
       "<Figure size 432x288 with 1 Axes>"
      ]
     },
     "metadata": {
      "needs_background": "light"
     },
     "output_type": "display_data"
    }
   ],
   "source": [
    "import matplotlib.pyplot as plt1\n",
    "\n",
    "# plotting Loss\n",
    "plt1.plot(e)\n",
    "plt1.ylabel('cost_test')\n",
    "plt1.xlabel(\"Epochs:\")\n",
    "plt1.show()"
   ]
  },
  {
   "cell_type": "code",
   "execution_count": 30,
   "metadata": {},
   "outputs": [],
   "source": [
    "#learning rate=0.0001\n",
    "# calculate mean\n",
    "m = sum(e) / len(e)\n",
    "\n",
    "# calculate variance using a list comprehension\n",
    "var_res = sum((xi - m) ** 2 for xi in e) / len(e)"
   ]
  },
  {
   "cell_type": "code",
   "execution_count": 31,
   "metadata": {},
   "outputs": [
    {
     "name": "stdout",
     "output_type": "stream",
     "text": [
      "mean:=== 0.5098857114299079\n",
      "variance:=== 0.00046995949627522945\n"
     ]
    }
   ],
   "source": [
    "print(\"mean:===\",m)\n",
    "print(\"variance:===\",var_res)"
   ]
  },
  {
   "cell_type": "code",
   "execution_count": 32,
   "metadata": {},
   "outputs": [],
   "source": [
    "result=[80.10234798314269 , 79.58741371006582]\n",
    "\n",
    "#accuracy\n",
    "# calculate mean\n",
    "m = sum(result) / len(result)\n",
    "\n",
    "# calculate variance using a list comprehension\n",
    "var_res = sum((xi - m) ** 2 for xi in result) / len(result)"
   ]
  },
  {
   "cell_type": "code",
   "execution_count": 33,
   "metadata": {},
   "outputs": [
    {
     "name": "stdout",
     "output_type": "stream",
     "text": [
      "mean:=== 79.84488084660425\n",
      "variance:=== 0.06628932639730245\n"
     ]
    }
   ],
   "source": [
    "print(\"mean:===\",m)\n",
    "print(\"variance:===\",var_res)"
   ]
  },
  {
   "cell_type": "markdown",
   "metadata": {},
   "source": [
    "# سوال 10"
   ]
  },
  {
   "cell_type": "markdown",
   "metadata": {},
   "source": [
    "تمامی کد ها بر این اساس نوشته شده است \n",
    "در صورت سوال بیشتر در تحویل حضوری پاسخ خواهم داد"
   ]
  },
  {
   "cell_type": "code",
   "execution_count": null,
   "metadata": {},
   "outputs": [],
   "source": []
  }
 ],
 "metadata": {
  "kernelspec": {
   "display_name": "Python 3",
   "language": "python",
   "name": "python3"
  },
  "language_info": {
   "codemirror_mode": {
    "name": "ipython",
    "version": 3
   },
   "file_extension": ".py",
   "mimetype": "text/x-python",
   "name": "python",
   "nbconvert_exporter": "python",
   "pygments_lexer": "ipython3",
   "version": "3.7.4"
  }
 },
 "nbformat": 4,
 "nbformat_minor": 2
}

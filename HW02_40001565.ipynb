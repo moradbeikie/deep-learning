{
  "nbformat": 4,
  "nbformat_minor": 5,
  "metadata": {
    "kernelspec": {
      "display_name": "Python 3 (ipykernel)",
      "language": "python",
      "name": "python3"
    },
    "language_info": {
      "codemirror_mode": {
        "name": "ipython",
        "version": 3
      },
      "file_extension": ".py",
      "mimetype": "text/x-python",
      "name": "python",
      "nbconvert_exporter": "python",
      "pygments_lexer": "ipython3",
      "version": "3.7.4"
    },
    "colab": {
      "name": "HW02_40001565.ipynb",
      "provenance": []
    },
    "accelerator": "GPU"
  },
  "cells": [
    {
      "cell_type": "code",
      "metadata": {
        "id": "8655bd1e"
      },
      "source": [
        "import numpy as np\n",
        "from matplotlib.pyplot import imread\n",
        "from skimage.transform import resize\n",
        "import matplotlib.pyplot as plt \n",
        "from sklearn.model_selection import train_test_split\n",
        "\n",
        "%matplotlib inline"
      ],
      "id": "8655bd1e",
      "execution_count": 2,
      "outputs": []
    },
    {
      "cell_type": "markdown",
      "metadata": {
        "id": "djjDNCWosFpR"
      },
      "source": [
        "در اینجا برای اینکه در قسمت اخر تمرین مشکل برای داده های تست جدید نداشته باشیم همه دیتا ها را نرمال کردیم "
      ],
      "id": "djjDNCWosFpR"
    },
    {
      "cell_type": "markdown",
      "metadata": {
        "id": "N9VQyc2msUMq"
      },
      "source": [
        "برای اینکار اول عکس ها را به تعداد پیکسل مورد نیاز در صورت مسئله خود بردیم و بعد از ان "
      ],
      "id": "N9VQyc2msUMq"
    },
    {
      "cell_type": "markdown",
      "metadata": {
        "id": "hFIzylhysoq6"
      },
      "source": [
        "اول داده های خود را به میانگین صفر بردیم\n"
      ],
      "id": "hFIzylhysoq6"
    },
    {
      "cell_type": "markdown",
      "metadata": {
        "id": "XFawzbrHsoz3"
      },
      "source": [
        "و بعد از اینکار داده های خود را نرمالسازی کردیم "
      ],
      "id": "XFawzbrHsoz3"
    },
    {
      "cell_type": "markdown",
      "metadata": {
        "id": "NuIprgE7spAG"
      },
      "source": [
        "دلیل اینکار هم این است که تصاویر برای تست متفاوت نباید باشد و مدل اموزش دیده روی این داده ها اموزش دیده است "
      ],
      "id": "NuIprgE7spAG"
    },
    {
      "cell_type": "markdown",
      "metadata": {
        "id": "j4RE6KKxtO0Z"
      },
      "source": [
        "برای نرمالسازی داده ها من از دو فرمول زیر استفاده کردم اولی برای بردن به میانگین صفر و بعدی نرمالسازی دادگان ماست "
      ],
      "id": "j4RE6KKxtO0Z"
    },
    {
      "cell_type": "markdown",
      "metadata": {
        "id": "zvKpaxUltcuL"
      },
      "source": [
        "X -= np.mean(X, axis=0)"
      ],
      "id": "zvKpaxUltcuL"
    },
    {
      "cell_type": "markdown",
      "metadata": {
        "id": "DnJgJo-Xtcwp"
      },
      "source": [
        "X /= np.std(X, axis=0)"
      ],
      "id": "DnJgJo-Xtcwp"
    },
    {
      "cell_type": "markdown",
      "metadata": {
        "id": "qECd48Zctc1P"
      },
      "source": [
        "این دو راه در مقالات و سایت ها معرفی شده و راه های دیگری هم نیز بود ولی با این دو دقت مدل مشابه داده های اموزش دیده شد"
      ],
      "id": "qECd48Zctc1P"
    },
    {
      "cell_type": "markdown",
      "metadata": {
        "id": "DbhLsEXpt0Gb"
      },
      "source": [
        "مانند \n",
        "تبدیل ماتریس کووراریانس به یک ماتریس همانی\n",
        "و \n",
        "تبدیل ماتریس کووراریانس به یک ماتریس قطری"
      ],
      "id": "DbhLsEXpt0Gb"
    },
    {
      "cell_type": "markdown",
      "metadata": {
        "id": "YvYlZ-pVuER-"
      },
      "source": [
        "در جلوتر من بدون این روش و با این روش را نشان میدهم که بدون این روش دقت مدل من سی درصد بود ولی با این دو روش دقت مدل من به هشتاد درصد رسید"
      ],
      "id": "YvYlZ-pVuER-"
    },
    {
      "cell_type": "markdown",
      "metadata": {
        "id": "hvqtZbpByoqg"
      },
      "source": [
        "به دلیل وقت کم من مدل هایی که در فایل گذاشتم با ایپوک 100 است اما در فایل پایین بعضی تعداد ایپوک به دلیل وقت کم مقدار کمی انتخاب شده اما نتایج درست است."
      ],
      "id": "hvqtZbpByoqg"
    },
    {
      "cell_type": "code",
      "metadata": {
        "id": "e65HH0QbkMUw"
      },
      "source": [
        "set_x_list = []\n",
        "set_y_list = []\n",
        "\n",
        "num_px = 64\n",
        "classes = (\"0\", \"1\",\"2\", \"3\",\"4\",\"5\")\n",
        "for i in range(200):\n",
        "    zero = \"drive/MyDrive/HW02/HW/dataset/0/IMG (\"+str(i)+\").JPG\"\n",
        "    one = \"drive/MyDrive/HW02/HW/dataset/1/IMG (\"+str(i)+\").JPG\"\n",
        "    two  =\"drive/MyDrive/HW02/HW/dataset/2/IMG (\"+str(i)+\").JPG\"\n",
        "    three =\"drive/MyDrive/HW02/HW/dataset/3/IMG (\"+str(i)+\").JPG\"\n",
        "    four =\"drive/MyDrive/HW02/HW/dataset/4/IMG (\"+str(i)+\").JPG\"\n",
        "    five =\"drive/MyDrive/HW02/HW/dataset/5/IMG (\"+str(i)+\").JPG\"\n",
        "    \n",
        "    zero_full_image = imread(zero)\n",
        "    zero_image = resize(zero_full_image, (num_px,num_px), anti_aliasing=True, mode='reflect')\n",
        "    set_x_list.append(zero_image)\n",
        "    set_y_list.append(0)\n",
        "    \n",
        "    one_full_image = imread(one)\n",
        "    one_image = resize(one_full_image, (num_px,num_px), anti_aliasing=True, mode='reflect')\n",
        "    set_x_list.append(one_image)\n",
        "    set_y_list.append(1)\n",
        "    \n",
        "    two_full_image = imread(two)\n",
        "    two_image = resize(two_full_image, (num_px,num_px), anti_aliasing=True, mode='reflect')\n",
        "    set_x_list.append(two_image)\n",
        "    set_y_list.append(2)\n",
        "    \n",
        "    three_full_image = imread(three)\n",
        "    three_image = resize(three_full_image, (num_px,num_px), anti_aliasing=True, mode='reflect')\n",
        "    set_x_list.append(three_image)\n",
        "    set_y_list.append(3)\n",
        "    \n",
        "    four_full_image = imread(four)\n",
        "    four_image = resize(four_full_image, (num_px,num_px), anti_aliasing=True, mode='reflect')\n",
        "    set_x_list.append(four_image)\n",
        "    set_y_list.append(4)\n",
        "    \n",
        "    five_full_image = imread(five)\n",
        "    five_image = resize(five_full_image, (num_px,num_px), anti_aliasing=True, mode='reflect')\n",
        "    set_x_list.append(five_image)\n",
        "    set_y_list.append(5)\n",
        "\n",
        "    \n",
        "set_x = np.array(set_x_list)\n",
        "set_y = np.array(set_y_list)"
      ],
      "id": "e65HH0QbkMUw",
      "execution_count": 3,
      "outputs": []
    },
    {
      "cell_type": "code",
      "metadata": {
        "colab": {
          "base_uri": "https://localhost:8080/"
        },
        "id": "pcH7w1qNkfUc",
        "outputId": "5bd49fa6-288b-46bb-b29c-13a81eb82f63"
      },
      "source": [
        "from google.colab import drive\n",
        "drive.mount('/content/drive')"
      ],
      "id": "pcH7w1qNkfUc",
      "execution_count": 1,
      "outputs": [
        {
          "output_type": "stream",
          "name": "stdout",
          "text": [
            "Mounted at /content/drive\n"
          ]
        }
      ]
    },
    {
      "cell_type": "code",
      "metadata": {
        "colab": {
          "base_uri": "https://localhost:8080/"
        },
        "id": "jvuzLJrykf-L",
        "outputId": "43aaf440-552f-496d-f964-05dda79fddc1"
      },
      "source": [
        "print(set_x.shape)"
      ],
      "id": "jvuzLJrykf-L",
      "execution_count": 4,
      "outputs": [
        {
          "output_type": "stream",
          "name": "stdout",
          "text": [
            "(1200, 64, 64, 3)\n"
          ]
        }
      ]
    },
    {
      "cell_type": "code",
      "metadata": {
        "colab": {
          "base_uri": "https://localhost:8080/"
        },
        "id": "PaBWlyqwlO_Z",
        "outputId": "25e9b7d4-c897-4e72-efcc-be6d4835a388"
      },
      "source": [
        "print(set_y.shape)"
      ],
      "id": "PaBWlyqwlO_Z",
      "execution_count": 5,
      "outputs": [
        {
          "output_type": "stream",
          "name": "stdout",
          "text": [
            "(1200,)\n"
          ]
        }
      ]
    },
    {
      "cell_type": "code",
      "metadata": {
        "colab": {
          "base_uri": "https://localhost:8080/",
          "height": 285
        },
        "id": "gMCakrtRlPBT",
        "outputId": "e1f327ea-3329-44b2-ab41-aa326f36f729"
      },
      "source": [
        "index = 11\n",
        "plt.imshow(set_x[index])\n",
        "print (\"y = \" + str(set_y[index,]) + \", it's a '\" + classes[np.squeeze(set_y[index,])] +  \"' picture.\")"
      ],
      "id": "gMCakrtRlPBT",
      "execution_count": 6,
      "outputs": [
        {
          "output_type": "stream",
          "name": "stdout",
          "text": [
            "y = 5, it's a '5' picture.\n"
          ]
        },
        {
          "output_type": "display_data",
          "data": {
            "image/png": "[encoded data removed]",
            "text/plain": [
              "<Figure size 432x288 with 1 Axes>"
            ]
          },
          "metadata": {
            "needs_background": "light"
          }
        }
      ]
    },
    {
      "cell_type": "code",
      "metadata": {
        "id": "4UYrTt-5lPEl"
      },
      "source": [
        "num_pixels = set_x.shape[1] * set_x.shape[2] *set_x.shape[3]\n",
        "set_x =set_x.reshape(set_x.shape[0], num_pixels).astype('float32')\n",
        "set_y =set_y.reshape(set_y.shape[0],1).astype('float32')"
      ],
      "id": "4UYrTt-5lPEl",
      "execution_count": 7,
      "outputs": []
    },
    {
      "cell_type": "code",
      "metadata": {
        "colab": {
          "base_uri": "https://localhost:8080/"
        },
        "id": "lTg_2cojlPGm",
        "outputId": "52811a5d-7f91-4cac-b1f2-3c9e35b8e00f"
      },
      "source": [
        "set_x.shape"
      ],
      "id": "lTg_2cojlPGm",
      "execution_count": 8,
      "outputs": [
        {
          "output_type": "execute_result",
          "data": {
            "text/plain": [
              "(1200, 12288)"
            ]
          },
          "metadata": {},
          "execution_count": 8
        }
      ]
    },
    {
      "cell_type": "code",
      "metadata": {
        "colab": {
          "base_uri": "https://localhost:8080/"
        },
        "id": "3c16t1XXlPJr",
        "outputId": "27c41163-b768-4822-a9e9-c388eab0841e"
      },
      "source": [
        "set_y.shape"
      ],
      "id": "3c16t1XXlPJr",
      "execution_count": 9,
      "outputs": [
        {
          "output_type": "execute_result",
          "data": {
            "text/plain": [
              "(1200, 1)"
            ]
          },
          "metadata": {},
          "execution_count": 9
        }
      ]
    },
    {
      "cell_type": "code",
      "metadata": {
        "id": "N7OC9ZUBlPMI"
      },
      "source": [
        "import tensorflow as tf\n",
        "from tensorflow import keras"
      ],
      "id": "N7OC9ZUBlPMI",
      "execution_count": 10,
      "outputs": []
    },
    {
      "cell_type": "code",
      "metadata": {
        "id": "ay4yeJsml2aF"
      },
      "source": [
        "set_x -= np.mean(set_x, axis=0)"
      ],
      "id": "ay4yeJsml2aF",
      "execution_count": 11,
      "outputs": []
    },
    {
      "cell_type": "code",
      "metadata": {
        "id": "FyWN7qVfnDKM"
      },
      "source": [
        "set_x /= np.std(set_x, axis=0)"
      ],
      "id": "FyWN7qVfnDKM",
      "execution_count": 12,
      "outputs": []
    },
    {
      "cell_type": "code",
      "metadata": {
        "colab": {
          "base_uri": "https://localhost:8080/"
        },
        "id": "2RqT1T7qnI3O",
        "outputId": "5a1e4818-e03b-4b8e-9fc4-2040da3f5086"
      },
      "source": [
        "set_x.shape"
      ],
      "id": "2RqT1T7qnI3O",
      "execution_count": 13,
      "outputs": [
        {
          "output_type": "execute_result",
          "data": {
            "text/plain": [
              "(1200, 12288)"
            ]
          },
          "metadata": {},
          "execution_count": 13
        }
      ]
    },
    {
      "cell_type": "code",
      "metadata": {
        "colab": {
          "base_uri": "https://localhost:8080/"
        },
        "id": "RCk9nROXnMda",
        "outputId": "e3dca596-062b-461d-c315-0264cfbe7996"
      },
      "source": [
        "set_y"
      ],
      "id": "RCk9nROXnMda",
      "execution_count": 14,
      "outputs": [
        {
          "output_type": "execute_result",
          "data": {
            "text/plain": [
              "array([[0.],\n",
              "       [1.],\n",
              "       [2.],\n",
              "       ...,\n",
              "       [3.],\n",
              "       [4.],\n",
              "       [5.]], dtype=float32)"
            ]
          },
          "metadata": {},
          "execution_count": 14
        }
      ]
    },
    {
      "cell_type": "code",
      "metadata": {
        "id": "LfrfW8yj9uux"
      },
      "source": [
        "import numpy\n",
        "from sklearn.model_selection import GridSearchCV\n",
        "from keras.models import Sequential\n",
        "from keras.layers import Dense\n",
        "from keras.wrappers.scikit_learn import KerasClassifier"
      ],
      "id": "LfrfW8yj9uux",
      "execution_count": 15,
      "outputs": []
    },
    {
      "cell_type": "code",
      "metadata": {
        "id": "asmUp7VT9uxN"
      },
      "source": [
        ""
      ],
      "id": "asmUp7VT9uxN",
      "execution_count": 15,
      "outputs": []
    },
    {
      "cell_type": "code",
      "metadata": {
        "id": "3l3FIxrB9u0R"
      },
      "source": [
        "import os\n",
        "import string\n",
        "import zipfile\n",
        "import numpy as np\n",
        "import matplotlib.pyplot as plt\n",
        "import matplotlib.image as mpimg\n",
        "from tensorflow.keras.preprocessing.image import ImageDataGenerator\n",
        "import tensorflow as tf\n",
        "from tensorflow import keras\n",
        "import IPython\n",
        "\n",
        "%matplotlib inline"
      ],
      "id": "3l3FIxrB9u0R",
      "execution_count": 16,
      "outputs": []
    },
    {
      "cell_type": "code",
      "metadata": {
        "id": "ajcZULna9u81"
      },
      "source": [
        ""
      ],
      "id": "ajcZULna9u81",
      "execution_count": 16,
      "outputs": []
    },
    {
      "cell_type": "code",
      "metadata": {
        "id": "x16w_GhF9u_U"
      },
      "source": [
        ""
      ],
      "id": "x16w_GhF9u_U",
      "execution_count": 16,
      "outputs": []
    },
    {
      "cell_type": "code",
      "metadata": {
        "id": "ewuu5GRynWv5"
      },
      "source": [
        "X_train, X_test, y_train, y_test = train_test_split(set_x,set_y, test_size=0.1, random_state=42)"
      ],
      "id": "ewuu5GRynWv5",
      "execution_count": 17,
      "outputs": []
    },
    {
      "cell_type": "code",
      "metadata": {
        "colab": {
          "base_uri": "https://localhost:8080/"
        },
        "id": "S37nbcfUnr1A",
        "outputId": "75120e8f-c104-4c6f-cc12-de5eac8654a1"
      },
      "source": [
        "X_train.shape"
      ],
      "id": "S37nbcfUnr1A",
      "execution_count": 18,
      "outputs": [
        {
          "output_type": "execute_result",
          "data": {
            "text/plain": [
              "(1080, 12288)"
            ]
          },
          "metadata": {},
          "execution_count": 18
        }
      ]
    },
    {
      "cell_type": "code",
      "metadata": {
        "id": "Gp_oOGDxn-AZ"
      },
      "source": [
        "model = tf.keras.Sequential([\n",
        "    tf.keras.layers.Dense(4096, activation='relu'),\n",
        "    tf.keras.layers.Dense(4096, activation='relu'),\n",
        "    tf.keras.layers.Dense(4096, activation='relu'),\n",
        "    tf.keras.layers.Dense(4096, activation='relu'),\n",
        "    tf.keras.layers.Dense(4096, activation='relu'),\n",
        "    tf.keras.layers.Dense(6)\n",
        "])\n"
      ],
      "id": "Gp_oOGDxn-AZ",
      "execution_count": 19,
      "outputs": []
    },
    {
      "cell_type": "code",
      "metadata": {
        "id": "qx_4RKmVoBX5"
      },
      "source": [
        "model.compile(optimizer='adam',\n",
        "              loss=tf.keras.losses.SparseCategoricalCrossentropy(from_logits=True),\n",
        "              metrics=['accuracy'])"
      ],
      "id": "qx_4RKmVoBX5",
      "execution_count": null,
      "outputs": []
    },
    {
      "cell_type": "code",
      "metadata": {
        "colab": {
          "base_uri": "https://localhost:8080/"
        },
        "id": "H-av8o8f-PmB",
        "outputId": "91ced319-b445-43b0-ae0f-b7e7dbd603cc"
      },
      "source": [
        "history=model.fit(X_train, y_train, batch_size = 32, epochs = 100)"
      ],
      "id": "H-av8o8f-PmB",
      "execution_count": null,
      "outputs": [
        {
          "output_type": "stream",
          "name": "stdout",
          "text": [
            "Epoch 1/100\n",
            "34/34 [==============================] - 4s 57ms/step - loss: 7.6483 - accuracy: 0.3194\n",
            "Epoch 2/100\n",
            "34/34 [==============================] - 2s 54ms/step - loss: 0.9745 - accuracy: 0.6343\n",
            "Epoch 3/100\n",
            "34/34 [==============================] - 2s 54ms/step - loss: 0.6649 - accuracy: 0.7713\n",
            "Epoch 4/100\n",
            "34/34 [==============================] - 2s 53ms/step - loss: 0.4831 - accuracy: 0.8352\n",
            "Epoch 5/100\n",
            "34/34 [==============================] - 2s 53ms/step - loss: 0.3994 - accuracy: 0.8713\n",
            "Epoch 6/100\n",
            "34/34 [==============================] - 2s 54ms/step - loss: 0.3339 - accuracy: 0.9009\n",
            "Epoch 7/100\n",
            "34/34 [==============================] - 2s 54ms/step - loss: 0.2751 - accuracy: 0.9130\n",
            "Epoch 8/100\n",
            "34/34 [==============================] - 2s 54ms/step - loss: 0.2343 - accuracy: 0.9296\n",
            "Epoch 9/100\n",
            "34/34 [==============================] - 2s 54ms/step - loss: 0.1867 - accuracy: 0.9528\n",
            "Epoch 10/100\n",
            "34/34 [==============================] - 2s 53ms/step - loss: 0.2128 - accuracy: 0.9389\n",
            "Epoch 11/100\n",
            "34/34 [==============================] - 2s 53ms/step - loss: 0.2436 - accuracy: 0.9463\n",
            "Epoch 12/100\n",
            "34/34 [==============================] - 2s 54ms/step - loss: 0.1375 - accuracy: 0.9565\n",
            "Epoch 13/100\n",
            "34/34 [==============================] - 2s 54ms/step - loss: 0.1835 - accuracy: 0.9657\n",
            "Epoch 14/100\n",
            "34/34 [==============================] - 2s 54ms/step - loss: 0.1323 - accuracy: 0.9648\n",
            "Epoch 15/100\n",
            "34/34 [==============================] - 2s 54ms/step - loss: 0.2537 - accuracy: 0.9463\n",
            "Epoch 16/100\n",
            "34/34 [==============================] - 2s 54ms/step - loss: 0.1386 - accuracy: 0.9648\n",
            "Epoch 17/100\n",
            "34/34 [==============================] - 2s 55ms/step - loss: 0.1897 - accuracy: 0.9639\n",
            "Epoch 18/100\n",
            "34/34 [==============================] - 2s 53ms/step - loss: 0.2190 - accuracy: 0.9546\n",
            "Epoch 19/100\n",
            "34/34 [==============================] - 2s 54ms/step - loss: 0.2455 - accuracy: 0.9398\n",
            "Epoch 20/100\n",
            "34/34 [==============================] - 2s 54ms/step - loss: 0.1566 - accuracy: 0.9676\n",
            "Epoch 21/100\n",
            "34/34 [==============================] - 2s 54ms/step - loss: 0.1680 - accuracy: 0.9546\n",
            "Epoch 22/100\n",
            "34/34 [==============================] - 2s 54ms/step - loss: 0.2440 - accuracy: 0.9583\n",
            "Epoch 23/100\n",
            "34/34 [==============================] - 2s 54ms/step - loss: 0.3470 - accuracy: 0.9426\n",
            "Epoch 24/100\n",
            "34/34 [==============================] - 2s 53ms/step - loss: 0.2930 - accuracy: 0.9231\n",
            "Epoch 25/100\n",
            "34/34 [==============================] - 2s 53ms/step - loss: 0.2488 - accuracy: 0.9389\n",
            "Epoch 26/100\n",
            "34/34 [==============================] - 2s 54ms/step - loss: 0.2043 - accuracy: 0.9472\n",
            "Epoch 27/100\n",
            "34/34 [==============================] - 2s 54ms/step - loss: 0.0530 - accuracy: 0.9852\n",
            "Epoch 28/100\n",
            "34/34 [==============================] - 2s 54ms/step - loss: 0.0597 - accuracy: 0.9880\n",
            "Epoch 29/100\n",
            "34/34 [==============================] - 2s 54ms/step - loss: 0.5637 - accuracy: 0.9037\n",
            "Epoch 30/100\n",
            "34/34 [==============================] - 2s 53ms/step - loss: 0.1809 - accuracy: 0.9463\n",
            "Epoch 31/100\n",
            "34/34 [==============================] - 2s 53ms/step - loss: 0.1847 - accuracy: 0.9639\n",
            "Epoch 32/100\n",
            "34/34 [==============================] - 2s 53ms/step - loss: 0.1578 - accuracy: 0.9611\n",
            "Epoch 33/100\n",
            "34/34 [==============================] - 2s 53ms/step - loss: 0.0958 - accuracy: 0.9778\n",
            "Epoch 34/100\n",
            "34/34 [==============================] - 2s 54ms/step - loss: 0.4184 - accuracy: 0.9398\n",
            "Epoch 35/100\n",
            "34/34 [==============================] - 2s 54ms/step - loss: 0.1738 - accuracy: 0.9620\n",
            "Epoch 36/100\n",
            "34/34 [==============================] - 2s 54ms/step - loss: 0.2671 - accuracy: 0.9565\n",
            "Epoch 37/100\n",
            "34/34 [==============================] - 2s 54ms/step - loss: 0.2505 - accuracy: 0.9630\n",
            "Epoch 38/100\n",
            "34/34 [==============================] - 2s 54ms/step - loss: 0.1026 - accuracy: 0.9750\n",
            "Epoch 39/100\n",
            "34/34 [==============================] - 2s 53ms/step - loss: 0.0393 - accuracy: 0.9880\n",
            "Epoch 40/100\n",
            "34/34 [==============================] - 2s 54ms/step - loss: 0.0614 - accuracy: 0.9926\n",
            "Epoch 41/100\n",
            "34/34 [==============================] - 2s 54ms/step - loss: 0.0903 - accuracy: 0.9759\n",
            "Epoch 42/100\n",
            "34/34 [==============================] - 2s 54ms/step - loss: 0.0394 - accuracy: 0.9926\n",
            "Epoch 43/100\n",
            "34/34 [==============================] - 2s 53ms/step - loss: 0.2819 - accuracy: 0.9602\n",
            "Epoch 44/100\n",
            "34/34 [==============================] - 2s 53ms/step - loss: 0.2668 - accuracy: 0.9593\n",
            "Epoch 45/100\n",
            "34/34 [==============================] - 2s 53ms/step - loss: 0.2409 - accuracy: 0.9685\n",
            "Epoch 46/100\n",
            "34/34 [==============================] - 2s 54ms/step - loss: 0.3103 - accuracy: 0.9528\n",
            "Epoch 47/100\n",
            "34/34 [==============================] - 2s 53ms/step - loss: 0.1030 - accuracy: 0.9806\n",
            "Epoch 48/100\n",
            "34/34 [==============================] - 2s 53ms/step - loss: 0.0266 - accuracy: 0.9944\n",
            "Epoch 49/100\n",
            "34/34 [==============================] - 2s 54ms/step - loss: 0.1853 - accuracy: 0.9741\n",
            "Epoch 50/100\n",
            "34/34 [==============================] - 2s 54ms/step - loss: 0.1290 - accuracy: 0.9806\n",
            "Epoch 51/100\n",
            "34/34 [==============================] - 2s 53ms/step - loss: 0.1671 - accuracy: 0.9778\n",
            "Epoch 52/100\n",
            "34/34 [==============================] - 2s 53ms/step - loss: 0.1533 - accuracy: 0.9741\n",
            "Epoch 53/100\n",
            "34/34 [==============================] - 2s 54ms/step - loss: 0.0456 - accuracy: 0.9907\n",
            "Epoch 54/100\n",
            "34/34 [==============================] - 2s 53ms/step - loss: 0.0633 - accuracy: 0.9917\n",
            "Epoch 55/100\n",
            "34/34 [==============================] - 2s 54ms/step - loss: 0.0141 - accuracy: 0.9981\n",
            "Epoch 56/100\n",
            "34/34 [==============================] - 2s 54ms/step - loss: 0.0011 - accuracy: 0.9991\n",
            "Epoch 57/100\n",
            "34/34 [==============================] - 2s 53ms/step - loss: 2.3267e-06 - accuracy: 1.0000\n",
            "Epoch 58/100\n",
            "34/34 [==============================] - 2s 54ms/step - loss: 1.3442e-06 - accuracy: 1.0000\n",
            "Epoch 59/100\n",
            "34/34 [==============================] - 2s 53ms/step - loss: 9.5725e-07 - accuracy: 1.0000\n",
            "Epoch 60/100\n",
            "34/34 [==============================] - 2s 53ms/step - loss: 7.8795e-07 - accuracy: 1.0000\n",
            "Epoch 61/100\n",
            "34/34 [==============================] - 2s 53ms/step - loss: 6.5815e-07 - accuracy: 1.0000\n",
            "Epoch 62/100\n",
            "34/34 [==============================] - 2s 53ms/step - loss: 5.7416e-07 - accuracy: 1.0000\n",
            "Epoch 63/100\n",
            "34/34 [==============================] - 2s 53ms/step - loss: 5.1754e-07 - accuracy: 1.0000\n",
            "Epoch 64/100\n",
            "34/34 [==============================] - 2s 52ms/step - loss: 4.6511e-07 - accuracy: 1.0000\n",
            "Epoch 65/100\n",
            "34/34 [==============================] - 2s 54ms/step - loss: 4.2328e-07 - accuracy: 1.0000\n",
            "Epoch 66/100\n",
            "34/34 [==============================] - 2s 53ms/step - loss: 3.9006e-07 - accuracy: 1.0000\n",
            "Epoch 67/100\n",
            "34/34 [==============================] - 2s 53ms/step - loss: 3.5949e-07 - accuracy: 1.0000\n",
            "Epoch 68/100\n",
            "34/34 [==============================] - 2s 53ms/step - loss: 3.3156e-07 - accuracy: 1.0000\n",
            "Epoch 69/100\n",
            "34/34 [==============================] - 2s 53ms/step - loss: 3.0838e-07 - accuracy: 1.0000\n",
            "Epoch 70/100\n",
            "34/34 [==============================] - 2s 53ms/step - loss: 2.8918e-07 - accuracy: 1.0000\n",
            "Epoch 71/100\n",
            "34/34 [==============================] - 2s 53ms/step - loss: 2.7273e-07 - accuracy: 1.0000\n",
            "Epoch 72/100\n",
            "34/34 [==============================] - 2s 53ms/step - loss: 2.5717e-07 - accuracy: 1.0000\n",
            "Epoch 73/100\n",
            "34/34 [==============================] - 2s 53ms/step - loss: 2.4393e-07 - accuracy: 1.0000\n",
            "Epoch 74/100\n",
            "34/34 [==============================] - 2s 54ms/step - loss: 2.3212e-07 - accuracy: 1.0000\n",
            "Epoch 75/100\n",
            "34/34 [==============================] - 2s 53ms/step - loss: 2.2097e-07 - accuracy: 1.0000\n",
            "Epoch 76/100\n",
            "34/34 [==============================] - 2s 53ms/step - loss: 2.1148e-07 - accuracy: 1.0000\n",
            "Epoch 77/100\n",
            "34/34 [==============================] - 2s 54ms/step - loss: 2.0210e-07 - accuracy: 1.0000\n",
            "Epoch 78/100\n",
            "34/34 [==============================] - 2s 53ms/step - loss: 1.9371e-07 - accuracy: 1.0000\n",
            "Epoch 79/100\n",
            "34/34 [==============================] - 2s 53ms/step - loss: 1.8576e-07 - accuracy: 1.0000\n",
            "Epoch 80/100\n",
            "34/34 [==============================] - 2s 53ms/step - loss: 1.7837e-07 - accuracy: 1.0000\n",
            "Epoch 81/100\n",
            "34/34 [==============================] - 2s 52ms/step - loss: 1.7130e-07 - accuracy: 1.0000\n",
            "Epoch 82/100\n",
            "34/34 [==============================] - 2s 53ms/step - loss: 1.6457e-07 - accuracy: 1.0000\n",
            "Epoch 83/100\n",
            "34/34 [==============================] - 2s 53ms/step - loss: 1.5894e-07 - accuracy: 1.0000\n",
            "Epoch 84/100\n",
            "34/34 [==============================] - 2s 53ms/step - loss: 1.5199e-07 - accuracy: 1.0000\n",
            "Epoch 85/100\n",
            "34/34 [==============================] - 2s 53ms/step - loss: 1.4614e-07 - accuracy: 1.0000\n",
            "Epoch 86/100\n",
            "34/34 [==============================] - 2s 53ms/step - loss: 1.4172e-07 - accuracy: 1.0000\n",
            "Epoch 87/100\n",
            "34/34 [==============================] - 2s 53ms/step - loss: 1.3587e-07 - accuracy: 1.0000\n",
            "Epoch 88/100\n",
            "34/34 [==============================] - 2s 53ms/step - loss: 1.3135e-07 - accuracy: 1.0000\n",
            "Epoch 89/100\n",
            "34/34 [==============================] - 2s 53ms/step - loss: 1.2671e-07 - accuracy: 1.0000\n",
            "Epoch 90/100\n",
            "34/34 [==============================] - 2s 53ms/step - loss: 1.2219e-07 - accuracy: 1.0000\n",
            "Epoch 91/100\n",
            "34/34 [==============================] - 2s 54ms/step - loss: 1.1832e-07 - accuracy: 1.0000\n",
            "Epoch 92/100\n",
            "34/34 [==============================] - 2s 53ms/step - loss: 1.1501e-07 - accuracy: 1.0000\n",
            "Epoch 93/100\n",
            "34/34 [==============================] - 2s 53ms/step - loss: 1.1082e-07 - accuracy: 1.0000\n",
            "Epoch 94/100\n",
            "34/34 [==============================] - 2s 53ms/step - loss: 1.0740e-07 - accuracy: 1.0000\n",
            "Epoch 95/100\n",
            "34/34 [==============================] - 2s 54ms/step - loss: 1.0397e-07 - accuracy: 1.0000\n",
            "Epoch 96/100\n",
            "34/34 [==============================] - 2s 53ms/step - loss: 1.0044e-07 - accuracy: 1.0000\n",
            "Epoch 97/100\n",
            "34/34 [==============================] - 2s 54ms/step - loss: 9.7352e-08 - accuracy: 1.0000\n",
            "Epoch 98/100\n",
            "34/34 [==============================] - 2s 54ms/step - loss: 9.4814e-08 - accuracy: 1.0000\n",
            "Epoch 99/100\n",
            "34/34 [==============================] - 2s 53ms/step - loss: 9.1834e-08 - accuracy: 1.0000\n",
            "Epoch 100/100\n",
            "34/34 [==============================] - 2s 53ms/step - loss: 8.9185e-08 - accuracy: 1.0000\n"
          ]
        }
      ]
    },
    {
      "cell_type": "code",
      "metadata": {
        "colab": {
          "base_uri": "https://localhost:8080/"
        },
        "id": "67jD0Q2G-pxr",
        "outputId": "ad8627bf-17b9-43a5-b0cc-48fadbcc457a"
      },
      "source": [
        "model.summary()"
      ],
      "id": "67jD0Q2G-pxr",
      "execution_count": null,
      "outputs": [
        {
          "output_type": "stream",
          "name": "stdout",
          "text": [
            "Model: \"sequential\"\n",
            "_________________________________________________________________\n",
            " Layer (type)                Output Shape              Param #   \n",
            "=================================================================\n",
            " dense (Dense)               (None, 4096)              50335744  \n",
            "                                                                 \n",
            " dense_1 (Dense)             (None, 4096)              16781312  \n",
            "                                                                 \n",
            " dense_2 (Dense)             (None, 4096)              16781312  \n",
            "                                                                 \n",
            " dense_3 (Dense)             (None, 4096)              16781312  \n",
            "                                                                 \n",
            " dense_4 (Dense)             (None, 4096)              16781312  \n",
            "                                                                 \n",
            " dense_5 (Dense)             (None, 6)                 24582     \n",
            "                                                                 \n",
            "=================================================================\n",
            "Total params: 117,485,574\n",
            "Trainable params: 117,485,574\n",
            "Non-trainable params: 0\n",
            "_________________________________________________________________\n"
          ]
        }
      ]
    },
    {
      "cell_type": "code",
      "metadata": {
        "colab": {
          "base_uri": "https://localhost:8080/",
          "height": 572
        },
        "id": "6AClRerE_ZEU",
        "outputId": "437cf9f2-bdbc-45f7-bb68-3491231c6513"
      },
      "source": [
        "\n",
        "plt.plot(history.history['accuracy'])\n",
        "#plt.plot(history.history['val_accuracy'])\n",
        "plt.title('model accuracy')\n",
        "plt.ylabel('accuracy')\n",
        "plt.xlabel('epoch')\n",
        "plt.legend(['train', 'test'], loc='lower right')\n",
        "plt.show()\n",
        "\n",
        "plt.plot(history.history['loss'])\n",
        "#plt.plot(history.history['val_loss'])\n",
        "plt.title('model loss')\n",
        "plt.ylabel('loss')\n",
        "plt.xlabel('epoch')\n",
        "plt.legend(['train', 'test'], loc='upper right')\n",
        "plt.show()"
      ],
      "id": "6AClRerE_ZEU",
      "execution_count": null,
      "outputs": [
        {
          "output_type": "display_data",
          "data": {
            "image/png": "[encoded data removed]",
            "text/plain": [
              "<Figure size 432x288 with 1 Axes>"
            ]
          },
          "metadata": {
            "needs_background": "light"
          }
        },
        {
          "output_type": "display_data",
          "data": {
            "image/png": "[encoded data removed]",
            "text/plain": [
              "<Figure size 432x288 with 1 Axes>"
            ]
          },
          "metadata": {
            "needs_background": "light"
          }
        }
      ]
    },
    {
      "cell_type": "code",
      "metadata": {
        "id": "J5LBZ_XD_ghy"
      },
      "source": [
        "model.save(\"/content/drive/MyDrive/HW02/HW/TrainedMode20.h5\")"
      ],
      "id": "J5LBZ_XD_ghy",
      "execution_count": null,
      "outputs": []
    },
    {
      "cell_type": "code",
      "metadata": {
        "id": "xTokusTg_0fA"
      },
      "source": [
        "from keras.models import load_model\n",
        "loaded_model = load_model(\"/content/drive/MyDrive/HW02/HW/TrainedMode20.h5\")"
      ],
      "id": "xTokusTg_0fA",
      "execution_count": null,
      "outputs": []
    },
    {
      "cell_type": "code",
      "metadata": {
        "colab": {
          "base_uri": "https://localhost:8080/"
        },
        "id": "W7VL-gBz_5eq",
        "outputId": "5d3dcab7-765a-4a8c-ccc0-6c4de1671062"
      },
      "source": [
        "result = loaded_model.evaluate(X_test, y_test)\n",
        "print(\"Test Loss\", result[0])\n",
        "print(\"Test Accuracy\", result[1])"
      ],
      "id": "W7VL-gBz_5eq",
      "execution_count": null,
      "outputs": [
        {
          "output_type": "stream",
          "name": "stdout",
          "text": [
            "4/4 [==============================] - 0s 19ms/step - loss: 3.7538 - accuracy: 0.8750\n",
            "Test Loss 3.753805637359619\n",
            "Test Accuracy 0.875\n"
          ]
        }
      ]
    },
    {
      "cell_type": "markdown",
      "metadata": {
        "id": "DWKdUDZQACLA"
      },
      "source": [
        "در اینجا دیدیم با یه مدل پیچیده با اینکه روی داده اموزشی ما خیلی خوب پاسخ داد اما در مدل تست دقت پایین تری را دارد بنابراین این مدل دچار بیش برازش شده \n",
        "دلیل ان این است شبکخ بسیار پیچیده است در حالی که داده به ان اندازه نداریم  \n",
        "سه مدل دیگر که دارای بیش برازش هست در فایل پیوست مدل ارسال شده است."
      ],
      "id": "DWKdUDZQACLA"
    },
    {
      "cell_type": "markdown",
      "metadata": {
        "id": "l5fZWRH6yDtX"
      },
      "source": [
        "همانطور که میبیننید در ایپوک های مختلف دقت در مدل اموزش بیشتر میشود ولی دقت در داده تست خیلی کم افزایش می یابد و ار یه حدی بالاتر نمی رود"
      ],
      "id": "l5fZWRH6yDtX"
    },
    {
      "cell_type": "code",
      "metadata": {
        "id": "0tPdwOtt_87E"
      },
      "source": [
        "model = tf.keras.Sequential([\n",
        "    tf.keras.layers.Dense(1, activation='sigmoid'),\n",
        "    tf.keras.layers.Dense(6)\n",
        "])\n"
      ],
      "id": "0tPdwOtt_87E",
      "execution_count": null,
      "outputs": []
    },
    {
      "cell_type": "code",
      "metadata": {
        "id": "CphmoZ0lBIEb"
      },
      "source": [
        "model.compile(optimizer='SGD',\n",
        "              loss=tf.keras.losses.SparseCategoricalCrossentropy(from_logits=True),\n",
        "              metrics=['accuracy'])"
      ],
      "id": "CphmoZ0lBIEb",
      "execution_count": null,
      "outputs": []
    },
    {
      "cell_type": "code",
      "metadata": {
        "colab": {
          "base_uri": "https://localhost:8080/"
        },
        "id": "6w-N1jpCBXKk",
        "outputId": "496f9568-de2d-45ad-b0ca-6011e169311d"
      },
      "source": [
        "history=model.fit(X_train, y_train,  epochs = 100)"
      ],
      "id": "6w-N1jpCBXKk",
      "execution_count": null,
      "outputs": [
        {
          "output_type": "stream",
          "name": "stdout",
          "text": [
            "Epoch 1/100\n",
            "34/34 [==============================] - 0s 4ms/step - loss: 1.7772 - accuracy: 0.1870\n",
            "Epoch 2/100\n",
            "34/34 [==============================] - 0s 4ms/step - loss: 1.7387 - accuracy: 0.2296\n",
            "Epoch 3/100\n",
            "34/34 [==============================] - 0s 4ms/step - loss: 1.7193 - accuracy: 0.2694\n",
            "Epoch 4/100\n",
            "34/34 [==============================] - 0s 4ms/step - loss: 1.7059 - accuracy: 0.2880\n",
            "Epoch 5/100\n",
            "34/34 [==============================] - 0s 5ms/step - loss: 1.6965 - accuracy: 0.3019\n",
            "Epoch 6/100\n",
            "34/34 [==============================] - 0s 4ms/step - loss: 1.6883 - accuracy: 0.3241\n",
            "Epoch 7/100\n",
            "34/34 [==============================] - 0s 4ms/step - loss: 1.6813 - accuracy: 0.3222\n",
            "Epoch 8/100\n",
            "34/34 [==============================] - 0s 4ms/step - loss: 1.6752 - accuracy: 0.3333\n",
            "Epoch 9/100\n",
            "34/34 [==============================] - 0s 4ms/step - loss: 1.6691 - accuracy: 0.3306\n",
            "Epoch 10/100\n",
            "34/34 [==============================] - 0s 4ms/step - loss: 1.6636 - accuracy: 0.3361\n",
            "Epoch 11/100\n",
            "34/34 [==============================] - 0s 4ms/step - loss: 1.6582 - accuracy: 0.3454\n",
            "Epoch 12/100\n",
            "34/34 [==============================] - 0s 4ms/step - loss: 1.6528 - accuracy: 0.3324\n",
            "Epoch 13/100\n",
            "34/34 [==============================] - 0s 4ms/step - loss: 1.6472 - accuracy: 0.3426\n",
            "Epoch 14/100\n",
            "34/34 [==============================] - 0s 4ms/step - loss: 1.6428 - accuracy: 0.3398\n",
            "Epoch 15/100\n",
            "34/34 [==============================] - 0s 4ms/step - loss: 1.6371 - accuracy: 0.3343\n",
            "Epoch 16/100\n",
            "34/34 [==============================] - 0s 4ms/step - loss: 1.6324 - accuracy: 0.3306\n",
            "Epoch 17/100\n",
            "34/34 [==============================] - 0s 4ms/step - loss: 1.6274 - accuracy: 0.3324\n",
            "Epoch 18/100\n",
            "34/34 [==============================] - 0s 4ms/step - loss: 1.6228 - accuracy: 0.3324\n",
            "Epoch 19/100\n",
            "34/34 [==============================] - 0s 4ms/step - loss: 1.6182 - accuracy: 0.3333\n",
            "Epoch 20/100\n",
            "34/34 [==============================] - 0s 4ms/step - loss: 1.6139 - accuracy: 0.3296\n",
            "Epoch 21/100\n",
            "34/34 [==============================] - 0s 4ms/step - loss: 1.6093 - accuracy: 0.3370\n",
            "Epoch 22/100\n",
            "34/34 [==============================] - 0s 4ms/step - loss: 1.6049 - accuracy: 0.3352\n",
            "Epoch 23/100\n",
            "34/34 [==============================] - 0s 4ms/step - loss: 1.6008 - accuracy: 0.3306\n",
            "Epoch 24/100\n",
            "34/34 [==============================] - 0s 4ms/step - loss: 1.5969 - accuracy: 0.3324\n",
            "Epoch 25/100\n",
            "34/34 [==============================] - 0s 4ms/step - loss: 1.5919 - accuracy: 0.3315\n",
            "Epoch 26/100\n",
            "34/34 [==============================] - 0s 4ms/step - loss: 1.5879 - accuracy: 0.3324\n",
            "Epoch 27/100\n",
            "34/34 [==============================] - 0s 4ms/step - loss: 1.5833 - accuracy: 0.3306\n",
            "Epoch 28/100\n",
            "34/34 [==============================] - 0s 4ms/step - loss: 1.5794 - accuracy: 0.3296\n",
            "Epoch 29/100\n",
            "34/34 [==============================] - 0s 4ms/step - loss: 1.5751 - accuracy: 0.3278\n",
            "Epoch 30/100\n",
            "34/34 [==============================] - 0s 4ms/step - loss: 1.5714 - accuracy: 0.3306\n",
            "Epoch 31/100\n",
            "34/34 [==============================] - 0s 4ms/step - loss: 1.5676 - accuracy: 0.3315\n",
            "Epoch 32/100\n",
            "34/34 [==============================] - 0s 4ms/step - loss: 1.5629 - accuracy: 0.3352\n",
            "Epoch 33/100\n",
            "34/34 [==============================] - 0s 4ms/step - loss: 1.5588 - accuracy: 0.3287\n",
            "Epoch 34/100\n",
            "34/34 [==============================] - 0s 4ms/step - loss: 1.5552 - accuracy: 0.3352\n",
            "Epoch 35/100\n",
            "34/34 [==============================] - 0s 4ms/step - loss: 1.5511 - accuracy: 0.3296\n",
            "Epoch 36/100\n",
            "34/34 [==============================] - 0s 4ms/step - loss: 1.5473 - accuracy: 0.3306\n",
            "Epoch 37/100\n",
            "34/34 [==============================] - 0s 4ms/step - loss: 1.5432 - accuracy: 0.3333\n",
            "Epoch 38/100\n",
            "34/34 [==============================] - 0s 4ms/step - loss: 1.5393 - accuracy: 0.3333\n",
            "Epoch 39/100\n",
            "34/34 [==============================] - 0s 4ms/step - loss: 1.5361 - accuracy: 0.3324\n",
            "Epoch 40/100\n",
            "34/34 [==============================] - 0s 4ms/step - loss: 1.5317 - accuracy: 0.3352\n",
            "Epoch 41/100\n",
            "34/34 [==============================] - 0s 4ms/step - loss: 1.5281 - accuracy: 0.3333\n",
            "Epoch 42/100\n",
            "34/34 [==============================] - 0s 4ms/step - loss: 1.5249 - accuracy: 0.3352\n",
            "Epoch 43/100\n",
            "34/34 [==============================] - 0s 4ms/step - loss: 1.5207 - accuracy: 0.3361\n",
            "Epoch 44/100\n",
            "34/34 [==============================] - 0s 4ms/step - loss: 1.5172 - accuracy: 0.3315\n",
            "Epoch 45/100\n",
            "34/34 [==============================] - 0s 4ms/step - loss: 1.5140 - accuracy: 0.3333\n",
            "Epoch 46/100\n",
            "34/34 [==============================] - 0s 4ms/step - loss: 1.5110 - accuracy: 0.3324\n",
            "Epoch 47/100\n",
            "34/34 [==============================] - 0s 4ms/step - loss: 1.5076 - accuracy: 0.3333\n",
            "Epoch 48/100\n",
            "34/34 [==============================] - 0s 4ms/step - loss: 1.5041 - accuracy: 0.3352\n",
            "Epoch 49/100\n",
            "34/34 [==============================] - 0s 4ms/step - loss: 1.5016 - accuracy: 0.3370\n",
            "Epoch 50/100\n",
            "34/34 [==============================] - 0s 4ms/step - loss: 1.4970 - accuracy: 0.3361\n",
            "Epoch 51/100\n",
            "34/34 [==============================] - 0s 4ms/step - loss: 1.4942 - accuracy: 0.3333\n",
            "Epoch 52/100\n",
            "34/34 [==============================] - 0s 4ms/step - loss: 1.4906 - accuracy: 0.3370\n",
            "Epoch 53/100\n",
            "34/34 [==============================] - 0s 4ms/step - loss: 1.4880 - accuracy: 0.3333\n",
            "Epoch 54/100\n",
            "34/34 [==============================] - 0s 4ms/step - loss: 1.4837 - accuracy: 0.3333\n",
            "Epoch 55/100\n",
            "34/34 [==============================] - 0s 4ms/step - loss: 1.4811 - accuracy: 0.3370\n",
            "Epoch 56/100\n",
            "34/34 [==============================] - 0s 4ms/step - loss: 1.4786 - accuracy: 0.3380\n",
            "Epoch 57/100\n",
            "34/34 [==============================] - 0s 4ms/step - loss: 1.4756 - accuracy: 0.3324\n",
            "Epoch 58/100\n",
            "34/34 [==============================] - 0s 4ms/step - loss: 1.4723 - accuracy: 0.3352\n",
            "Epoch 59/100\n",
            "34/34 [==============================] - 0s 4ms/step - loss: 1.4688 - accuracy: 0.3343\n",
            "Epoch 60/100\n",
            "34/34 [==============================] - 0s 4ms/step - loss: 1.4658 - accuracy: 0.3324\n",
            "Epoch 61/100\n",
            "34/34 [==============================] - 0s 4ms/step - loss: 1.4639 - accuracy: 0.3333\n",
            "Epoch 62/100\n",
            "34/34 [==============================] - 0s 4ms/step - loss: 1.4594 - accuracy: 0.3343\n",
            "Epoch 63/100\n",
            "34/34 [==============================] - 0s 4ms/step - loss: 1.4573 - accuracy: 0.3343\n",
            "Epoch 64/100\n",
            "34/34 [==============================] - 0s 4ms/step - loss: 1.4540 - accuracy: 0.3333\n",
            "Epoch 65/100\n",
            "34/34 [==============================] - 0s 4ms/step - loss: 1.4519 - accuracy: 0.3361\n",
            "Epoch 66/100\n",
            "34/34 [==============================] - 0s 4ms/step - loss: 1.4488 - accuracy: 0.3352\n",
            "Epoch 67/100\n",
            "34/34 [==============================] - 0s 4ms/step - loss: 1.4466 - accuracy: 0.3343\n",
            "Epoch 68/100\n",
            "34/34 [==============================] - 0s 4ms/step - loss: 1.4435 - accuracy: 0.3370\n",
            "Epoch 69/100\n",
            "34/34 [==============================] - 0s 4ms/step - loss: 1.4405 - accuracy: 0.3343\n",
            "Epoch 70/100\n",
            "34/34 [==============================] - 0s 4ms/step - loss: 1.4384 - accuracy: 0.3343\n",
            "Epoch 71/100\n",
            "34/34 [==============================] - 0s 4ms/step - loss: 1.4353 - accuracy: 0.3352\n",
            "Epoch 72/100\n",
            "34/34 [==============================] - 0s 4ms/step - loss: 1.4330 - accuracy: 0.3352\n",
            "Epoch 73/100\n",
            "34/34 [==============================] - 0s 4ms/step - loss: 1.4298 - accuracy: 0.3343\n",
            "Epoch 74/100\n",
            "34/34 [==============================] - 0s 4ms/step - loss: 1.4283 - accuracy: 0.3352\n",
            "Epoch 75/100\n",
            "34/34 [==============================] - 0s 4ms/step - loss: 1.4252 - accuracy: 0.3343\n",
            "Epoch 76/100\n",
            "34/34 [==============================] - 0s 4ms/step - loss: 1.4229 - accuracy: 0.3352\n",
            "Epoch 77/100\n",
            "34/34 [==============================] - 0s 4ms/step - loss: 1.4203 - accuracy: 0.3343\n",
            "Epoch 78/100\n",
            "34/34 [==============================] - 0s 4ms/step - loss: 1.4180 - accuracy: 0.3343\n",
            "Epoch 79/100\n",
            "34/34 [==============================] - 0s 4ms/step - loss: 1.4160 - accuracy: 0.3370\n",
            "Epoch 80/100\n",
            "34/34 [==============================] - 0s 4ms/step - loss: 1.4137 - accuracy: 0.3370\n",
            "Epoch 81/100\n",
            "34/34 [==============================] - 0s 4ms/step - loss: 1.4110 - accuracy: 0.3333\n",
            "Epoch 82/100\n",
            "34/34 [==============================] - 0s 4ms/step - loss: 1.4092 - accuracy: 0.3324\n",
            "Epoch 83/100\n",
            "34/34 [==============================] - 0s 4ms/step - loss: 1.4071 - accuracy: 0.3333\n",
            "Epoch 84/100\n",
            "34/34 [==============================] - 0s 4ms/step - loss: 1.4048 - accuracy: 0.3324\n",
            "Epoch 85/100\n",
            "34/34 [==============================] - 0s 4ms/step - loss: 1.4031 - accuracy: 0.3315\n",
            "Epoch 86/100\n",
            "34/34 [==============================] - 0s 4ms/step - loss: 1.4012 - accuracy: 0.3343\n",
            "Epoch 87/100\n",
            "34/34 [==============================] - 0s 4ms/step - loss: 1.3990 - accuracy: 0.3324\n",
            "Epoch 88/100\n",
            "34/34 [==============================] - 0s 4ms/step - loss: 1.3967 - accuracy: 0.3324\n",
            "Epoch 89/100\n",
            "34/34 [==============================] - 0s 4ms/step - loss: 1.3949 - accuracy: 0.3324\n",
            "Epoch 90/100\n",
            "34/34 [==============================] - 0s 4ms/step - loss: 1.3926 - accuracy: 0.3333\n",
            "Epoch 91/100\n",
            "34/34 [==============================] - 0s 4ms/step - loss: 1.3906 - accuracy: 0.3324\n",
            "Epoch 92/100\n",
            "34/34 [==============================] - 0s 4ms/step - loss: 1.3891 - accuracy: 0.3333\n",
            "Epoch 93/100\n",
            "34/34 [==============================] - 0s 4ms/step - loss: 1.3871 - accuracy: 0.3315\n",
            "Epoch 94/100\n",
            "34/34 [==============================] - 0s 4ms/step - loss: 1.3855 - accuracy: 0.3343\n",
            "Epoch 95/100\n",
            "34/34 [==============================] - 0s 4ms/step - loss: 1.3837 - accuracy: 0.3333\n",
            "Epoch 96/100\n",
            "34/34 [==============================] - 0s 4ms/step - loss: 1.3820 - accuracy: 0.3324\n",
            "Epoch 97/100\n",
            "34/34 [==============================] - 0s 4ms/step - loss: 1.3805 - accuracy: 0.3333\n",
            "Epoch 98/100\n",
            "34/34 [==============================] - 0s 4ms/step - loss: 1.3785 - accuracy: 0.3324\n",
            "Epoch 99/100\n",
            "34/34 [==============================] - 0s 4ms/step - loss: 1.3772 - accuracy: 0.3324\n",
            "Epoch 100/100\n",
            "34/34 [==============================] - 0s 4ms/step - loss: 1.3757 - accuracy: 0.3324\n"
          ]
        }
      ]
    },
    {
      "cell_type": "code",
      "metadata": {
        "colab": {
          "base_uri": "https://localhost:8080/"
        },
        "id": "_TN5xs4CBcys",
        "outputId": "07ce8681-1acf-4ae6-aba5-9fe7b753a2a7"
      },
      "source": [
        "model.summary()"
      ],
      "id": "_TN5xs4CBcys",
      "execution_count": null,
      "outputs": [
        {
          "output_type": "stream",
          "name": "stdout",
          "text": [
            "Model: \"sequential_3\"\n",
            "_________________________________________________________________\n",
            " Layer (type)                Output Shape              Param #   \n",
            "=================================================================\n",
            " dense_10 (Dense)            (None, 1)                 12289     \n",
            "                                                                 \n",
            " dense_11 (Dense)            (None, 6)                 12        \n",
            "                                                                 \n",
            "=================================================================\n",
            "Total params: 12,301\n",
            "Trainable params: 12,301\n",
            "Non-trainable params: 0\n",
            "_________________________________________________________________\n"
          ]
        }
      ]
    },
    {
      "cell_type": "code",
      "metadata": {
        "colab": {
          "base_uri": "https://localhost:8080/",
          "height": 572
        },
        "id": "TMQY536_BlkJ",
        "outputId": "98c30af5-f2ce-4fb0-c897-fb41a466b579"
      },
      "source": [
        "\n",
        "plt.plot(history.history['accuracy'])\n",
        "#plt.plot(history.history['val_accuracy'])\n",
        "plt.title('model accuracy')\n",
        "plt.ylabel('accuracy')\n",
        "plt.xlabel('epoch')\n",
        "plt.legend(['train', 'test'], loc='lower right')\n",
        "plt.show()\n",
        "\n",
        "plt.plot(history.history['loss'])\n",
        "#plt.plot(history.history['val_loss'])\n",
        "plt.title('model loss')\n",
        "plt.ylabel('loss')\n",
        "plt.xlabel('epoch')\n",
        "plt.legend(['train', 'test'], loc='upper right')\n",
        "plt.show()"
      ],
      "id": "TMQY536_BlkJ",
      "execution_count": null,
      "outputs": [
        {
          "output_type": "display_data",
          "data": {
            "image/png": "[encoded data removed]",
            "text/plain": [
              "<Figure size 432x288 with 1 Axes>"
            ]
          },
          "metadata": {
            "needs_background": "light"
          }
        },
        {
          "output_type": "display_data",
          "data": {
            "image/png": "[encoded data removed]",
            "text/plain": [
              "<Figure size 432x288 with 1 Axes>"
            ]
          },
          "metadata": {
            "needs_background": "light"
          }
        }
      ]
    },
    {
      "cell_type": "code",
      "metadata": {
        "id": "NCipJc-dBqA6"
      },
      "source": [
        "model.save(\"/content/drive/MyDrive/HW02/HW/TrainedMode23.h5\")"
      ],
      "id": "NCipJc-dBqA6",
      "execution_count": null,
      "outputs": []
    },
    {
      "cell_type": "code",
      "metadata": {
        "id": "aiq9Jp2CBwuv"
      },
      "source": [
        "from keras.models import load_model\n",
        "loaded_model = load_model(\"/content/drive/MyDrive/HW02/HW/TrainedMode23.h5\")"
      ],
      "id": "aiq9Jp2CBwuv",
      "execution_count": null,
      "outputs": []
    },
    {
      "cell_type": "code",
      "metadata": {
        "colab": {
          "base_uri": "https://localhost:8080/"
        },
        "id": "ib6REo-_B4SH",
        "outputId": "9a60db11-1640-4d18-d160-3cde1d906302"
      },
      "source": [
        "result = loaded_model.evaluate(X_test, y_test)\n",
        "print(\"Test Loss\", result[0])\n",
        "print(\"Test Accuracy\", result[1])"
      ],
      "id": "ib6REo-_B4SH",
      "execution_count": null,
      "outputs": [
        {
          "output_type": "stream",
          "name": "stdout",
          "text": [
            "4/4 [==============================] - 0s 5ms/step - loss: 1.5876 - accuracy: 0.2667\n",
            "Test Loss 1.5875526666641235\n",
            "Test Accuracy 0.2666666805744171\n"
          ]
        }
      ]
    },
    {
      "cell_type": "code",
      "metadata": {
        "id": "IuleZ4CFvB8n"
      },
      "source": [
        "model = tf.keras.Sequential([\n",
        "    tf.keras.layers.Dense(4096, activation='relu'),\n",
        "    tf.keras.layers.Dropout(0.6),\n",
        "    tf.keras.layers.Dense(4096, activation='relu'),\n",
        "    tf.keras.layers.Dropout(0.6),\n",
        "    tf.keras.layers.Dense(4096, activation='relu'),\n",
        "    tf.keras.layers.Dense(6)\n",
        "])\n"
      ],
      "id": "IuleZ4CFvB8n",
      "execution_count": null,
      "outputs": []
    },
    {
      "cell_type": "code",
      "metadata": {
        "id": "7mjD1VZRvF0h"
      },
      "source": [
        "model.compile(optimizer=tf.keras.optimizers.Adam(learning_rate=0.000001),\n",
        "              loss=tf.keras.losses.SparseCategoricalCrossentropy(from_logits=True),\n",
        "              metrics=['accuracy'])"
      ],
      "id": "7mjD1VZRvF0h",
      "execution_count": null,
      "outputs": []
    },
    {
      "cell_type": "code",
      "metadata": {
        "colab": {
          "base_uri": "https://localhost:8080/"
        },
        "id": "5dgUy7-fxCql",
        "outputId": "92cb6c6f-4d17-43c3-aacc-bb53a34f6062"
      },
      "source": [
        "history=model.fit(X_train, y_train, batch_size = 16, epochs = 5)"
      ],
      "id": "5dgUy7-fxCql",
      "execution_count": null,
      "outputs": [
        {
          "output_type": "stream",
          "name": "stdout",
          "text": [
            "Epoch 1/5\n",
            "68/68 [==============================] - 3s 38ms/step - loss: 2.3271 - accuracy: 0.1657\n",
            "Epoch 2/5\n",
            "68/68 [==============================] - 3s 37ms/step - loss: 2.1943 - accuracy: 0.1815\n",
            "Epoch 3/5\n",
            "68/68 [==============================] - 2s 37ms/step - loss: 2.0437 - accuracy: 0.2324\n",
            "Epoch 4/5\n",
            "68/68 [==============================] - 2s 37ms/step - loss: 1.9585 - accuracy: 0.2435\n",
            "Epoch 5/5\n",
            "68/68 [==============================] - 3s 37ms/step - loss: 1.8822 - accuracy: 0.3046\n"
          ]
        }
      ]
    },
    {
      "cell_type": "code",
      "metadata": {
        "colab": {
          "base_uri": "https://localhost:8080/",
          "height": 572
        },
        "id": "GZaPq61Tyd0R",
        "outputId": "eebe7bb3-6b80-45e2-c348-d3435cd43bd2"
      },
      "source": [
        "\n",
        "plt.plot(history.history['accuracy'])\n",
        "#plt.plot(history.history['val_accuracy'])\n",
        "plt.title('model accuracy')\n",
        "plt.ylabel('accuracy')\n",
        "plt.xlabel('epoch')\n",
        "plt.legend(['train', 'test'], loc='lower right')\n",
        "plt.show()\n",
        "\n",
        "plt.plot(history.history['loss'])\n",
        "#plt.plot(history.history['val_loss'])\n",
        "plt.title('model loss')\n",
        "plt.ylabel('loss')\n",
        "plt.xlabel('epoch')\n",
        "plt.legend(['train', 'test'], loc='upper right')\n",
        "plt.show()"
      ],
      "id": "GZaPq61Tyd0R",
      "execution_count": null,
      "outputs": [
        {
          "output_type": "display_data",
          "data": {
            "image/png": "[encoded data removed]",
            "text/plain": [
              "<Figure size 432x288 with 1 Axes>"
            ]
          },
          "metadata": {
            "needs_background": "light"
          }
        },
        {
          "output_type": "display_data",
          "data": {
            "image/png": "[encoded data removed]",
            "text/plain": [
              "<Figure size 432x288 with 1 Axes>"
            ]
          },
          "metadata": {
            "needs_background": "light"
          }
        }
      ]
    },
    {
      "cell_type": "code",
      "metadata": {
        "colab": {
          "base_uri": "https://localhost:8080/"
        },
        "id": "6ZuG6-KwxCtB",
        "outputId": "4c9c3781-4df2-4876-b7c3-faaa43f57419"
      },
      "source": [
        "result = model.evaluate(X_test, y_test)\n",
        "print(\"Test Loss\", result[0])\n",
        "print(\"Test Accuracy\", result[1])"
      ],
      "id": "6ZuG6-KwxCtB",
      "execution_count": null,
      "outputs": [
        {
          "output_type": "stream",
          "name": "stdout",
          "text": [
            "4/4 [==============================] - 0s 15ms/step - loss: 1.4524 - accuracy: 0.4917\n",
            "Test Loss 1.452392816543579\n",
            "Test Accuracy 0.49166667461395264\n"
          ]
        }
      ]
    },
    {
      "cell_type": "code",
      "metadata": {
        "id": "h2HUGiTUxC0d"
      },
      "source": [
        "model.save(\"/content/drive/MyDrive/HW02/HW/TrainedModel35.h5\")"
      ],
      "id": "h2HUGiTUxC0d",
      "execution_count": null,
      "outputs": []
    },
    {
      "cell_type": "markdown",
      "metadata": {
        "id": "mRXW3UNHCsLs"
      },
      "source": [
        "در پنج مدلی که به پیوست ارسال شئه نشان داده شده چون مدل ما بسیار ساده تر از داده های ما بوده پاسخ گو نیست و مدل ما کم برازش است و پاسخ گو نیست و هر چه داده های خود را برای اموزش بگذاریم با دقت خوبی به دست نمیاورد و گاهی دقت روی داده های اموزشی پایین تر از دقت روی داده های تست ماست برای حل این مشکل باید شبکه خود را پیچیده تر کنیم و بهترین وزن را انتخاب کنیم"
      ],
      "id": "mRXW3UNHCsLs"
    },
    {
      "cell_type": "markdown",
      "metadata": {
        "id": "c7jk_PK0xwzT"
      },
      "source": [
        "همانطور که میبینید دقت در مدل اموزش کمتر از مدل تست شده "
      ],
      "id": "c7jk_PK0xwzT"
    },
    {
      "cell_type": "markdown",
      "metadata": {
        "id": "Fv-2AWnLymmr"
      },
      "source": [
        ""
      ],
      "id": "Fv-2AWnLymmr"
    },
    {
      "cell_type": "code",
      "metadata": {
        "id": "28RwynU1FuAc"
      },
      "source": [
        ""
      ],
      "id": "28RwynU1FuAc",
      "execution_count": null,
      "outputs": []
    },
    {
      "cell_type": "markdown",
      "metadata": {
        "id": "pPPFI5oTFuhm"
      },
      "source": [
        "حال برای حل مشکل بیش برازش ما یا باید تعداد داده اموزشی خود را افزایش دهیم که گاه داده های ولید کمک میکند و چون اینجا داده ولید نداریم باید با کمک هایپر پارامتر ها این مشکل را حل کنیم \n",
        "در اینجا با تغییر میزان نرخ یادگیری و تنظیم سعی در پیدا کردن مدلی خواهیم بود که هم روی تست و هم روی داده اموزشی دقت خوبی بدهد و تفاوت را کم کند و زیر 5-6 برساند"
      ],
      "id": "pPPFI5oTFuhm"
    },
    {
      "cell_type": "code",
      "metadata": {
        "id": "1T6ZtIs7B8qg"
      },
      "source": [
        "model = tf.keras.Sequential([\n",
        "    tf.keras.layers.Dense(4096, activation='relu'),\n",
        "    tf.keras.layers.Dropout(0.2),\n",
        "    tf.keras.layers.Dense(4096, activation='relu'),\n",
        "    tf.keras.layers.Dropout(0.2),\n",
        "    tf.keras.layers.Dense(4096, activation='relu'),\n",
        "    tf.keras.layers.Dropout(0.2),\n",
        "    tf.keras.layers.Dense(4096, activation='relu'),\n",
        "    tf.keras.layers.Dropout(0.2),\n",
        "    tf.keras.layers.Dense(4096, activation='relu'),\n",
        "    tf.keras.layers.Dense(6)\n",
        "])\n"
      ],
      "id": "1T6ZtIs7B8qg",
      "execution_count": null,
      "outputs": []
    },
    {
      "cell_type": "code",
      "metadata": {
        "id": "x7o4yuBiJfyl"
      },
      "source": [
        "#optimizer = SGD(lr=0.01, momentum=momentum)"
      ],
      "id": "x7o4yuBiJfyl",
      "execution_count": null,
      "outputs": []
    },
    {
      "cell_type": "code",
      "metadata": {
        "id": "azT5B_CVJP-E"
      },
      "source": [
        "model.compile(optimizer='adam',\n",
        "              loss=tf.keras.losses.SparseCategoricalCrossentropy(from_logits=True),\n",
        "              metrics=['accuracy'])"
      ],
      "id": "azT5B_CVJP-E",
      "execution_count": null,
      "outputs": []
    },
    {
      "cell_type": "code",
      "metadata": {
        "id": "afp1A5L9JQBe"
      },
      "source": [
        "import numpy\n",
        "from sklearn.model_selection import GridSearchCV\n",
        "from keras.models import Sequential\n",
        "from keras.layers import Dense\n",
        "from keras.wrappers.scikit_learn import KerasClassifier"
      ],
      "id": "afp1A5L9JQBe",
      "execution_count": null,
      "outputs": []
    },
    {
      "cell_type": "code",
      "metadata": {
        "colab": {
          "base_uri": "https://localhost:8080/"
        },
        "id": "zZtg1-vyJQEP",
        "outputId": "1b032306-904f-4f22-e1b1-38da6868efc9"
      },
      "source": [
        "history=model.fit(X_train, y_train, batch_size = 32, epochs = 30)"
      ],
      "id": "zZtg1-vyJQEP",
      "execution_count": null,
      "outputs": [
        {
          "output_type": "stream",
          "name": "stdout",
          "text": [
            "Epoch 1/30\n",
            "34/34 [==============================] - 2s 57ms/step - loss: 0.2263 - accuracy: 0.9361\n",
            "Epoch 2/30\n",
            "34/34 [==============================] - 2s 55ms/step - loss: 0.3446 - accuracy: 0.9269\n",
            "Epoch 3/30\n",
            "34/34 [==============================] - 2s 54ms/step - loss: 0.4904 - accuracy: 0.8870\n",
            "Epoch 4/30\n",
            "34/34 [==============================] - 2s 55ms/step - loss: 0.4448 - accuracy: 0.9065\n",
            "Epoch 5/30\n",
            "34/34 [==============================] - 2s 54ms/step - loss: 0.3955 - accuracy: 0.9148\n",
            "Epoch 6/30\n",
            "34/34 [==============================] - 2s 56ms/step - loss: 0.3050 - accuracy: 0.9139\n",
            "Epoch 7/30\n",
            "34/34 [==============================] - 2s 55ms/step - loss: 0.3016 - accuracy: 0.9259\n",
            "Epoch 8/30\n",
            "34/34 [==============================] - 2s 55ms/step - loss: 0.4000 - accuracy: 0.9157\n",
            "Epoch 9/30\n",
            "34/34 [==============================] - 2s 54ms/step - loss: 0.2373 - accuracy: 0.9500\n",
            "Epoch 10/30\n",
            "34/34 [==============================] - 2s 54ms/step - loss: 0.3941 - accuracy: 0.9139\n",
            "Epoch 11/30\n",
            "34/34 [==============================] - 2s 55ms/step - loss: 0.4491 - accuracy: 0.9324\n",
            "Epoch 12/30\n",
            "34/34 [==============================] - 2s 55ms/step - loss: 0.3034 - accuracy: 0.9222\n",
            "Epoch 13/30\n",
            "34/34 [==============================] - 2s 54ms/step - loss: 0.3292 - accuracy: 0.9389\n",
            "Epoch 14/30\n",
            "34/34 [==============================] - 2s 55ms/step - loss: 0.1444 - accuracy: 0.9657\n",
            "Epoch 15/30\n",
            "34/34 [==============================] - 2s 55ms/step - loss: 0.1360 - accuracy: 0.9667\n",
            "Epoch 16/30\n",
            "34/34 [==============================] - 2s 55ms/step - loss: 0.1043 - accuracy: 0.9667\n",
            "Epoch 17/30\n",
            "34/34 [==============================] - 2s 55ms/step - loss: 0.0649 - accuracy: 0.9778\n",
            "Epoch 18/30\n",
            "34/34 [==============================] - 2s 54ms/step - loss: 0.0413 - accuracy: 0.9917\n",
            "Epoch 19/30\n",
            "34/34 [==============================] - 2s 55ms/step - loss: 0.2449 - accuracy: 0.9546\n",
            "Epoch 20/30\n",
            "34/34 [==============================] - 2s 55ms/step - loss: 0.1378 - accuracy: 0.9611\n",
            "Epoch 21/30\n",
            "34/34 [==============================] - 2s 54ms/step - loss: 0.3004 - accuracy: 0.9296\n",
            "Epoch 22/30\n",
            "34/34 [==============================] - 2s 54ms/step - loss: 0.1959 - accuracy: 0.9685\n",
            "Epoch 23/30\n",
            "34/34 [==============================] - 2s 54ms/step - loss: 0.2054 - accuracy: 0.9491\n",
            "Epoch 24/30\n",
            "34/34 [==============================] - 2s 54ms/step - loss: 0.1102 - accuracy: 0.9750\n",
            "Epoch 25/30\n",
            "34/34 [==============================] - 2s 54ms/step - loss: 0.2847 - accuracy: 0.9519\n",
            "Epoch 26/30\n",
            "34/34 [==============================] - 2s 55ms/step - loss: 0.1742 - accuracy: 0.9657\n",
            "Epoch 27/30\n",
            "34/34 [==============================] - 2s 55ms/step - loss: 0.2803 - accuracy: 0.9463\n",
            "Epoch 28/30\n",
            "34/34 [==============================] - 2s 55ms/step - loss: 0.0822 - accuracy: 0.9796\n",
            "Epoch 29/30\n",
            "34/34 [==============================] - 2s 55ms/step - loss: 0.1534 - accuracy: 0.9667\n",
            "Epoch 30/30\n",
            "34/34 [==============================] - 2s 55ms/step - loss: 0.1739 - accuracy: 0.9722\n"
          ]
        }
      ]
    },
    {
      "cell_type": "code",
      "metadata": {
        "colab": {
          "base_uri": "https://localhost:8080/"
        },
        "id": "VPnRaVIHJQHE",
        "outputId": "c036e5ee-bdab-4b7c-97aa-8ba4acefe498"
      },
      "source": [
        "result = model.evaluate(X_test, y_test)\n",
        "print(\"Test Loss\", result[0])\n",
        "print(\"Test Accuracy\", result[1])"
      ],
      "id": "VPnRaVIHJQHE",
      "execution_count": null,
      "outputs": [
        {
          "output_type": "stream",
          "name": "stdout",
          "text": [
            "4/4 [==============================] - 0s 21ms/step - loss: 1.3045 - accuracy: 0.8417\n",
            "Test Loss 1.3045008182525635\n",
            "Test Accuracy 0.8416666388511658\n"
          ]
        }
      ]
    },
    {
      "cell_type": "code",
      "metadata": {
        "id": "gzwpTp9LJQJg"
      },
      "source": [
        "model = tf.keras.Sequential([\n",
        "    tf.keras.layers.Dense(4096, activation='relu'),\n",
        "    tf.keras.layers.Dropout(0.5),\n",
        "    tf.keras.layers.Dense(4096, activation='relu'),\n",
        "    tf.keras.layers.Dropout(0.5),\n",
        "    tf.keras.layers.Dense(4096, activation='relu'),\n",
        "    tf.keras.layers.Dropout(0.5),\n",
        "    tf.keras.layers.Dense(4096, activation='relu'),\n",
        "    tf.keras.layers.Dropout(0.5),\n",
        "    tf.keras.layers.Dense(4096, activation='relu'),\n",
        "    tf.keras.layers.Dense(6)\n",
        "])\n"
      ],
      "id": "gzwpTp9LJQJg",
      "execution_count": null,
      "outputs": []
    },
    {
      "cell_type": "code",
      "metadata": {
        "id": "2WDYB3C9JD7V"
      },
      "source": [
        "model.compile(optimizer='adam',\n",
        "              loss=tf.keras.losses.SparseCategoricalCrossentropy(from_logits=True),\n",
        "              metrics=['accuracy'])"
      ],
      "id": "2WDYB3C9JD7V",
      "execution_count": null,
      "outputs": []
    },
    {
      "cell_type": "code",
      "metadata": {
        "colab": {
          "base_uri": "https://localhost:8080/"
        },
        "id": "9x2Pf0xAH65L",
        "outputId": "abf49761-6c7b-42c4-fb89-f9e55c123d1b"
      },
      "source": [
        "history=model.fit(X_train, y_train, batch_size = 32, epochs = 30)"
      ],
      "id": "9x2Pf0xAH65L",
      "execution_count": null,
      "outputs": [
        {
          "output_type": "stream",
          "name": "stdout",
          "text": [
            "Epoch 1/30\n",
            "34/34 [==============================] - 3s 56ms/step - loss: 10.0362 - accuracy: 0.2083\n",
            "Epoch 2/30\n",
            "34/34 [==============================] - 2s 54ms/step - loss: 1.7455 - accuracy: 0.3370\n",
            "Epoch 3/30\n",
            "34/34 [==============================] - 2s 54ms/step - loss: 1.2793 - accuracy: 0.4778\n",
            "Epoch 4/30\n",
            "34/34 [==============================] - 2s 54ms/step - loss: 1.1204 - accuracy: 0.5639\n",
            "Epoch 5/30\n",
            "34/34 [==============================] - 2s 54ms/step - loss: 0.9388 - accuracy: 0.6602\n",
            "Epoch 6/30\n",
            "34/34 [==============================] - 2s 53ms/step - loss: 0.8225 - accuracy: 0.7213\n",
            "Epoch 7/30\n",
            "34/34 [==============================] - 2s 54ms/step - loss: 0.7880 - accuracy: 0.7324\n",
            "Epoch 8/30\n",
            "34/34 [==============================] - 2s 54ms/step - loss: 0.6641 - accuracy: 0.7667\n",
            "Epoch 9/30\n",
            "34/34 [==============================] - 2s 54ms/step - loss: 0.7269 - accuracy: 0.7796\n",
            "Epoch 10/30\n",
            "34/34 [==============================] - 2s 53ms/step - loss: 0.6796 - accuracy: 0.7880\n",
            "Epoch 11/30\n",
            "34/34 [==============================] - 2s 54ms/step - loss: 0.5523 - accuracy: 0.8231\n",
            "Epoch 12/30\n",
            "34/34 [==============================] - 2s 54ms/step - loss: 0.4985 - accuracy: 0.8528\n",
            "Epoch 13/30\n",
            "34/34 [==============================] - 2s 53ms/step - loss: 0.5540 - accuracy: 0.8398\n",
            "Epoch 14/30\n",
            "34/34 [==============================] - 2s 55ms/step - loss: 0.4695 - accuracy: 0.8648\n",
            "Epoch 15/30\n",
            "34/34 [==============================] - 2s 53ms/step - loss: 0.4935 - accuracy: 0.8500\n",
            "Epoch 16/30\n",
            "34/34 [==============================] - 2s 53ms/step - loss: 0.5816 - accuracy: 0.8676\n",
            "Epoch 17/30\n",
            "34/34 [==============================] - 2s 54ms/step - loss: 0.7590 - accuracy: 0.8194\n",
            "Epoch 18/30\n",
            "34/34 [==============================] - 2s 54ms/step - loss: 0.5715 - accuracy: 0.8731\n",
            "Epoch 19/30\n",
            "34/34 [==============================] - 2s 55ms/step - loss: 0.5654 - accuracy: 0.8704\n",
            "Epoch 20/30\n",
            "34/34 [==============================] - 2s 55ms/step - loss: 0.7447 - accuracy: 0.8278\n",
            "Epoch 21/30\n",
            "34/34 [==============================] - 2s 55ms/step - loss: 0.5213 - accuracy: 0.8685\n",
            "Epoch 22/30\n",
            "34/34 [==============================] - 2s 54ms/step - loss: 0.4767 - accuracy: 0.8935\n",
            "Epoch 23/30\n",
            "34/34 [==============================] - 2s 55ms/step - loss: 0.7418 - accuracy: 0.8704\n",
            "Epoch 24/30\n",
            "34/34 [==============================] - 2s 55ms/step - loss: 0.6456 - accuracy: 0.8380\n",
            "Epoch 25/30\n",
            "34/34 [==============================] - 2s 54ms/step - loss: 0.6281 - accuracy: 0.8602\n",
            "Epoch 26/30\n",
            "34/34 [==============================] - 2s 54ms/step - loss: 0.4997 - accuracy: 0.8704\n",
            "Epoch 27/30\n",
            "34/34 [==============================] - 2s 54ms/step - loss: 0.4979 - accuracy: 0.8852\n",
            "Epoch 28/30\n",
            "34/34 [==============================] - 2s 54ms/step - loss: 0.5399 - accuracy: 0.8833\n",
            "Epoch 29/30\n",
            "34/34 [==============================] - 2s 54ms/step - loss: 0.4053 - accuracy: 0.9019\n",
            "Epoch 30/30\n",
            "34/34 [==============================] - 2s 54ms/step - loss: 1.0645 - accuracy: 0.8519\n"
          ]
        }
      ]
    },
    {
      "cell_type": "code",
      "metadata": {
        "colab": {
          "base_uri": "https://localhost:8080/"
        },
        "id": "hS-nztdWIHEC",
        "outputId": "67ee4b97-0182-4e6c-e1c3-a440a77e20e5"
      },
      "source": [
        "result = model.evaluate(X_test, y_test)\n",
        "print(\"Test Loss\", result[0])\n",
        "print(\"Test Accuracy\", result[1])"
      ],
      "id": "hS-nztdWIHEC",
      "execution_count": null,
      "outputs": [
        {
          "output_type": "stream",
          "name": "stdout",
          "text": [
            "4/4 [==============================] - 0s 19ms/step - loss: 0.8278 - accuracy: 0.7750\n",
            "Test Loss 0.8278408646583557\n",
            "Test Accuracy 0.7749999761581421\n"
          ]
        }
      ]
    },
    {
      "cell_type": "code",
      "metadata": {
        "id": "3yhN9AZhORnR"
      },
      "source": [
        "model = tf.keras.Sequential([\n",
        "    tf.keras.layers.Dense(4096, activation='relu'),\n",
        "    tf.keras.layers.Dropout(0.52),\n",
        "    tf.keras.layers.Dense(4096, activation='relu'),\n",
        "    tf.keras.layers.Dropout(0.52),\n",
        "    tf.keras.layers.Dense(4096, activation='relu'),\n",
        "    tf.keras.layers.Dropout(0.52),\n",
        "    tf.keras.layers.Dense(4096, activation='relu'),\n",
        "    tf.keras.layers.Dropout(0.52),\n",
        "    tf.keras.layers.Dense(4096, activation='relu'),\n",
        "    tf.keras.layers.Dense(6)\n",
        "])\n"
      ],
      "id": "3yhN9AZhORnR",
      "execution_count": null,
      "outputs": []
    },
    {
      "cell_type": "code",
      "metadata": {
        "id": "L-FVCQ9bOhGS"
      },
      "source": [
        "model.compile(optimizer='adam',\n",
        "              loss=tf.keras.losses.SparseCategoricalCrossentropy(from_logits=True),\n",
        "              metrics=['accuracy'])"
      ],
      "id": "L-FVCQ9bOhGS",
      "execution_count": null,
      "outputs": []
    },
    {
      "cell_type": "code",
      "metadata": {
        "colab": {
          "base_uri": "https://localhost:8080/"
        },
        "id": "LshrqZXpOyyr",
        "outputId": "2b9b4327-7b97-4b53-eff4-90f03b847038"
      },
      "source": [
        "history=model.fit(X_train, y_train, batch_size = 32, epochs = 30)"
      ],
      "id": "LshrqZXpOyyr",
      "execution_count": null,
      "outputs": [
        {
          "output_type": "stream",
          "name": "stdout",
          "text": [
            "Epoch 1/30\n",
            "34/34 [==============================] - 3s 57ms/step - loss: 11.7725 - accuracy: 0.2093\n",
            "Epoch 2/30\n",
            "34/34 [==============================] - 2s 54ms/step - loss: 1.8152 - accuracy: 0.3380\n",
            "Epoch 3/30\n",
            "34/34 [==============================] - 2s 54ms/step - loss: 1.3451 - accuracy: 0.4481\n",
            "Epoch 4/30\n",
            "34/34 [==============================] - 2s 54ms/step - loss: 1.1035 - accuracy: 0.5778\n",
            "Epoch 5/30\n",
            "34/34 [==============================] - 2s 54ms/step - loss: 0.9430 - accuracy: 0.6306\n",
            "Epoch 6/30\n",
            "34/34 [==============================] - 2s 55ms/step - loss: 0.8122 - accuracy: 0.7065\n",
            "Epoch 7/30\n",
            "34/34 [==============================] - 2s 54ms/step - loss: 0.7249 - accuracy: 0.7509\n",
            "Epoch 8/30\n",
            "34/34 [==============================] - 2s 54ms/step - loss: 0.7402 - accuracy: 0.7565\n",
            "Epoch 9/30\n",
            "34/34 [==============================] - 2s 55ms/step - loss: 0.6267 - accuracy: 0.7870\n",
            "Epoch 10/30\n",
            "34/34 [==============================] - 2s 54ms/step - loss: 0.5387 - accuracy: 0.8278\n",
            "Epoch 11/30\n",
            "34/34 [==============================] - 2s 55ms/step - loss: 0.7051 - accuracy: 0.8148\n",
            "Epoch 12/30\n",
            "34/34 [==============================] - 2s 54ms/step - loss: 0.5338 - accuracy: 0.8472\n",
            "Epoch 13/30\n",
            "34/34 [==============================] - 2s 54ms/step - loss: 0.4486 - accuracy: 0.8574\n",
            "Epoch 14/30\n",
            "34/34 [==============================] - 2s 55ms/step - loss: 0.4697 - accuracy: 0.8620\n",
            "Epoch 15/30\n",
            "34/34 [==============================] - 2s 54ms/step - loss: 0.4245 - accuracy: 0.8870\n",
            "Epoch 16/30\n",
            "34/34 [==============================] - 2s 54ms/step - loss: 0.4201 - accuracy: 0.8741\n",
            "Epoch 17/30\n",
            "34/34 [==============================] - 2s 54ms/step - loss: 0.4879 - accuracy: 0.8815\n",
            "Epoch 18/30\n",
            "34/34 [==============================] - 2s 55ms/step - loss: 0.4841 - accuracy: 0.8759\n",
            "Epoch 19/30\n",
            "34/34 [==============================] - 2s 54ms/step - loss: 0.6369 - accuracy: 0.8278\n",
            "Epoch 20/30\n",
            "34/34 [==============================] - 2s 56ms/step - loss: 0.7063 - accuracy: 0.8306\n",
            "Epoch 21/30\n",
            "34/34 [==============================] - 2s 55ms/step - loss: 0.6263 - accuracy: 0.8583\n",
            "Epoch 22/30\n",
            "34/34 [==============================] - 2s 55ms/step - loss: 0.8657 - accuracy: 0.8120\n",
            "Epoch 23/30\n",
            "34/34 [==============================] - 2s 54ms/step - loss: 0.8801 - accuracy: 0.8148\n",
            "Epoch 24/30\n",
            "34/34 [==============================] - 2s 55ms/step - loss: 0.9425 - accuracy: 0.8167\n",
            "Epoch 25/30\n",
            "34/34 [==============================] - 2s 55ms/step - loss: 0.7952 - accuracy: 0.7963\n",
            "Epoch 26/30\n",
            "34/34 [==============================] - 2s 55ms/step - loss: 0.6004 - accuracy: 0.8639\n",
            "Epoch 27/30\n",
            "34/34 [==============================] - 2s 55ms/step - loss: 0.6073 - accuracy: 0.8574\n",
            "Epoch 28/30\n",
            "34/34 [==============================] - 2s 55ms/step - loss: 0.8026 - accuracy: 0.8324\n",
            "Epoch 29/30\n",
            "34/34 [==============================] - 2s 54ms/step - loss: 0.6337 - accuracy: 0.8519\n",
            "Epoch 30/30\n",
            "34/34 [==============================] - 2s 54ms/step - loss: 0.7549 - accuracy: 0.8602\n"
          ]
        }
      ]
    },
    {
      "cell_type": "code",
      "metadata": {
        "colab": {
          "base_uri": "https://localhost:8080/"
        },
        "id": "0ITV0P3CO28Y",
        "outputId": "a3065c87-0144-4681-8c15-5e159bea17ad"
      },
      "source": [
        "result = model.evaluate(X_test, y_test)\n",
        "print(\"Test Loss\", result[0])\n",
        "print(\"Test Accuracy\", result[1])"
      ],
      "id": "0ITV0P3CO28Y",
      "execution_count": null,
      "outputs": [
        {
          "output_type": "stream",
          "name": "stdout",
          "text": [
            "4/4 [==============================] - 0s 20ms/step - loss: 1.5886 - accuracy: 0.8167\n",
            "Test Loss 1.5886300802230835\n",
            "Test Accuracy 0.8166666626930237\n"
          ]
        }
      ]
    },
    {
      "cell_type": "code",
      "metadata": {
        "id": "5RVS1TVYPLFN"
      },
      "source": [
        "model.save(\"/content/drive/MyDrive/HW02/HW/TrainedMode25.h5\")"
      ],
      "id": "5RVS1TVYPLFN",
      "execution_count": null,
      "outputs": []
    },
    {
      "cell_type": "code",
      "metadata": {
        "id": "MsWEGVdFPx3n"
      },
      "source": [
        "model = tf.keras.Sequential([\n",
        "    tf.keras.layers.Dense(4096, activation='relu'),\n",
        "    tf.keras.layers.Dropout(0.522),\n",
        "    tf.keras.layers.Dense(4096, activation='relu'),\n",
        "    tf.keras.layers.Dropout(0.522),\n",
        "    tf.keras.layers.Dense(4096, activation='relu'),\n",
        "    tf.keras.layers.Dropout(0.522),\n",
        "    tf.keras.layers.Dense(4096, activation='relu'),\n",
        "    tf.keras.layers.Dropout(0.522),\n",
        "    tf.keras.layers.Dense(4096, activation='relu'),\n",
        "    tf.keras.layers.Dense(6)\n",
        "])\n"
      ],
      "id": "MsWEGVdFPx3n",
      "execution_count": null,
      "outputs": []
    },
    {
      "cell_type": "code",
      "metadata": {
        "id": "sk-Gy43XP-6U"
      },
      "source": [
        "model.compile(optimizer='adam',\n",
        "              loss=tf.keras.losses.SparseCategoricalCrossentropy(from_logits=True),\n",
        "              metrics=['accuracy'])"
      ],
      "id": "sk-Gy43XP-6U",
      "execution_count": null,
      "outputs": []
    },
    {
      "cell_type": "code",
      "metadata": {
        "colab": {
          "base_uri": "https://localhost:8080/"
        },
        "id": "m9UB-gfFQCXv",
        "outputId": "4699ad6e-e8e7-4b96-f3bd-040894f9913e"
      },
      "source": [
        "history=model.fit(X_train, y_train, batch_size = 32, epochs = 30)"
      ],
      "id": "m9UB-gfFQCXv",
      "execution_count": null,
      "outputs": [
        {
          "output_type": "stream",
          "name": "stdout",
          "text": [
            "Epoch 1/30\n",
            "34/34 [==============================] - 22s 56ms/step - loss: 10.2090 - accuracy: 0.1991\n",
            "Epoch 2/30\n",
            "34/34 [==============================] - 2s 54ms/step - loss: 1.8615 - accuracy: 0.3222\n",
            "Epoch 3/30\n",
            "34/34 [==============================] - 2s 54ms/step - loss: 1.3943 - accuracy: 0.4676\n",
            "Epoch 4/30\n",
            "34/34 [==============================] - 2s 54ms/step - loss: 1.0697 - accuracy: 0.6028\n",
            "Epoch 5/30\n",
            "34/34 [==============================] - 2s 56ms/step - loss: 1.0014 - accuracy: 0.6269\n",
            "Epoch 6/30\n",
            "34/34 [==============================] - 2s 54ms/step - loss: 0.9006 - accuracy: 0.6907\n",
            "Epoch 7/30\n",
            "34/34 [==============================] - 2s 54ms/step - loss: 0.7704 - accuracy: 0.7287\n",
            "Epoch 8/30\n",
            "34/34 [==============================] - 2s 54ms/step - loss: 0.7359 - accuracy: 0.7565\n",
            "Epoch 9/30\n",
            "34/34 [==============================] - 2s 54ms/step - loss: 0.5929 - accuracy: 0.8028\n",
            "Epoch 10/30\n",
            "34/34 [==============================] - 2s 54ms/step - loss: 0.5621 - accuracy: 0.8185\n",
            "Epoch 11/30\n",
            "34/34 [==============================] - 2s 55ms/step - loss: 0.5874 - accuracy: 0.8139\n",
            "Epoch 12/30\n",
            "34/34 [==============================] - 2s 55ms/step - loss: 0.5537 - accuracy: 0.8259\n",
            "Epoch 13/30\n",
            "34/34 [==============================] - 2s 55ms/step - loss: 0.4986 - accuracy: 0.8491\n",
            "Epoch 14/30\n",
            "34/34 [==============================] - 2s 54ms/step - loss: 0.6617 - accuracy: 0.8407\n",
            "Epoch 15/30\n",
            "34/34 [==============================] - 2s 55ms/step - loss: 0.6411 - accuracy: 0.8343\n",
            "Epoch 16/30\n",
            "34/34 [==============================] - 2s 55ms/step - loss: 0.7207 - accuracy: 0.8259\n",
            "Epoch 17/30\n",
            "34/34 [==============================] - 2s 54ms/step - loss: 0.5693 - accuracy: 0.8370\n",
            "Epoch 18/30\n",
            "34/34 [==============================] - 2s 55ms/step - loss: 0.5890 - accuracy: 0.8528\n",
            "Epoch 19/30\n",
            "34/34 [==============================] - 2s 54ms/step - loss: 0.5150 - accuracy: 0.8444\n",
            "Epoch 20/30\n",
            "34/34 [==============================] - 2s 54ms/step - loss: 0.6020 - accuracy: 0.8667\n",
            "Epoch 21/30\n",
            "34/34 [==============================] - 2s 55ms/step - loss: 0.4300 - accuracy: 0.8852\n",
            "Epoch 22/30\n",
            "34/34 [==============================] - 2s 55ms/step - loss: 0.5113 - accuracy: 0.8833\n",
            "Epoch 23/30\n",
            "34/34 [==============================] - 2s 55ms/step - loss: 0.7506 - accuracy: 0.8222\n",
            "Epoch 24/30\n",
            "34/34 [==============================] - 2s 55ms/step - loss: 0.7803 - accuracy: 0.8472\n",
            "Epoch 25/30\n",
            "34/34 [==============================] - 2s 54ms/step - loss: 0.9263 - accuracy: 0.8111\n",
            "Epoch 26/30\n",
            "34/34 [==============================] - 2s 54ms/step - loss: 1.4305 - accuracy: 0.7657\n",
            "Epoch 27/30\n",
            "34/34 [==============================] - 2s 54ms/step - loss: 0.7494 - accuracy: 0.8102\n",
            "Epoch 28/30\n",
            "34/34 [==============================] - 2s 54ms/step - loss: 0.8205 - accuracy: 0.8343\n",
            "Epoch 29/30\n",
            "34/34 [==============================] - 2s 54ms/step - loss: 0.6839 - accuracy: 0.8583\n",
            "Epoch 30/30\n",
            "34/34 [==============================] - 2s 55ms/step - loss: 0.6590 - accuracy: 0.8500\n"
          ]
        }
      ]
    },
    {
      "cell_type": "code",
      "metadata": {
        "colab": {
          "base_uri": "https://localhost:8080/"
        },
        "id": "g3iY-uG_QFz9",
        "outputId": "ce7a5a16-8fa8-49a9-8ecc-41145a0dbf86"
      },
      "source": [
        "result = model.evaluate(X_test, y_test)\n",
        "print(\"Test Loss\", result[0])\n",
        "print(\"Test Accuracy\", result[1])"
      ],
      "id": "g3iY-uG_QFz9",
      "execution_count": null,
      "outputs": [
        {
          "output_type": "stream",
          "name": "stdout",
          "text": [
            "4/4 [==============================] - 0s 17ms/step - loss: 1.4588 - accuracy: 0.8000\n",
            "Test Loss 1.45875883102417\n",
            "Test Accuracy 0.800000011920929\n"
          ]
        }
      ]
    },
    {
      "cell_type": "code",
      "metadata": {
        "id": "GH2AYmtwQq1B"
      },
      "source": [
        "model = tf.keras.Sequential([\n",
        "    tf.keras.layers.Dense(4096, activation='relu'),\n",
        "    tf.keras.layers.Dropout(0.6),\n",
        "    tf.keras.layers.Dense(4096, activation='relu'),\n",
        "    tf.keras.layers.Dropout(0.6),\n",
        "    tf.keras.layers.Dense(4096, activation='relu'),\n",
        "    tf.keras.layers.Dropout(0.6),\n",
        "    tf.keras.layers.Dense(4096, activation='relu'),\n",
        "    tf.keras.layers.Dropout(0.6),\n",
        "    tf.keras.layers.Dense(4096, activation='relu'),\n",
        "    tf.keras.layers.Dense(6)\n",
        "])\n"
      ],
      "id": "GH2AYmtwQq1B",
      "execution_count": null,
      "outputs": []
    },
    {
      "cell_type": "code",
      "metadata": {
        "id": "t9i3SOSGQz3J"
      },
      "source": [
        "model.compile(optimizer='adam',\n",
        "              loss=tf.keras.losses.SparseCategoricalCrossentropy(from_logits=True),\n",
        "              metrics=['accuracy'])"
      ],
      "id": "t9i3SOSGQz3J",
      "execution_count": null,
      "outputs": []
    },
    {
      "cell_type": "code",
      "metadata": {
        "colab": {
          "base_uri": "https://localhost:8080/"
        },
        "id": "9CDyBRoSQ7vh",
        "outputId": "ec85fe6a-a4ef-4722-f1dd-62bfe26c950a"
      },
      "source": [
        "history=model.fit(X_train, y_train, batch_size = 32, epochs = 30)"
      ],
      "id": "9CDyBRoSQ7vh",
      "execution_count": null,
      "outputs": [
        {
          "output_type": "stream",
          "name": "stdout",
          "text": [
            "Epoch 1/30\n",
            "34/34 [==============================] - 3s 57ms/step - loss: 12.3453 - accuracy: 0.1954\n",
            "Epoch 2/30\n",
            "34/34 [==============================] - 2s 54ms/step - loss: 2.2161 - accuracy: 0.2648\n",
            "Epoch 3/30\n",
            "34/34 [==============================] - 2s 54ms/step - loss: 1.6054 - accuracy: 0.3907\n",
            "Epoch 4/30\n",
            "34/34 [==============================] - 2s 53ms/step - loss: 1.3510 - accuracy: 0.4954\n",
            "Epoch 5/30\n",
            "34/34 [==============================] - 2s 54ms/step - loss: 1.1403 - accuracy: 0.5935\n",
            "Epoch 6/30\n",
            "34/34 [==============================] - 2s 54ms/step - loss: 0.9583 - accuracy: 0.6389\n",
            "Epoch 7/30\n",
            "34/34 [==============================] - 2s 54ms/step - loss: 0.9291 - accuracy: 0.6602\n",
            "Epoch 8/30\n",
            "34/34 [==============================] - 2s 54ms/step - loss: 0.8676 - accuracy: 0.6954\n",
            "Epoch 9/30\n",
            "34/34 [==============================] - 2s 54ms/step - loss: 0.7705 - accuracy: 0.7491\n",
            "Epoch 10/30\n",
            "34/34 [==============================] - 2s 54ms/step - loss: 0.7182 - accuracy: 0.7546\n",
            "Epoch 11/30\n",
            "34/34 [==============================] - 2s 54ms/step - loss: 0.5888 - accuracy: 0.8009\n",
            "Epoch 12/30\n",
            "34/34 [==============================] - 2s 54ms/step - loss: 0.7741 - accuracy: 0.7704\n",
            "Epoch 13/30\n",
            "34/34 [==============================] - 2s 53ms/step - loss: 0.6858 - accuracy: 0.7833\n",
            "Epoch 14/30\n",
            "34/34 [==============================] - 2s 54ms/step - loss: 0.8323 - accuracy: 0.7676\n",
            "Epoch 15/30\n",
            "34/34 [==============================] - 2s 54ms/step - loss: 0.7615 - accuracy: 0.7861\n",
            "Epoch 16/30\n",
            "34/34 [==============================] - 2s 55ms/step - loss: 0.6852 - accuracy: 0.8222\n",
            "Epoch 17/30\n",
            "34/34 [==============================] - 2s 54ms/step - loss: 0.8292 - accuracy: 0.7963\n",
            "Epoch 18/30\n",
            "34/34 [==============================] - 2s 55ms/step - loss: 0.7338 - accuracy: 0.8231\n",
            "Epoch 19/30\n",
            "34/34 [==============================] - 2s 55ms/step - loss: 0.9634 - accuracy: 0.7833\n",
            "Epoch 20/30\n",
            "34/34 [==============================] - 2s 54ms/step - loss: 0.8494 - accuracy: 0.8028\n",
            "Epoch 21/30\n",
            "34/34 [==============================] - 2s 54ms/step - loss: 0.7450 - accuracy: 0.8083\n",
            "Epoch 22/30\n",
            "34/34 [==============================] - 2s 54ms/step - loss: 0.8462 - accuracy: 0.8083\n",
            "Epoch 23/30\n",
            "34/34 [==============================] - 2s 55ms/step - loss: 0.6676 - accuracy: 0.8315\n",
            "Epoch 24/30\n",
            "34/34 [==============================] - 2s 54ms/step - loss: 0.5665 - accuracy: 0.8574\n",
            "Epoch 25/30\n",
            "34/34 [==============================] - 2s 54ms/step - loss: 0.6855 - accuracy: 0.8278\n",
            "Epoch 26/30\n",
            "34/34 [==============================] - 2s 54ms/step - loss: 0.7744 - accuracy: 0.8259\n",
            "Epoch 27/30\n",
            "34/34 [==============================] - 2s 54ms/step - loss: 0.6436 - accuracy: 0.8546\n",
            "Epoch 28/30\n",
            "34/34 [==============================] - 2s 54ms/step - loss: 0.6502 - accuracy: 0.8380\n",
            "Epoch 29/30\n",
            "34/34 [==============================] - 2s 53ms/step - loss: 0.7105 - accuracy: 0.8500\n",
            "Epoch 30/30\n",
            "34/34 [==============================] - 2s 55ms/step - loss: 0.6181 - accuracy: 0.8593\n"
          ]
        }
      ]
    },
    {
      "cell_type": "code",
      "metadata": {
        "colab": {
          "base_uri": "https://localhost:8080/"
        },
        "id": "4wUstLV_RDik",
        "outputId": "dabbe127-a2cb-4762-d6a5-5b97581f61c6"
      },
      "source": [
        "result = model.evaluate(X_test, y_test)\n",
        "print(\"Test Loss\", result[0])\n",
        "print(\"Test Accuracy\", result[1])"
      ],
      "id": "4wUstLV_RDik",
      "execution_count": null,
      "outputs": [
        {
          "output_type": "stream",
          "name": "stdout",
          "text": [
            "4/4 [==============================] - 0s 18ms/step - loss: 1.1971 - accuracy: 0.8333\n",
            "Test Loss 1.19706130027771\n",
            "Test Accuracy 0.8333333134651184\n"
          ]
        }
      ]
    },
    {
      "cell_type": "code",
      "metadata": {
        "id": "h6_UrN4bRaDD"
      },
      "source": [
        "model.save(\"/content/drive/MyDrive/HW02/HW/TrainedMode26.h5\")"
      ],
      "id": "h6_UrN4bRaDD",
      "execution_count": null,
      "outputs": []
    },
    {
      "cell_type": "code",
      "metadata": {
        "id": "j9_AODGKRkVx"
      },
      "source": [
        "model = tf.keras.Sequential([\n",
        "    tf.keras.layers.Dense(4096, activation='relu'),\n",
        "    tf.keras.layers.Dropout(0.7),\n",
        "    tf.keras.layers.Dense(4096, activation='relu'),\n",
        "    tf.keras.layers.Dropout(0.7),\n",
        "    tf.keras.layers.Dense(4096, activation='relu'),\n",
        "    tf.keras.layers.Dropout(0.7),\n",
        "    tf.keras.layers.Dense(4096, activation='relu'),\n",
        "    tf.keras.layers.Dropout(0.7),\n",
        "    tf.keras.layers.Dense(4096, activation='relu'),\n",
        "    tf.keras.layers.Dense(6)\n",
        "])\n"
      ],
      "id": "j9_AODGKRkVx",
      "execution_count": null,
      "outputs": []
    },
    {
      "cell_type": "code",
      "metadata": {
        "id": "RR3W6NCZRz7z"
      },
      "source": [
        "model.compile(optimizer='adam',\n",
        "              loss=tf.keras.losses.SparseCategoricalCrossentropy(from_logits=True),\n",
        "              metrics=['accuracy'])"
      ],
      "id": "RR3W6NCZRz7z",
      "execution_count": null,
      "outputs": []
    },
    {
      "cell_type": "code",
      "metadata": {
        "colab": {
          "base_uri": "https://localhost:8080/"
        },
        "id": "mofmxIXjR26_",
        "outputId": "6d4c4c80-258b-47e2-adb6-ba52fd2a82f8"
      },
      "source": [
        "history=model.fit(X_train, y_train, batch_size = 32, epochs = 30)"
      ],
      "id": "mofmxIXjR26_",
      "execution_count": null,
      "outputs": [
        {
          "output_type": "stream",
          "name": "stdout",
          "text": [
            "Epoch 1/30\n",
            "34/34 [==============================] - 3s 56ms/step - loss: 25.2633 - accuracy: 0.1602\n",
            "Epoch 2/30\n",
            "34/34 [==============================] - 2s 53ms/step - loss: 2.8839 - accuracy: 0.2157\n",
            "Epoch 3/30\n",
            "34/34 [==============================] - 2s 55ms/step - loss: 2.0963 - accuracy: 0.2296\n",
            "Epoch 4/30\n",
            "34/34 [==============================] - 2s 54ms/step - loss: 1.8581 - accuracy: 0.2815\n",
            "Epoch 5/30\n",
            "34/34 [==============================] - 2s 54ms/step - loss: 1.7206 - accuracy: 0.3444\n",
            "Epoch 6/30\n",
            "34/34 [==============================] - 2s 54ms/step - loss: 1.6478 - accuracy: 0.3630\n",
            "Epoch 7/30\n",
            "34/34 [==============================] - 2s 54ms/step - loss: 1.5154 - accuracy: 0.3963\n",
            "Epoch 8/30\n",
            "34/34 [==============================] - 2s 54ms/step - loss: 1.4615 - accuracy: 0.4250\n",
            "Epoch 9/30\n",
            "34/34 [==============================] - 2s 54ms/step - loss: 1.3606 - accuracy: 0.4694\n",
            "Epoch 10/30\n",
            "34/34 [==============================] - 2s 53ms/step - loss: 1.3029 - accuracy: 0.4806\n",
            "Epoch 11/30\n",
            "34/34 [==============================] - 2s 53ms/step - loss: 1.2452 - accuracy: 0.5324\n",
            "Epoch 12/30\n",
            "34/34 [==============================] - 2s 53ms/step - loss: 1.1644 - accuracy: 0.5657\n",
            "Epoch 13/30\n",
            "34/34 [==============================] - 2s 53ms/step - loss: 1.0887 - accuracy: 0.6093\n",
            "Epoch 14/30\n",
            "34/34 [==============================] - 2s 53ms/step - loss: 1.1479 - accuracy: 0.5981\n",
            "Epoch 15/30\n",
            "34/34 [==============================] - 2s 53ms/step - loss: 1.0392 - accuracy: 0.6167\n",
            "Epoch 16/30\n",
            "34/34 [==============================] - 2s 53ms/step - loss: 0.9754 - accuracy: 0.6565\n",
            "Epoch 17/30\n",
            "34/34 [==============================] - 2s 54ms/step - loss: 0.9717 - accuracy: 0.6380\n",
            "Epoch 18/30\n",
            "34/34 [==============================] - 2s 53ms/step - loss: 0.9372 - accuracy: 0.7000\n",
            "Epoch 19/30\n",
            "34/34 [==============================] - 2s 54ms/step - loss: 1.0723 - accuracy: 0.6509\n",
            "Epoch 20/30\n",
            "34/34 [==============================] - 2s 54ms/step - loss: 0.9832 - accuracy: 0.6898\n",
            "Epoch 21/30\n",
            "34/34 [==============================] - 2s 54ms/step - loss: 0.9816 - accuracy: 0.7194\n",
            "Epoch 22/30\n",
            "34/34 [==============================] - 2s 53ms/step - loss: 1.0316 - accuracy: 0.7102\n",
            "Epoch 23/30\n",
            "34/34 [==============================] - 2s 55ms/step - loss: 1.0437 - accuracy: 0.7102\n",
            "Epoch 24/30\n",
            "34/34 [==============================] - 2s 54ms/step - loss: 1.0934 - accuracy: 0.6898\n",
            "Epoch 25/30\n",
            "34/34 [==============================] - 2s 54ms/step - loss: 1.1922 - accuracy: 0.6787\n",
            "Epoch 26/30\n",
            "34/34 [==============================] - 2s 54ms/step - loss: 1.0724 - accuracy: 0.6944\n",
            "Epoch 27/30\n",
            "34/34 [==============================] - 2s 54ms/step - loss: 1.0472 - accuracy: 0.7176\n",
            "Epoch 28/30\n",
            "34/34 [==============================] - 2s 54ms/step - loss: 0.9522 - accuracy: 0.7370\n",
            "Epoch 29/30\n",
            "34/34 [==============================] - 2s 54ms/step - loss: 0.9180 - accuracy: 0.7157\n",
            "Epoch 30/30\n",
            "34/34 [==============================] - 2s 54ms/step - loss: 0.8852 - accuracy: 0.7509\n"
          ]
        }
      ]
    },
    {
      "cell_type": "code",
      "metadata": {
        "id": "BLG0JJObR6Gb"
      },
      "source": [
        "model = tf.keras.Sequential([\n",
        "    tf.keras.layers.Dense(4096, activation='relu'),\n",
        "    tf.keras.layers.Dropout(0.61),\n",
        "    tf.keras.layers.Dense(4096, activation='relu'),\n",
        "    tf.keras.layers.Dropout(0.61),\n",
        "    tf.keras.layers.Dense(4096, activation='relu'),\n",
        "    tf.keras.layers.Dropout(0.61),\n",
        "    tf.keras.layers.Dense(4096, activation='relu'),\n",
        "    tf.keras.layers.Dropout(0.61),\n",
        "    tf.keras.layers.Dense(4096, activation='relu'),\n",
        "    tf.keras.layers.Dense(6)\n",
        "])\n"
      ],
      "id": "BLG0JJObR6Gb",
      "execution_count": null,
      "outputs": []
    },
    {
      "cell_type": "code",
      "metadata": {
        "id": "CHtP3mRPSZrZ"
      },
      "source": [
        "model.compile(optimizer='adam',\n",
        "              loss=tf.keras.losses.SparseCategoricalCrossentropy(from_logits=True),\n",
        "              metrics=['accuracy'])"
      ],
      "id": "CHtP3mRPSZrZ",
      "execution_count": null,
      "outputs": []
    },
    {
      "cell_type": "code",
      "metadata": {
        "colab": {
          "base_uri": "https://localhost:8080/"
        },
        "id": "7Y7k1zRGSd0N",
        "outputId": "5f42106f-c313-48bd-a9f8-e2f799a325fc"
      },
      "source": [
        "history=model.fit(X_train, y_train, batch_size = 32, epochs = 30)"
      ],
      "id": "7Y7k1zRGSd0N",
      "execution_count": null,
      "outputs": [
        {
          "output_type": "stream",
          "name": "stdout",
          "text": [
            "Epoch 1/30\n",
            "34/34 [==============================] - 3s 57ms/step - loss: 13.6333 - accuracy: 0.1546\n",
            "Epoch 2/30\n",
            "34/34 [==============================] - 2s 54ms/step - loss: 2.4836 - accuracy: 0.2148\n",
            "Epoch 3/30\n",
            "34/34 [==============================] - 2s 54ms/step - loss: 1.7497 - accuracy: 0.3306\n",
            "Epoch 4/30\n",
            "34/34 [==============================] - 2s 54ms/step - loss: 1.5706 - accuracy: 0.4148\n",
            "Epoch 5/30\n",
            "34/34 [==============================] - 2s 54ms/step - loss: 1.3440 - accuracy: 0.4889\n",
            "Epoch 6/30\n",
            "34/34 [==============================] - 2s 53ms/step - loss: 1.1511 - accuracy: 0.5611\n",
            "Epoch 7/30\n",
            "34/34 [==============================] - 2s 54ms/step - loss: 1.1021 - accuracy: 0.6130\n",
            "Epoch 8/30\n",
            "34/34 [==============================] - 2s 54ms/step - loss: 0.9230 - accuracy: 0.6722\n",
            "Epoch 9/30\n",
            "34/34 [==============================] - 2s 53ms/step - loss: 0.8703 - accuracy: 0.6833\n",
            "Epoch 10/30\n",
            "34/34 [==============================] - 2s 53ms/step - loss: 0.9000 - accuracy: 0.7083\n",
            "Epoch 11/30\n",
            "34/34 [==============================] - 2s 54ms/step - loss: 0.7769 - accuracy: 0.7398\n",
            "Epoch 12/30\n",
            "34/34 [==============================] - 2s 53ms/step - loss: 0.6574 - accuracy: 0.7750\n",
            "Epoch 13/30\n",
            "34/34 [==============================] - 2s 54ms/step - loss: 0.7133 - accuracy: 0.7741\n",
            "Epoch 14/30\n",
            "34/34 [==============================] - 2s 54ms/step - loss: 0.9946 - accuracy: 0.7593\n",
            "Epoch 15/30\n",
            "34/34 [==============================] - 2s 54ms/step - loss: 0.7809 - accuracy: 0.7630\n",
            "Epoch 16/30\n",
            "34/34 [==============================] - 2s 54ms/step - loss: 0.8168 - accuracy: 0.7713\n",
            "Epoch 17/30\n",
            "34/34 [==============================] - 2s 54ms/step - loss: 0.7701 - accuracy: 0.7917\n",
            "Epoch 18/30\n",
            "34/34 [==============================] - 2s 54ms/step - loss: 0.7876 - accuracy: 0.8093\n",
            "Epoch 19/30\n",
            "34/34 [==============================] - 2s 54ms/step - loss: 0.6325 - accuracy: 0.8176\n",
            "Epoch 20/30\n",
            "34/34 [==============================] - 2s 54ms/step - loss: 0.7892 - accuracy: 0.7889\n",
            "Epoch 21/30\n",
            "34/34 [==============================] - 2s 53ms/step - loss: 0.7787 - accuracy: 0.7861\n",
            "Epoch 22/30\n",
            "34/34 [==============================] - 2s 53ms/step - loss: 0.9943 - accuracy: 0.7861\n",
            "Epoch 23/30\n",
            "34/34 [==============================] - 2s 53ms/step - loss: 0.8536 - accuracy: 0.8028\n",
            "Epoch 24/30\n",
            "34/34 [==============================] - 2s 54ms/step - loss: 0.9757 - accuracy: 0.7741\n",
            "Epoch 25/30\n",
            "34/34 [==============================] - 2s 54ms/step - loss: 1.2560 - accuracy: 0.7583\n",
            "Epoch 26/30\n",
            "34/34 [==============================] - 2s 54ms/step - loss: 1.2536 - accuracy: 0.7324\n",
            "Epoch 27/30\n",
            "34/34 [==============================] - 2s 54ms/step - loss: 0.9913 - accuracy: 0.7472\n",
            "Epoch 28/30\n",
            "34/34 [==============================] - 2s 54ms/step - loss: 0.9171 - accuracy: 0.7630\n",
            "Epoch 29/30\n",
            "34/34 [==============================] - 2s 54ms/step - loss: 1.0512 - accuracy: 0.7370\n",
            "Epoch 30/30\n",
            "34/34 [==============================] - 2s 54ms/step - loss: 0.8218 - accuracy: 0.8056\n"
          ]
        }
      ]
    },
    {
      "cell_type": "code",
      "metadata": {
        "colab": {
          "base_uri": "https://localhost:8080/"
        },
        "id": "EoC_VC-qSzWo",
        "outputId": "a85fef05-c006-4e71-97d7-16b316995f3d"
      },
      "source": [
        "result = model.evaluate(X_test, y_test)\n",
        "print(\"Test Loss\", result[0])\n",
        "print(\"Test Accuracy\", result[1])"
      ],
      "id": "EoC_VC-qSzWo",
      "execution_count": null,
      "outputs": [
        {
          "output_type": "stream",
          "name": "stdout",
          "text": [
            "4/4 [==============================] - 0s 20ms/step - loss: 0.9572 - accuracy: 0.7667\n",
            "Test Loss 0.9572386145591736\n",
            "Test Accuracy 0.7666666507720947\n"
          ]
        }
      ]
    },
    {
      "cell_type": "code",
      "metadata": {
        "id": "z6RdTLiVVSwG"
      },
      "source": [
        "model.save(\"/content/drive/MyDrive/HW02/HW/TrainedMode27.h5\")"
      ],
      "id": "z6RdTLiVVSwG",
      "execution_count": null,
      "outputs": []
    },
    {
      "cell_type": "code",
      "metadata": {
        "id": "gJkLJS5jVDB2"
      },
      "source": [
        ""
      ],
      "id": "gJkLJS5jVDB2",
      "execution_count": null,
      "outputs": []
    },
    {
      "cell_type": "markdown",
      "metadata": {
        "id": "BZ9N3BGRrsdT"
      },
      "source": [
        "همانطور که مشاهده میکنید در 5 مدل که تست شده دقت در داده اموزشی ما کمتر از داده تست ما شده و دلیل این است که مدل کم برازش است یعنی به اندازه کافی مدل اموزش داده نشده "
      ],
      "id": "BZ9N3BGRrsdT"
    },
    {
      "cell_type": "code",
      "metadata": {
        "id": "0V_RjQ7ZSnq5"
      },
      "source": [
        ""
      ],
      "id": "0V_RjQ7ZSnq5",
      "execution_count": null,
      "outputs": []
    },
    {
      "cell_type": "markdown",
      "metadata": {
        "id": "uiZxLXGRsD0m"
      },
      "source": [
        ""
      ],
      "id": "uiZxLXGRsD0m"
    },
    {
      "cell_type": "code",
      "metadata": {
        "id": "9f6XTiARVJVl"
      },
      "source": [
        ""
      ],
      "id": "9f6XTiARVJVl",
      "execution_count": 19,
      "outputs": []
    },
    {
      "cell_type": "code",
      "metadata": {
        "id": "m5mLK9tCVJ-r"
      },
      "source": [
        ""
      ],
      "id": "m5mLK9tCVJ-r",
      "execution_count": 19,
      "outputs": []
    },
    {
      "cell_type": "code",
      "metadata": {
        "id": "iVITWSfyWDVX"
      },
      "source": [
        ""
      ],
      "id": "iVITWSfyWDVX",
      "execution_count": 19,
      "outputs": []
    },
    {
      "cell_type": "code",
      "metadata": {
        "id": "n_suP6lVWGqD"
      },
      "source": [
        ""
      ],
      "id": "n_suP6lVWGqD",
      "execution_count": 19,
      "outputs": []
    },
    {
      "cell_type": "code",
      "metadata": {
        "id": "6TEasxzdWQFc"
      },
      "source": [
        "#predicted"
      ],
      "id": "6TEasxzdWQFc",
      "execution_count": null,
      "outputs": []
    },
    {
      "cell_type": "code",
      "metadata": {
        "colab": {
          "base_uri": "https://localhost:8080/"
        },
        "id": "i5DtPU6UWfoN",
        "outputId": "0e11a498-4257-4a0a-9406-752014799f89"
      },
      "source": [
        "y_test.shape"
      ],
      "id": "i5DtPU6UWfoN",
      "execution_count": null,
      "outputs": [
        {
          "output_type": "execute_result",
          "data": {
            "text/plain": [
              "(120, 1)"
            ]
          },
          "metadata": {},
          "execution_count": 110
        }
      ]
    },
    {
      "cell_type": "code",
      "metadata": {
        "id": "1PS1ZiN4Xkf9"
      },
      "source": [
        "model = tf.keras.Sequential([\n",
        "    tf.keras.layers.Dense(4096, activation='relu'),\n",
        "    tf.keras.layers.Dropout(0.6),\n",
        "    tf.keras.layers.Dense(4096, activation='relu'),\n",
        "    tf.keras.layers.Dropout(0.6),\n",
        "    tf.keras.layers.Dense(4096, activation='relu'),\n",
        "    tf.keras.layers.Dropout(0.6),\n",
        "    tf.keras.layers.Dense(4096, activation='relu'),\n",
        "    tf.keras.layers.Dropout(0.6),\n",
        "    tf.keras.layers.Dense(4096, activation='relu'),\n",
        "    tf.keras.layers.Dense(6)\n",
        "])\n"
      ],
      "id": "1PS1ZiN4Xkf9",
      "execution_count": null,
      "outputs": []
    },
    {
      "cell_type": "code",
      "metadata": {
        "id": "15YAYB16Z0li"
      },
      "source": [
        "model.compile(optimizer=tf.keras.optimizers.Adam(learning_rate=0.001),\n",
        "              loss=tf.keras.losses.SparseCategoricalCrossentropy(from_logits=True),\n",
        "              metrics=['accuracy'])"
      ],
      "id": "15YAYB16Z0li",
      "execution_count": null,
      "outputs": []
    },
    {
      "cell_type": "code",
      "metadata": {
        "colab": {
          "base_uri": "https://localhost:8080/"
        },
        "id": "uxYmiDhIZ0nq",
        "outputId": "91436ec5-eb71-4b56-9c32-daa0cabc46a3"
      },
      "source": [
        "history=model.fit(X_train, y_train, batch_size = 32, epochs = 30)"
      ],
      "id": "uxYmiDhIZ0nq",
      "execution_count": null,
      "outputs": [
        {
          "output_type": "stream",
          "name": "stdout",
          "text": [
            "Epoch 1/30\n",
            "34/34 [==============================] - 3s 56ms/step - loss: 21.4434 - accuracy: 0.1861\n",
            "Epoch 2/30\n",
            "34/34 [==============================] - 2s 53ms/step - loss: 1.9236 - accuracy: 0.2722\n",
            "Epoch 3/30\n",
            "34/34 [==============================] - 2s 54ms/step - loss: 1.6830 - accuracy: 0.3481\n",
            "Epoch 4/30\n",
            "34/34 [==============================] - 2s 54ms/step - loss: 1.4730 - accuracy: 0.3981\n",
            "Epoch 5/30\n",
            "34/34 [==============================] - 2s 54ms/step - loss: 1.3645 - accuracy: 0.4889\n",
            "Epoch 6/30\n",
            "34/34 [==============================] - 2s 54ms/step - loss: 1.1725 - accuracy: 0.5509\n",
            "Epoch 7/30\n",
            "34/34 [==============================] - 2s 53ms/step - loss: 1.0584 - accuracy: 0.5889\n",
            "Epoch 8/30\n",
            "34/34 [==============================] - 2s 54ms/step - loss: 0.9940 - accuracy: 0.6491\n",
            "Epoch 9/30\n",
            "34/34 [==============================] - 2s 54ms/step - loss: 0.9228 - accuracy: 0.6704\n",
            "Epoch 10/30\n",
            "34/34 [==============================] - 2s 53ms/step - loss: 0.8481 - accuracy: 0.7065\n",
            "Epoch 11/30\n",
            "34/34 [==============================] - 2s 53ms/step - loss: 0.7827 - accuracy: 0.7426\n",
            "Epoch 12/30\n",
            "34/34 [==============================] - 2s 53ms/step - loss: 0.6715 - accuracy: 0.7657\n",
            "Epoch 13/30\n",
            "34/34 [==============================] - 2s 54ms/step - loss: 0.8197 - accuracy: 0.7593\n",
            "Epoch 14/30\n",
            "34/34 [==============================] - 2s 54ms/step - loss: 0.7252 - accuracy: 0.7731\n",
            "Epoch 15/30\n",
            "34/34 [==============================] - 2s 54ms/step - loss: 0.6241 - accuracy: 0.8028\n",
            "Epoch 16/30\n",
            "34/34 [==============================] - 2s 54ms/step - loss: 0.6142 - accuracy: 0.8028\n",
            "Epoch 17/30\n",
            "34/34 [==============================] - 2s 54ms/step - loss: 0.5988 - accuracy: 0.8269\n",
            "Epoch 18/30\n",
            "34/34 [==============================] - 2s 54ms/step - loss: 0.6637 - accuracy: 0.8037\n",
            "Epoch 19/30\n",
            "34/34 [==============================] - 2s 54ms/step - loss: 0.6542 - accuracy: 0.8278\n",
            "Epoch 20/30\n",
            "34/34 [==============================] - 2s 55ms/step - loss: 0.7456 - accuracy: 0.8185\n",
            "Epoch 21/30\n",
            "34/34 [==============================] - 2s 54ms/step - loss: 0.5736 - accuracy: 0.8370\n",
            "Epoch 22/30\n",
            "34/34 [==============================] - 2s 55ms/step - loss: 0.6126 - accuracy: 0.8389\n",
            "Epoch 23/30\n",
            "34/34 [==============================] - 2s 54ms/step - loss: 0.7230 - accuracy: 0.8185\n",
            "Epoch 24/30\n",
            "34/34 [==============================] - 2s 54ms/step - loss: 0.8150 - accuracy: 0.8361\n",
            "Epoch 25/30\n",
            "34/34 [==============================] - 2s 54ms/step - loss: 0.8596 - accuracy: 0.7861\n",
            "Epoch 26/30\n",
            "34/34 [==============================] - 2s 54ms/step - loss: 0.8633 - accuracy: 0.8204\n",
            "Epoch 27/30\n",
            "34/34 [==============================] - 2s 53ms/step - loss: 0.6685 - accuracy: 0.8102\n",
            "Epoch 28/30\n",
            "34/34 [==============================] - 2s 54ms/step - loss: 0.7529 - accuracy: 0.8407\n",
            "Epoch 29/30\n",
            "34/34 [==============================] - 2s 53ms/step - loss: 0.7194 - accuracy: 0.8278\n",
            "Epoch 30/30\n",
            "34/34 [==============================] - 2s 54ms/step - loss: 0.8698 - accuracy: 0.8287\n"
          ]
        }
      ]
    },
    {
      "cell_type": "code",
      "metadata": {
        "colab": {
          "base_uri": "https://localhost:8080/"
        },
        "id": "xNukXWLaaw6C",
        "outputId": "46ffd35b-e528-4620-afc8-f78b44e9ef91"
      },
      "source": [
        "result = model.evaluate(X_test, y_test)\n",
        "print(\"Test Loss\", result[0])\n",
        "print(\"Test Accuracy\", result[1])"
      ],
      "id": "xNukXWLaaw6C",
      "execution_count": null,
      "outputs": [
        {
          "output_type": "stream",
          "name": "stdout",
          "text": [
            "4/4 [==============================] - 0s 18ms/step - loss: 1.1372 - accuracy: 0.7833\n",
            "Test Loss 1.1371901035308838\n",
            "Test Accuracy 0.7833333611488342\n"
          ]
        }
      ]
    },
    {
      "cell_type": "code",
      "metadata": {
        "id": "ojenzeagbe2t"
      },
      "source": [
        "model.save(\"/content/drive/MyDrive/HW02/HW/TrainedMode28.h5\")"
      ],
      "id": "ojenzeagbe2t",
      "execution_count": null,
      "outputs": []
    },
    {
      "cell_type": "code",
      "metadata": {
        "id": "14-Iw1TUblV-"
      },
      "source": [
        "model = tf.keras.Sequential([\n",
        "    tf.keras.layers.Dense(4096, activation='relu'),\n",
        "    tf.keras.layers.Dropout(0.6),\n",
        "    tf.keras.layers.Dense(4096, activation='relu'),\n",
        "    tf.keras.layers.Dropout(0.6),\n",
        "    tf.keras.layers.Dense(4096, activation='relu'),\n",
        "    tf.keras.layers.Dense(6)\n",
        "])\n"
      ],
      "id": "14-Iw1TUblV-",
      "execution_count": null,
      "outputs": []
    },
    {
      "cell_type": "code",
      "metadata": {
        "id": "CgLCtBLQ45De"
      },
      "source": [
        "model.compile(optimizer=tf.keras.optimizers.Adam(learning_rate=0.0001),\n",
        "              loss=tf.keras.losses.SparseCategoricalCrossentropy(from_logits=True),\n",
        "              metrics=['accuracy'])"
      ],
      "id": "CgLCtBLQ45De",
      "execution_count": null,
      "outputs": []
    },
    {
      "cell_type": "code",
      "metadata": {
        "id": "q9yuVT7V45GL",
        "colab": {
          "base_uri": "https://localhost:8080/"
        },
        "outputId": "cf8a2d14-301c-4509-fa18-c86c1a67c46f"
      },
      "source": [
        "history=model.fit(X_train, y_train, batch_size = 32, epochs = 5)"
      ],
      "id": "q9yuVT7V45GL",
      "execution_count": null,
      "outputs": [
        {
          "output_type": "stream",
          "name": "stdout",
          "text": [
            "Epoch 1/5\n",
            "34/34 [==============================] - 2s 41ms/step - loss: 1.8996 - accuracy: 0.4583\n",
            "Epoch 2/5\n",
            "34/34 [==============================] - 1s 38ms/step - loss: 1.4290 - accuracy: 0.6787\n",
            "Epoch 3/5\n",
            "34/34 [==============================] - 1s 38ms/step - loss: 1.1690 - accuracy: 0.7611\n",
            "Epoch 4/5\n",
            "34/34 [==============================] - 1s 38ms/step - loss: 1.1572 - accuracy: 0.7870\n",
            "Epoch 5/5\n",
            "34/34 [==============================] - 1s 37ms/step - loss: 1.0402 - accuracy: 0.8139\n"
          ]
        }
      ]
    },
    {
      "cell_type": "code",
      "metadata": {
        "id": "khtCetXj45JN",
        "colab": {
          "base_uri": "https://localhost:8080/"
        },
        "outputId": "d56c6258-e523-46b9-e982-4c7596bd3301"
      },
      "source": [
        "result = model.evaluate(X_test, y_test)\n",
        "print(\"Test Loss\", result[0])\n",
        "print(\"Test Accuracy\", result[1])"
      ],
      "id": "khtCetXj45JN",
      "execution_count": null,
      "outputs": [
        {
          "output_type": "stream",
          "name": "stdout",
          "text": [
            "4/4 [==============================] - 0s 13ms/step - loss: 1.1342 - accuracy: 0.7667\n",
            "Test Loss 1.1341583728790283\n",
            "Test Accuracy 0.7666666507720947\n"
          ]
        }
      ]
    },
    {
      "cell_type": "code",
      "metadata": {
        "id": "wKjmbj0Pz13W"
      },
      "source": [
        "model.save(\"/content/drive/MyDrive/HW02/HW/TrainedModel36.h5\")"
      ],
      "id": "wKjmbj0Pz13W",
      "execution_count": null,
      "outputs": []
    },
    {
      "cell_type": "code",
      "metadata": {
        "id": "F35d2CPmz_kU"
      },
      "source": [
        "model = tf.keras.Sequential([\n",
        "    tf.keras.layers.Dense(4096, activation='relu'),\n",
        "    tf.keras.layers.Dropout(0.65),\n",
        "    tf.keras.layers.Dense(4096, activation='relu'),\n",
        "    tf.keras.layers.Dropout(0.65),\n",
        "    tf.keras.layers.Dense(4096, activation='relu'),\n",
        "    tf.keras.layers.Dense(6)\n",
        "])\n"
      ],
      "id": "F35d2CPmz_kU",
      "execution_count": null,
      "outputs": []
    },
    {
      "cell_type": "code",
      "metadata": {
        "id": "vFLIyRSj0KXh"
      },
      "source": [
        "model.compile(optimizer=tf.keras.optimizers.Adam(learning_rate=0.001),\n",
        "              loss=tf.keras.losses.SparseCategoricalCrossentropy(from_logits=True),\n",
        "              metrics=['accuracy'])"
      ],
      "id": "vFLIyRSj0KXh",
      "execution_count": null,
      "outputs": []
    },
    {
      "cell_type": "code",
      "metadata": {
        "colab": {
          "base_uri": "https://localhost:8080/"
        },
        "id": "BS7n5EIb0O2k",
        "outputId": "fc2ae75e-c607-4f55-9cac-3193190fa7b6"
      },
      "source": [
        "history=model.fit(X_train, y_train, batch_size = 32, epochs = 5)"
      ],
      "id": "BS7n5EIb0O2k",
      "execution_count": null,
      "outputs": [
        {
          "output_type": "stream",
          "name": "stdout",
          "text": [
            "Epoch 1/5\n",
            "34/34 [==============================] - 2s 38ms/step - loss: 20.9312 - accuracy: 0.3815\n",
            "Epoch 2/5\n",
            "34/34 [==============================] - 1s 38ms/step - loss: 2.9699 - accuracy: 0.6037\n",
            "Epoch 3/5\n",
            "34/34 [==============================] - 1s 38ms/step - loss: 1.6962 - accuracy: 0.6722\n",
            "Epoch 4/5\n",
            "34/34 [==============================] - 1s 38ms/step - loss: 1.4879 - accuracy: 0.7324\n",
            "Epoch 5/5\n",
            "34/34 [==============================] - 1s 38ms/step - loss: 1.0307 - accuracy: 0.7602\n"
          ]
        }
      ]
    },
    {
      "cell_type": "code",
      "metadata": {
        "colab": {
          "base_uri": "https://localhost:8080/"
        },
        "id": "SLssg-af0Rwg",
        "outputId": "e94e4961-bf07-4844-df8b-d5791ce15df3"
      },
      "source": [
        "result = model.evaluate(X_test, y_test)\n",
        "print(\"Test Loss\", result[0])\n",
        "print(\"Test Accuracy\", result[1])"
      ],
      "id": "SLssg-af0Rwg",
      "execution_count": null,
      "outputs": [
        {
          "output_type": "stream",
          "name": "stdout",
          "text": [
            "4/4 [==============================] - 0s 13ms/step - loss: 0.6159 - accuracy: 0.7333\n",
            "Test Loss 0.6159108281135559\n",
            "Test Accuracy 0.7333333492279053\n"
          ]
        }
      ]
    },
    {
      "cell_type": "code",
      "metadata": {
        "id": "kk6esrS_0WUv"
      },
      "source": [
        "model.save(\"/content/drive/MyDrive/HW02/HW/TrainedModel37.h5\")"
      ],
      "id": "kk6esrS_0WUv",
      "execution_count": null,
      "outputs": []
    },
    {
      "cell_type": "markdown",
      "metadata": {
        "id": "AeVV4HCe2Py2"
      },
      "source": [
        "با تغییر هایپرپارامترها سعی در پیداکردن مقادیری شدیم که بیش برازش را از بین ببریم و دقت را در هر دو برای هر ایپوک به یک حد افزایش یابد "
      ],
      "id": "AeVV4HCe2Py2"
    },
    {
      "cell_type": "markdown",
      "metadata": {
        "id": "y_HlDTRYAK8x"
      },
      "source": [
        "ابرپارامترهایی که باید برای آن مقدار تعیین نمود :"
      ],
      "id": "y_HlDTRYAK8x"
    },
    {
      "cell_type": "markdown",
      "metadata": {
        "id": "J1oELzIEALJe"
      },
      "source": [
        "ساختار شبکه یعنی تعداد و اندازه لایه ها"
      ],
      "id": "J1oELzIEALJe"
    },
    {
      "cell_type": "markdown",
      "metadata": {
        "id": "QxbJ00z_ALN2"
      },
      "source": [
        "نرخ یادگیری ، چگونگی کاهش آن و قاعده به روزرسانی"
      ],
      "id": "QxbJ00z_ALN2"
    },
    {
      "cell_type": "markdown",
      "metadata": {
        "id": "kHE3O5z2AbXU"
      },
      "source": [
        "چگونگی تنظیم و شدت تنظیم"
      ],
      "id": "kHE3O5z2AbXU"
    },
    {
      "cell_type": "markdown",
      "metadata": {
        "id": "0MHqvYsDAoN3"
      },
      "source": [
        "با تغییر این پارامترها و پیدا کردن بهترین انها برای داده هایی که داریم می توانیم به بهترین مدل دست پیدا کنیم"
      ],
      "id": "0MHqvYsDAoN3"
    },
    {
      "cell_type": "markdown",
      "metadata": {
        "id": "p6L7deJvDfr2"
      },
      "source": [
        "نکته:در اینجا دیدیم اگر از بچ نرم استفاده کنیم میتوان نرخ یادگیری بزرگ هم در نظر بگیریم"
      ],
      "id": "p6L7deJvDfr2"
    },
    {
      "cell_type": "markdown",
      "metadata": {
        "id": "lsOLSoygA-ZC"
      },
      "source": [
        "برای تعیین این مقادیر درست کاری که باید حتما انجام دهیم و از خروجی های بالا ما هم انجام دادیم این است که در طول آموزش مقدار تابع لاس را رسم کنیم و لاسی خوب است که اوایل با شیب زیادی کم میشود و هر چه میگذرد یواش یواش کم میشود "
      ],
      "id": "lsOLSoygA-ZC"
    },
    {
      "cell_type": "markdown",
      "metadata": {
        "id": "5u-B3LNrCZWg"
      },
      "source": [
        "در اینجا سه مدل ساختیم که دقت مدل در داده اموزشی و تست اختلاف چندانی نداشتند و هر دو خوب بودند و اگر ادامه بدهیم هر دو بیشتر میشوند بنابراین باید ایپوک های بیشتری را انجام بدهیم می توان لایه و وزن را زیاد کرد اما به دلیل وقت کم ادامه ندادیم برای تحویل حضوری خروجی مجدد میگیرم و ارائه میدهم"
      ],
      "id": "5u-B3LNrCZWg"
    },
    {
      "cell_type": "markdown",
      "metadata": {
        "id": "A0LK0CIwDx8N"
      },
      "source": [
        "پایانی:مدل بیش برازش شده خود را یا باید داده جدید اضافه کنیم اگر نمیشد این مدل چون خو مجمعه اموزشی را به دلیل پیچیدگی زیاد مدل خیلی خوب یاد گرفته است و در ایپوک کم در مدل اموزشی به دقت 100 رسیدیم ولی داده های مجموعه تست اصلا خوب پیش بینی نمیشود یعنی در هر تکرار خیلی افزایش چندانی نداریم پس هر چه شبکه بزرگتر و قوی تر باشد به شبکه های قدرتمند تری نیاز داریم و برای تنظیم ان از دراپ اوت و موارد دیگر استفاده میکنیم."
      ],
      "id": "A0LK0CIwDx8N"
    },
    {
      "cell_type": "code",
      "metadata": {
        "id": "6Pb8bHVE1GgS"
      },
      "source": [
        "from keras.models import load_model\n",
        "loaded_model = load_model(\"/content/drive/MyDrive/HW02/HW/TrainedModel30.h5\")"
      ],
      "id": "6Pb8bHVE1GgS",
      "execution_count": 135,
      "outputs": []
    },
    {
      "cell_type": "code",
      "metadata": {
        "id": "77I8Z7Og2kdZ",
        "colab": {
          "base_uri": "https://localhost:8080/"
        },
        "outputId": "66b68de5-bc0e-44c5-8f7d-058e7bdd0a7b"
      },
      "source": [
        "from sklearn.metrics import classification_report\n",
        "\n",
        "y_pred = loaded_model.predict(X_test, batch_size=32, verbose=1)\n",
        "y_pred_bool = np.argmax(y_pred, axis=1)\n",
        "\n",
        "print(classification_report(y_test, y_pred_bool))"
      ],
      "id": "77I8Z7Og2kdZ",
      "execution_count": 136,
      "outputs": [
        {
          "output_type": "stream",
          "name": "stdout",
          "text": [
            "4/4 [==============================] - 0s 10ms/step\n",
            "              precision    recall  f1-score   support\n",
            "\n",
            "         0.0       0.71      0.88      0.79        17\n",
            "         1.0       0.70      0.82      0.76        17\n",
            "         2.0       0.58      0.71      0.64        21\n",
            "         3.0       0.89      0.74      0.81        23\n",
            "         4.0       0.88      0.65      0.75        23\n",
            "         5.0       0.94      0.84      0.89        19\n",
            "\n",
            "    accuracy                           0.77       120\n",
            "   macro avg       0.78      0.78      0.77       120\n",
            "weighted avg       0.79      0.77      0.77       120\n",
            "\n"
          ]
        }
      ]
    },
    {
      "cell_type": "code",
      "metadata": {
        "colab": {
          "base_uri": "https://localhost:8080/"
        },
        "id": "QlVTeDwR2tLP",
        "outputId": "39050a7a-57c5-416c-9470-2428230b336e"
      },
      "source": [
        "from sklearn.metrics import classification_report\n",
        "\n",
        "y_pred = model.predict(X_test, batch_size=32, verbose=1)\n",
        "y_pred_bool = np.argmax(y_pred, axis=1)\n",
        "\n",
        "print(classification_report(y_test, y_pred_bool))"
      ],
      "id": "QlVTeDwR2tLP",
      "execution_count": null,
      "outputs": [
        {
          "output_type": "stream",
          "name": "stdout",
          "text": [
            "4/4 [==============================] - 0s 10ms/step\n",
            "              precision    recall  f1-score   support\n",
            "\n",
            "         0.0       0.85      0.65      0.73        17\n",
            "         1.0       1.00      0.76      0.87        17\n",
            "         2.0       0.57      1.00      0.72        21\n",
            "         3.0       0.88      0.61      0.72        23\n",
            "         4.0       0.56      0.65      0.60        23\n",
            "         5.0       1.00      0.74      0.85        19\n",
            "\n",
            "    accuracy                           0.73       120\n",
            "   macro avg       0.81      0.73      0.75       120\n",
            "weighted avg       0.79      0.73      0.74       120\n",
            "\n"
          ]
        }
      ]
    },
    {
      "cell_type": "markdown",
      "metadata": {
        "id": "NMaCzxQK3wGY"
      },
      "source": [
        "در این قسمت از ما خواسته شده 5 مقدار برای نرخ یادگیری قرار دهیم و گزارش دهیم"
      ],
      "id": "NMaCzxQK3wGY"
    },
    {
      "cell_type": "markdown",
      "metadata": {
        "id": "h7kw4hN_3_IG"
      },
      "source": [
        "learn_rate = [0.00001,0.0001, 0.001, 0.01, 0.1]"
      ],
      "id": "h7kw4hN_3_IG"
    },
    {
      "cell_type": "markdown",
      "metadata": {
        "id": "ob0JpVUT4a5G"
      },
      "source": [
        "در اینجا فهمیدیم هر چه بیشتر بگذاریم قدم های تابع لاس ما زیاد میشود و اگر خیلیل بیش از حد باشد از جواب بهینه دور میشویم اگر عدد را یک بگذاریم بینهایت میشود "
      ],
      "id": "ob0JpVUT4a5G"
    },
    {
      "cell_type": "markdown",
      "metadata": {
        "id": "VF-0_i-b4xYX"
      },
      "source": [
        "عدد باز خیلی کوچکتر باشد خیلی لاس کم کاهش میابد و خیلی دیر دقت بهتر میشود "
      ],
      "id": "VF-0_i-b4xYX"
    },
    {
      "cell_type": "markdown",
      "metadata": {
        "id": "GSX2ODsR8yA8"
      },
      "source": [
        "به طور کلی از این بخش اینها را فهمیدیم:\n",
        "نرخ یادگیری کم: در نرخ یادگیری کم در هر تکرار چون کمتر پایین میرویم شیب کاهش کمتر میشود یعنی در نهایت ممکن است به نقطه بهینه برسیم ولی بعد از تکرار های خیلی زیاد"
      ],
      "id": "GSX2ODsR8yA8"
    },
    {
      "cell_type": "markdown",
      "metadata": {
        "id": "z8RK_Q188yEd"
      },
      "source": [
        "نرخ یادگیری زیاد: اگر زیاد در نظر بگیریم اوایل یک شیب خیلی خوبی داریم ولی یک جایی میرسد که خیلی زود  همگرا میشود و در یک بهینه محلی بد گیر میکند. "
      ],
      "id": "z8RK_Q188yEd"
    },
    {
      "cell_type": "markdown",
      "metadata": {
        "id": "R0NbCiB88yIB"
      },
      "source": [
        "\n",
        "نرخ یادگیری خیلی زیاد:اگر خیلی زیاد باشد نه تنها الگوریتم کم نمیشود و به سمت بهینه حرکت نمیکند بلکه دور میشویم و در هر تکرار مقدار لاس ما هی بیشتر و بیشتر می شود."
      ],
      "id": "R0NbCiB88yIB"
    },
    {
      "cell_type": "markdown",
      "metadata": {
        "id": "-SCHDltZ8yLZ"
      },
      "source": [
        "برای تعیین درست نرخ یادگیری در مقالات از یک استراتژی به اسم استراتژی درشت به ریز استفاده میشود"
      ],
      "id": "-SCHDltZ8yLZ"
    },
    {
      "cell_type": "markdown",
      "metadata": {
        "id": "5SgTGWak8yON"
      },
      "source": [
        "ببه این صورت است که اول شروع با یک بازه بزرگ جستجو و سپس محدود کردن این بازه به صورت مکرر است "
      ],
      "id": "5SgTGWak8yON"
    },
    {
      "cell_type": "markdown",
      "metadata": {
        "id": "CMrWoopD8yQv"
      },
      "source": [
        "یعنی تعداد ایپوک یا همان تکرار را کم در نظر ببگیریم تا بتوانیم یک مقدار تقریبی برای نرخ یادگیری به دست آوریم بعد که حدودی پیدا کردیم مقدار ایپوک را بیشتر میکنیم و جستجوی دقیق تری را به دست می آوریم."
      ],
      "id": "CMrWoopD8yQv"
    },
    {
      "cell_type": "markdown",
      "metadata": {
        "id": "cZHSIv3C_uiw"
      },
      "source": [
        ""
      ],
      "id": "cZHSIv3C_uiw"
    },
    {
      "cell_type": "code",
      "metadata": {
        "id": "_qmduFGa3F8c"
      },
      "source": [
        "model = tf.keras.Sequential([\n",
        "    tf.keras.layers.Dense(10, activation='relu'),\n",
        "    tf.keras.layers.Dense(6)\n",
        "])\n"
      ],
      "id": "_qmduFGa3F8c",
      "execution_count": 54,
      "outputs": []
    },
    {
      "cell_type": "code",
      "metadata": {
        "id": "HI4gDy_95Pxm"
      },
      "source": [
        "model.compile(optimizer=tf.keras.optimizers.SGD(learning_rate=0.00001),\n",
        "              loss=tf.keras.losses.SparseCategoricalCrossentropy(from_logits=True),\n",
        "              metrics=['accuracy'])"
      ],
      "id": "HI4gDy_95Pxm",
      "execution_count": 55,
      "outputs": []
    },
    {
      "cell_type": "code",
      "metadata": {
        "colab": {
          "base_uri": "https://localhost:8080/"
        },
        "id": "inORD3Oj5auD",
        "outputId": "700d4a4c-e47c-42ab-effb-e74e7ef4c5ca"
      },
      "source": [
        "history=model.fit(X_train, y_train, epochs = 10)"
      ],
      "id": "inORD3Oj5auD",
      "execution_count": 56,
      "outputs": [
        {
          "output_type": "stream",
          "name": "stdout",
          "text": [
            "Epoch 1/10\n",
            "34/34 [==============================] - 0s 4ms/step - loss: 2.0847 - accuracy: 0.1944\n",
            "Epoch 2/10\n",
            "34/34 [==============================] - 0s 4ms/step - loss: 2.0639 - accuracy: 0.1926\n",
            "Epoch 3/10\n",
            "34/34 [==============================] - 0s 4ms/step - loss: 2.0441 - accuracy: 0.1944\n",
            "Epoch 4/10\n",
            "34/34 [==============================] - 0s 4ms/step - loss: 2.0251 - accuracy: 0.1991\n",
            "Epoch 5/10\n",
            "34/34 [==============================] - 0s 4ms/step - loss: 2.0072 - accuracy: 0.2009\n",
            "Epoch 6/10\n",
            "34/34 [==============================] - 0s 4ms/step - loss: 1.9898 - accuracy: 0.2074\n",
            "Epoch 7/10\n",
            "34/34 [==============================] - 0s 4ms/step - loss: 1.9734 - accuracy: 0.2102\n",
            "Epoch 8/10\n",
            "34/34 [==============================] - 0s 4ms/step - loss: 1.9576 - accuracy: 0.2093\n",
            "Epoch 9/10\n",
            "34/34 [==============================] - 0s 4ms/step - loss: 1.9424 - accuracy: 0.2139\n",
            "Epoch 10/10\n",
            "34/34 [==============================] - 0s 4ms/step - loss: 1.9277 - accuracy: 0.2148\n"
          ]
        }
      ]
    },
    {
      "cell_type": "markdown",
      "metadata": {
        "id": "ydrIbaLa5yh6"
      },
      "source": [
        "همانطور که میبینید مقدار تابع لاس خیلی کم تغییر میکند و برای جواب بهینه به تعداد تکرار بیشتر نیاز است"
      ],
      "id": "ydrIbaLa5yh6"
    },
    {
      "cell_type": "code",
      "metadata": {
        "colab": {
          "base_uri": "https://localhost:8080/",
          "height": 572
        },
        "id": "bLedSc7bJug6",
        "outputId": "e38dc86a-f997-4018-b684-dbf92e9c12ba"
      },
      "source": [
        "\n",
        "plt.plot(history.history['accuracy'])\n",
        "#plt.plot(history.history['val_accuracy'])\n",
        "plt.title('model accuracy')\n",
        "plt.ylabel('accuracy')\n",
        "plt.xlabel('epoch')\n",
        "plt.legend(['train', 'test'], loc='lower right')\n",
        "plt.show()\n",
        "\n",
        "plt.plot(history.history['loss'])\n",
        "#plt.plot(history.history['val_loss'])\n",
        "plt.title('model loss')\n",
        "plt.ylabel('loss')\n",
        "plt.xlabel('epoch')\n",
        "plt.legend(['train', 'test'], loc='upper right')\n",
        "plt.show()"
      ],
      "id": "bLedSc7bJug6",
      "execution_count": 57,
      "outputs": [
        {
          "output_type": "display_data",
          "data": {
            "image/png": "[encoded data removed]",
            "text/plain": [
              "<Figure size 432x288 with 1 Axes>"
            ]
          },
          "metadata": {
            "needs_background": "light"
          }
        },
        {
          "output_type": "display_data",
          "data": {
            "image/png": "[encoded data removed]",
            "text/plain": [
              "<Figure size 432x288 with 1 Axes>"
            ]
          },
          "metadata": {
            "needs_background": "light"
          }
        }
      ]
    },
    {
      "cell_type": "code",
      "metadata": {
        "id": "D2J-7l8g5ioA"
      },
      "source": [
        "model = tf.keras.Sequential([\n",
        "    tf.keras.layers.Dense(10, activation='relu'),\n",
        "    tf.keras.layers.Dense(6)\n",
        "])\n"
      ],
      "id": "D2J-7l8g5ioA",
      "execution_count": 58,
      "outputs": []
    },
    {
      "cell_type": "code",
      "metadata": {
        "id": "WIljGWISJLWC"
      },
      "source": [
        "model.compile(optimizer=tf.keras.optimizers.SGD(learning_rate=0.0001),\n",
        "              loss=tf.keras.losses.SparseCategoricalCrossentropy(from_logits=True),\n",
        "              metrics=['accuracy'])"
      ],
      "id": "WIljGWISJLWC",
      "execution_count": 59,
      "outputs": []
    },
    {
      "cell_type": "code",
      "metadata": {
        "colab": {
          "base_uri": "https://localhost:8080/"
        },
        "id": "4HPrCNkQJ746",
        "outputId": "ca6b95e4-d60b-482a-b958-025b5888bbb6"
      },
      "source": [
        "history=model.fit(X_train, y_train, epochs = 10)"
      ],
      "id": "4HPrCNkQJ746",
      "execution_count": 60,
      "outputs": [
        {
          "output_type": "stream",
          "name": "stdout",
          "text": [
            "Epoch 1/10\n",
            "34/34 [==============================] - 0s 4ms/step - loss: 1.9697 - accuracy: 0.2037\n",
            "Epoch 2/10\n",
            "34/34 [==============================] - 0s 5ms/step - loss: 1.8272 - accuracy: 0.2519\n",
            "Epoch 3/10\n",
            "34/34 [==============================] - 0s 4ms/step - loss: 1.7193 - accuracy: 0.2861\n",
            "Epoch 4/10\n",
            "34/34 [==============================] - 0s 4ms/step - loss: 1.6341 - accuracy: 0.3315\n",
            "Epoch 5/10\n",
            "34/34 [==============================] - 0s 4ms/step - loss: 1.5644 - accuracy: 0.3639\n",
            "Epoch 6/10\n",
            "34/34 [==============================] - 0s 4ms/step - loss: 1.5048 - accuracy: 0.4046\n",
            "Epoch 7/10\n",
            "34/34 [==============================] - 0s 4ms/step - loss: 1.4535 - accuracy: 0.4278\n",
            "Epoch 8/10\n",
            "34/34 [==============================] - 0s 4ms/step - loss: 1.4080 - accuracy: 0.4472\n",
            "Epoch 9/10\n",
            "34/34 [==============================] - 0s 4ms/step - loss: 1.3685 - accuracy: 0.4722\n",
            "Epoch 10/10\n",
            "34/34 [==============================] - 0s 4ms/step - loss: 1.3329 - accuracy: 0.4824\n"
          ]
        }
      ]
    },
    {
      "cell_type": "code",
      "metadata": {
        "colab": {
          "base_uri": "https://localhost:8080/",
          "height": 572
        },
        "id": "ttpnG2eGJ_DV",
        "outputId": "cdae52ef-b1b8-4fe8-e4ce-b39cd43626c6"
      },
      "source": [
        "\n",
        "plt.plot(history.history['accuracy'])\n",
        "#plt.plot(history.history['val_accuracy'])\n",
        "plt.title('model accuracy')\n",
        "plt.ylabel('accuracy')\n",
        "plt.xlabel('epoch')\n",
        "plt.legend(['train', 'test'], loc='lower right')\n",
        "plt.show()\n",
        "\n",
        "plt.plot(history.history['loss'])\n",
        "#plt.plot(history.history['val_loss'])\n",
        "plt.title('model loss')\n",
        "plt.ylabel('loss')\n",
        "plt.xlabel('epoch')\n",
        "plt.legend(['train', 'test'], loc='upper right')\n",
        "plt.show()"
      ],
      "id": "ttpnG2eGJ_DV",
      "execution_count": 61,
      "outputs": [
        {
          "output_type": "display_data",
          "data": {
            "image/png": "[encoded data removed]",
            "text/plain": [
              "<Figure size 432x288 with 1 Axes>"
            ]
          },
          "metadata": {
            "needs_background": "light"
          }
        },
        {
          "output_type": "display_data",
          "data": {
            "image/png": "[encoded data removed]",
            "text/plain": [
              "<Figure size 432x288 with 1 Axes>"
            ]
          },
          "metadata": {
            "needs_background": "light"
          }
        }
      ]
    },
    {
      "cell_type": "code",
      "metadata": {
        "id": "BKduzXGJKpXN"
      },
      "source": [
        "model = tf.keras.Sequential([\n",
        "    tf.keras.layers.Dense(10, activation='relu'),\n",
        "    tf.keras.layers.Dense(6)\n",
        "])"
      ],
      "id": "BKduzXGJKpXN",
      "execution_count": 62,
      "outputs": []
    },
    {
      "cell_type": "code",
      "metadata": {
        "id": "xRPVzWYvKtK-"
      },
      "source": [
        "model.compile(optimizer=tf.keras.optimizers.SGD(learning_rate=0.001),\n",
        "              loss=tf.keras.losses.SparseCategoricalCrossentropy(from_logits=True),\n",
        "              metrics=['accuracy'])"
      ],
      "id": "xRPVzWYvKtK-",
      "execution_count": 63,
      "outputs": []
    },
    {
      "cell_type": "code",
      "metadata": {
        "colab": {
          "base_uri": "https://localhost:8080/"
        },
        "id": "xtQfJJOxKyLd",
        "outputId": "f313bc65-29e7-4672-d638-407b8fdf2f5f"
      },
      "source": [
        "history=model.fit(X_train, y_train, epochs = 10)"
      ],
      "id": "xtQfJJOxKyLd",
      "execution_count": 64,
      "outputs": [
        {
          "output_type": "stream",
          "name": "stdout",
          "text": [
            "Epoch 1/10\n",
            "34/34 [==============================] - 1s 4ms/step - loss: 1.6468 - accuracy: 0.3750\n",
            "Epoch 2/10\n",
            "34/34 [==============================] - 0s 4ms/step - loss: 1.2792 - accuracy: 0.5037\n",
            "Epoch 3/10\n",
            "34/34 [==============================] - 0s 4ms/step - loss: 1.1108 - accuracy: 0.5815\n",
            "Epoch 4/10\n",
            "34/34 [==============================] - 0s 4ms/step - loss: 1.0033 - accuracy: 0.6231\n",
            "Epoch 5/10\n",
            "34/34 [==============================] - 0s 4ms/step - loss: 0.9210 - accuracy: 0.6546\n",
            "Epoch 6/10\n",
            "34/34 [==============================] - 0s 4ms/step - loss: 0.8516 - accuracy: 0.6907\n",
            "Epoch 7/10\n",
            "34/34 [==============================] - 0s 4ms/step - loss: 0.7903 - accuracy: 0.7222\n",
            "Epoch 8/10\n",
            "34/34 [==============================] - 0s 4ms/step - loss: 0.7386 - accuracy: 0.7417\n",
            "Epoch 9/10\n",
            "34/34 [==============================] - 0s 4ms/step - loss: 0.6949 - accuracy: 0.7667\n",
            "Epoch 10/10\n",
            "34/34 [==============================] - 0s 4ms/step - loss: 0.6537 - accuracy: 0.7861\n"
          ]
        }
      ]
    },
    {
      "cell_type": "code",
      "metadata": {
        "colab": {
          "base_uri": "https://localhost:8080/",
          "height": 572
        },
        "id": "ssGrzaiCK2D5",
        "outputId": "8b8584b7-3007-450f-a04b-92d1cdd0b94c"
      },
      "source": [
        "\n",
        "plt.plot(history.history['accuracy'])\n",
        "#plt.plot(history.history['val_accuracy'])\n",
        "plt.title('model accuracy')\n",
        "plt.ylabel('accuracy')\n",
        "plt.xlabel('epoch')\n",
        "plt.legend(['train', 'test'], loc='lower right')\n",
        "plt.show()\n",
        "\n",
        "plt.plot(history.history['loss'])\n",
        "#plt.plot(history.history['val_loss'])\n",
        "plt.title('model loss')\n",
        "plt.ylabel('loss')\n",
        "plt.xlabel('epoch')\n",
        "plt.legend(['train', 'test'], loc='upper right')\n",
        "plt.show()"
      ],
      "id": "ssGrzaiCK2D5",
      "execution_count": 65,
      "outputs": [
        {
          "output_type": "display_data",
          "data": {
            "image/png": "[encoded data removed]",
            "text/plain": [
              "<Figure size 432x288 with 1 Axes>"
            ]
          },
          "metadata": {
            "needs_background": "light"
          }
        },
        {
          "output_type": "display_data",
          "data": {
            "image/png": "[encoded data removed]",
            "text/plain": [
              "<Figure size 432x288 with 1 Axes>"
            ]
          },
          "metadata": {
            "needs_background": "light"
          }
        }
      ]
    },
    {
      "cell_type": "code",
      "metadata": {
        "id": "wN2Ni9eDK-s5"
      },
      "source": [
        "model = tf.keras.Sequential([\n",
        "    tf.keras.layers.Dense(10, activation='relu'),\n",
        "    tf.keras.layers.Dense(6)\n",
        "])"
      ],
      "id": "wN2Ni9eDK-s5",
      "execution_count": 66,
      "outputs": []
    },
    {
      "cell_type": "code",
      "metadata": {
        "id": "12W0qGKiLDmb"
      },
      "source": [
        "model.compile(optimizer=tf.keras.optimizers.SGD(learning_rate=0.01),\n",
        "              loss=tf.keras.losses.SparseCategoricalCrossentropy(from_logits=True),\n",
        "              metrics=['accuracy'])"
      ],
      "id": "12W0qGKiLDmb",
      "execution_count": 67,
      "outputs": []
    },
    {
      "cell_type": "code",
      "metadata": {
        "colab": {
          "base_uri": "https://localhost:8080/"
        },
        "id": "VaU68VuZLIEJ",
        "outputId": "881c5c5e-b8d9-456d-891c-14511a9f00ed"
      },
      "source": [
        "history=model.fit(X_train, y_train, epochs = 10)"
      ],
      "id": "VaU68VuZLIEJ",
      "execution_count": 68,
      "outputs": [
        {
          "output_type": "stream",
          "name": "stdout",
          "text": [
            "Epoch 1/10\n",
            "34/34 [==============================] - 0s 4ms/step - loss: 1.2434 - accuracy: 0.5769\n",
            "Epoch 2/10\n",
            "34/34 [==============================] - 0s 4ms/step - loss: 0.5301 - accuracy: 0.8361\n",
            "Epoch 3/10\n",
            "34/34 [==============================] - 0s 4ms/step - loss: 0.3337 - accuracy: 0.9037\n",
            "Epoch 4/10\n",
            "34/34 [==============================] - 0s 4ms/step - loss: 0.2470 - accuracy: 0.9296\n",
            "Epoch 5/10\n",
            "34/34 [==============================] - 0s 5ms/step - loss: 0.1821 - accuracy: 0.9509\n",
            "Epoch 6/10\n",
            "34/34 [==============================] - 0s 4ms/step - loss: 0.1462 - accuracy: 0.9657\n",
            "Epoch 7/10\n",
            "34/34 [==============================] - 0s 4ms/step - loss: 0.1280 - accuracy: 0.9713\n",
            "Epoch 8/10\n",
            "34/34 [==============================] - 0s 4ms/step - loss: 0.1067 - accuracy: 0.9778\n",
            "Epoch 9/10\n",
            "34/34 [==============================] - 0s 4ms/step - loss: 0.0952 - accuracy: 0.9806\n",
            "Epoch 10/10\n",
            "34/34 [==============================] - 0s 4ms/step - loss: 0.0784 - accuracy: 0.9870\n"
          ]
        }
      ]
    },
    {
      "cell_type": "code",
      "metadata": {
        "colab": {
          "base_uri": "https://localhost:8080/",
          "height": 572
        },
        "id": "SzcC8-uhLMwA",
        "outputId": "a86acf5a-0bc7-4096-de9f-132e12f6f066"
      },
      "source": [
        "\n",
        "plt.plot(history.history['accuracy'])\n",
        "#plt.plot(history.history['val_accuracy'])\n",
        "plt.title('model accuracy')\n",
        "plt.ylabel('accuracy')\n",
        "plt.xlabel('epoch')\n",
        "plt.legend(['train', 'test'], loc='lower right')\n",
        "plt.show()\n",
        "\n",
        "plt.plot(history.history['loss'])\n",
        "#plt.plot(history.history['val_loss'])\n",
        "plt.title('model loss')\n",
        "plt.ylabel('loss')\n",
        "plt.xlabel('epoch')\n",
        "plt.legend(['train', 'test'], loc='upper right')\n",
        "plt.show()"
      ],
      "id": "SzcC8-uhLMwA",
      "execution_count": 69,
      "outputs": [
        {
          "output_type": "display_data",
          "data": {
            "image/png": "[encoded data removed]",
            "text/plain": [
              "<Figure size 432x288 with 1 Axes>"
            ]
          },
          "metadata": {
            "needs_background": "light"
          }
        },
        {
          "output_type": "display_data",
          "data": {
            "image/png": "[encoded data removed]",
            "text/plain": [
              "<Figure size 432x288 with 1 Axes>"
            ]
          },
          "metadata": {
            "needs_background": "light"
          }
        }
      ]
    },
    {
      "cell_type": "markdown",
      "metadata": {
        "id": "ZCLqZAGGLSJk"
      },
      "source": [
        "مقادیری که تا اینجا انتخاب کردم سعی کردم این همگرایی را بهترین نشان دهید میبینید تا اینجا مقادیر نخ یادگیری کم بود و در این مورد همان مورد مورد انتظار ما برای کاهش تابع لاس بود اول با یک شیب زیاد و بعد ملایم "
      ],
      "id": "ZCLqZAGGLSJk"
    },
    {
      "cell_type": "code",
      "metadata": {
        "id": "rhbV90uALQiw"
      },
      "source": [
        "model = tf.keras.Sequential([\n",
        "    tf.keras.layers.Dense(10, activation='relu'),\n",
        "    tf.keras.layers.Dense(6)\n",
        "])"
      ],
      "id": "rhbV90uALQiw",
      "execution_count": 70,
      "outputs": []
    },
    {
      "cell_type": "code",
      "metadata": {
        "id": "rc8dsBYfLqw5"
      },
      "source": [
        "model.compile(optimizer=tf.keras.optimizers.SGD(learning_rate=0.1),\n",
        "              loss=tf.keras.losses.SparseCategoricalCrossentropy(from_logits=True),\n",
        "              metrics=['accuracy'])"
      ],
      "id": "rc8dsBYfLqw5",
      "execution_count": 71,
      "outputs": []
    },
    {
      "cell_type": "code",
      "metadata": {
        "colab": {
          "base_uri": "https://localhost:8080/"
        },
        "id": "ddmccdx7Ludo",
        "outputId": "732061b2-e5a8-4b07-bee4-3ce333bcf605"
      },
      "source": [
        "history=model.fit(X_train, y_train, epochs = 10)"
      ],
      "id": "ddmccdx7Ludo",
      "execution_count": 72,
      "outputs": [
        {
          "output_type": "stream",
          "name": "stdout",
          "text": [
            "Epoch 1/10\n",
            "34/34 [==============================] - 0s 4ms/step - loss: 28.7852 - accuracy: 0.3352\n",
            "Epoch 2/10\n",
            "34/34 [==============================] - 0s 4ms/step - loss: 129.8577 - accuracy: 0.4222\n",
            "Epoch 3/10\n",
            "34/34 [==============================] - 0s 4ms/step - loss: 2286.4536 - accuracy: 0.3787\n",
            "Epoch 4/10\n",
            "34/34 [==============================] - 0s 4ms/step - loss: 9290.5850 - accuracy: 0.4222\n",
            "Epoch 5/10\n",
            "34/34 [==============================] - 0s 4ms/step - loss: 149869.5938 - accuracy: 0.3806\n",
            "Epoch 6/10\n",
            "34/34 [==============================] - 0s 4ms/step - loss: 2851692.5000 - accuracy: 0.3546\n",
            "Epoch 7/10\n",
            "34/34 [==============================] - 0s 4ms/step - loss: 88605680.0000 - accuracy: 0.3750\n",
            "Epoch 8/10\n",
            "34/34 [==============================] - 0s 4ms/step - loss: 197430624.0000 - accuracy: 0.4556\n",
            "Epoch 9/10\n",
            "34/34 [==============================] - 0s 4ms/step - loss: 650576448.0000 - accuracy: 0.5435\n",
            "Epoch 10/10\n",
            "34/34 [==============================] - 0s 4ms/step - loss: 1872856192.0000 - accuracy: 0.5204\n"
          ]
        }
      ]
    },
    {
      "cell_type": "code",
      "metadata": {
        "colab": {
          "base_uri": "https://localhost:8080/",
          "height": 572
        },
        "id": "xyGY2ZaqMAd5",
        "outputId": "01bfe756-7731-4f82-8b96-9437ffa55cd1"
      },
      "source": [
        "\n",
        "plt.plot(history.history['accuracy'])\n",
        "#plt.plot(history.history['val_accuracy'])\n",
        "plt.title('model accuracy')\n",
        "plt.ylabel('accuracy')\n",
        "plt.xlabel('epoch')\n",
        "plt.legend(['train', 'test'], loc='lower right')\n",
        "plt.show()\n",
        "\n",
        "plt.plot(history.history['loss'])\n",
        "#plt.plot(history.history['val_loss'])\n",
        "plt.title('model loss')\n",
        "plt.ylabel('loss')\n",
        "plt.xlabel('epoch')\n",
        "plt.legend(['train', 'test'], loc='upper right')\n",
        "plt.show()"
      ],
      "id": "xyGY2ZaqMAd5",
      "execution_count": 73,
      "outputs": [
        {
          "output_type": "display_data",
          "data": {
            "image/png": "[encoded data removed]",
            "text/plain": [
              "<Figure size 432x288 with 1 Axes>"
            ]
          },
          "metadata": {
            "needs_background": "light"
          }
        },
        {
          "output_type": "display_data",
          "data": {
            "image/png": "[encoded data removed]",
            "text/plain": [
              "<Figure size 432x288 with 1 Axes>"
            ]
          },
          "metadata": {
            "needs_background": "light"
          }
        }
      ]
    },
    {
      "cell_type": "markdown",
      "metadata": {
        "id": "0FFKr2pbL2wg"
      },
      "source": [
        "میبینید همانطور که گفتیم نرخ یادگیری خیلی زیاد نه تنها باعث همگرایی نشد بلکه تابع لاس ما خیلی زیاد شد"
      ],
      "id": "0FFKr2pbL2wg"
    },
    {
      "cell_type": "code",
      "metadata": {
        "id": "zXUPBwsULyRL"
      },
      "source": [
        ""
      ],
      "id": "zXUPBwsULyRL",
      "execution_count": null,
      "outputs": []
    },
    {
      "cell_type": "markdown",
      "metadata": {
        "id": "4_HxUKkYMLQm"
      },
      "source": [
        "در این قسمت از ما خواسته شده 5 مقدار برای مینی بچ در نظر بگیریم و همگرایی را تحقیق کنیم "
      ],
      "id": "4_HxUKkYMLQm"
    },
    {
      "cell_type": "markdown",
      "metadata": {
        "id": "z9H7FPtqNP_V"
      },
      "source": [
        "دیدیم که خیلی خیلی باعث بهبود میشود و باعث میشود اموزش دادن مدل اموزشی راحت تر باشد و سریع تر همچنین مقادیر زیاد نرخ یادگیری را کنترل کند"
      ],
      "id": "z9H7FPtqNP_V"
    },
    {
      "cell_type": "markdown",
      "metadata": {
        "id": "b0O6Uyi4NQBw"
      },
      "source": [
        "به طور کلی دلیل استفاده از ان این است که هر قدم ما خیلی طول میکشد به همین خاطر می ایند مجموعه اموزشی را تیکه تیکه میکنند "
      ],
      "id": "b0O6Uyi4NQBw"
    },
    {
      "cell_type": "markdown",
      "metadata": {
        "id": "wNbs1vKfNQFj"
      },
      "source": [
        "انتخاب ان هم این است که به حجم جی پی یو بستگی دارد."
      ],
      "id": "wNbs1vKfNQFj"
    },
    {
      "cell_type": "markdown",
      "metadata": {
        "id": "6qErUmolNQJu"
      },
      "source": [
        "batch_size = [ 1, 5, 32, 64, 128 , 200]"
      ],
      "id": "6qErUmolNQJu"
    },
    {
      "cell_type": "markdown",
      "metadata": {
        "id": "OOoiD9mPNQMG"
      },
      "source": [
        "برای این مقادیر همگرایی را بررسی میکنیم"
      ],
      "id": "OOoiD9mPNQMG"
    },
    {
      "cell_type": "code",
      "metadata": {
        "id": "iwA7jYE0NPEu"
      },
      "source": [
        "model = tf.keras.Sequential([\n",
        "    tf.keras.layers.Dense(10, activation='relu'),\n",
        "    tf.keras.layers.Dense(6)\n",
        "])"
      ],
      "id": "iwA7jYE0NPEu",
      "execution_count": 83,
      "outputs": []
    },
    {
      "cell_type": "code",
      "metadata": {
        "id": "OoRCrqOYQPEQ"
      },
      "source": [
        "model.compile(optimizer='SGD',\n",
        "              loss=tf.keras.losses.SparseCategoricalCrossentropy(from_logits=True),\n",
        "              metrics=['accuracy'])"
      ],
      "id": "OoRCrqOYQPEQ",
      "execution_count": 84,
      "outputs": []
    },
    {
      "cell_type": "code",
      "metadata": {
        "colab": {
          "base_uri": "https://localhost:8080/"
        },
        "id": "9UHluqDMQYDn",
        "outputId": "2724aed1-fbde-4d04-bac6-8a888d592a69"
      },
      "source": [
        "history=model.fit(X_train, y_train, batch_size = 1, epochs = 5)"
      ],
      "id": "9UHluqDMQYDn",
      "execution_count": 85,
      "outputs": [
        {
          "output_type": "stream",
          "name": "stdout",
          "text": [
            "Epoch 1/5\n",
            "1080/1080 [==============================] - 3s 3ms/step - loss: 34357560.0000 - accuracy: 0.2833\n",
            "Epoch 2/5\n",
            "1080/1080 [==============================] - 3s 3ms/step - loss: 21752207615459328.0000 - accuracy: 0.2593\n",
            "Epoch 3/5\n",
            "1080/1080 [==============================] - 3s 3ms/step - loss: 7355525060162727629029376.0000 - accuracy: 0.2694\n",
            "Epoch 4/5\n",
            "1080/1080 [==============================] - 3s 3ms/step - loss: 3557899712998088251003415627300864.0000 - accuracy: 0.2417\n",
            "Epoch 5/5\n",
            "1080/1080 [==============================] - 3s 3ms/step - loss: nan - accuracy: 0.2204\n"
          ]
        }
      ]
    },
    {
      "cell_type": "code",
      "metadata": {
        "colab": {
          "base_uri": "https://localhost:8080/",
          "height": 572
        },
        "id": "AptkfNb7RLPl",
        "outputId": "1af07d56-e36e-4eaa-ebdd-701a9f505f92"
      },
      "source": [
        "\n",
        "plt.plot(history.history['accuracy'])\n",
        "#plt.plot(history.history['val_accuracy'])\n",
        "plt.title('model accuracy')\n",
        "plt.ylabel('accuracy')\n",
        "plt.xlabel('epoch')\n",
        "plt.legend(['train', 'test'], loc='lower right')\n",
        "plt.show()\n",
        "\n",
        "plt.plot(history.history['loss'])\n",
        "#plt.plot(history.history['val_loss'])\n",
        "plt.title('model loss')\n",
        "plt.ylabel('loss')\n",
        "plt.xlabel('epoch')\n",
        "plt.legend(['train', 'test'], loc='upper right')\n",
        "plt.show()"
      ],
      "id": "AptkfNb7RLPl",
      "execution_count": 86,
      "outputs": [
        {
          "output_type": "display_data",
          "data": {
            "image/png": "[encoded data removed]",
            "text/plain": [
              "<Figure size 432x288 with 1 Axes>"
            ]
          },
          "metadata": {
            "needs_background": "light"
          }
        },
        {
          "output_type": "display_data",
          "data": {
            "image/png": "[encoded data removed]",
            "text/plain": [
              "<Figure size 432x288 with 1 Axes>"
            ]
          },
          "metadata": {
            "needs_background": "light"
          }
        }
      ]
    },
    {
      "cell_type": "code",
      "metadata": {
        "id": "cVg9YEpuSmLu"
      },
      "source": [
        "model = tf.keras.Sequential([\n",
        "    tf.keras.layers.Dense(10, activation='relu'),\n",
        "    tf.keras.layers.Dense(6)\n",
        "])"
      ],
      "id": "cVg9YEpuSmLu",
      "execution_count": 111,
      "outputs": []
    },
    {
      "cell_type": "code",
      "metadata": {
        "id": "knNUJUpsSnzZ"
      },
      "source": [
        "model.compile(optimizer='SGD',\n",
        "              loss=tf.keras.losses.SparseCategoricalCrossentropy(from_logits=True),\n",
        "              metrics=['accuracy'])"
      ],
      "id": "knNUJUpsSnzZ",
      "execution_count": 112,
      "outputs": []
    },
    {
      "cell_type": "code",
      "metadata": {
        "colab": {
          "base_uri": "https://localhost:8080/"
        },
        "id": "o23vBHk_Sn_b",
        "outputId": "4cad52e1-3aac-44b0-fff7-92345afd932a"
      },
      "source": [
        "history=model.fit(X_train, y_train, batch_size = 5, epochs = 5)"
      ],
      "id": "o23vBHk_Sn_b",
      "execution_count": 113,
      "outputs": [
        {
          "output_type": "stream",
          "name": "stdout",
          "text": [
            "Epoch 1/5\n",
            "216/216 [==============================] - 1s 3ms/step - loss: 1.3794 - accuracy: 0.6583\n",
            "Epoch 2/5\n",
            "216/216 [==============================] - 1s 3ms/step - loss: 0.3648 - accuracy: 0.8583\n",
            "Epoch 3/5\n",
            "216/216 [==============================] - 1s 3ms/step - loss: 0.2367 - accuracy: 0.9204\n",
            "Epoch 4/5\n",
            "216/216 [==============================] - 1s 3ms/step - loss: 0.1164 - accuracy: 0.9565\n",
            "Epoch 5/5\n",
            "216/216 [==============================] - 1s 3ms/step - loss: 0.0774 - accuracy: 0.9769\n"
          ]
        }
      ]
    },
    {
      "cell_type": "code",
      "metadata": {
        "colab": {
          "base_uri": "https://localhost:8080/",
          "height": 572
        },
        "id": "UMRzVTn7SoPq",
        "outputId": "9d73eba9-e506-4e3d-f302-ce60dcaf2fb2"
      },
      "source": [
        "\n",
        "plt.plot(history.history['accuracy'])\n",
        "#plt.plot(history.history['val_accuracy'])\n",
        "plt.title('model accuracy')\n",
        "plt.ylabel('accuracy')\n",
        "plt.xlabel('epoch')\n",
        "plt.legend(['train', 'test'], loc='lower right')\n",
        "plt.show()\n",
        "\n",
        "plt.plot(history.history['loss'])\n",
        "#plt.plot(history.history['val_loss'])\n",
        "plt.title('model loss')\n",
        "plt.ylabel('loss')\n",
        "plt.xlabel('epoch')\n",
        "plt.legend(['train', 'test'], loc='upper right')\n",
        "plt.show()"
      ],
      "id": "UMRzVTn7SoPq",
      "execution_count": 114,
      "outputs": [
        {
          "output_type": "display_data",
          "data": {
            "image/png": "[encoded data removed]",
            "text/plain": [
              "<Figure size 432x288 with 1 Axes>"
            ]
          },
          "metadata": {
            "needs_background": "light"
          }
        },
        {
          "output_type": "display_data",
          "data": {
            "image/png": "[encoded data removed]",
            "text/plain": [
              "<Figure size 432x288 with 1 Axes>"
            ]
          },
          "metadata": {
            "needs_background": "light"
          }
        }
      ]
    },
    {
      "cell_type": "code",
      "metadata": {
        "id": "hUnTIDouQrGm"
      },
      "source": [
        "model = tf.keras.Sequential([\n",
        "    tf.keras.layers.Dense(10, activation='relu'),\n",
        "    tf.keras.layers.Dense(6)\n",
        "])"
      ],
      "id": "hUnTIDouQrGm",
      "execution_count": 99,
      "outputs": []
    },
    {
      "cell_type": "code",
      "metadata": {
        "id": "xyEStZxMQ2LW"
      },
      "source": [
        "model.compile(optimizer='SGD',\n",
        "              loss=tf.keras.losses.SparseCategoricalCrossentropy(from_logits=True),\n",
        "              metrics=['accuracy'])"
      ],
      "id": "xyEStZxMQ2LW",
      "execution_count": 100,
      "outputs": []
    },
    {
      "cell_type": "code",
      "metadata": {
        "colab": {
          "base_uri": "https://localhost:8080/"
        },
        "id": "pzHcq1duQ4Pa",
        "outputId": "db16dfa8-e2c8-4db2-a403-b81f749fb54c"
      },
      "source": [
        "history=model.fit(X_train, y_train, batch_size = 32, epochs = 5)"
      ],
      "id": "pzHcq1duQ4Pa",
      "execution_count": 101,
      "outputs": [
        {
          "output_type": "stream",
          "name": "stdout",
          "text": [
            "Epoch 1/5\n",
            "34/34 [==============================] - 0s 4ms/step - loss: 1.1768 - accuracy: 0.5694\n",
            "Epoch 2/5\n",
            "34/34 [==============================] - 0s 4ms/step - loss: 0.4987 - accuracy: 0.8454\n",
            "Epoch 3/5\n",
            "34/34 [==============================] - 0s 4ms/step - loss: 0.3199 - accuracy: 0.9139\n",
            "Epoch 4/5\n",
            "34/34 [==============================] - 0s 5ms/step - loss: 0.2371 - accuracy: 0.9259\n",
            "Epoch 5/5\n",
            "34/34 [==============================] - 0s 4ms/step - loss: 0.1808 - accuracy: 0.9565\n"
          ]
        }
      ]
    },
    {
      "cell_type": "code",
      "metadata": {
        "colab": {
          "base_uri": "https://localhost:8080/",
          "height": 572
        },
        "id": "Du-e6DIKQ6Ql",
        "outputId": "56a2be16-8dab-4d86-b964-3ff475b91a01"
      },
      "source": [
        "\n",
        "plt.plot(history.history['accuracy'])\n",
        "#plt.plot(history.history['val_accuracy'])\n",
        "plt.title('model accuracy')\n",
        "plt.ylabel('accuracy')\n",
        "plt.xlabel('epoch')\n",
        "plt.legend(['train', 'test'], loc='lower right')\n",
        "plt.show()\n",
        "\n",
        "plt.plot(history.history['loss'])\n",
        "#plt.plot(history.history['val_loss'])\n",
        "plt.title('model loss')\n",
        "plt.ylabel('loss')\n",
        "plt.xlabel('epoch')\n",
        "plt.legend(['train', 'test'], loc='upper right')\n",
        "plt.show()"
      ],
      "id": "Du-e6DIKQ6Ql",
      "execution_count": 102,
      "outputs": [
        {
          "output_type": "display_data",
          "data": {
            "image/png": "[encoded data removed]",
            "text/plain": [
              "<Figure size 432x288 with 1 Axes>"
            ]
          },
          "metadata": {
            "needs_background": "light"
          }
        },
        {
          "output_type": "display_data",
          "data": {
            "image/png": "[encoded data removed]",
            "text/plain": [
              "<Figure size 432x288 with 1 Axes>"
            ]
          },
          "metadata": {
            "needs_background": "light"
          }
        }
      ]
    },
    {
      "cell_type": "code",
      "metadata": {
        "id": "DsAy0ugIRVeV"
      },
      "source": [
        "model = tf.keras.Sequential([\n",
        "    tf.keras.layers.Dense(10, activation='relu'),\n",
        "    tf.keras.layers.Dense(6)\n",
        "])"
      ],
      "id": "DsAy0ugIRVeV",
      "execution_count": 103,
      "outputs": []
    },
    {
      "cell_type": "code",
      "metadata": {
        "id": "xlW9hh6qRbNH"
      },
      "source": [
        "model.compile(optimizer='SGD',\n",
        "              loss=tf.keras.losses.SparseCategoricalCrossentropy(from_logits=True),\n",
        "              metrics=['accuracy'])"
      ],
      "id": "xlW9hh6qRbNH",
      "execution_count": 104,
      "outputs": []
    },
    {
      "cell_type": "code",
      "metadata": {
        "colab": {
          "base_uri": "https://localhost:8080/"
        },
        "id": "6pduaXpzReMX",
        "outputId": "5ffb1047-946e-42c7-b9a3-1c8395c532ae"
      },
      "source": [
        "history=model.fit(X_train, y_train, batch_size = 64, epochs = 5)"
      ],
      "id": "6pduaXpzReMX",
      "execution_count": 105,
      "outputs": [
        {
          "output_type": "stream",
          "name": "stdout",
          "text": [
            "Epoch 1/5\n",
            "17/17 [==============================] - 0s 5ms/step - loss: 1.5251 - accuracy: 0.4694\n",
            "Epoch 2/5\n",
            "17/17 [==============================] - 0s 5ms/step - loss: 0.7618 - accuracy: 0.6963\n",
            "Epoch 3/5\n",
            "17/17 [==============================] - 0s 5ms/step - loss: 0.5409 - accuracy: 0.8287\n",
            "Epoch 4/5\n",
            "17/17 [==============================] - 0s 5ms/step - loss: 0.4009 - accuracy: 0.8963\n",
            "Epoch 5/5\n",
            "17/17 [==============================] - 0s 5ms/step - loss: 0.2993 - accuracy: 0.9287\n"
          ]
        }
      ]
    },
    {
      "cell_type": "code",
      "metadata": {
        "colab": {
          "base_uri": "https://localhost:8080/",
          "height": 572
        },
        "id": "9RFxpfmuRiw9",
        "outputId": "d613450f-b77e-4a8e-9905-cb6b5207c8b2"
      },
      "source": [
        "\n",
        "plt.plot(history.history['accuracy'])\n",
        "#plt.plot(history.history['val_accuracy'])\n",
        "plt.title('model accuracy')\n",
        "plt.ylabel('accuracy')\n",
        "plt.xlabel('epoch')\n",
        "plt.legend(['train', 'test'], loc='lower right')\n",
        "plt.show()\n",
        "\n",
        "plt.plot(history.history['loss'])\n",
        "#plt.plot(history.history['val_loss'])\n",
        "plt.title('model loss')\n",
        "plt.ylabel('loss')\n",
        "plt.xlabel('epoch')\n",
        "plt.legend(['train', 'test'], loc='upper right')\n",
        "plt.show()"
      ],
      "id": "9RFxpfmuRiw9",
      "execution_count": 106,
      "outputs": [
        {
          "output_type": "display_data",
          "data": {
            "image/png": "[encoded data removed]",
            "text/plain": [
              "<Figure size 432x288 with 1 Axes>"
            ]
          },
          "metadata": {
            "needs_background": "light"
          }
        },
        {
          "output_type": "display_data",
          "data": {
            "image/png": "[encoded data removed]",
            "text/plain": [
              "<Figure size 432x288 with 1 Axes>"
            ]
          },
          "metadata": {
            "needs_background": "light"
          }
        }
      ]
    },
    {
      "cell_type": "code",
      "metadata": {
        "id": "WWAHEajFRot5"
      },
      "source": [
        "model = tf.keras.Sequential([\n",
        "    tf.keras.layers.Dense(10, activation='relu'),\n",
        "    tf.keras.layers.Dense(6)\n",
        "])"
      ],
      "id": "WWAHEajFRot5",
      "execution_count": 107,
      "outputs": []
    },
    {
      "cell_type": "code",
      "metadata": {
        "id": "_KOKQ8atSGdv"
      },
      "source": [
        "model.compile(optimizer='SGD',\n",
        "              loss=tf.keras.losses.SparseCategoricalCrossentropy(from_logits=True),\n",
        "              metrics=['accuracy'])"
      ],
      "id": "_KOKQ8atSGdv",
      "execution_count": 108,
      "outputs": []
    },
    {
      "cell_type": "code",
      "metadata": {
        "colab": {
          "base_uri": "https://localhost:8080/"
        },
        "id": "1_u_VVC_SKAS",
        "outputId": "8da9d949-77a2-4486-f8e3-9d47626e5348"
      },
      "source": [
        "history=model.fit(X_train, y_train, batch_size = 128, epochs = 5)"
      ],
      "id": "1_u_VVC_SKAS",
      "execution_count": 109,
      "outputs": [
        {
          "output_type": "stream",
          "name": "stdout",
          "text": [
            "Epoch 1/5\n",
            "9/9 [==============================] - 0s 8ms/step - loss: 1.7397 - accuracy: 0.3343\n",
            "Epoch 2/5\n",
            "9/9 [==============================] - 0s 6ms/step - loss: 0.9417 - accuracy: 0.6204\n",
            "Epoch 3/5\n",
            "9/9 [==============================] - 0s 6ms/step - loss: 0.7133 - accuracy: 0.7056\n",
            "Epoch 4/5\n",
            "9/9 [==============================] - 0s 6ms/step - loss: 0.5830 - accuracy: 0.7722\n",
            "Epoch 5/5\n",
            "9/9 [==============================] - 0s 6ms/step - loss: 0.4964 - accuracy: 0.8463\n"
          ]
        }
      ]
    },
    {
      "cell_type": "code",
      "metadata": {
        "colab": {
          "base_uri": "https://localhost:8080/",
          "height": 572
        },
        "id": "sqvbTXfrSOJi",
        "outputId": "510769f4-6305-4607-fb60-65552cb9483a"
      },
      "source": [
        "\n",
        "plt.plot(history.history['accuracy'])\n",
        "#plt.plot(history.history['val_accuracy'])\n",
        "plt.title('model accuracy')\n",
        "plt.ylabel('accuracy')\n",
        "plt.xlabel('epoch')\n",
        "plt.legend(['train', 'test'], loc='lower right')\n",
        "plt.show()\n",
        "\n",
        "plt.plot(history.history['loss'])\n",
        "#plt.plot(history.history['val_loss'])\n",
        "plt.title('model loss')\n",
        "plt.ylabel('loss')\n",
        "plt.xlabel('epoch')\n",
        "plt.legend(['train', 'test'], loc='upper right')\n",
        "plt.show()"
      ],
      "id": "sqvbTXfrSOJi",
      "execution_count": 110,
      "outputs": [
        {
          "output_type": "display_data",
          "data": {
            "image/png": "[encoded data removed]",
            "text/plain": [
              "<Figure size 432x288 with 1 Axes>"
            ]
          },
          "metadata": {
            "needs_background": "light"
          }
        },
        {
          "output_type": "display_data",
          "data": {
            "image/png": "[encoded data removed]",
            "text/plain": [
              "<Figure size 432x288 with 1 Axes>"
            ]
          },
          "metadata": {
            "needs_background": "light"
          }
        }
      ]
    },
    {
      "cell_type": "markdown",
      "metadata": {
        "id": "98Tdys4KS5US"
      },
      "source": [
        "همانطور که دیدید انتخاب درست سایز بچ میتواند در سرعت رسیدن به مقدار بهینه و همگرایی کمک کند "
      ],
      "id": "98Tdys4KS5US"
    },
    {
      "cell_type": "code",
      "metadata": {
        "id": "d9BMZWOVST55"
      },
      "source": [
        ""
      ],
      "id": "d9BMZWOVST55",
      "execution_count": null,
      "outputs": []
    },
    {
      "cell_type": "code",
      "metadata": {
        "id": "jSHYDbpGTGMf"
      },
      "source": [
        ""
      ],
      "id": "jSHYDbpGTGMf",
      "execution_count": null,
      "outputs": []
    },
    {
      "cell_type": "markdown",
      "metadata": {
        "id": "hjq35CCBT2Vm"
      },
      "source": [
        "در این سوال از ما خواسته شده 20 عکس بگیریم و مدل را تست کنیم من اول عکس بدون نرمال شده را تست میکنم تا ارزش نرمالسازی را نشان دهم بعد دقت در داده های نرمال شده را نشان میدهیم"
      ],
      "id": "hjq35CCBT2Vm"
    },
    {
      "cell_type": "code",
      "metadata": {
        "id": "k3bA7TNbUHen"
      },
      "source": [
        "set_x_list = []\n",
        "set_y_list = []\n",
        "\n",
        "num_px = 64\n",
        "classes = (\"0\", \"1\",\"2\", \"3\",\"4\",\"5\")\n",
        "for i in range(3):\n",
        "    zero = \"drive/MyDrive/datame/0/IMG (\"+str(i)+\").jpeg\"\n",
        "    one = \"drive/MyDrive/datame/1/IMG (\"+str(i)+\").jpeg\"\n",
        "    two  =\"drive/MyDrive/datame/2/IMG (\"+str(i)+\").jpeg\"\n",
        "    three =\"drive/MyDrive/datame/3/IMG (\"+str(i)+\").jpeg\"\n",
        "    four =\"drive/MyDrive/datame/4/IMG (\"+str(i)+\").jpeg\"\n",
        "    five =\"drive/MyDrive/datame/5/IMG (\"+str(i)+\").jpeg\"\n",
        "    \n",
        "    zero_full_image = imread(zero)\n",
        "    zero_image = resize(zero_full_image, (num_px,num_px), anti_aliasing=True, mode='reflect')\n",
        "    set_x_list.append(zero_image)\n",
        "    set_y_list.append(0)\n",
        "    \n",
        "    one_full_image = imread(one)\n",
        "    one_image = resize(one_full_image, (num_px,num_px), anti_aliasing=True, mode='reflect')\n",
        "    set_x_list.append(one_image)\n",
        "    set_y_list.append(1)\n",
        "    \n",
        "    two_full_image = imread(two)\n",
        "    two_image = resize(two_full_image, (num_px,num_px), anti_aliasing=True, mode='reflect')\n",
        "    set_x_list.append(two_image)\n",
        "    set_y_list.append(2)\n",
        "    \n",
        "    three_full_image = imread(three)\n",
        "    three_image = resize(three_full_image, (num_px,num_px), anti_aliasing=True, mode='reflect')\n",
        "    set_x_list.append(three_image)\n",
        "    set_y_list.append(3)\n",
        "    \n",
        "    four_full_image = imread(four)\n",
        "    four_image = resize(four_full_image, (num_px,num_px), anti_aliasing=True, mode='reflect')\n",
        "    set_x_list.append(four_image)\n",
        "    set_y_list.append(4)\n",
        "    \n",
        "    five_full_image = imread(five)\n",
        "    five_image = resize(five_full_image, (num_px,num_px), anti_aliasing=True, mode='reflect')\n",
        "    set_x_list.append(five_image)\n",
        "    set_y_list.append(5)\n",
        "\n",
        "    \n",
        "se_x = np.array(set_x_list)\n",
        "se_y = np.array(set_y_list)"
      ],
      "id": "k3bA7TNbUHen",
      "execution_count": 115,
      "outputs": []
    },
    {
      "cell_type": "code",
      "metadata": {
        "colab": {
          "base_uri": "https://localhost:8080/"
        },
        "id": "Y4G9_txKUV3D",
        "outputId": "be57e129-123a-4f3a-eed6-0e143f4a1b78"
      },
      "source": [
        "print(se_x.shape)"
      ],
      "id": "Y4G9_txKUV3D",
      "execution_count": 116,
      "outputs": [
        {
          "output_type": "stream",
          "name": "stdout",
          "text": [
            "(18, 64, 64, 3)\n"
          ]
        }
      ]
    },
    {
      "cell_type": "code",
      "metadata": {
        "colab": {
          "base_uri": "https://localhost:8080/"
        },
        "id": "79qWG0fRUeo5",
        "outputId": "4c3b1067-8d24-4fb6-ed25-5c4276a51e1b"
      },
      "source": [
        "print(se_y.shape)"
      ],
      "id": "79qWG0fRUeo5",
      "execution_count": 117,
      "outputs": [
        {
          "output_type": "stream",
          "name": "stdout",
          "text": [
            "(18,)\n"
          ]
        }
      ]
    },
    {
      "cell_type": "code",
      "metadata": {
        "id": "rUmmT0jvUgkM"
      },
      "source": [
        "num_pixels = se_x.shape[1] * se_x.shape[2] *se_x.shape[3]\n",
        "se_x =se_x.reshape(se_x.shape[0], num_pixels).astype('float32')\n",
        "se_y =se_y.reshape(se_y.shape[0],1).astype('float32')"
      ],
      "id": "rUmmT0jvUgkM",
      "execution_count": 119,
      "outputs": []
    },
    {
      "cell_type": "code",
      "metadata": {
        "id": "kVPoL0ROUilR"
      },
      "source": [
        "from keras.models import load_model\n",
        "loaded_model = load_model(\"/content/drive/MyDrive/HW02/HW/TrainedModel30.h5\")"
      ],
      "id": "kVPoL0ROUilR",
      "execution_count": 122,
      "outputs": []
    },
    {
      "cell_type": "code",
      "metadata": {
        "colab": {
          "base_uri": "https://localhost:8080/"
        },
        "id": "bR94_qWKUwvg",
        "outputId": "57cfadd0-1bb0-4036-afc5-0e59167f2d0e"
      },
      "source": [
        "result = loaded_model.evaluate(se_x, se_y)\n",
        "print(\"Test Loss\", result[0])\n",
        "print(\"Test Accuracy\", result[1])"
      ],
      "id": "bR94_qWKUwvg",
      "execution_count": 123,
      "outputs": [
        {
          "output_type": "stream",
          "name": "stdout",
          "text": [
            "1/1 [==============================] - 0s 211ms/step - loss: 7.1848 - accuracy: 0.1667\n",
            "Test Loss 7.1847710609436035\n",
            "Test Accuracy 0.1666666716337204\n"
          ]
        }
      ]
    },
    {
      "cell_type": "markdown",
      "metadata": {
        "id": "if8T4LHTVDFX"
      },
      "source": [
        "همانطور که میبینید دقت بسار پایین است"
      ],
      "id": "if8T4LHTVDFX"
    },
    {
      "cell_type": "code",
      "metadata": {
        "id": "8YnCZqGXU_-t"
      },
      "source": [
        "set_x_list = []\n",
        "set_y_list = []\n",
        "\n",
        "num_px = 64\n",
        "classes = (\"0\", \"1\",\"2\", \"3\",\"4\",\"5\")\n",
        "for i in range(3):\n",
        "    zero = \"drive/MyDrive/datasetme/0/IMG (\"+str(i)+\").jpeg\"\n",
        "    one = \"drive/MyDrive/datasetme/1/IMG (\"+str(i)+\").jpeg\"\n",
        "    two  =\"drive/MyDrive/datasetme/2/IMG (\"+str(i)+\").jpeg\"\n",
        "    three =\"drive/MyDrive/datasetme/3/IMG (\"+str(i)+\").jpeg\"\n",
        "    four =\"drive/MyDrive/datasetme/4/IMG (\"+str(i)+\").jpeg\"\n",
        "    five =\"drive/MyDrive/datasetme/5/IMG (\"+str(i)+\").jpeg\"\n",
        "    \n",
        "    zero_full_image = imread(zero)\n",
        "    zero_image = resize(zero_full_image, (num_px,num_px), anti_aliasing=True, mode='reflect')\n",
        "    set_x_list.append(zero_image)\n",
        "    set_y_list.append(0)\n",
        "    \n",
        "    one_full_image = imread(one)\n",
        "    one_image = resize(one_full_image, (num_px,num_px), anti_aliasing=True, mode='reflect')\n",
        "    set_x_list.append(one_image)\n",
        "    set_y_list.append(1)\n",
        "    \n",
        "    two_full_image = imread(two)\n",
        "    two_image = resize(two_full_image, (num_px,num_px), anti_aliasing=True, mode='reflect')\n",
        "    set_x_list.append(two_image)\n",
        "    set_y_list.append(2)\n",
        "    \n",
        "    three_full_image = imread(three)\n",
        "    three_image = resize(three_full_image, (num_px,num_px), anti_aliasing=True, mode='reflect')\n",
        "    set_x_list.append(three_image)\n",
        "    set_y_list.append(3)\n",
        "    \n",
        "    four_full_image = imread(four)\n",
        "    four_image = resize(four_full_image, (num_px,num_px), anti_aliasing=True, mode='reflect')\n",
        "    set_x_list.append(four_image)\n",
        "    set_y_list.append(4)\n",
        "    \n",
        "    five_full_image = imread(five)\n",
        "    five_image = resize(five_full_image, (num_px,num_px), anti_aliasing=True, mode='reflect')\n",
        "    set_x_list.append(five_image)\n",
        "    set_y_list.append(5)\n",
        "\n",
        "    \n",
        "se_x = np.array(set_x_list)\n",
        "se_y = np.array(set_y_list)"
      ],
      "id": "8YnCZqGXU_-t",
      "execution_count": 124,
      "outputs": []
    },
    {
      "cell_type": "code",
      "metadata": {
        "colab": {
          "base_uri": "https://localhost:8080/"
        },
        "id": "DkBLcokoVPGV",
        "outputId": "670a900e-3384-448b-e0a7-4476333cb0bb"
      },
      "source": [
        "print(se_x.shape)"
      ],
      "id": "DkBLcokoVPGV",
      "execution_count": 125,
      "outputs": [
        {
          "output_type": "stream",
          "name": "stdout",
          "text": [
            "(18, 64, 64, 3)\n"
          ]
        }
      ]
    },
    {
      "cell_type": "code",
      "metadata": {
        "colab": {
          "base_uri": "https://localhost:8080/"
        },
        "id": "O_ZxGkU4VSlA",
        "outputId": "982a7964-116a-43b9-e2fb-da50c233f5f4"
      },
      "source": [
        "print(se_y.shape)"
      ],
      "id": "O_ZxGkU4VSlA",
      "execution_count": 126,
      "outputs": [
        {
          "output_type": "stream",
          "name": "stdout",
          "text": [
            "(18,)\n"
          ]
        }
      ]
    },
    {
      "cell_type": "code",
      "metadata": {
        "colab": {
          "base_uri": "https://localhost:8080/",
          "height": 285
        },
        "id": "dpLAZJ9_VWl0",
        "outputId": "5da13d8f-8139-486a-b7b1-120ee32c2585"
      },
      "source": [
        "index = 11\n",
        "plt.imshow(se_x[index])\n",
        "print (\"y = \" + str(se_y[index,]) + \", it's a '\" + classes[np.squeeze(se_y[index,])] +  \"' picture.\")"
      ],
      "id": "dpLAZJ9_VWl0",
      "execution_count": 127,
      "outputs": [
        {
          "output_type": "stream",
          "name": "stdout",
          "text": [
            "y = 5, it's a '5' picture.\n"
          ]
        },
        {
          "output_type": "display_data",
          "data": {
            "image/png": "[encoded data removed]",
            "text/plain": [
              "<Figure size 432x288 with 1 Axes>"
            ]
          },
          "metadata": {
            "needs_background": "light"
          }
        }
      ]
    },
    {
      "cell_type": "code",
      "metadata": {
        "id": "J1y8reoxVbfL"
      },
      "source": [
        "num_pixels = se_x.shape[1] * se_x.shape[2] *se_x.shape[3]\n",
        "se_x =se_x.reshape(se_x.shape[0], num_pixels).astype('float32')\n",
        "se_y =se_y.reshape(se_y.shape[0],1).astype('float32')"
      ],
      "id": "J1y8reoxVbfL",
      "execution_count": 128,
      "outputs": []
    },
    {
      "cell_type": "code",
      "metadata": {
        "id": "Wgx2c8cTVefq"
      },
      "source": [
        "se_x -= np.mean(se_x, axis=0)"
      ],
      "id": "Wgx2c8cTVefq",
      "execution_count": 129,
      "outputs": []
    },
    {
      "cell_type": "code",
      "metadata": {
        "id": "-MDdajzLVgP5"
      },
      "source": [
        "se_x /= np.std(se_x, axis=0)"
      ],
      "id": "-MDdajzLVgP5",
      "execution_count": 130,
      "outputs": []
    },
    {
      "cell_type": "code",
      "metadata": {
        "colab": {
          "base_uri": "https://localhost:8080/"
        },
        "id": "fHRtayEaViSx",
        "outputId": "894a3d3f-4731-4dde-85db-471fd40f09d5"
      },
      "source": [
        "result = loaded_model.evaluate(se_x, se_y)\n",
        "print(\"Test Loss\", result[0])\n",
        "print(\"Test Accuracy\", result[1])"
      ],
      "id": "fHRtayEaViSx",
      "execution_count": 131,
      "outputs": [
        {
          "output_type": "stream",
          "name": "stdout",
          "text": [
            "1/1 [==============================] - 0s 39ms/step - loss: 0.3565 - accuracy: 0.9444\n",
            "Test Loss 0.3564562201499939\n",
            "Test Accuracy 0.9444444179534912\n"
          ]
        }
      ]
    },
    {
      "cell_type": "code",
      "metadata": {
        "id": "QNZYQ4l7V2Ld"
      },
      "source": [
        ""
      ],
      "id": "QNZYQ4l7V2Ld",
      "execution_count": 133,
      "outputs": []
    },
    {
      "cell_type": "code",
      "metadata": {
        "colab": {
          "base_uri": "https://localhost:8080/"
        },
        "id": "7IW3CcRBVocb",
        "outputId": "0a65294d-2998-4dda-f8e2-45d6794985f4"
      },
      "source": [
        "result = loaded_model.evaluate(X_train, y_train)\n",
        "print(\"Test Loss\", result[0])\n",
        "print(\"Test Accuracy\", result[1])"
      ],
      "id": "7IW3CcRBVocb",
      "execution_count": 134,
      "outputs": [
        {
          "output_type": "stream",
          "name": "stdout",
          "text": [
            "34/34 [==============================] - 0s 13ms/step - loss: 0.3205 - accuracy: 0.9194\n",
            "Test Loss 0.3205198049545288\n",
            "Test Accuracy 0.9194444417953491\n"
          ]
        }
      ]
    },
    {
      "cell_type": "code",
      "metadata": {
        "id": "pxpao9iyV8HR"
      },
      "source": [
        "from keras.models import load_model\n",
        "loaded_model = load_model(\"/content/drive/MyDrive/HW02/HW/TrainedModel31.h5\")"
      ],
      "id": "pxpao9iyV8HR",
      "execution_count": 139,
      "outputs": []
    },
    {
      "cell_type": "code",
      "metadata": {
        "colab": {
          "base_uri": "https://localhost:8080/"
        },
        "id": "rzr7-21GWwqn",
        "outputId": "38826604-ffd1-4b47-8fb0-68fe1e4e252a"
      },
      "source": [
        "result = loaded_model.evaluate(se_x, se_y)\n",
        "print(\"Test Loss\", result[0])\n",
        "print(\"Test Accuracy\", result[1])"
      ],
      "id": "rzr7-21GWwqn",
      "execution_count": 140,
      "outputs": [
        {
          "output_type": "stream",
          "name": "stdout",
          "text": [
            "1/1 [==============================] - 0s 161ms/step - loss: 0.6158 - accuracy: 0.8333\n",
            "Test Loss 0.6158013343811035\n",
            "Test Accuracy 0.8333333134651184\n"
          ]
        }
      ]
    },
    {
      "cell_type": "code",
      "metadata": {
        "id": "sboKAZBvWCak"
      },
      "source": [
        ""
      ],
      "id": "sboKAZBvWCak",
      "execution_count": 141,
      "outputs": []
    },
    {
      "cell_type": "code",
      "metadata": {
        "id": "0oBfUxa4X5JH"
      },
      "source": [
        ""
      ],
      "id": "0oBfUxa4X5JH",
      "execution_count": null,
      "outputs": []
    }
  ]
}